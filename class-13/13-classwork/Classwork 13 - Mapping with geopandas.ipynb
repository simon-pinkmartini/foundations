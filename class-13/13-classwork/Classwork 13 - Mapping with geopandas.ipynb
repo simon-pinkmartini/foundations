{
 "cells": [
  {
   "cell_type": "markdown",
   "metadata": {},
   "source": [
    "# Installation\n",
    "\n",
    "## I don't know what you've installed or how you've installed it, so let's talk before you run any of this.\n",
    "\n",
    "**OS X folks** can run the following:\n",
    "\n",
    "* `brew install geos`\n",
    "* `brew install gdal`\n",
    "* `brew install spatialindex`\n",
    "* `pip3 install pillow`\n",
    "* `pip3 install pysal`\n",
    "* `pip3 install geopandas`\n",
    "* `pip3 install https://github.com/matplotlib/basemap/archive/v1.0.7rel.tar.gz`\n",
    "* `pip3 install rtree`\n",
    "\n",
    "For **Windows without Anaconda**, [use this guide](http://geoffboeing.com/2014/09/using-geopandas-windows/) to install through `pip` directly from `whl` files."
   ]
  },
  {
   "cell_type": "markdown",
   "metadata": {},
   "source": [
    "# Geopandas Usage\n",
    "\n",
    "## Importing\n",
    "\n",
    "You'll be importing\n",
    "\n",
    "* pandas because you love it\n",
    "* geopandas for geographic stuff\n",
    "* `Point` from shapely to help convert CSV files into something geopandas can understand\n",
    "\n",
    "and `%matplotlib inline` for viewing maps, of course."
   ]
  },
  {
   "cell_type": "code",
   "execution_count": 1,
   "metadata": {
    "collapsed": true
   },
   "outputs": [],
   "source": [
    "import pandas as pd\n",
    "import geopandas as gpd\n",
    "from shapely.geometry import Point\n",
    "\n",
    "%matplotlib inline"
   ]
  },
  {
   "cell_type": "markdown",
   "metadata": {},
   "source": [
    "## Opening a shapefile\n",
    "\n",
    "Let's open up the Community Districts data. **What kind of file is it?**"
   ]
  },
  {
   "cell_type": "code",
   "execution_count": 2,
   "metadata": {
    "collapsed": true
   },
   "outputs": [],
   "source": [
    "districts = gpd.read_file('Community Districts/districts.shp')"
   ]
  },
  {
   "cell_type": "markdown",
   "metadata": {},
   "source": [
    "## Introduction to the GeoDataFrame\n",
    "\n",
    "A GeoDataFrame is *just like a dataframe*, it just... has geographic stuff in it."
   ]
  },
  {
   "cell_type": "code",
   "execution_count": 4,
   "metadata": {},
   "outputs": [
    {
     "data": {
      "text/html": [
       "<div>\n",
       "<style>\n",
       "    .dataframe thead tr:only-child th {\n",
       "        text-align: right;\n",
       "    }\n",
       "\n",
       "    .dataframe thead th {\n",
       "        text-align: left;\n",
       "    }\n",
       "\n",
       "    .dataframe tbody tr th {\n",
       "        vertical-align: top;\n",
       "    }\n",
       "</style>\n",
       "<table border=\"1\" class=\"dataframe\">\n",
       "  <thead>\n",
       "    <tr style=\"text-align: right;\">\n",
       "      <th></th>\n",
       "      <th>boro_cd</th>\n",
       "      <th>geometry</th>\n",
       "      <th>shape_area</th>\n",
       "      <th>shape_leng</th>\n",
       "    </tr>\n",
       "  </thead>\n",
       "  <tbody>\n",
       "    <tr>\n",
       "      <th>0</th>\n",
       "      <td>311.0</td>\n",
       "      <td>POLYGON ((-73.97299433938896 40.60881414180224...</td>\n",
       "      <td>1.031759e+08</td>\n",
       "      <td>51566.989006</td>\n",
       "    </tr>\n",
       "    <tr>\n",
       "      <th>1</th>\n",
       "      <td>412.0</td>\n",
       "      <td>POLYGON ((-73.80168266553363 40.6663223525709,...</td>\n",
       "      <td>2.673336e+08</td>\n",
       "      <td>65933.851319</td>\n",
       "    </tr>\n",
       "    <tr>\n",
       "      <th>2</th>\n",
       "      <td>481.0</td>\n",
       "      <td>POLYGON ((-73.83591564875908 40.7434308933925,...</td>\n",
       "      <td>4.750313e+07</td>\n",
       "      <td>53795.118705</td>\n",
       "    </tr>\n",
       "    <tr>\n",
       "      <th>3</th>\n",
       "      <td>314.0</td>\n",
       "      <td>POLYGON ((-73.95630035122711 40.65504828183116...</td>\n",
       "      <td>8.217567e+07</td>\n",
       "      <td>49291.791502</td>\n",
       "    </tr>\n",
       "    <tr>\n",
       "      <th>4</th>\n",
       "      <td>313.0</td>\n",
       "      <td>POLYGON ((-73.98372152615246 40.59582107821707...</td>\n",
       "      <td>8.814953e+07</td>\n",
       "      <td>65746.939737</td>\n",
       "    </tr>\n",
       "  </tbody>\n",
       "</table>\n",
       "</div>"
      ],
      "text/plain": [
       "   boro_cd                                           geometry    shape_area  \\\n",
       "0    311.0  POLYGON ((-73.97299433938896 40.60881414180224...  1.031759e+08   \n",
       "1    412.0  POLYGON ((-73.80168266553363 40.6663223525709,...  2.673336e+08   \n",
       "2    481.0  POLYGON ((-73.83591564875908 40.7434308933925,...  4.750313e+07   \n",
       "3    314.0  POLYGON ((-73.95630035122711 40.65504828183116...  8.217567e+07   \n",
       "4    313.0  POLYGON ((-73.98372152615246 40.59582107821707...  8.814953e+07   \n",
       "\n",
       "     shape_leng  \n",
       "0  51566.989006  \n",
       "1  65933.851319  \n",
       "2  53795.118705  \n",
       "3  49291.791502  \n",
       "4  65746.939737  "
      ]
     },
     "execution_count": 4,
     "metadata": {},
     "output_type": "execute_result"
    }
   ],
   "source": [
    "districts.head()"
   ]
  },
  {
   "cell_type": "code",
   "execution_count": 13,
   "metadata": {},
   "outputs": [
    {
     "data": {
      "text/plain": [
       "{'init': 'epsg:4326'}"
      ]
     },
     "execution_count": 13,
     "metadata": {},
     "output_type": "execute_result"
    }
   ],
   "source": [
    "districts.crs"
   ]
  },
  {
   "cell_type": "code",
   "execution_count": null,
   "metadata": {
    "collapsed": true
   },
   "outputs": [],
   "source": []
  },
  {
   "cell_type": "code",
   "execution_count": null,
   "metadata": {
    "collapsed": true
   },
   "outputs": [],
   "source": []
  },
  {
   "cell_type": "markdown",
   "metadata": {},
   "source": [
    "## Visualizing a shapefile\n",
    "\n",
    "You can just use `.plot()` to visualize a GeoDataFrame, it's nice and easy."
   ]
  },
  {
   "cell_type": "code",
   "execution_count": 5,
   "metadata": {},
   "outputs": [
    {
     "data": {
      "text/plain": [
       "<matplotlib.axes._subplots.AxesSubplot at 0x1095cf780>"
      ]
     },
     "execution_count": 5,
     "metadata": {},
     "output_type": "execute_result"
    },
    {
     "data": {
      "image/png": "[encoded data removed]",
      "text/plain": [
       "<matplotlib.figure.Figure at 0x1095cfa20>"
      ]
     },
     "metadata": {},
     "output_type": "display_data"
    }
   ],
   "source": [
    "districts.plot()"
   ]
  },
  {
   "cell_type": "markdown",
   "metadata": {},
   "source": [
    "## Opening a CSV of points\n",
    "\n",
    "geopandas doesn't understand a CSV file of lat/lon points, so you need to convert each line into shapely geometry, then feed that into a new geo dataframe.\n",
    "\n",
    "Once you do that, you need to set the `crs` to `{'init': 'epsg:4326'}` so it knows what kind of datum/sphereoid/projection you're measuring from.\n",
    "\n",
    "**Let's try opening the earthquakes CSV**"
   ]
  },
  {
   "cell_type": "code",
   "execution_count": 6,
   "metadata": {
    "collapsed": true,
    "scrolled": true
   },
   "outputs": [],
   "source": [
    "def make_point(row):\n",
    "    return Point(row.longitude, row.latitude)\n",
    "\n",
    "# Step 1: Read in your file as a dataframe\n",
    "df = pd.read_csv('earthquakes_1.0_day.csv')\n",
    "df.head()"
   ]
  },
  {
   "cell_type": "code",
   "execution_count": 10,
   "metadata": {},
   "outputs": [
    {
     "data": {
      "text/plain": [
       "0          POINT (-136.8335 59.8048)\n",
       "1    POINT (-120.2555008 39.3981667)\n",
       "2           POINT (-136.7109 59.897)\n",
       "3     POINT (-121.635498 37.2468338)\n",
       "4    POINT (-122.8081665 38.8301659)\n",
       "dtype: object"
      ]
     },
     "execution_count": 10,
     "metadata": {},
     "output_type": "execute_result"
    }
   ],
   "source": [
    "# Step 2: Make a list of points using .apply\n",
    "points = df.apply(make_point, axis=1)\n",
    "points.head()"
   ]
  },
  {
   "cell_type": "code",
   "execution_count": 12,
   "metadata": {},
   "outputs": [
    {
     "data": {
      "text/html": [
       "<div>\n",
       "<style>\n",
       "    .dataframe thead tr:only-child th {\n",
       "        text-align: right;\n",
       "    }\n",
       "\n",
       "    .dataframe thead th {\n",
       "        text-align: left;\n",
       "    }\n",
       "\n",
       "    .dataframe tbody tr th {\n",
       "        vertical-align: top;\n",
       "    }\n",
       "</style>\n",
       "<table border=\"1\" class=\"dataframe\">\n",
       "  <thead>\n",
       "    <tr style=\"text-align: right;\">\n",
       "      <th></th>\n",
       "      <th>time</th>\n",
       "      <th>latitude</th>\n",
       "      <th>longitude</th>\n",
       "      <th>depth</th>\n",
       "      <th>mag</th>\n",
       "      <th>magType</th>\n",
       "      <th>nst</th>\n",
       "      <th>gap</th>\n",
       "      <th>dmin</th>\n",
       "      <th>rms</th>\n",
       "      <th>...</th>\n",
       "      <th>place</th>\n",
       "      <th>type</th>\n",
       "      <th>horizontalError</th>\n",
       "      <th>depthError</th>\n",
       "      <th>magError</th>\n",
       "      <th>magNst</th>\n",
       "      <th>status</th>\n",
       "      <th>locationSource</th>\n",
       "      <th>magSource</th>\n",
       "      <th>geometry</th>\n",
       "    </tr>\n",
       "  </thead>\n",
       "  <tbody>\n",
       "    <tr>\n",
       "      <th>0</th>\n",
       "      <td>2017-05-03T01:58:56.924Z</td>\n",
       "      <td>59.804800</td>\n",
       "      <td>-136.833500</td>\n",
       "      <td>0.00</td>\n",
       "      <td>3.10</td>\n",
       "      <td>ml</td>\n",
       "      <td>NaN</td>\n",
       "      <td>NaN</td>\n",
       "      <td>NaN</td>\n",
       "      <td>0.59</td>\n",
       "      <td>...</td>\n",
       "      <td>94km WNW of Skagway, Alaska</td>\n",
       "      <td>earthquake</td>\n",
       "      <td>NaN</td>\n",
       "      <td>0.30</td>\n",
       "      <td>NaN</td>\n",
       "      <td>NaN</td>\n",
       "      <td>automatic</td>\n",
       "      <td>ak</td>\n",
       "      <td>ak</td>\n",
       "      <td>POINT (-136.8335 59.8048)</td>\n",
       "    </tr>\n",
       "    <tr>\n",
       "      <th>1</th>\n",
       "      <td>2017-05-03T01:35:24.350Z</td>\n",
       "      <td>39.398167</td>\n",
       "      <td>-120.255501</td>\n",
       "      <td>5.60</td>\n",
       "      <td>2.42</td>\n",
       "      <td>md</td>\n",
       "      <td>21.0</td>\n",
       "      <td>73.0</td>\n",
       "      <td>0.131400</td>\n",
       "      <td>0.05</td>\n",
       "      <td>...</td>\n",
       "      <td>10km NW of Truckee, California</td>\n",
       "      <td>earthquake</td>\n",
       "      <td>0.21</td>\n",
       "      <td>1.00</td>\n",
       "      <td>0.26</td>\n",
       "      <td>19.0</td>\n",
       "      <td>automatic</td>\n",
       "      <td>nc</td>\n",
       "      <td>nc</td>\n",
       "      <td>POINT (-120.2555008 39.3981667)</td>\n",
       "    </tr>\n",
       "    <tr>\n",
       "      <th>2</th>\n",
       "      <td>2017-05-03T01:26:38.608Z</td>\n",
       "      <td>59.897000</td>\n",
       "      <td>-136.710900</td>\n",
       "      <td>0.00</td>\n",
       "      <td>2.00</td>\n",
       "      <td>ml</td>\n",
       "      <td>NaN</td>\n",
       "      <td>NaN</td>\n",
       "      <td>NaN</td>\n",
       "      <td>0.82</td>\n",
       "      <td>...</td>\n",
       "      <td>92km WNW of Skagway, Alaska</td>\n",
       "      <td>earthquake</td>\n",
       "      <td>NaN</td>\n",
       "      <td>0.40</td>\n",
       "      <td>NaN</td>\n",
       "      <td>NaN</td>\n",
       "      <td>automatic</td>\n",
       "      <td>ak</td>\n",
       "      <td>ak</td>\n",
       "      <td>POINT (-136.7109 59.897)</td>\n",
       "    </tr>\n",
       "    <tr>\n",
       "      <th>3</th>\n",
       "      <td>2017-05-03T01:24:02.260Z</td>\n",
       "      <td>37.246834</td>\n",
       "      <td>-121.635498</td>\n",
       "      <td>2.98</td>\n",
       "      <td>2.57</td>\n",
       "      <td>md</td>\n",
       "      <td>58.0</td>\n",
       "      <td>43.0</td>\n",
       "      <td>0.032380</td>\n",
       "      <td>0.07</td>\n",
       "      <td>...</td>\n",
       "      <td>13km N of Morgan Hill, California</td>\n",
       "      <td>earthquake</td>\n",
       "      <td>0.14</td>\n",
       "      <td>0.34</td>\n",
       "      <td>0.09</td>\n",
       "      <td>63.0</td>\n",
       "      <td>automatic</td>\n",
       "      <td>nc</td>\n",
       "      <td>nc</td>\n",
       "      <td>POINT (-121.635498 37.2468338)</td>\n",
       "    </tr>\n",
       "    <tr>\n",
       "      <th>4</th>\n",
       "      <td>2017-05-03T01:18:05.540Z</td>\n",
       "      <td>38.830166</td>\n",
       "      <td>-122.808166</td>\n",
       "      <td>1.75</td>\n",
       "      <td>1.11</td>\n",
       "      <td>md</td>\n",
       "      <td>17.0</td>\n",
       "      <td>74.0</td>\n",
       "      <td>0.006923</td>\n",
       "      <td>0.02</td>\n",
       "      <td>...</td>\n",
       "      <td>7km W of Cobb, California</td>\n",
       "      <td>earthquake</td>\n",
       "      <td>0.27</td>\n",
       "      <td>0.40</td>\n",
       "      <td>0.08</td>\n",
       "      <td>4.0</td>\n",
       "      <td>automatic</td>\n",
       "      <td>nc</td>\n",
       "      <td>nc</td>\n",
       "      <td>POINT (-122.8081665 38.8301659)</td>\n",
       "    </tr>\n",
       "  </tbody>\n",
       "</table>\n",
       "<p>5 rows × 23 columns</p>\n",
       "</div>"
      ],
      "text/plain": [
       "                       time   latitude   longitude  depth   mag magType   nst  \\\n",
       "0  2017-05-03T01:58:56.924Z  59.804800 -136.833500   0.00  3.10      ml   NaN   \n",
       "1  2017-05-03T01:35:24.350Z  39.398167 -120.255501   5.60  2.42      md  21.0   \n",
       "2  2017-05-03T01:26:38.608Z  59.897000 -136.710900   0.00  2.00      ml   NaN   \n",
       "3  2017-05-03T01:24:02.260Z  37.246834 -121.635498   2.98  2.57      md  58.0   \n",
       "4  2017-05-03T01:18:05.540Z  38.830166 -122.808166   1.75  1.11      md  17.0   \n",
       "\n",
       "    gap      dmin   rms               ...                 \\\n",
       "0   NaN       NaN  0.59               ...                  \n",
       "1  73.0  0.131400  0.05               ...                  \n",
       "2   NaN       NaN  0.82               ...                  \n",
       "3  43.0  0.032380  0.07               ...                  \n",
       "4  74.0  0.006923  0.02               ...                  \n",
       "\n",
       "                               place        type horizontalError depthError  \\\n",
       "0        94km WNW of Skagway, Alaska  earthquake             NaN       0.30   \n",
       "1     10km NW of Truckee, California  earthquake            0.21       1.00   \n",
       "2        92km WNW of Skagway, Alaska  earthquake             NaN       0.40   \n",
       "3  13km N of Morgan Hill, California  earthquake            0.14       0.34   \n",
       "4          7km W of Cobb, California  earthquake            0.27       0.40   \n",
       "\n",
       "  magError  magNst     status  locationSource  magSource  \\\n",
       "0      NaN     NaN  automatic              ak         ak   \n",
       "1     0.26    19.0  automatic              nc         nc   \n",
       "2      NaN     NaN  automatic              ak         ak   \n",
       "3     0.09    63.0  automatic              nc         nc   \n",
       "4     0.08     4.0  automatic              nc         nc   \n",
       "\n",
       "                          geometry  \n",
       "0        POINT (-136.8335 59.8048)  \n",
       "1  POINT (-120.2555008 39.3981667)  \n",
       "2         POINT (-136.7109 59.897)  \n",
       "3   POINT (-121.635498 37.2468338)  \n",
       "4  POINT (-122.8081665 38.8301659)  \n",
       "\n",
       "[5 rows x 23 columns]"
      ]
     },
     "execution_count": 12,
     "metadata": {},
     "output_type": "execute_result"
    }
   ],
   "source": [
    "# Step 3: Make a GeoDataFrame by sending geometry=points\n",
    "earthquakes = gpd.GeoDataFrame(df, geometry=points)\n",
    "earthquakes.head()"
   ]
  },
  {
   "cell_type": "code",
   "execution_count": 14,
   "metadata": {
    "collapsed": true
   },
   "outputs": [],
   "source": [
    "# Step 4: Set the CRS using .crs = {'init': 'epsg:4326'}\n",
    "earthquakes.crs = {'init': 'epsg:4326'}"
   ]
  },
  {
   "cell_type": "code",
   "execution_count": 15,
   "metadata": {},
   "outputs": [
    {
     "data": {
      "text/plain": [
       "<matplotlib.axes._subplots.AxesSubplot at 0x10a056c50>"
      ]
     },
     "execution_count": 15,
     "metadata": {},
     "output_type": "execute_result"
    },
    {
     "data": {
      "image/png": "[encoded data removed]",
      "text/plain": [
       "<matplotlib.figure.Figure at 0x109fbf710>"
      ]
     },
     "metadata": {},
     "output_type": "display_data"
    }
   ],
   "source": [
    "# Step 5: Step back and see \n",
    "earthquakes.plot()"
   ]
  },
  {
   "cell_type": "markdown",
   "metadata": {},
   "source": [
    "## Opening a CSV of points using `lambda`\n",
    "\n",
    "We used `.apply` and a function up above, but that function only does one thing! Let's learn something new called `lambda`, it's a one-line function we can use with `.apply`."
   ]
  },
  {
   "cell_type": "code",
   "execution_count": null,
   "metadata": {
    "collapsed": true
   },
   "outputs": [],
   "source": []
  },
  {
   "cell_type": "markdown",
   "metadata": {},
   "source": [
    "## Using the built-in map"
   ]
  },
  {
   "cell_type": "code",
   "execution_count": 18,
   "metadata": {},
   "outputs": [
    {
     "data": {
      "text/plain": [
       "(-197.99999999999997,\n",
       " 198.00000000000014,\n",
       " -98.682256500000037,\n",
       " 92.327386500000017)"
      ]
     },
     "execution_count": 18,
     "metadata": {},
     "output_type": "execute_result"
    },
    {
     "data": {
      "image/png": "[encoded data removed]",
      "text/plain": [
       "<matplotlib.figure.Figure at 0x10b196cf8>"
      ]
     },
     "metadata": {},
     "output_type": "display_data"
    }
   ],
   "source": [
    "world = gpd.read_file(gpd.datasets.get_path('naturalearth_lowres'))\n",
    "ax = world.plot(figsize=(20,5))\n",
    "ax.axis('off')"
   ]
  },
  {
   "cell_type": "markdown",
   "metadata": {},
   "source": [
    "# Styling your visuals\n",
    "\n",
    "## Setting size, line and shape colors, widths, axes\n",
    "\n",
    "* `linewidth`\n",
    "* `color`\n",
    "* `edgecolor`\n",
    "* `ax.axis`\n",
    "\n",
    "Let's plot the community districts!"
   ]
  },
  {
   "cell_type": "code",
   "execution_count": null,
   "metadata": {
    "collapsed": true
   },
   "outputs": [],
   "source": []
  },
  {
   "cell_type": "markdown",
   "metadata": {},
   "source": [
    "Let's plot the world!"
   ]
  },
  {
   "cell_type": "code",
   "execution_count": null,
   "metadata": {
    "collapsed": true
   },
   "outputs": [],
   "source": []
  },
  {
   "cell_type": "markdown",
   "metadata": {},
   "source": [
    "## Setting the projection\n",
    "\n",
    "You can use `to_crs` to convert to different projections. In typical pandas fashion, you can do it a lot of ways, but the easiest is to send a `epsg=` and feed it the correct EPSG code.\n",
    "\n",
    "You'll also probably want to do an `ax.axis('off')` to turn off the splines and axes!\n",
    "\n",
    "What are the EPSG codes for some common projections?"
   ]
  },
  {
   "cell_type": "code",
   "execution_count": null,
   "metadata": {
    "collapsed": true
   },
   "outputs": [],
   "source": []
  },
  {
   "cell_type": "markdown",
   "metadata": {},
   "source": [
    "## Styling markers\n",
    "\n",
    "* markersize\n",
    "* color\n",
    "* alpha"
   ]
  },
  {
   "cell_type": "code",
   "execution_count": null,
   "metadata": {
    "collapsed": true
   },
   "outputs": [],
   "source": []
  },
  {
   "cell_type": "markdown",
   "metadata": {},
   "source": [
    "# Colormaps/ramps"
   ]
  },
  {
   "cell_type": "markdown",
   "metadata": {},
   "source": [
    "## Auto colormap\n",
    "\n",
    "Giving your `plot` a `column` and a `cmap` will colorize your values. You can try `plasma` as your color map, or check out [more here](https://matplotlib.org/examples/color/colormaps_reference.html)."
   ]
  },
  {
   "cell_type": "code",
   "execution_count": null,
   "metadata": {
    "collapsed": true
   },
   "outputs": [],
   "source": []
  },
  {
   "cell_type": "code",
   "execution_count": null,
   "metadata": {
    "collapsed": true
   },
   "outputs": [],
   "source": []
  },
  {
   "cell_type": "markdown",
   "metadata": {},
   "source": [
    "## Auto colormap again\n",
    "\n",
    "We can also try with the world. What's the `gdp_md_est` column looking like?"
   ]
  },
  {
   "cell_type": "code",
   "execution_count": null,
   "metadata": {
    "collapsed": true
   },
   "outputs": [],
   "source": []
  },
  {
   "cell_type": "code",
   "execution_count": null,
   "metadata": {
    "collapsed": true
   },
   "outputs": [],
   "source": []
  },
  {
   "cell_type": "markdown",
   "metadata": {},
   "source": [
    "## Plotting multiple layers of data\n",
    "\n",
    "Let's try plotting the earthquakes on top of the world. **Save your first plot as `ax` and send it to the next one as `ax=ax`.**"
   ]
  },
  {
   "cell_type": "code",
   "execution_count": null,
   "metadata": {
    "collapsed": true
   },
   "outputs": [],
   "source": []
  },
  {
   "cell_type": "code",
   "execution_count": null,
   "metadata": {
    "collapsed": true
   },
   "outputs": [],
   "source": []
  },
  {
   "cell_type": "markdown",
   "metadata": {},
   "source": [
    "# Setting the projection by `proj` with named projections\n",
    "\n",
    "Instead of using an EPSG code, you can also set the projection with `to_crs` by  `.to_crs({'proj': 'merc'})` or something similar.\n",
    "\n",
    "I don't recommend this method, but it is a little friendlier than EPSG codes."
   ]
  },
  {
   "cell_type": "markdown",
   "metadata": {},
   "source": [
    "### Plot the world with the default projection"
   ]
  },
  {
   "cell_type": "code",
   "execution_count": null,
   "metadata": {
    "collapsed": true
   },
   "outputs": [],
   "source": [
    "ax = world.plot()\n",
    "ax.set_title(\"Default\")"
   ]
  },
  {
   "cell_type": "markdown",
   "metadata": {},
   "source": [
    "### Plot the world with Mercator (merc)"
   ]
  },
  {
   "cell_type": "code",
   "execution_count": null,
   "metadata": {
    "collapsed": true
   },
   "outputs": [],
   "source": []
  },
  {
   "cell_type": "markdown",
   "metadata": {},
   "source": [
    "### Plot the world with [Transverse Mercator](https://en.wikipedia.org/wiki/Transverse_Mercator_projection) (tmerc)"
   ]
  },
  {
   "cell_type": "code",
   "execution_count": null,
   "metadata": {
    "collapsed": true
   },
   "outputs": [],
   "source": []
  },
  {
   "cell_type": "markdown",
   "metadata": {},
   "source": [
    "### Plot the world with Albers Equal Area (aea)"
   ]
  },
  {
   "cell_type": "code",
   "execution_count": null,
   "metadata": {
    "collapsed": true
   },
   "outputs": [],
   "source": []
  },
  {
   "cell_type": "markdown",
   "metadata": {},
   "source": [
    "# Spatial join\n",
    "\n",
    "# Dataset 1: States\n",
    "\n",
    "Let's import the states and clean them up a little bit. we need to clean the data up a little"
   ]
  },
  {
   "cell_type": "code",
   "execution_count": 19,
   "metadata": {
    "collapsed": true
   },
   "outputs": [],
   "source": [
    "# Read in the shapefile from cb_2016_us_state_500k as \"states\"\n",
    "states = gpd.read_file(\"cb_2016_us_state_500k/cb_2016_us_state_500k.shp\")"
   ]
  },
  {
   "cell_type": "code",
   "execution_count": 20,
   "metadata": {},
   "outputs": [
    {
     "data": {
      "text/html": [
       "<div>\n",
       "<style>\n",
       "    .dataframe thead tr:only-child th {\n",
       "        text-align: right;\n",
       "    }\n",
       "\n",
       "    .dataframe thead th {\n",
       "        text-align: left;\n",
       "    }\n",
       "\n",
       "    .dataframe tbody tr th {\n",
       "        vertical-align: top;\n",
       "    }\n",
       "</style>\n",
       "<table border=\"1\" class=\"dataframe\">\n",
       "  <thead>\n",
       "    <tr style=\"text-align: right;\">\n",
       "      <th></th>\n",
       "      <th>AFFGEOID</th>\n",
       "      <th>ALAND</th>\n",
       "      <th>AWATER</th>\n",
       "      <th>GEOID</th>\n",
       "      <th>LSAD</th>\n",
       "      <th>NAME</th>\n",
       "      <th>STATEFP</th>\n",
       "      <th>STATENS</th>\n",
       "      <th>STUSPS</th>\n",
       "      <th>geometry</th>\n",
       "    </tr>\n",
       "  </thead>\n",
       "  <tbody>\n",
       "    <tr>\n",
       "      <th>48</th>\n",
       "      <td>0400000US47</td>\n",
       "      <td>106797662267</td>\n",
       "      <td>2355188876</td>\n",
       "      <td>47</td>\n",
       "      <td>00</td>\n",
       "      <td>Tennessee</td>\n",
       "      <td>47</td>\n",
       "      <td>01325873</td>\n",
       "      <td>TN</td>\n",
       "      <td>POLYGON ((-90.31029799999999 35.004295, -90.30...</td>\n",
       "    </tr>\n",
       "    <tr>\n",
       "      <th>49</th>\n",
       "      <td>0400000US48</td>\n",
       "      <td>676633459408</td>\n",
       "      <td>19025991684</td>\n",
       "      <td>48</td>\n",
       "      <td>00</td>\n",
       "      <td>Texas</td>\n",
       "      <td>48</td>\n",
       "      <td>01779801</td>\n",
       "      <td>TX</td>\n",
       "      <td>(POLYGON ((-94.718296 29.728855, -94.717207 29...</td>\n",
       "    </tr>\n",
       "    <tr>\n",
       "      <th>50</th>\n",
       "      <td>0400000US51</td>\n",
       "      <td>102257320053</td>\n",
       "      <td>8528605825</td>\n",
       "      <td>51</td>\n",
       "      <td>00</td>\n",
       "      <td>Virginia</td>\n",
       "      <td>51</td>\n",
       "      <td>01779803</td>\n",
       "      <td>VA</td>\n",
       "      <td>(POLYGON ((-75.742406 37.80835, -75.741512 37....</td>\n",
       "    </tr>\n",
       "    <tr>\n",
       "      <th>51</th>\n",
       "      <td>0400000US53</td>\n",
       "      <td>172113416541</td>\n",
       "      <td>12558451099</td>\n",
       "      <td>53</td>\n",
       "      <td>00</td>\n",
       "      <td>Washington</td>\n",
       "      <td>53</td>\n",
       "      <td>01779804</td>\n",
       "      <td>WA</td>\n",
       "      <td>(POLYGON ((-122.33164 48.020556, -122.328343 4...</td>\n",
       "    </tr>\n",
       "    <tr>\n",
       "      <th>52</th>\n",
       "      <td>0400000US55</td>\n",
       "      <td>140273604537</td>\n",
       "      <td>29361386480</td>\n",
       "      <td>55</td>\n",
       "      <td>00</td>\n",
       "      <td>Wisconsin</td>\n",
       "      <td>55</td>\n",
       "      <td>01779806</td>\n",
       "      <td>WI</td>\n",
       "      <td>(POLYGON ((-86.95616699999999 45.355489, -86.9...</td>\n",
       "    </tr>\n",
       "  </tbody>\n",
       "</table>\n",
       "</div>"
      ],
      "text/plain": [
       "       AFFGEOID         ALAND       AWATER GEOID LSAD        NAME STATEFP  \\\n",
       "48  0400000US47  106797662267   2355188876    47   00   Tennessee      47   \n",
       "49  0400000US48  676633459408  19025991684    48   00       Texas      48   \n",
       "50  0400000US51  102257320053   8528605825    51   00    Virginia      51   \n",
       "51  0400000US53  172113416541  12558451099    53   00  Washington      53   \n",
       "52  0400000US55  140273604537  29361386480    55   00   Wisconsin      55   \n",
       "\n",
       "     STATENS STUSPS                                           geometry  \n",
       "48  01325873     TN  POLYGON ((-90.31029799999999 35.004295, -90.30...  \n",
       "49  01779801     TX  (POLYGON ((-94.718296 29.728855, -94.717207 29...  \n",
       "50  01779803     VA  (POLYGON ((-75.742406 37.80835, -75.741512 37....  \n",
       "51  01779804     WA  (POLYGON ((-122.33164 48.020556, -122.328343 4...  \n",
       "52  01779806     WI  (POLYGON ((-86.95616699999999 45.355489, -86.9...  "
      ]
     },
     "execution_count": 20,
     "metadata": {},
     "output_type": "execute_result"
    }
   ],
   "source": [
    "# Get rid of Guam, Mariana Islands and Virgin Islands\n",
    "states = states[states.STATEFP.astype(int) < 60]\n",
    "# Get rid of Hawaii and Alaska\n",
    "states = states[~states.NAME.isin(['Hawaii', 'Alaska'])]\n",
    "states.tail(5)"
   ]
  },
  {
   "cell_type": "code",
   "execution_count": null,
   "metadata": {
    "collapsed": true
   },
   "outputs": [],
   "source": []
  },
  {
   "cell_type": "markdown",
   "metadata": {},
   "source": [
    "## Dataset 2: Waffle House\n",
    "\n",
    "Read in `wafflehouses.csv`, and convert it to a GeoDataFrame."
   ]
  },
  {
   "cell_type": "code",
   "execution_count": 21,
   "metadata": {
    "collapsed": true
   },
   "outputs": [],
   "source": [
    "df = pd.read_csv('wafflehouses.csv')"
   ]
  },
  {
   "cell_type": "code",
   "execution_count": 22,
   "metadata": {},
   "outputs": [
    {
     "data": {
      "text/html": [
       "<div>\n",
       "<style>\n",
       "    .dataframe thead tr:only-child th {\n",
       "        text-align: right;\n",
       "    }\n",
       "\n",
       "    .dataframe thead th {\n",
       "        text-align: left;\n",
       "    }\n",
       "\n",
       "    .dataframe tbody tr th {\n",
       "        vertical-align: top;\n",
       "    }\n",
       "</style>\n",
       "<table border=\"1\" class=\"dataframe\">\n",
       "  <thead>\n",
       "    <tr style=\"text-align: right;\">\n",
       "      <th></th>\n",
       "      <th>location</th>\n",
       "      <th>lat</th>\n",
       "      <th>long</th>\n",
       "      <th>score</th>\n",
       "    </tr>\n",
       "  </thead>\n",
       "  <tbody>\n",
       "    <tr>\n",
       "      <th>0</th>\n",
       "      <td>Waffle House-Duluth,GA</td>\n",
       "      <td>33.991269</td>\n",
       "      <td>-84.153232</td>\n",
       "      <td>8</td>\n",
       "    </tr>\n",
       "    <tr>\n",
       "      <th>1</th>\n",
       "      <td>Waffle House-Biloxi,MS</td>\n",
       "      <td>30.393627</td>\n",
       "      <td>-88.942691</td>\n",
       "      <td>3</td>\n",
       "    </tr>\n",
       "    <tr>\n",
       "      <th>2</th>\n",
       "      <td>Waffle House-Pearl,MS</td>\n",
       "      <td>32.269078</td>\n",
       "      <td>-90.135180</td>\n",
       "      <td>3</td>\n",
       "    </tr>\n",
       "    <tr>\n",
       "      <th>3</th>\n",
       "      <td>Waffle House-Memphis,TN</td>\n",
       "      <td>35.155903</td>\n",
       "      <td>-89.885466</td>\n",
       "      <td>2</td>\n",
       "    </tr>\n",
       "    <tr>\n",
       "      <th>4</th>\n",
       "      <td>Waffle House-Lumberton,TX</td>\n",
       "      <td>30.242025</td>\n",
       "      <td>-94.195967</td>\n",
       "      <td>2</td>\n",
       "    </tr>\n",
       "  </tbody>\n",
       "</table>\n",
       "</div>"
      ],
      "text/plain": [
       "                    location        lat       long  score\n",
       "0     Waffle House-Duluth,GA  33.991269 -84.153232      8\n",
       "1     Waffle House-Biloxi,MS  30.393627 -88.942691      3\n",
       "2      Waffle House-Pearl,MS  32.269078 -90.135180      3\n",
       "3    Waffle House-Memphis,TN  35.155903 -89.885466      2\n",
       "4  Waffle House-Lumberton,TX  30.242025 -94.195967      2"
      ]
     },
     "execution_count": 22,
     "metadata": {},
     "output_type": "execute_result"
    }
   ],
   "source": [
    "df.head()"
   ]
  },
  {
   "cell_type": "code",
   "execution_count": 30,
   "metadata": {},
   "outputs": [],
   "source": [
    "points = df.apply(lambda row: Point(row.long, row.lat), axis=1)\n",
    "wafflehouses = gpd.GeoDataFrame(df, geometry=points)\n",
    "wafflehouses.crs = {'init': 'epsg:4326'}"
   ]
  },
  {
   "cell_type": "code",
   "execution_count": 31,
   "metadata": {},
   "outputs": [
    {
     "data": {
      "text/html": [
       "<div>\n",
       "<style>\n",
       "    .dataframe thead tr:only-child th {\n",
       "        text-align: right;\n",
       "    }\n",
       "\n",
       "    .dataframe thead th {\n",
       "        text-align: left;\n",
       "    }\n",
       "\n",
       "    .dataframe tbody tr th {\n",
       "        vertical-align: top;\n",
       "    }\n",
       "</style>\n",
       "<table border=\"1\" class=\"dataframe\">\n",
       "  <thead>\n",
       "    <tr style=\"text-align: right;\">\n",
       "      <th></th>\n",
       "      <th>location</th>\n",
       "      <th>lat</th>\n",
       "      <th>long</th>\n",
       "      <th>score</th>\n",
       "      <th>geometry</th>\n",
       "    </tr>\n",
       "  </thead>\n",
       "  <tbody>\n",
       "    <tr>\n",
       "      <th>0</th>\n",
       "      <td>Waffle House-Duluth,GA</td>\n",
       "      <td>33.991269</td>\n",
       "      <td>-84.153232</td>\n",
       "      <td>8</td>\n",
       "      <td>POINT (-84.15323199999999 33.991269)</td>\n",
       "    </tr>\n",
       "    <tr>\n",
       "      <th>1</th>\n",
       "      <td>Waffle House-Biloxi,MS</td>\n",
       "      <td>30.393627</td>\n",
       "      <td>-88.942691</td>\n",
       "      <td>3</td>\n",
       "      <td>POINT (-88.942691 30.393627)</td>\n",
       "    </tr>\n",
       "    <tr>\n",
       "      <th>2</th>\n",
       "      <td>Waffle House-Pearl,MS</td>\n",
       "      <td>32.269078</td>\n",
       "      <td>-90.135180</td>\n",
       "      <td>3</td>\n",
       "      <td>POINT (-90.13518000000001 32.269078)</td>\n",
       "    </tr>\n",
       "    <tr>\n",
       "      <th>3</th>\n",
       "      <td>Waffle House-Memphis,TN</td>\n",
       "      <td>35.155903</td>\n",
       "      <td>-89.885466</td>\n",
       "      <td>2</td>\n",
       "      <td>POINT (-89.88546600000001 35.155903)</td>\n",
       "    </tr>\n",
       "    <tr>\n",
       "      <th>4</th>\n",
       "      <td>Waffle House-Lumberton,TX</td>\n",
       "      <td>30.242025</td>\n",
       "      <td>-94.195967</td>\n",
       "      <td>2</td>\n",
       "      <td>POINT (-94.19596700000001 30.242025)</td>\n",
       "    </tr>\n",
       "  </tbody>\n",
       "</table>\n",
       "</div>"
      ],
      "text/plain": [
       "                    location        lat       long  score  \\\n",
       "0     Waffle House-Duluth,GA  33.991269 -84.153232      8   \n",
       "1     Waffle House-Biloxi,MS  30.393627 -88.942691      3   \n",
       "2      Waffle House-Pearl,MS  32.269078 -90.135180      3   \n",
       "3    Waffle House-Memphis,TN  35.155903 -89.885466      2   \n",
       "4  Waffle House-Lumberton,TX  30.242025 -94.195967      2   \n",
       "\n",
       "                               geometry  \n",
       "0  POINT (-84.15323199999999 33.991269)  \n",
       "1          POINT (-88.942691 30.393627)  \n",
       "2  POINT (-90.13518000000001 32.269078)  \n",
       "3  POINT (-89.88546600000001 35.155903)  \n",
       "4  POINT (-94.19596700000001 30.242025)  "
      ]
     },
     "execution_count": 31,
     "metadata": {},
     "output_type": "execute_result"
    }
   ],
   "source": [
    "wafflehouses.head()"
   ]
  },
  {
   "cell_type": "markdown",
   "metadata": {},
   "source": [
    "### Plot the locations, coloring based on the 'score' column."
   ]
  },
  {
   "cell_type": "code",
   "execution_count": 32,
   "metadata": {},
   "outputs": [
    {
     "data": {
      "text/plain": [
       "<matplotlib.axes._subplots.AxesSubplot at 0x10c233198>"
      ]
     },
     "execution_count": 32,
     "metadata": {},
     "output_type": "execute_result"
    },
    {
     "data": {
      "image/png": "[encoded data removed]",
      "text/plain": [
       "<matplotlib.figure.Figure at 0x10c228710>"
      ]
     },
     "metadata": {},
     "output_type": "display_data"
    }
   ],
   "source": [
    "wafflehouses.plot(column='score')"
   ]
  },
  {
   "cell_type": "code",
   "execution_count": 33,
   "metadata": {},
   "outputs": [
    {
     "data": {
      "text/plain": [
       "<matplotlib.axes._subplots.AxesSubplot at 0x116b020f0>"
      ]
     },
     "execution_count": 33,
     "metadata": {},
     "output_type": "execute_result"
    },
    {
     "data": {
      "image/png": "[encoded data removed]",
      "text/plain": [
       "<matplotlib.figure.Figure at 0x116af74e0>"
      ]
     },
     "metadata": {},
     "output_type": "display_data"
    }
   ],
   "source": [
    "ax = states.plot()\n",
    "wafflehouses.plot(ax=ax, column='score')"
   ]
  },
  {
   "cell_type": "markdown",
   "metadata": {},
   "source": [
    "# The actual spatial join"
   ]
  },
  {
   "cell_type": "markdown",
   "metadata": {},
   "source": [
    "### Is the CRS of the states the same as the CRS of the Waffle House locations?"
   ]
  },
  {
   "cell_type": "code",
   "execution_count": 34,
   "metadata": {},
   "outputs": [
    {
     "data": {
      "text/plain": [
       "{'init': 'epsg:4269'}"
      ]
     },
     "execution_count": 34,
     "metadata": {},
     "output_type": "execute_result"
    }
   ],
   "source": [
    "states.crs"
   ]
  },
  {
   "cell_type": "code",
   "execution_count": 35,
   "metadata": {},
   "outputs": [
    {
     "data": {
      "text/plain": [
       "{'init': 'epsg:4326'}"
      ]
     },
     "execution_count": 35,
     "metadata": {},
     "output_type": "execute_result"
    }
   ],
   "source": [
    "wafflehouses.crs"
   ]
  },
  {
   "cell_type": "markdown",
   "metadata": {},
   "source": [
    "### If not, we'll force them to match using `.to_crs`"
   ]
  },
  {
   "cell_type": "code",
   "execution_count": 36,
   "metadata": {},
   "outputs": [
    {
     "data": {
      "text/html": [
       "<div>\n",
       "<style>\n",
       "    .dataframe thead tr:only-child th {\n",
       "        text-align: right;\n",
       "    }\n",
       "\n",
       "    .dataframe thead th {\n",
       "        text-align: left;\n",
       "    }\n",
       "\n",
       "    .dataframe tbody tr th {\n",
       "        vertical-align: top;\n",
       "    }\n",
       "</style>\n",
       "<table border=\"1\" class=\"dataframe\">\n",
       "  <thead>\n",
       "    <tr style=\"text-align: right;\">\n",
       "      <th></th>\n",
       "      <th>AFFGEOID</th>\n",
       "      <th>ALAND</th>\n",
       "      <th>AWATER</th>\n",
       "      <th>GEOID</th>\n",
       "      <th>LSAD</th>\n",
       "      <th>NAME</th>\n",
       "      <th>STATEFP</th>\n",
       "      <th>STATENS</th>\n",
       "      <th>STUSPS</th>\n",
       "      <th>geometry</th>\n",
       "    </tr>\n",
       "  </thead>\n",
       "  <tbody>\n",
       "    <tr>\n",
       "      <th>0</th>\n",
       "      <td>0400000US01</td>\n",
       "      <td>131173688951</td>\n",
       "      <td>4593686489</td>\n",
       "      <td>01</td>\n",
       "      <td>00</td>\n",
       "      <td>Alabama</td>\n",
       "      <td>01</td>\n",
       "      <td>01779775</td>\n",
       "      <td>AL</td>\n",
       "      <td>(POLYGON ((-88.053375 30.506987, -88.051087999...</td>\n",
       "    </tr>\n",
       "    <tr>\n",
       "      <th>2</th>\n",
       "      <td>0400000US04</td>\n",
       "      <td>294198560125</td>\n",
       "      <td>1027346486</td>\n",
       "      <td>04</td>\n",
       "      <td>00</td>\n",
       "      <td>Arizona</td>\n",
       "      <td>04</td>\n",
       "      <td>01779777</td>\n",
       "      <td>AZ</td>\n",
       "      <td>POLYGON ((-114.816294 32.508038, -114.814321 3...</td>\n",
       "    </tr>\n",
       "  </tbody>\n",
       "</table>\n",
       "</div>"
      ],
      "text/plain": [
       "      AFFGEOID         ALAND      AWATER GEOID LSAD     NAME STATEFP  \\\n",
       "0  0400000US01  131173688951  4593686489    01   00  Alabama      01   \n",
       "2  0400000US04  294198560125  1027346486    04   00  Arizona      04   \n",
       "\n",
       "    STATENS STUSPS                                           geometry  \n",
       "0  01779775     AL  (POLYGON ((-88.053375 30.506987, -88.051087999...  \n",
       "2  01779777     AZ  POLYGON ((-114.816294 32.508038, -114.814321 3...  "
      ]
     },
     "execution_count": 36,
     "metadata": {},
     "output_type": "execute_result"
    }
   ],
   "source": [
    "# Convert CRS to match\n",
    "converted_states = states.to_crs(wafflehouses.crs)\n",
    "converted_states.head(2)"
   ]
  },
  {
   "cell_type": "markdown",
   "metadata": {},
   "source": [
    "### And now we can join"
   ]
  },
  {
   "cell_type": "code",
   "execution_count": 37,
   "metadata": {},
   "outputs": [
    {
     "data": {
      "text/html": [
       "<div>\n",
       "<style>\n",
       "    .dataframe thead tr:only-child th {\n",
       "        text-align: right;\n",
       "    }\n",
       "\n",
       "    .dataframe thead th {\n",
       "        text-align: left;\n",
       "    }\n",
       "\n",
       "    .dataframe tbody tr th {\n",
       "        vertical-align: top;\n",
       "    }\n",
       "</style>\n",
       "<table border=\"1\" class=\"dataframe\">\n",
       "  <thead>\n",
       "    <tr style=\"text-align: right;\">\n",
       "      <th></th>\n",
       "      <th>location</th>\n",
       "      <th>lat</th>\n",
       "      <th>long</th>\n",
       "      <th>score</th>\n",
       "      <th>geometry</th>\n",
       "      <th>index_right</th>\n",
       "      <th>AFFGEOID</th>\n",
       "      <th>ALAND</th>\n",
       "      <th>AWATER</th>\n",
       "      <th>GEOID</th>\n",
       "      <th>LSAD</th>\n",
       "      <th>NAME</th>\n",
       "      <th>STATEFP</th>\n",
       "      <th>STATENS</th>\n",
       "      <th>STUSPS</th>\n",
       "    </tr>\n",
       "  </thead>\n",
       "  <tbody>\n",
       "    <tr>\n",
       "      <th>0</th>\n",
       "      <td>Waffle House-Duluth,GA</td>\n",
       "      <td>33.991269</td>\n",
       "      <td>-84.153232</td>\n",
       "      <td>8</td>\n",
       "      <td>POINT (-84.15323199999999 33.991269)</td>\n",
       "      <td>9</td>\n",
       "      <td>0400000US13</td>\n",
       "      <td>1.491698e+11</td>\n",
       "      <td>4.741101e+09</td>\n",
       "      <td>13</td>\n",
       "      <td>00</td>\n",
       "      <td>Georgia</td>\n",
       "      <td>13</td>\n",
       "      <td>01705317</td>\n",
       "      <td>GA</td>\n",
       "    </tr>\n",
       "    <tr>\n",
       "      <th>1</th>\n",
       "      <td>Waffle House-Biloxi,MS</td>\n",
       "      <td>30.393627</td>\n",
       "      <td>-88.942691</td>\n",
       "      <td>3</td>\n",
       "      <td>POINT (-88.942691 30.393627)</td>\n",
       "      <td>18</td>\n",
       "      <td>0400000US28</td>\n",
       "      <td>1.215299e+11</td>\n",
       "      <td>3.930506e+09</td>\n",
       "      <td>28</td>\n",
       "      <td>00</td>\n",
       "      <td>Mississippi</td>\n",
       "      <td>28</td>\n",
       "      <td>01779790</td>\n",
       "      <td>MS</td>\n",
       "    </tr>\n",
       "    <tr>\n",
       "      <th>2</th>\n",
       "      <td>Waffle House-Pearl,MS</td>\n",
       "      <td>32.269078</td>\n",
       "      <td>-90.135180</td>\n",
       "      <td>3</td>\n",
       "      <td>POINT (-90.13518000000001 32.269078)</td>\n",
       "      <td>18</td>\n",
       "      <td>0400000US28</td>\n",
       "      <td>1.215299e+11</td>\n",
       "      <td>3.930506e+09</td>\n",
       "      <td>28</td>\n",
       "      <td>00</td>\n",
       "      <td>Mississippi</td>\n",
       "      <td>28</td>\n",
       "      <td>01779790</td>\n",
       "      <td>MS</td>\n",
       "    </tr>\n",
       "    <tr>\n",
       "      <th>3</th>\n",
       "      <td>Waffle House-Memphis,TN</td>\n",
       "      <td>35.155903</td>\n",
       "      <td>-89.885466</td>\n",
       "      <td>2</td>\n",
       "      <td>POINT (-89.88546600000001 35.155903)</td>\n",
       "      <td>48</td>\n",
       "      <td>0400000US47</td>\n",
       "      <td>1.067977e+11</td>\n",
       "      <td>2.355189e+09</td>\n",
       "      <td>47</td>\n",
       "      <td>00</td>\n",
       "      <td>Tennessee</td>\n",
       "      <td>47</td>\n",
       "      <td>01325873</td>\n",
       "      <td>TN</td>\n",
       "    </tr>\n",
       "    <tr>\n",
       "      <th>4</th>\n",
       "      <td>Waffle House-Lumberton,TX</td>\n",
       "      <td>30.242025</td>\n",
       "      <td>-94.195967</td>\n",
       "      <td>2</td>\n",
       "      <td>POINT (-94.19596700000001 30.242025)</td>\n",
       "      <td>49</td>\n",
       "      <td>0400000US48</td>\n",
       "      <td>6.766335e+11</td>\n",
       "      <td>1.902599e+10</td>\n",
       "      <td>48</td>\n",
       "      <td>00</td>\n",
       "      <td>Texas</td>\n",
       "      <td>48</td>\n",
       "      <td>01779801</td>\n",
       "      <td>TX</td>\n",
       "    </tr>\n",
       "  </tbody>\n",
       "</table>\n",
       "</div>"
      ],
      "text/plain": [
       "                    location        lat       long  score  \\\n",
       "0     Waffle House-Duluth,GA  33.991269 -84.153232      8   \n",
       "1     Waffle House-Biloxi,MS  30.393627 -88.942691      3   \n",
       "2      Waffle House-Pearl,MS  32.269078 -90.135180      3   \n",
       "3    Waffle House-Memphis,TN  35.155903 -89.885466      2   \n",
       "4  Waffle House-Lumberton,TX  30.242025 -94.195967      2   \n",
       "\n",
       "                               geometry index_right     AFFGEOID  \\\n",
       "0  POINT (-84.15323199999999 33.991269)           9  0400000US13   \n",
       "1          POINT (-88.942691 30.393627)          18  0400000US28   \n",
       "2  POINT (-90.13518000000001 32.269078)          18  0400000US28   \n",
       "3  POINT (-89.88546600000001 35.155903)          48  0400000US47   \n",
       "4  POINT (-94.19596700000001 30.242025)          49  0400000US48   \n",
       "\n",
       "          ALAND        AWATER GEOID LSAD         NAME STATEFP   STATENS STUSPS  \n",
       "0  1.491698e+11  4.741101e+09    13   00      Georgia      13  01705317     GA  \n",
       "1  1.215299e+11  3.930506e+09    28   00  Mississippi      28  01779790     MS  \n",
       "2  1.215299e+11  3.930506e+09    28   00  Mississippi      28  01779790     MS  \n",
       "3  1.067977e+11  2.355189e+09    47   00    Tennessee      47  01325873     TN  \n",
       "4  6.766335e+11  1.902599e+10    48   00        Texas      48  01779801     TX  "
      ]
     },
     "execution_count": 37,
     "metadata": {},
     "output_type": "execute_result"
    }
   ],
   "source": [
    "# http://geopandas.org/mergingdata.html\n",
    "wafflehouses_with_state_data = gpd.sjoin(wafflehouses, converted_states, how='left', op='within')\n",
    "wafflehouses_with_state_data.head()"
   ]
  },
  {
   "cell_type": "code",
   "execution_count": 38,
   "metadata": {},
   "outputs": [
    {
     "data": {
      "text/plain": [
       "(49, 10)"
      ]
     },
     "execution_count": 38,
     "metadata": {},
     "output_type": "execute_result"
    }
   ],
   "source": [
    "converted_states.shape"
   ]
  },
  {
   "cell_type": "code",
   "execution_count": 39,
   "metadata": {},
   "outputs": [
    {
     "data": {
      "text/plain": [
       "(1803, 5)"
      ]
     },
     "execution_count": 39,
     "metadata": {},
     "output_type": "execute_result"
    }
   ],
   "source": [
    "wafflehouses.shape"
   ]
  },
  {
   "cell_type": "code",
   "execution_count": 40,
   "metadata": {},
   "outputs": [
    {
     "data": {
      "text/plain": [
       "(1803, 15)"
      ]
     },
     "execution_count": 40,
     "metadata": {},
     "output_type": "execute_result"
    }
   ],
   "source": [
    "wafflehouses_with_state_data.shape"
   ]
  },
  {
   "cell_type": "markdown",
   "metadata": {},
   "source": [
    "## Doing things with spatially joined data\n",
    "\n",
    "* What column do we use for color?\n",
    "* Add a legend with `legend=True`\n",
    "* Something is going to go wrong, though!"
   ]
  },
  {
   "cell_type": "code",
   "execution_count": 48,
   "metadata": {},
   "outputs": [
    {
     "data": {
      "text/plain": [
       "<matplotlib.axes._subplots.AxesSubplot at 0x122dd3780>"
      ]
     },
     "execution_count": 48,
     "metadata": {},
     "output_type": "execute_result"
    },
    {
     "data": {
      "image/png": "[encoded data removed]",
      "text/plain": [
       "<matplotlib.figure.Figure at 0x122dcbac8>"
      ]
     },
     "metadata": {},
     "output_type": "display_data"
    }
   ],
   "source": [
    "wafflehouses_with_state_data.dropna().plot(column='NAME', linewidth=1, markersize=10, figsize=(20,5))"
   ]
  },
  {
   "cell_type": "code",
   "execution_count": null,
   "metadata": {
    "collapsed": true
   },
   "outputs": [],
   "source": []
  },
  {
   "cell_type": "markdown",
   "metadata": {},
   "source": [
    "## What if we reverse the spatial join and make it 'contains'?\n",
    "\n",
    "How is this different than what we did before?"
   ]
  },
  {
   "cell_type": "code",
   "execution_count": 49,
   "metadata": {},
   "outputs": [
    {
     "data": {
      "text/html": [
       "<div>\n",
       "<style>\n",
       "    .dataframe thead tr:only-child th {\n",
       "        text-align: right;\n",
       "    }\n",
       "\n",
       "    .dataframe thead th {\n",
       "        text-align: left;\n",
       "    }\n",
       "\n",
       "    .dataframe tbody tr th {\n",
       "        vertical-align: top;\n",
       "    }\n",
       "</style>\n",
       "<table border=\"1\" class=\"dataframe\">\n",
       "  <thead>\n",
       "    <tr style=\"text-align: right;\">\n",
       "      <th></th>\n",
       "      <th>AFFGEOID</th>\n",
       "      <th>ALAND</th>\n",
       "      <th>AWATER</th>\n",
       "      <th>GEOID</th>\n",
       "      <th>LSAD</th>\n",
       "      <th>NAME</th>\n",
       "      <th>STATEFP</th>\n",
       "      <th>STATENS</th>\n",
       "      <th>STUSPS</th>\n",
       "      <th>geometry</th>\n",
       "      <th>index_right</th>\n",
       "      <th>location</th>\n",
       "      <th>lat</th>\n",
       "      <th>long</th>\n",
       "      <th>score</th>\n",
       "    </tr>\n",
       "  </thead>\n",
       "  <tbody>\n",
       "    <tr>\n",
       "      <th>0</th>\n",
       "      <td>0400000US01</td>\n",
       "      <td>131173688951</td>\n",
       "      <td>4593686489</td>\n",
       "      <td>01</td>\n",
       "      <td>00</td>\n",
       "      <td>Alabama</td>\n",
       "      <td>01</td>\n",
       "      <td>01779775</td>\n",
       "      <td>AL</td>\n",
       "      <td>(POLYGON ((-88.053375 30.506987, -88.051087999...</td>\n",
       "      <td>149</td>\n",
       "      <td>Waffle House-Tuscaloosa,AL</td>\n",
       "      <td>33.127149</td>\n",
       "      <td>-87.549124</td>\n",
       "      <td>5.0</td>\n",
       "    </tr>\n",
       "    <tr>\n",
       "      <th>0</th>\n",
       "      <td>0400000US01</td>\n",
       "      <td>131173688951</td>\n",
       "      <td>4593686489</td>\n",
       "      <td>01</td>\n",
       "      <td>00</td>\n",
       "      <td>Alabama</td>\n",
       "      <td>01</td>\n",
       "      <td>01779775</td>\n",
       "      <td>AL</td>\n",
       "      <td>(POLYGON ((-88.053375 30.506987, -88.051087999...</td>\n",
       "      <td>33</td>\n",
       "      <td>Waffle House-Calera,AL</td>\n",
       "      <td>33.147916</td>\n",
       "      <td>-86.749224</td>\n",
       "      <td>6.0</td>\n",
       "    </tr>\n",
       "    <tr>\n",
       "      <th>0</th>\n",
       "      <td>0400000US01</td>\n",
       "      <td>131173688951</td>\n",
       "      <td>4593686489</td>\n",
       "      <td>01</td>\n",
       "      <td>00</td>\n",
       "      <td>Alabama</td>\n",
       "      <td>01</td>\n",
       "      <td>01779775</td>\n",
       "      <td>AL</td>\n",
       "      <td>(POLYGON ((-88.053375 30.506987, -88.051087999...</td>\n",
       "      <td>148</td>\n",
       "      <td>Waffle House-Tuscaloosa,AL</td>\n",
       "      <td>33.165991</td>\n",
       "      <td>-87.551787</td>\n",
       "      <td>7.0</td>\n",
       "    </tr>\n",
       "    <tr>\n",
       "      <th>0</th>\n",
       "      <td>0400000US01</td>\n",
       "      <td>131173688951</td>\n",
       "      <td>4593686489</td>\n",
       "      <td>01</td>\n",
       "      <td>00</td>\n",
       "      <td>Alabama</td>\n",
       "      <td>01</td>\n",
       "      <td>01779775</td>\n",
       "      <td>AL</td>\n",
       "      <td>(POLYGON ((-88.053375 30.506987, -88.051087999...</td>\n",
       "      <td>147</td>\n",
       "      <td>Waffle House-Tuscaloosa,AL</td>\n",
       "      <td>33.176447</td>\n",
       "      <td>-87.470757</td>\n",
       "      <td>10.0</td>\n",
       "    </tr>\n",
       "    <tr>\n",
       "      <th>0</th>\n",
       "      <td>0400000US01</td>\n",
       "      <td>131173688951</td>\n",
       "      <td>4593686489</td>\n",
       "      <td>01</td>\n",
       "      <td>00</td>\n",
       "      <td>Alabama</td>\n",
       "      <td>01</td>\n",
       "      <td>01779775</td>\n",
       "      <td>AL</td>\n",
       "      <td>(POLYGON ((-88.053375 30.506987, -88.051087999...</td>\n",
       "      <td>146</td>\n",
       "      <td>Waffle House-Tuscaloosa,AL</td>\n",
       "      <td>33.177825</td>\n",
       "      <td>-87.524648</td>\n",
       "      <td>8.0</td>\n",
       "    </tr>\n",
       "  </tbody>\n",
       "</table>\n",
       "</div>"
      ],
      "text/plain": [
       "      AFFGEOID         ALAND      AWATER GEOID LSAD     NAME STATEFP  \\\n",
       "0  0400000US01  131173688951  4593686489    01   00  Alabama      01   \n",
       "0  0400000US01  131173688951  4593686489    01   00  Alabama      01   \n",
       "0  0400000US01  131173688951  4593686489    01   00  Alabama      01   \n",
       "0  0400000US01  131173688951  4593686489    01   00  Alabama      01   \n",
       "0  0400000US01  131173688951  4593686489    01   00  Alabama      01   \n",
       "\n",
       "    STATENS STUSPS                                           geometry  \\\n",
       "0  01779775     AL  (POLYGON ((-88.053375 30.506987, -88.051087999...   \n",
       "0  01779775     AL  (POLYGON ((-88.053375 30.506987, -88.051087999...   \n",
       "0  01779775     AL  (POLYGON ((-88.053375 30.506987, -88.051087999...   \n",
       "0  01779775     AL  (POLYGON ((-88.053375 30.506987, -88.051087999...   \n",
       "0  01779775     AL  (POLYGON ((-88.053375 30.506987, -88.051087999...   \n",
       "\n",
       "  index_right                    location        lat       long  score  \n",
       "0         149  Waffle House-Tuscaloosa,AL  33.127149 -87.549124    5.0  \n",
       "0          33      Waffle House-Calera,AL  33.147916 -86.749224    6.0  \n",
       "0         148  Waffle House-Tuscaloosa,AL  33.165991 -87.551787    7.0  \n",
       "0         147  Waffle House-Tuscaloosa,AL  33.176447 -87.470757   10.0  \n",
       "0         146  Waffle House-Tuscaloosa,AL  33.177825 -87.524648    8.0  "
      ]
     },
     "execution_count": 49,
     "metadata": {},
     "output_type": "execute_result"
    }
   ],
   "source": [
    "# http://geopandas.org/mergingdata.html\n",
    "states_with_wafflehouse_data = gpd.sjoin(converted_states, wafflehouses, how='left', op='contains')\n",
    "states_with_wafflehouse_data.head()"
   ]
  },
  {
   "cell_type": "code",
   "execution_count": 50,
   "metadata": {},
   "outputs": [
    {
     "data": {
      "text/plain": [
       "(1826, 15)"
      ]
     },
     "execution_count": 50,
     "metadata": {},
     "output_type": "execute_result"
    }
   ],
   "source": [
    "states_with_wafflehouse_data.shape"
   ]
  },
  {
   "cell_type": "code",
   "execution_count": 51,
   "metadata": {},
   "outputs": [
    {
     "data": {
      "text/html": [
       "<div>\n",
       "<style>\n",
       "    .dataframe thead tr:only-child th {\n",
       "        text-align: right;\n",
       "    }\n",
       "\n",
       "    .dataframe thead th {\n",
       "        text-align: left;\n",
       "    }\n",
       "\n",
       "    .dataframe tbody tr th {\n",
       "        vertical-align: top;\n",
       "    }\n",
       "</style>\n",
       "<table border=\"1\" class=\"dataframe\">\n",
       "  <thead>\n",
       "    <tr style=\"text-align: right;\">\n",
       "      <th></th>\n",
       "      <th>NAME</th>\n",
       "      <th>geometry</th>\n",
       "      <th>score</th>\n",
       "    </tr>\n",
       "  </thead>\n",
       "  <tbody>\n",
       "    <tr>\n",
       "      <th>0</th>\n",
       "      <td>Alabama</td>\n",
       "      <td>(POLYGON ((-88.053375 30.506987, -88.051087999...</td>\n",
       "      <td>5.0</td>\n",
       "    </tr>\n",
       "    <tr>\n",
       "      <th>0</th>\n",
       "      <td>Alabama</td>\n",
       "      <td>(POLYGON ((-88.053375 30.506987, -88.051087999...</td>\n",
       "      <td>6.0</td>\n",
       "    </tr>\n",
       "    <tr>\n",
       "      <th>0</th>\n",
       "      <td>Alabama</td>\n",
       "      <td>(POLYGON ((-88.053375 30.506987, -88.051087999...</td>\n",
       "      <td>7.0</td>\n",
       "    </tr>\n",
       "    <tr>\n",
       "      <th>0</th>\n",
       "      <td>Alabama</td>\n",
       "      <td>(POLYGON ((-88.053375 30.506987, -88.051087999...</td>\n",
       "      <td>10.0</td>\n",
       "    </tr>\n",
       "    <tr>\n",
       "      <th>0</th>\n",
       "      <td>Alabama</td>\n",
       "      <td>(POLYGON ((-88.053375 30.506987, -88.051087999...</td>\n",
       "      <td>8.0</td>\n",
       "    </tr>\n",
       "  </tbody>\n",
       "</table>\n",
       "</div>"
      ],
      "text/plain": [
       "      NAME                                           geometry  score\n",
       "0  Alabama  (POLYGON ((-88.053375 30.506987, -88.051087999...    5.0\n",
       "0  Alabama  (POLYGON ((-88.053375 30.506987, -88.051087999...    6.0\n",
       "0  Alabama  (POLYGON ((-88.053375 30.506987, -88.051087999...    7.0\n",
       "0  Alabama  (POLYGON ((-88.053375 30.506987, -88.051087999...   10.0\n",
       "0  Alabama  (POLYGON ((-88.053375 30.506987, -88.051087999...    8.0"
      ]
     },
     "execution_count": 51,
     "metadata": {},
     "output_type": "execute_result"
    }
   ],
   "source": [
    "select_columns = states_with_wafflehouse_data[['NAME', 'geometry', 'score']]\n",
    "select_columns.head()"
   ]
  },
  {
   "cell_type": "markdown",
   "metadata": {},
   "source": [
    "## Aggregating with `.dissolve` (the geographic version of 'groupby')\n",
    "\n",
    "http://geopandas.org/aggregation_with_dissolve.html"
   ]
  },
  {
   "cell_type": "markdown",
   "metadata": {},
   "source": [
    "### In theory we'd run the following line\n",
    "\n",
    "But it doesn't work because we have too much data, and `.dissolve` isn't smart enough to deal with it."
   ]
  },
  {
   "cell_type": "code",
   "execution_count": null,
   "metadata": {
    "collapsed": true
   },
   "outputs": [],
   "source": [
    "# We can't do this, I think because there are too many wafflehouses\n",
    "#wafflehouse_counts = states_with_wafflehouse_data.dissolve(by='NAME', aggfunc='count')\n",
    "#wafflehouse_counts.head()"
   ]
  },
  {
   "cell_type": "markdown",
   "metadata": {},
   "source": [
    "### But we can try it out with the first 5/20/50 of them"
   ]
  },
  {
   "cell_type": "code",
   "execution_count": null,
   "metadata": {
    "collapsed": true
   },
   "outputs": [],
   "source": [
    "%%time\n",
    "select_columns.head(5).dissolve(by='NAME', aggfunc='count')"
   ]
  },
  {
   "cell_type": "code",
   "execution_count": null,
   "metadata": {
    "collapsed": true
   },
   "outputs": [],
   "source": [
    "%%time\n",
    "select_columns.head(20).dissolve(by='NAME', aggfunc='count')"
   ]
  },
  {
   "cell_type": "code",
   "execution_count": null,
   "metadata": {
    "collapsed": true
   },
   "outputs": [],
   "source": [
    "%%time\n",
    "select_columns.head(50).dissolve(by='NAME', aggfunc='count')"
   ]
  },
  {
   "cell_type": "code",
   "execution_count": null,
   "metadata": {
    "collapsed": true
   },
   "outputs": [],
   "source": [
    "%%time\n",
    "select_columns.head(200).dissolve(by='NAME', aggfunc='count')"
   ]
  },
  {
   "cell_type": "markdown",
   "metadata": {},
   "source": [
    "## Spatial joins for LARGE data sets (NOT using dissolve)\n",
    "\n",
    "Instead of using `.dissolve`, we need to use `.contains` to say \"find me all of the waffle houses inside of this one specific state\". I don't know why this works better, but it does. We'll use `.sum()` to count the number inside, but you could also do something like `['score'].mean()` etc."
   ]
  },
  {
   "cell_type": "markdown",
   "metadata": {},
   "source": [
    "### First, let's try it with one state"
   ]
  },
  {
   "cell_type": "code",
   "execution_count": 58,
   "metadata": {},
   "outputs": [
    {
     "data": {
      "image/svg+xml": [
       "<svg xmlns=\"http://www.w3.org/2000/svg\" xmlns:xlink=\"http://www.w3.org/1999/xlink\" width=\"100.0\" height=\"100.0\" viewBox=\"-88.66461475999999 30.031946239999996 3.966922519999997 5.167469519999997\" preserveAspectRatio=\"xMinYMin meet\"><g transform=\"matrix(1,0,0,-1,0,65.23136199999999)\"><g><path fill-rule=\"evenodd\" fill=\"#66cc99\" stroke=\"#555555\" stroke-width=\"0.10334939039999995\" opacity=\"0.6\" d=\"M -88.053375,30.506987 L -88.051088,30.508857 L -88.045647,30.513306 L -88.041966,30.517376 L -88.03867,30.520405 L -88.035099,30.521967 L -88.03240699999999,30.521447 L -88.02916499999999,30.519648 L -88.02622199999999,30.516609 L -88.023506,30.492573 L -88.02432999999999,30.490774 L -88.026748,30.491104999999997 L -88.04504299999999,30.501189 L -88.05234899999999,30.505591 L -88.053375,30.506987 z\" /><path fill-rule=\"evenodd\" fill=\"#66cc99\" stroke=\"#555555\" stroke-width=\"0.10334939039999995\" opacity=\"0.6\" d=\"M -88.211209,30.322249 L -88.209999,30.323199 L -88.209559,30.322201999999997 L -88.20895399999999,30.320445 L -88.208073,30.319543 L -88.208733,30.318877999999998 L -88.209559,30.31902 L -88.210824,30.320777 L -88.211209,30.322249 z\" /><path fill-rule=\"evenodd\" fill=\"#66cc99\" stroke=\"#555555\" stroke-width=\"0.10334939039999995\" opacity=\"0.6\" d=\"M -88.22511999999999,30.321801999999998 L -88.22128099999999,30.322232999999997 L -88.218694,30.321903 L -88.221031,30.32039 L -88.22465299999999,30.319886 L -88.226522,30.320793 L -88.22511999999999,30.321801999999998 z\" /><path fill-rule=\"evenodd\" fill=\"#66cc99\" stroke=\"#555555\" stroke-width=\"0.10334939039999995\" opacity=\"0.6\" d=\"M -88.264659,30.335541 L -88.263674,30.336335 L -88.261506,30.335485 L -88.260061,30.336448999999998 L -88.259141,30.337128999999997 L -88.259141,30.339000000000002 L -88.25841799999999,30.340417 L -88.25782699999999,30.342741999999998 L -88.257762,30.344329 L -88.259732,30.345633 L -88.262097,30.346541 L -88.261966,30.347787999999998 L -88.261112,30.348411 L -88.260915,30.349318 L -88.261178,30.350338999999998 L -88.26038899999999,30.350451999999997 L -88.260258,30.351585999999998 L -88.25979799999999,30.35306 L -88.259312,30.355541 L -88.25908,30.357597 L -88.25896399999999,30.359001 L -88.259022,30.360756 L -88.259138,30.363113 L -88.259661,30.364417 L -88.26001,30.365821 L -88.25947,30.366778 L -88.25855,30.366608 L -88.257105,30.365247999999998 L -88.25629099999999,30.363815 L -88.256,30.360906999999997 L -88.256233,30.357999 L -88.256756,30.354739 L -88.25717,30.352549999999997 L -88.257105,30.350112 L -88.25671,30.347787999999998 L -88.256316,30.346484 L -88.256382,30.344953 L -88.255134,30.342174999999997 L -88.254148,30.339454 L -88.253557,30.337298999999998 L -88.253294,30.334804 L -88.253754,30.33248 L -88.25362299999999,30.331004999999998 L -88.253951,30.329757999999998 L -88.254542,30.32817 L -88.255265,30.326014999999998 L -88.255659,30.324087 L -88.257893,30.325051 L -88.25881299999999,30.326072 L -88.260061,30.327489999999997 L -88.260258,30.329303999999997 L -88.260849,30.330098 L -88.260521,30.330949 L -88.261375,30.332877 L -88.263148,30.333613999999997 L -88.264331,30.334294 L -88.264659,30.335541 z\" /><path fill-rule=\"evenodd\" fill=\"#66cc99\" stroke=\"#555555\" stroke-width=\"0.10334939039999995\" opacity=\"0.6\" d=\"M -88.327302,30.229882 L -88.32014199999999,30.232035 L -88.313074,30.231327 L -88.299705,30.231811999999998 L -88.27915399999999,30.235155 L -88.25837,30.239594999999998 L -88.224615,30.245559 L -88.20146799999999,30.251178999999997 L -88.19840599999999,30.25065 L -88.192127,30.250248 L -88.190179,30.251334 L -88.18637199999999,30.251198 L -88.18162099999999,30.251711 L -88.17335,30.252418 L -88.167433,30.252692999999997 L -88.16190399999999,30.253396 L -88.153678,30.253165 L -88.1473,30.254105 L -88.14526,30.254969 L -88.141143,30.255024 L -88.130631,30.262124999999997 L -88.12472199999999,30.273540999999998 L -88.124670238134,30.281708860693797 L -88.124658,30.28364 L -88.086812,30.259864 L -88.07675616358009,30.250828211211598 L -88.074854,30.249119 L -88.075856,30.246139 L -88.079562,30.246637 L -88.088262,30.245151999999997 L -88.101235,30.242001 L -88.104365,30.243028 L -88.10655,30.242856 L -88.10852899999999,30.242046 L -88.110822,30.241956 L -88.112281,30.242316 L -88.11217599999999,30.243532 L -88.1128549123886,30.243895943768898 L -88.11519799999999,30.245151999999997 L -88.11789919978139,30.245695730301197 L -88.12015099999999,30.246149 L -88.12488692307689,30.247692999999998 L -88.12493599999999,30.247709 L -88.123482,30.245196999999997 L -88.122492,30.242901 L -88.120564,30.239390999999998 L -88.119939,30.237185 L -88.117282,30.233314 L -88.115563,30.232369 L -88.110978,30.227777 L -88.107331,30.225075999999998 L -88.10488199999999,30.224580999999997 L -88.10665399999999,30.223501 L -88.11030099999999,30.224940999999998 L -88.113427,30.226831999999998 L -88.117386,30.230793 L -88.122596,30.236105 L -88.124999,30.2406148369004 L -88.125306,30.241190999999997 L -88.12691225348969,30.244962375688797 L -88.127338,30.245962 L -88.13186999999999,30.247897 L -88.13708299999999,30.249178999999998 L -88.149812,30.249988 L -88.166789,30.249748 L -88.19190499999999,30.248094 L -88.199799,30.24779 L -88.234854,30.241307 L -88.26019199999999,30.236155999999998 L -88.28312799999999,30.232079 L -88.304773,30.228030999999998 L -88.318865,30.22803 L -88.326371,30.228462999999998 L -88.327302,30.229882 z\" /><path fill-rule=\"evenodd\" fill=\"#66cc99\" stroke=\"#555555\" stroke-width=\"0.10334939039999995\" opacity=\"0.6\" d=\"M -88.346745,30.390701999999997 L -88.345047,30.3914 L -88.343507,30.391444999999997 L -88.342384,30.391468 L -88.341235,30.391738 L -88.340504,30.391513 L -88.335702,30.389726999999997 L -88.333095,30.389878 L -88.33288999999999,30.389146 L -88.33412,30.388741 L -88.335731,30.388969 L -88.34076499999999,30.390161 L -88.34264499999999,30.390003999999998 L -88.34431599999999,30.389981 L -88.34554299999999,30.389913999999997 L -88.346823,30.389936 L -88.346745,30.390701999999997 z\" /><path fill-rule=\"evenodd\" fill=\"#66cc99\" stroke=\"#555555\" stroke-width=\"0.10334939039999995\" opacity=\"0.6\" d=\"M -88.473227,31.893856 L -88.468879,31.930262 L -88.4688743843865,31.9303233518312 L -88.4688742551621,31.9303250695125 L -88.46866,31.933173 L -88.455039,32.039719 L -88.454959,32.040576 L -88.45388348887829,32.049280034926895 L -88.4534176891327,32.0530497191012 L -88.443049750597,32.1369567074276 L -88.4428468074689,32.1385991117127 L -88.4418791405619,32.146430371089295 L -88.43871,32.172078 L -88.43865,32.172806 L -88.43581075890519,32.1939763035621 L -88.4338373824385,32.2086904392936 L -88.43129401638389,32.2276546024792 L -88.42827799999999,32.250143 L -88.42794114332119,32.2530321691437 L -88.4240705677077,32.2862295148856 L -88.421453,32.308679999999995 L -88.4149186209757,32.36452437467909 L -88.41471435859509,32.3662700501098 L -88.4144532827107,32.3685012674077 L -88.41381899999999,32.373922 L -88.41250000000001,32.380024999999996 L -88.4100961455102,32.3992715654218 L -88.4039163853966,32.448750083286896 L -88.40391242456269,32.448781795875895 L -88.40378899999999,32.44977 L -88.40378899999999,32.449885 L -88.4033142007722,32.4542976645469 L -88.3999703119346,32.4853749259647 L -88.39996599999999,32.485414999999996 L -88.3888572465182,32.5781229194103 L -88.3861753483959,32.6005046560645 L -88.38563594641849,32.60500622639189 L -88.38537792631818,32.607159528893895 L -88.383039,32.626678999999996 L -88.38298499999999,32.626954 L -88.37333799999999,32.711825 L -88.3690552109757,32.74258399248949 L -88.368349,32.747656 L -88.36818559513,32.7491378149249 L -88.3666091107452,32.763433949980005 L -88.354292,32.87513 L -88.3478500256084,32.929077584824 L -88.34043199999999,32.991199 L -88.3310076496119,33.072489727510394 L -88.330934,33.073125 L -88.3222722892766,33.1427990754313 L -88.3218542065997,33.14616209746001 L -88.317135,33.184123 L -88.315235,33.203323 L -88.312535,33.220923 L -88.3114725832984,33.2297430797382 L -88.30809041634369,33.2578214996127 L -88.30441698708259,33.2883179507206 L -88.30274373083179,33.3022091607627 L -88.3005000457713,33.3208360150958 L -88.30049884097339,33.32084601721 L -88.2970970227493,33.349087580004394 L -88.29301654948,33.3829632707304 L -88.2910782508144,33.3990548370265 L -88.2859481129665,33.4416447406107 L -88.2801043139762,33.4901593893276 L -88.27834801921169,33.504739977004704 L -88.27742099999999,33.512436 L -88.276805,33.516463 L -88.274619,33.534008 L -88.27414078427691,33.537860834095305 L -88.2713779363513,33.560120233305 L -88.270781740705,33.564923594639005 L -88.27005,33.570819 L -88.269532,33.572894 L -88.269076,33.576929 L -88.26816,33.58504 L -88.26714799999999,33.591989 L -88.267005,33.594229 L -88.2623713027984,33.632397244516696 L -88.26237072685801,33.6324019885971 L -88.262002140265,33.6354380745981 L -88.256343,33.682052999999996 L -88.256131,33.68286 L -88.254622,33.69578 L -88.25444499999999,33.698779 L -88.252257,33.719567999999995 L -88.2489373465952,33.744973677721305 L -88.2460218415259,33.767286363158895 L -88.244142,33.781673 L -88.243025,33.79568 L -88.2416094387383,33.8029217083864 L -88.24159929706839,33.8029735909988 L -88.240054,33.810879 L -88.235492,33.847203 L -88.23098695974831,33.8795027582299 L -88.2294613585972,33.8904408510291 L -88.229252650117,33.891937226882 L -88.22924906832169,33.8919629072572 L -88.22893187253071,33.8942371038877 L -88.226517,33.911550999999996 L -88.226517,33.911665 L -88.226428,33.912875 L -88.222135875909,33.9447024394569 L -88.2132700197265,34.0104455295678 L -88.21174683554689,34.0217404155568 L -88.210741,34.029199 L -88.207229,34.058333 L -88.20600529627859,34.0683576964181 L -88.2037840638383,34.0865542422802 L -88.20019599999999,34.115947999999996 L -88.192128,34.175351 L -88.19067799999999,34.190123 L -88.18762,34.204778 L -88.186667,34.220952 L -88.1774959379743,34.289332593991105 L -88.17710617074539,34.292238747559196 L -88.176889,34.293858 L -88.175867,34.302171 L -88.173632,34.321054 L -88.16591,34.380925999999995 L -88.1656733734431,34.3827915774924 L -88.165634,34.383102 L -88.1613748286655,34.4196263774296 L -88.1594297785128,34.4363060881802 L -88.1586659845225,34.4428559772994 L -88.15675103972801,34.4592775205854 L -88.15655206473149,34.4609838238307 L -88.156292,34.463214 L -88.1560500936445,34.464972049690495 L -88.1525090963558,34.4907061779864 L -88.139988,34.581703 L -88.139246,34.587795 L -88.138719,34.589214999999996 L -88.1343641919509,34.621900492639696 L -88.13426299999999,34.622659999999996 L -88.1308067668013,34.6448133736411 L -88.1229228444128,34.6953468499391 L -88.120809790864,34.708890862191595 L -88.11840699999999,34.724292 L -88.116418,34.746303 L -88.10755999999999,34.811628 L -88.104828239252,34.8343853294572 L -88.097888,34.892202 L -88.099999,34.894095 L -88.12503799999999,34.902226999999996 L -88.13318600882819,34.9059779925659 L -88.136692,34.907592 L -88.139721,34.909631 L -88.146335,34.914373999999995 L -88.154617,34.922391999999995 L -88.161594,34.933456 L -88.172102,34.955213 L -88.17610599999999,34.962519 L -88.17997299999999,34.967466 L -88.187429,34.974909 L -88.19881099999999,34.991192 L -88.200064,34.995633999999995 L -88.20082,34.997774 L -88.201987,35.005421 L -88.20295899999999,35.008027999999996 L -88.00003199999999,35.005939 L -87.9849162019114,35.005880673227 L -87.9734958113087,35.0058366057866 L -87.9269766619543,35.005657104059196 L -87.877969,35.005468 L -87.877742,35.005511999999996 L -87.872626,35.005570999999996 L -87.853528,35.005541 L -87.853411,35.005576 L -87.851886,35.005656 L -87.82116138650389,35.005377398779196 L -87.8211342757523,35.005377152947396 L -87.773586,35.004946 L -87.767602,35.004782999999996 L -87.75889,35.004711 L -87.72232402849271,35.0042505851277 L -87.709491,35.004089 L -87.7094595821424,35.004088369013694 L -87.702321,35.003945 L -87.700543,35.003988 L -87.696834,35.003852 L -87.6887093751075,35.003751356764305 L -87.671405,35.003537 L -87.66412299999999,35.003523 L -87.625025,35.003732 L -87.6192815618009,35.003704600444 L -87.60617837916699,35.0036420906069 L -87.5774876474615,35.003505219053196 L -87.5225354174048,35.003243064808196 L -87.4958434829136,35.0031157286851 L -87.49295176655859,35.0031019335085 L -87.49291794815419,35.003101772175 L -87.4432865229355,35.0028650012779 L -87.4370737168059,35.0028353625626 L -87.4370427920769,35.0028352150336 L -87.428613,35.002795 L -87.421543,35.002679 L -87.4174,35.002669 L -87.391314,35.002373999999996 L -87.38554685345379,35.0022298635638 L -87.38107099999999,35.002117999999996 L -87.359281,35.001823 L -87.3592674303837,35.0018227821826 L -87.3493245225215,35.0016631801721 L -87.349251,35.001661999999996 L -87.29921567772959,35.0009154577211 L -87.299185,35.000915 L -87.27001399999999,35.000389999999996 L -87.230544,34.999483999999995 L -87.22405322029701,34.999326659116896 L -87.21977176036779,34.999222873637095 L -87.21668299999999,34.999148 L -87.214645746982,34.9991053566215 L -87.212055598687,34.999051140148104 L -87.210759,34.999024 L -87.1627524375735,34.9980950657409 L -87.1396209266955,34.9976474674995 L -87.12564931427539,34.9973771146815 L -87.1226456781005,34.9973189938663 L -87.1204873149768,34.9972772292127 L -87.09459335922159,34.9967761772443 L -87.0899784494007,34.996686878039796 L -87.03009406913759,34.9955281062054 L -87.011174,34.995162 L -87.000007,34.995121 L -86.98867824708529,34.994851889557594 L -86.974412,34.994513 L -86.972613,34.99461 L -86.970236,34.994546 L -86.96712,34.9944 L -86.9374605990549,34.99370946456789 L -86.87923648830709,34.9923538804971 L -86.879203662682,34.9923531162451 L -86.862147,34.991956 L -86.86163036265901,34.9919546616696 L -86.8573743674567,34.9919436366679 L -86.85504577547928,34.9919376045345 L -86.849794,34.991924 L -86.84646599999999,34.991859999999996 L -86.83637,34.991763999999996 L -86.836306,34.991763999999996 L -86.820657,34.991763999999996 L -86.8195875359223,34.9917686524823 L -86.783648,34.991925 L -86.78362801709059,34.9919250273269 L -86.7760869498668,34.9919353398245 L -86.7217124160414,34.992009697635396 L -86.6776727086777,34.9920699224502 L -86.677616,34.99207 L -86.676726,34.99207 L -86.67436,34.992001 L -86.670853,34.992000000000004 L -86.65961,34.991792 L -86.6413928487564,34.9917405111499 L -86.641212,34.99174 L -86.6000400119946,34.991240012289495 L -86.600039,34.99124 L -86.588962,34.991197 L -86.5713080004837,34.9910119538512 L -86.57121699999999,34.991011 L -86.555864,34.990971 L -86.5557676701894,34.9909699655954 L -86.52848499999999,34.990677 L -86.5227079907133,34.99067842790279 L -86.5179380043519,34.9906796068999 L -86.4732990364922,34.9906906403093 L -86.467798,34.990691999999996 L -86.433927,34.991085 L -86.4286076259029,34.9911682872265 L -86.39720299999999,34.991659999999996 L -86.3777526382152,34.9915327891245 L -86.31876114409519,34.9911469680432 L -86.311274,34.991098 L -86.2539461700063,34.9907495541905 L -86.1529311285418,34.990135571978094 L -86.06713639157519,34.9896141007036 L -86.0670596523409,34.9896136342728 L -86.06161930972429,34.9895805671815 L -85.8639354755464,34.9883790198068 L -85.8609202846465,34.9883606930947 L -85.828724,34.988164999999995 L -85.824411,34.988141999999996 L -85.808642026392,34.98789285646 L -85.7969738633921,34.987708504104006 L -85.7579491702861,34.9870919294029 L -85.74894282275801,34.98694963267759 L -85.74493485948,34.986886308444596 L -85.72650026920431,34.986595049216504 L -85.726239039383,34.9865909218887 L -85.72232160090789,34.9865290279118 L -85.70225126053658,34.9862119244798 L -85.70084362267939,34.9861896843589 L -85.7008262686624,34.986189410172294 L -85.6947663278267,34.986093665506196 L -85.61568678001319,34.9848442399586 L -85.61149493201201,34.984778010419696 L -85.6114325530746,34.9847770248572 L -85.605165,34.984677999999995 L -85.599385,34.951766 L -85.598781,34.944915 L -85.59652307891939,34.931968747207996 L -85.595191,34.924330999999995 L -85.595163,34.924171 L -85.583145,34.860371 L -85.5759270787553,34.8237342946789 L -85.5743534080727,34.815746661243 L -85.561416,34.750079 L -85.5580670538503,34.734425844267 L -85.552482,34.708321 L -85.552454,34.708138 L -85.5520892272007,34.7064634753637 L -85.542501013985,34.6624478599444 L -85.54126699999999,34.656783 L -85.541264,34.656701 L -85.53432699999999,34.625082 L -85.5340893753704,34.6238579271308 L -85.527261,34.588682999999996 L -85.517074,34.542598 L -85.5146979912582,34.5294437989317 L -85.51393,34.525192 L -85.51370899999999,34.52417 L -85.512108,34.518252 L -85.50838399999999,34.501211999999995 L -85.5049447058824,34.4857351764706 L -85.502454,34.474527 L -85.502316,34.473954 L -85.4845883505414,34.3928900308523 L -85.47401690810929,34.3445495509054 L -85.47045,34.328238999999996 L -85.47043433064229,34.328160630554294 L -85.467676385249,34.3143669157448 L -85.4620817189037,34.2863854944266 L -85.458693,34.269436999999996 L -85.45807099999999,34.265736 L -85.455371,34.252854 L -85.455057,34.250689 L -85.444715014064,34.1999256811405 L -85.4447082365292,34.1998924138202 L -85.42947,34.125096 L -85.42822199999999,34.114397 L -85.4278886333433,34.112639669560004 L -85.4218527741544,34.0808218531424 L -85.420232,34.072278 L -85.406748,34.002314 L -85.405918,34.0001 L -85.3993834093702,33.966904722561196 L -85.398837,33.964129 L -85.3914952437911,33.927068064286296 L -85.3887171312565,33.9130442466707 L -85.38647347216839,33.90171833188109 L -85.38088499793109,33.873507903946 L -85.377426,33.856047 L -85.3764028869154,33.850656582095 L -85.3764027281585,33.8506557456616 L -85.36184399999999,33.773951 L -85.3618426212516,33.7739448929495 L -85.360491,33.767958 L -85.357402,33.750104 L -85.3569782031297,33.747963370109495 L -85.35525221574419,33.739245277912495 L -85.3382006083928,33.6531163257259 L -85.3237922987933,33.5803388694423 L -85.3225689183808,33.5741594828964 L -85.31534021527301,33.537646759403096 L -85.3153400895111,33.537646124170195 L -85.314994,33.535897999999996 L -85.3148434877199,33.5349512560896 L -85.31409099999999,33.530218 L -85.313999,33.529807 L -85.304439,33.482884 L -85.3033886220355,33.477420725638794 L -85.2975274009043,33.44693507169939 L -85.29630978121949,33.440601931981604 L -85.2939021634334,33.428079319201196 L -85.28159550108779,33.3640693388547 L -85.26266264175769,33.2655948768441 L -85.25215370133759,33.2109352907707 L -85.252143787887,33.210883728473696 L -85.2365086541145,33.129561548877895 L -85.232378,33.108077 L -85.2284317628998,33.0883839047551 L -85.22779987636768,33.08523057125169 L -85.223516898458,33.0638570222819 L -85.223261,33.06258 L -85.221868,33.055538 L -85.210891601815,33.0005976927144 L -85.2041165750202,32.9666865637902 L -85.2025511620875,32.958851182264894 L -85.19126396012089,32.9023552048059 L -85.1907838462341,32.8999520845814 L -85.1890775794593,32.8914116855049 L -85.188741,32.889727 L -85.1870586538649,32.8816537568625 L -85.18573714441891,32.8753120969364 L -85.1853237424222,32.8733282633109 L -85.18504757798719,32.8720030053371 L -85.18473999999999,32.870526999999996 L -85.184131,32.870525 L -85.1846512046702,32.869474625052796 L -85.18491399999999,32.868944 L -85.1848884238249,32.863446106048 L -85.184888,32.863355 L -85.1848106254084,32.8630318659474 L -85.18442363297669,32.8614156967348 L -85.18440000000001,32.861317 L -85.17935299999999,32.855269 L -85.17847071319738,32.854724407876596 L -85.17838072790688,32.8546688643954 L -85.17836395253379,32.854658509785004 L -85.177127,32.853895 L -85.170099,32.852497 L -85.168064,32.852863 L -85.166761,32.85474 L -85.164318,32.856183 L -85.16230999999999,32.856479 L -85.16108899999999,32.856045 L -85.159841,32.854945 L -85.1571363009798,32.851508931773004 L -85.155884,32.849917999999995 L -85.15425499999999,32.847476 L -85.15338799999999,32.844865 L -85.153462209283,32.8434461729737 L -85.153497,32.842780999999995 L -85.153905,32.841018 L -85.154584,32.839805 L -85.157432,32.839439 L -85.16058,32.838249 L -85.16465099999999,32.834790999999996 L -85.165473357677,32.833425373046396 L -85.168016,32.829203 L -85.16762996337759,32.8284211574235 L -85.1666106735749,32.826356782907396 L -85.164104,32.82128 L -85.1646705784048,32.820232662310495 L -85.166078,32.817631 L -85.1672507819921,32.813837891558 L -85.16788388494538,32.811790257664605 L -85.16793899999999,32.811612 L -85.16384592283269,32.806409234727894 L -85.162137,32.804237 L -85.1529003459633,32.795082557966204 L -85.151913,32.794104 L -85.1505836689875,32.793457081993395 L -85.145771,32.791115 L -85.141903,32.791821 L -85.140558,32.789701 L -85.1401915160284,32.7883248857941 L -85.139285,32.784921 L -85.13467299999999,32.783905 L -85.12993399999999,32.779649 L -85.12621899999999,32.779188999999995 L -85.123601,32.775711 L -85.12218899999999,32.773353 L -85.130884,32.769562 L -85.13439,32.770576999999996 L -85.137382,32.769068 L -85.14057299999999,32.764036 L -85.142567,32.760681999999996 L -85.13957599999999,32.754308 L -85.136584,32.748436999999996 L -85.13479463189302,32.746795250683896 L -85.132196,32.744411 L -85.12760399999999,32.743047 L -85.12409199999999,32.741693999999995 L -85.11855,32.740817 L -85.114795,32.738104 L -85.113329,32.735751 L -85.11316699999999,32.732813 L -85.115038,32.728831 L -85.11733799999999,32.726631999999995 L -85.118838,32.724832 L -85.12083799999999,32.722932 L -85.121505063206,32.7204024261057 L -85.122738,32.715727 L -85.119,32.710057 L -85.11927899999999,32.707715 L -85.11927899999999,32.703966 L -85.117037,32.692032999999995 L -85.1153450674004,32.687325749258804 L -85.11473699999999,32.685634 L -85.11263699999999,32.683434 L -85.10403699999999,32.679634 L -85.093536,32.669734 L -85.088483,32.657758 L -85.089736,32.655635 L -85.096336,32.652834999999996 L -85.100337,32.650135 L -85.10533699999999,32.644835 L -85.102989,32.641033 L -85.100388,32.637118 L -85.096597,32.634667 L -85.091336,32.634036 L -85.086175,32.635362 L -85.083635,32.635973 L -85.082365,32.633834 L -85.084724,32.630472 L -85.08492804514509,32.6303328637042 L -85.088534,32.627874 L -85.089441,32.625429 L -85.0892541511326,32.6250298228741 L -85.088319,32.623032 L -85.087294,32.62047 L -85.08536,32.618536 L -85.08361599999999,32.6178 L -85.08224,32.616264 L -85.08076799999999,32.610152 L -85.08061785126539,32.608095275146006 L -85.080288,32.603577 L -85.076399,32.594665 L -85.06753499999999,32.579546 L -85.05967199999999,32.576741999999996 L -85.05692599999999,32.571242 L -85.044364,32.559584 L -85.040555,32.555644 L -85.03498062670269,32.5520851421441 L -85.034841,32.551995999999995 L -85.032071,32.545429 L -85.022509,32.542923 L -85.02204499999999,32.540044 L -85.020237,32.534748 L -85.016273434347,32.5312007752769 L -85.01619099999999,32.531127 L -85.0157046592394,32.5301112096223 L -85.01378799999999,32.526108 L -85.00839599999999,32.524876 L -85.00710000000001,32.523868 L -85.00288556767669,32.5169597521885 L -85.001532,32.514741 L -85.00122436506079,32.5128589980189 L -85.0007888680774,32.5101947811796 L -85.00028410814939,32.5071068380909 L -85.00018248320569,32.506485132552896 L -84.999832,32.504341 L -84.99750499999999,32.500727999999995 L -84.9976909182481,32.4992473983285 L -84.99833199999999,32.494142 L -84.996732,32.492342 L -84.9957165356694,32.4889767052696 L -84.99483099999999,32.486042 L -84.9951515506849,32.4773871315068 L -84.99523099999999,32.475242 L -84.9966933747961,32.4726097253671 L -84.99823099999999,32.469842 L -84.99811268565459,32.4650508605839 L -84.9980355773463,32.4619283596395 L -84.998031,32.461743 L -84.995331,32.453243 L -84.9952442623814,32.4531225310853 L -84.9951957038802,32.4530550887225 L -84.99353099999999,32.450742999999996 L -84.983831,32.445643 L -84.971831,32.442842999999996 L -84.96703099999999,32.435342999999996 L -84.96302999999999,32.424244 L -84.963222,32.423428 L -84.9633113901639,32.4230480918033 L -84.96343,32.422544 L -84.97183,32.416244 L -84.97943099999999,32.412244 L -84.98030471428419,32.4073114714284 L -84.981098,32.402833 L -84.97989799999999,32.400096999999995 L -84.973882,32.395216999999995 L -84.968762,32.393009 L -84.96873,32.391456999999996 L -84.971773,32.390599 L -84.976394,32.391025 L -84.97836199999999,32.390496999999996 L -84.983386,32.391760999999995 L -84.985978,32.389665 L -84.9869699000284,32.38751485646009 L -84.988554,32.384081 L -84.986282,32.380336 L -84.979354,32.380705 L -84.973818,32.379872999999996 L -84.97196199999999,32.377697999999995 L -84.97433,32.374578 L -84.977274,32.373841999999996 L -84.980282,32.374386 L -84.98409,32.373522 L -84.98629799999999,32.369665999999995 L -84.985171,32.367062 L -84.98324199999999,32.365122 L -84.98346599999999,32.363186 L -84.986778,32.359058 L -84.99992999999999,32.348817996405295 L -85.004582,32.345196 L -85.008096,32.336677 L -85.007103,32.328362 L -85.001874,32.322015 L -84.989514,32.319316 L -84.9557212929735,32.3069460371336 L -84.93867999999999,32.300708 L -84.9338,32.29826 L -84.922872,32.285333 L -84.911127,32.276949 L -84.904023,32.273748999999995 L -84.893959,32.265845999999996 L -84.891841,32.263397999999995 L -84.88907999999999,32.260911 L -84.8891466552477,32.2597204238197 L -84.889174,32.259232 L -84.892296,32.258272 L -84.898139,32.258607999999995 L -84.901454,32.257424 L -84.90250999999999,32.255233 L -84.90408699999999,32.250838 L -84.90722699999999,32.24905 L -84.91009799999999,32.248332999999995 L -84.917327,32.249049 L -84.92301499999999,32.250822 L -84.924427,32.249797 L -84.924127,32.245649 L -84.92302699999999,32.244549 L -84.920327,32.24405 L -84.917227,32.24595 L -84.913927,32.245149999999995 L -84.91272699999999,32.24335 L -84.916327,32.236551 L -84.920627,32.233951 L -84.92262699999999,32.231750999999996 L -84.92303115800419,32.2308528711019 L -84.92352699999999,32.229751 L -84.922927,32.224751 L -84.925427,32.221551 L -84.92822699999999,32.219851 L -84.930127,32.219051 L -84.93932799999999,32.217951 L -84.949451,32.218511 L -84.956328,32.217850999999996 L -84.9594036613197,32.2179716141694 L -84.961428,32.218050999999996 L -84.967428,32.219350999999996 L -84.972128,32.218250999999995 L -84.978729,32.21255 L -84.980229,32.210051 L -84.980229,32.207751 L -84.977128,32.205751 L -84.974628,32.203651 L -84.97232799999999,32.20355 L -84.969428,32.204451 L -84.966928,32.204451 L -84.963228,32.20225 L -84.962228,32.200051 L -84.961728,32.19865 L -84.96462799999999,32.195152 L -84.96682799999999,32.193951999999996 L -84.973728,32.191552 L -84.99592899999999,32.184852 L -85.00853099999999,32.181903 L -85.01126699999999,32.180493 L -85.013065,32.179111999999996 L -85.014648,32.176882 L -85.026583,32.166104 L -85.03033599999999,32.161727 L -85.03398899999999,32.156348 L -85.045593,32.143758 L -85.047865,32.142033 L -85.05874899999999,32.136018 L -85.061144,32.134065 L -85.06206,32.132486 L -85.06154,32.129673 L -85.05918,32.125153 L -85.05504499999999,32.113671 L -85.053777,32.107684 L -85.04955,32.095362 L -85.047063,32.090433 L -85.04551099999999,32.086867 L -85.047077,32.084347 L -85.051161,32.082527 L -85.053232,32.080604 L -85.055813,32.074439 L -85.05549099999999,32.072657 L -85.054084,32.070209999999996 L -85.05417899999999,32.067985 L -85.056029,32.063055 L -85.05682999999999,32.059754999999996 L -85.05642999999999,32.058054999999996 L -85.05663,32.054155 L -85.05883,32.046656 L -85.05803,32.043756 L -85.05533299999999,32.04058 L -85.054839,32.038813999999995 L -85.054627,32.036694 L -85.05547399999999,32.034220999999995 L -85.05646399999999,32.031819 L -85.056253,32.028335999999996 L -85.055217,32.027212999999996 L -85.05444360671179,32.026652024344 L -85.052814,32.02547 L -85.050601,32.023906 L -85.04930999999999,32.022694 L -85.05014,32.021091999999996 L -85.053669,32.020662 L -85.054768,32.017407 L -85.053815,32.013501999999995 L -85.055075,32.010714 L -85.063441,32.00414 L -85.064544,32.002489 L -85.06803,31.993357 L -85.06809818181819,31.991857 L -85.06833,31.986756999999997 L -85.07092999999999,31.981658 L -85.06993,31.978358 L -85.066829,31.974757999999998 L -85.065929,31.972458 L -85.065929,31.971158 L -85.067829,31.967357999999997 L -85.07023,31.965657999999998 L -85.07392999999999,31.964157999999998 L -85.08323,31.962457999999998 L -85.08573,31.960758 L -85.08673,31.959158 L -85.08682999999999,31.957758 L -85.08243,31.945358 L -85.07893,31.941459 L -85.07893,31.940158999999998 L -85.08473,31.937358999999997 L -85.08643,31.935958999999997 L -85.09183,31.928859 L -85.09823,31.926258999999998 L -85.09953,31.925258999999997 L -85.10023,31.924059 L -85.10132999999999,31.918658999999998 L -85.10243,31.917358999999998 L -85.10913,31.914358999999997 L -85.113131,31.911859 L -85.112731,31.909858999999997 L -85.10983,31.90806 L -85.109775,31.904142999999998 L -85.111558,31.901253999999998 L -85.11063,31.89686 L -85.11202999999999,31.894759999999998 L -85.114031,31.893359999999998 L -85.117031,31.89286 L -85.12113099999999,31.893259999999998 L -85.132931,31.89306 L -85.134131,31.892159999999997 L -85.134331,31.89146 L -85.1343160680101,31.8914127153652 L -85.133731,31.88956 L -85.131631,31.88676 L -85.1297857547641,31.8833101936895 L -85.129331,31.88246 L -85.12843099999999,31.879659999999998 L -85.12843099999999,31.87756 L -85.1284798,31.8774136 L -85.12883099999999,31.87636 L -85.133731,31.870061 L -85.135831,31.862461 L -85.13743099999999,31.860660999999997 L -85.140131,31.858760999999998 L -85.140731,31.857460999999997 L -85.140231,31.855261 L -85.138031,31.851262 L -85.137731,31.845861 L -85.138331,31.844161 L -85.141331,31.841061 L -85.141831,31.839260999999997 L -85.139231,31.834160999999998 L -85.135931,31.830461999999997 L -85.133083,31.828666 L -85.13262,31.826832999999997 L -85.134315,31.824607999999998 L -85.133647,31.822305999999998 L -85.131761981986,31.8184448059333 L -85.131331,31.817562 L -85.131531,31.813062 L -85.132931,31.808062 L -85.1328473916616,31.800370032866198 L -85.132831,31.798862 L -85.13223099999999,31.795161999999998 L -85.132931,31.792362999999998 L -85.137131,31.788362999999997 L -85.14180656,31.78212892 L -85.141931,31.781962999999998 L -85.1409509602038,31.7804602723125 L -85.14043099999999,31.779663 L -85.130731,31.772263 L -85.12633,31.768863 L -85.12523,31.767063 L -85.12563,31.764463 L -85.1269541364676,31.762330261451698 L -85.12923099999999,31.758663 L -85.12662999999999,31.752463 L -85.12393,31.747563999999997 L -85.11892999999999,31.732664 L -85.11913,31.730964 L -85.12223,31.722763999999998 L -85.12572999999999,31.718864 L -85.12653,31.716763999999998 L -85.12683,31.708965 L -85.1261360634263,31.701491836898697 L -85.12553,31.694965 L -85.12232999999999,31.691264999999998 L -85.11393,31.686864999999997 L -85.11263,31.685164999999998 L -85.10943,31.677464999999998 L -85.092429,31.659965999999997 L -85.087829,31.657866 L -85.08546,31.657027999999997 L -85.08316099999999,31.656402999999997 L -85.079925,31.655286999999998 L -85.078632,31.653309 L -85.078513,31.651684999999997 L -85.08030099999999,31.650772 L -85.082267,31.650365999999998 L -85.0830537084557,31.648669947530898 L -85.085173,31.644101 L -85.085365,31.642186 L -85.085173,31.640749 L -85.084503,31.639025999999998 L -85.08282899999999,31.637967 L -85.080029,31.636867 L -85.07382899999999,31.629566999999998 L -85.067628,31.625266999999997 L -85.065236,31.624350999999997 L -85.059534,31.621717 L -85.05816899999999,31.620227 L -85.057473,31.618623999999997 L -85.0575059086538,31.617563000625005 L -85.057527,31.616882999999998 L -85.05833,31.614545999999997 L -85.060418,31.611271 L -85.060552,31.608224 L -85.059696,31.607262 L -85.05731399999999,31.606713 L -85.055976,31.605178 L -85.05606529654439,31.6043006458404 L -85.0560661470677,31.604292289300002 L -85.056405,31.600963 L -85.058109,31.593342999999997 L -85.05833873978679,31.5866430659763 L -85.05843999999999,31.583689999999997 L -85.05541699999999,31.578695999999997 L -85.055284,31.577091999999997 L -85.05771899999999,31.573062 L -85.05796,31.570839999999997 L -85.052931,31.56289 L -85.051873,31.557871 L -85.050838,31.555550999999998 L -85.045698,31.548707 L -85.042547,31.545952999999997 L -85.04188099999999,31.544684 L -85.041305,31.540986999999998 L -85.04181299999999,31.537754 L -85.04298299999999,31.535200000000003 L -85.047196,31.528671 L -85.04826299999999,31.526011999999998 L -85.04764899999999,31.523750999999997 L -85.044556,31.520908 L -85.044986,31.51823 L -85.045495582904,31.517129269855296 L -85.045642,31.516813 L -85.0479257132954,31.5142636818047 L -85.048445,31.513683999999998 L -85.052951,31.506518 L -85.058923,31.495988999999998 L -85.062105,31.488017 L -85.065687,31.484122 L -85.071621,31.468383999999997 L -85.069268,31.453471999999998 L -85.06670299999999,31.447286 L -85.065955,31.442978999999998 L -85.06555399999999,31.439542999999997 L -85.06587499999999,31.430585999999998 L -85.06697,31.428593999999997 L -85.06908299999999,31.427619 L -85.072689,31.428278 L -85.073978,31.427179 L -85.07552299999999,31.424761 L -85.07582699999999,31.421505999999997 L -85.076746,31.415971 L -85.0790388749968,31.412807101200798 L -85.079818,31.411731999999997 L -85.079978,31.410472 L -85.077387,31.402843999999998 L -85.077626,31.39888 L -85.07864099999999,31.396359999999998 L -85.08040299999999,31.393932 L -85.082431,31.384539999999998 L -85.08691,31.374474 L -85.0871444124615,31.3740326428487 L -85.09216699999999,31.364576 L -85.09248699999999,31.362880999999998 L -85.092619,31.357474 L -85.091791,31.355207 L -85.09098999999999,31.354428 L -85.087413,31.354428 L -85.08591799999999,31.353146 L -85.085864,31.350189999999998 L -85.08594582084339,31.349516257559003 L -85.087063,31.340317 L -85.08780999999999,31.337981 L -85.089411,31.336032999999997 L -85.088983,31.334291999999998 L -85.084152,31.328312999999998 L -85.083776,31.318209999999997 L -85.084469,31.316194 L -85.08740399999999,31.311223 L -85.087651,31.308677 L -85.087695,31.304053 L -85.08977399999999,31.295026 L -85.09316,31.289687999999998 L -85.09910699999999,31.284164999999998 L -85.099817894967,31.2840106617961 L -85.110309,31.281733 L -85.11276199999999,31.280037 L -85.114601,31.277333 L -85.114548,31.276301999999998 L -85.112546,31.274378 L -85.111905,31.272477 L -85.111983,31.267986999999998 L -85.113261,31.264343 L -85.112352,31.25958 L -85.111711,31.258021999999997 L -85.109149,31.254609 L -85.10618199999999,31.248077 L -85.10426,31.241868999999998 L -85.10247199999999,31.237859999999998 L -85.100765,31.234813 L -85.098844,31.232523999999998 L -85.096763,31.225651 L -85.09870699999999,31.219510999999997 L -85.098704,31.211285999999998 L -85.09976999999999,31.209750999999997 L -85.105631,31.204594999999998 L -85.106963,31.202693 L -85.108133,31.195636999999998 L -85.10774462553701,31.189854815531003 L -85.10751599999999,31.186450999999998 L -85.10650299999999,31.185305 L -85.104424,31.18565 L -85.102052,31.184734 L -85.098507,31.180152999999997 L -85.09842599999999,31.17777 L -85.100447,31.166726999999998 L -85.100207,31.16549 L -85.092106,31.160293 L -85.08358199999999,31.15963 L -85.08231407095789,31.1592481517968 L -85.077801,31.157888999999997 L -85.076628,31.156927 L -85.0748290713223,31.1546258111052 L -85.07018099999999,31.14868 L -85.064028,31.142495 L -85.06242999999999,31.139518 L -85.061072,31.134224999999997 L -85.0559012903933,31.123384702314798 L -85.054677,31.120818 L -85.05286699999999,31.119488999999998 L -85.050178,31.118916 L -85.0470614668667,31.116551433267798 L -85.04051299999999,31.111583 L -85.03707899999999,31.109751 L -85.03561499999999,31.108192 L -85.032832,31.100569999999998 L -85.029736,31.096162999999997 L -85.026068,31.08418 L -85.02833299999999,31.076850999999998 L -85.02847319494529,31.0755261577669 L -85.028573,31.074582999999997 L -85.018148,31.059253 L -85.012642,31.055401999999997 L -85.011392,31.053545999999997 L -85.008816,31.045572999999997 L -85.008552,31.042824 L -85.00940899999999,31.032377999999998 L -85.005051,31.024701 L -85.004549,31.01918 L -85.00005999999999,31.014982999999997 L -84.999428,31.013842999999998 L -84.99962599999999,31.009079 L -85.00136599999999,31.005043999999998 L -85.002499,31.000681999999998 L -85.024108,31.000681 L -85.027512,31.00067 L -85.030107,31.000653 L -85.031155,31.000646999999997 L -85.052088,31.000584999999997 L -85.054802,31.000584999999997 L -85.05753399999999,31.000584999999997 L -85.1172047745361,31.0006593342114 L -85.14583499999999,31.000695 L -85.152085,31.000888 L -85.15221799999999,31.000833999999998 L -85.15445199999999,31.000835 L -85.1859660283981,31.0008523154002 L -85.2034099786264,31.000861899988198 L -85.21315200122129,31.0008672527479 L -85.24009200106869,31.000882054945595 L -85.24363199999999,31.000884 L -85.3129421786429,30.999807220755898 L -85.328920402131,30.999558988537398 L -85.32905753075259,30.999556858154 L -85.3817482781607,30.9987382727128 L -85.40754376873359,30.9983375227886 L -85.4882980060804,30.997082952560298 L -85.4926481766373,30.9970153697974 L -85.4979920209678,30.996932349658497 L -85.498272,30.996927999999997 L -85.5794903431535,30.996399355499 L -85.5832890482388,30.9963746299939 L -85.5833993142329,30.996373912280298 L -85.63143714711678,30.996061237394198 L -85.64625505386739,30.995964788678098 L -85.6522020289331,30.995926080234398 L -85.69220760329159,30.9956656867558 L -85.7416280289593,30.9953440126702 L -85.7456723399541,30.9953176885335 L -85.749619,30.995292 L -85.749932,30.994836999999997 L -85.772671867107,30.9946200694171 L -85.8311224511907,30.9940624707639 L -85.8311249866156,30.994062446576798 L -85.893543,30.993467 L -85.9358369815805,30.9932267573073 L -85.9358412897118,30.9932267328358 L -85.9656625094903,30.9930573392277 L -85.9972899798363,30.9928776855665 L -85.998643,30.99287 L -86.035039,30.993319999999997 L -86.05246199999999,30.993247 L -86.056213,30.993133 L -86.116918,30.992917 L -86.1327395143734,30.993180301829398 L -86.162886,30.993682 L -86.168979,30.993706 L -86.175204,30.993797999999998 L -86.18023199999999,30.994004999999998 L -86.1872472578628,30.994049069482095 L -86.23833499999999,30.99437 L -86.25644799999999,30.993852999999998 L -86.27119341992089,30.993828273694398 L -86.2888491620992,30.993798667126498 L -86.2890657988644,30.9937983038526 L -86.289247,30.993797999999998 L -86.29645664463969,30.993906504001 L -86.30459599999999,30.994028999999998 L -86.30912056236139,30.99406095874 L -86.32254592718259,30.9941557873021 L -86.33404245917829,30.994236991769498 L -86.3485063167533,30.994339155609 L -86.350230280186,30.994351332631798 L -86.364907,30.994455 L -86.36927,30.994477 L -86.374545,30.994474 L -86.38864600043149,30.9941810207682 L -86.38864699999999,30.994180999999998 L -86.391937,30.994172 L -86.404912,30.994048999999997 L -86.45470399999999,30.993790999999998 L -86.458319,30.993997999999998 L -86.49995,30.99334 L -86.512834,30.9937 L -86.519938,30.993244999999998 L -86.5424879807519,30.9942704232822 L -86.563436,30.995223 L -86.56758599999999,30.995109 L -86.6277543822176,30.994752680727398 L -86.664681,30.994533999999998 L -86.678383,30.994536999999998 L -86.6883130015449,30.994596128354097 L -86.706261,30.994702999999998 L -86.72537899999999,30.996872 L -86.727293,30.996882 L -86.728392,30.996738999999998 L -86.74524,30.99629 L -86.78569246056401,30.996974185379496 L -86.785918,30.996978 L -86.830497,30.997401 L -86.83193399999999,30.997377999999998 L -86.87298899999999,30.997631 L -86.88813499999999,30.997577 L -86.9062578463152,30.997635011379497 L -86.92781,30.997704 L -86.998477,30.998661 L -87.004359,30.999316 L -87.02417224011819,30.999262869718297 L -87.027107,30.999254999999998 L -87.036366,30.999347999999998 L -87.03998899999999,30.999594 L -87.053737,30.999131 L -87.06406299999999,30.999191 L -87.06863299999999,30.999143 L -87.0709929924211,30.9991563407215 L -87.0761079929049,30.999185255135096 L -87.09691170975469,30.9993028557638 L -87.1150729857602,30.9994055190278 L -87.118873,30.999426999999997 L -87.124969,30.998801999999998 L -87.140755,30.999532 L -87.1505897595909,30.9993173890697 L -87.16261399999999,30.999055 L -87.1630833253631,30.999040753755896 L -87.1640837991927,30.999010384644297 L -87.17480027248219,30.998685089005598 L -87.224746,30.997169 L -87.2295406412137,30.9968814475167 L -87.237685,30.996392999999998 L -87.2383167408441,30.9964621097818 L -87.2399697516361,30.996642942185296 L -87.2492407224799,30.997657147264 L -87.25497999999999,30.998285 L -87.255592,30.998216 L -87.257002,30.998193999999998 L -87.25796,30.998262999999998 L -87.259689,30.998172 L -87.26053999999999,30.998195 L -87.265564,30.998267 L -87.26648428542569,30.998270075372197 L -87.2762740065311,30.998302790262198 L -87.288905,30.998344999999997 L -87.290995,30.998351999999997 L -87.2977209676648,30.998404168875197 L -87.30156699999999,30.998434 L -87.30403,30.998191 L -87.31218299999999,30.998434999999997 L -87.333973,30.998272 L -87.34787725597279,30.9982540449584 L -87.355656,30.998244 L -87.3638727343641,30.998218430270096 L -87.36401099999999,30.998217999999998 L -87.367842,30.998292 L -87.42577399999999,30.998089999999998 L -87.43229199999999,30.998205 L -87.449811,30.998272 L -87.455705,30.998317999999998 L -87.458658,30.998386 L -87.461638,30.998202 L -87.461783,30.998200999999998 L -87.466827,30.998178 L -87.46687899999999,30.998178 L -87.4778008656509,30.9982103214084 L -87.478706,30.998213 L -87.479703,30.998196999999998 L -87.480243,30.998202 L -87.4837736214982,30.9981466275723 L -87.4884222032622,30.9980737216384 L -87.49837568031559,30.997917616491197 L -87.514910818753,30.997658287996696 L -87.51952,30.997586 L -87.548543,30.997926999999997 L -87.571281,30.99787 L -87.598928,30.997456999999997 L -87.598928356737,30.9974544633663 L -87.599172,30.995721999999997 L -87.596722,30.98761 L -87.593395,30.982958999999997 L -87.592676,30.98014 L -87.59416399999999,30.977572 L -87.5941266776319,30.976700910013 L -87.594111,30.976335 L -87.593046,30.972966 L -87.59091699999999,30.969413999999997 L -87.589187,30.964464 L -87.592055,30.951492 L -87.59689,30.941131 L -87.598299,30.938792999999997 L -87.600691,30.937074 L -87.602684,30.934276999999998 L -87.607811,30.92449 L -87.608262,30.9219 L -87.6102,30.916628 L -87.611847,30.914541 L -87.614209,30.908535999999998 L -87.61495099999999,30.904225999999998 L -87.616013,30.901453 L -87.62071499999999,30.89893 L -87.622203,30.897508 L -87.622519,30.89368 L -87.620922,30.889923 L -87.62078799999999,30.887494 L -87.622062,30.885407999999998 L -87.62440000000001,30.884695999999998 L -87.629454,30.880115 L -87.629987,30.877685999999997 L -87.6348442887866,30.866109347267003 L -87.63493799999999,30.865886 L -87.62824499999999,30.860131 L -87.626228,30.857127 L -87.62537999999999,30.854354999999998 L -87.626497,30.851879999999998 L -87.62732299999999,30.847960999999998 L -87.626075,30.846494 L -87.62413699999999,30.845713 L -87.61728099999999,30.840353 L -87.61536699999999,30.837031 L -87.615923,30.834692999999998 L -87.61098199999999,30.832632 L -87.60577599999999,30.831304 L -87.60356999999999,30.828623999999998 L -87.60163,30.825139999999998 L -87.60048599999999,30.820626999999998 L -87.594297,30.816983999999998 L -87.58787,30.815037 L -87.581869,30.812403 L -87.576849,30.808162999999997 L -87.572043,30.800531999999997 L -87.56814,30.799087999999998 L -87.56420899999999,30.796246 L -87.560068,30.792258 L -87.559484,30.790447 L -87.55483799999999,30.787125 L -87.552954,30.786941 L -87.55205099999999,30.786254 L -87.54504399999999,30.778665999999998 L -87.54536399999999,30.774105 L -87.54616,30.772019999999998 L -87.54226,30.767504 L -87.53708499999999,30.762529999999998 L -87.53652799999999,30.761383 L -87.535416,30.754759999999997 L -87.535365,30.749775 L -87.532607,30.743489 L -87.523613,30.738305999999998 L -87.511729,30.733535 L -87.50515299999999,30.726312999999998 L -87.50231699999999,30.72159 L -87.498482281574,30.720418502305098 L -87.49751499999999,30.720122999999997 L -87.49677199999999,30.720353 L -87.48703599999999,30.718500000000002 L -87.481225,30.716507999999997 L -87.47981899999999,30.714949999999998 L -87.479579,30.712864999999997 L -87.474429,30.706585999999998 L -87.47039699999999,30.705281 L -87.467717,30.701683 L -87.466338,30.700834999999998 L -87.456948,30.69756 L -87.451404,30.699806 L -87.449362,30.698912999999997 L -87.44358,30.694603999999998 L -87.44228,30.692679 L -87.4401022024296,30.690736114900698 L -87.439814,30.690479 L -87.436021,30.688668 L -87.43037199999999,30.688644999999998 L -87.424883,30.683373999999997 L -87.419527,30.679980999999998 L -87.412739,30.678054999999997 L -87.406958,30.675165 L -87.406561,30.674018999999998 L -87.407118,30.671795999999997 L -87.405874,30.666615999999998 L -87.400707,30.657148 L -87.400177,30.657217 L -87.397262,30.654351 L -87.396177,30.650454 L -87.397185,30.648117 L -87.395941,30.643967999999997 L -87.393588,30.630879999999998 L -87.39361599198689,30.630300101833097 L -87.39375724972189,30.627373725012397 L -87.39377499999999,30.627005999999998 L -87.39447899999999,30.625192 L -87.395659,30.623372 L -87.39643,30.617734 L -87.39643,30.616909 L -87.39505299999999,30.6159 L -87.395026,30.615281 L -87.397308,30.608728 L -87.39927,30.605611 L -87.401178,30.604397 L -87.404597,30.603389 L -87.40655799999999,30.599928 L -87.40873599999999,30.583700999999998 L -87.4124710380697,30.573861767419004 L -87.4125653736963,30.5736132585274 L -87.412712,30.573227 L -87.414513,30.573456 L -87.41626099999999,30.572447999999998 L -87.418354,30.570043 L -87.41851299999999,30.569561 L -87.416951,30.568002999999997 L -87.41666,30.566305999999997 L -87.41864699999999,30.561836999999997 L -87.420925,30.560668 L -87.42240799999999,30.560439 L -87.422805,30.561379 L -87.423362,30.561425 L -87.426037,30.560073 L -87.427891,30.554159 L -87.43144099999999,30.550262999999998 L -87.434963,30.549598999999997 L -87.43544,30.549139999999998 L -87.446586,30.527068 L -87.4464721004875,30.522224047146697 L -87.446427,30.520305999999998 L -87.44494399999999,30.514943 L -87.445182,30.51398 L -87.446499,30.513569 L -87.447305,30.512628999999997 L -87.44778199999999,30.511913 L -87.44770199999999,30.510458 L -87.44471399999999,30.507493999999998 L -87.44322,30.506781999999998 L -87.43969,30.506649 L -87.43826899999999,30.505357 L -87.431178,30.495794999999998 L -87.430578,30.491096 L -87.43297799999999,30.484896 L -87.4347654303216,30.481871117917297 L -87.43557799999999,30.480496 L -87.43467799999999,30.479195999999998 L -87.431578,30.477695999999998 L -87.430578,30.476595999999997 L -87.42957799999999,30.470595999999997 L -87.425078,30.465595999999998 L -87.414677,30.457296 L -87.407877,30.456395999999998 L -87.40467699999999,30.452897 L -87.39987699999999,30.450996999999997 L -87.39687699999999,30.450597 L -87.391976,30.451597 L -87.381176,30.450097 L -87.3782686358461,30.449194175159 L -87.370768,30.446865 L -87.36868,30.444630999999998 L -87.366939,30.440479999999997 L -87.366591,30.436647999999998 L -87.3676121661119,30.434579500394598 L -87.368191,30.433407 L -87.371169,30.43049 L -87.382076,30.422897 L -87.3843547694845,30.421625128659798 L -87.386376,30.420496999999997 L -87.395676,30.417596999999997 L -87.398776,30.415097999999997 L -87.401777,30.411398 L -87.403477,30.410197999999998 L -87.40477335019179,30.4098619092095 L -87.40887699999999,30.408797999999997 L -87.41317699999999,30.408997999999997 L -87.41917699999999,30.410197999999998 L -87.422677,30.410097999999998 L -87.426177,30.409198 L -87.42957799999999,30.406498 L -87.430680166419,30.404844750371495 L -87.4306855384615,30.4048366923077 L -87.431778,30.403198 L -87.43427799999999,30.397498 L -87.43727799999999,30.395898 L -87.43839300646829,30.394455050452798 L -87.44067799999999,30.391498 L -87.441178,30.388597999999998 L -87.440878,30.386698 L -87.438678,30.382098 L -87.438678,30.380798 L -87.441823,30.376303999999998 L -87.449078,30.370399 L -87.45137799999999,30.367199 L -87.451878,30.364998999999997 L -87.451978,30.360298999999998 L -87.45096199999999,30.346262 L -87.45227799999999,30.344099 L -87.45997799999999,30.3363 L -87.46297799999999,30.334000000000003 L -87.464878,30.3333 L -87.4672695874252,30.3328753652829 L -87.475579,30.331400000000002 L -87.491879,30.3309 L -87.4920423204518,30.330860828090596 L -87.49998,30.328957 L -87.502572,30.327405 L -87.504701,30.324039 L -87.505943,30.319395999999998 L -87.50584115791509,30.315087392532497 L -87.50578,30.3125 L -87.50468,30.308901 L -87.50278,30.307301 L -87.5023015499663,30.307161722050697 L -87.494879,30.305000999999997 L -87.483679,30.304800999999998 L -87.48187899999999,30.306001 L -87.47587899999999,30.3079 L -87.468678,30.308200000000003 L -87.465778,30.3076 L -87.46297799999999,30.3078 L -87.459578,30.308300000000003 L -87.455578,30.310200000000002 L -87.45007799999999,30.3111 L -87.452378,30.300200999999998 L -87.49998,30.287900999999998 L -87.50547999999999,30.287101 L -87.51838,30.283901 L -87.51836438056459,30.282934268519398 L -87.5183423750478,30.281572284209297 L -87.51832399999999,30.280434999999997 L -87.52418494333929,30.279145999999997 L -87.54392299999999,30.274804999999997 L -87.54883868535418,30.2736369328588 L -87.5527352179064,30.272711037218397 L -87.55866499999999,30.271302 L -87.565044,30.271745 L -87.574075,30.27088 L -87.581362,30.269257 L -87.5822073192866,30.2690382104254 L -87.6003191760141,30.2643504131726 L -87.63814067329609,30.2545612726267 L -87.6382462357425,30.2545339504502 L -87.656888,30.249709 L -87.67773885849209,30.247314818110098 L -87.68909795797418,30.246010519283498 L -87.6986740359595,30.244910954366496 L -87.7124431944754,30.2433299225845 L -87.7147045818605,30.2430702607233 L -87.7311904949698,30.241177279932096 L -87.73553,30.240679 L -87.73647244770801,30.240515031779697 L -87.80055999999999,30.229364999999998 L -87.8007598925694,30.2293535028283 L -87.8282340300667,30.227773279627797 L -87.8314807693541,30.2275865377238 L -87.83846199999999,30.227185 L -87.926119,30.230373 L -87.96225299999999,30.229522 L -87.99775314641211,30.2259769704097 L -87.9997941506046,30.2257731565952 L -87.999996,30.225752999999997 L -88.013607,30.223489999999998 L -88.02136399999999,30.223333999999998 L -88.027678,30.223644999999998 L -88.02857999999999,30.226763 L -88.023991,30.23039 L -88.01173399999999,30.232447999999998 L -87.966847,30.235618 L -87.948979,30.256563999999997 L -87.936041,30.261468999999998 L -87.918247,30.253307999999997 L -87.91376199999999,30.247836999999997 L -87.90046,30.241531 L -87.89534900108049,30.2399158145032 L -87.89320099999999,30.239237 L -87.8912013712822,30.2391436416669 L -87.87934299999999,30.23859 L -87.860085,30.240288999999997 L -87.8532405708344,30.2425525336452 L -87.851565512521,30.2431064952333 L -87.8229357244899,30.252574704618798 L -87.817743,30.254292 L -87.802087,30.253054 L -87.78775,30.254244 L -87.78609934606439,30.254930358407098 L -87.78036414359201,30.257315112926797 L -87.7716415610064,30.2609420499608 L -87.768003,30.262455 L -87.759304,30.273166 L -87.7573658456151,30.276520610070698 L -87.755674548876,30.279447952246098 L -87.755314,30.280071999999997 L -87.7553479180657,30.281943370503598 L -87.7553717037016,30.283255701753397 L -87.755466757673,30.2885001399316 L -87.755516,30.291217 L -87.772758,30.311701 L -87.796717,30.324198 L -87.809266,30.332701999999998 L -87.82988,30.353809 L -87.83174845645519,30.356861881426898 L -87.83453999999999,30.361423 L -87.837479,30.368143999999997 L -87.83774,30.370548 L -87.837353,30.371802 L -87.83710699999999,30.375086 L -87.8371931337561,30.3754978579601 L -87.837368,30.376334 L -87.839609,30.377226999999998 L -87.84386099999999,30.378169 L -87.849378,30.378069 L -87.85380599999999,30.378480999999997 L -87.865017,30.38345 L -87.90634299999999,30.40938 L -87.908908,30.41424 L -87.9100506889949,30.421213288005497 L -87.914136,30.446144 L -87.9176827375353,30.460885071476298 L -87.91954299999999,30.4686167577608 L -87.920031,30.470644999999998 L -87.9207225101149,30.472421188370397 L -87.921278,30.473848 L -87.925159,30.477434 L -87.93203,30.48165 L -87.93696899999999,30.483105 L -87.9337966437116,30.4867064484393 L -87.93371599999999,30.486798 L -87.926565,30.496724 L -87.9253133725115,30.501843554931696 L -87.92520326330269,30.5022939366533 L -87.925026,30.503019 L -87.92280623051039,30.507193051598396 L -87.921966,30.508771999999997 L -87.92171499999999,30.509245 L -87.92167978486249,30.5096320015892 L -87.92162573058339,30.510226038510698 L -87.921522,30.511366 L -87.920603,30.51289 L -87.91595,30.517516999999998 L -87.9121185925156,30.5241544414125 L -87.911141,30.525848 L -87.9087324677016,30.530715744303595 L -87.905343,30.537565999999998 L -87.9043909997987,30.5410555315748 L -87.9021722477051,30.549188308728397 L -87.90171099999999,30.550879 L -87.9021004422839,30.553273348856496 L -87.90238571396301,30.5550272414024 L -87.902430286195,30.555301278088002 L -87.9028006985075,30.5575786278607 L -87.9040338118332,30.565159991270598 L -87.904168,30.565984999999998 L -87.90432326122769,30.566282302522797 L -87.90789099999999,30.573114 L -87.911431,30.576261 L -87.91262671410621,30.5795282675946 L -87.91495599999999,30.585893 L -87.91252999999999,30.615795 L -87.91397599999999,30.620093999999998 L -87.917748,30.624142 L -87.921437,30.62689 L -87.921326,30.629379 L -87.920031182566,30.6300144240184 L -87.918571,30.630730999999997 L -87.91934599999999,30.636059999999997 L -87.91998732275209,30.636720497313597 L -87.92466399999999,30.641537 L -87.925375,30.648894 L -87.929841,30.650340999999997 L -87.93106999999999,30.652694 L -87.931705,30.654362 L -87.936717,30.657432 L -87.955989,30.658862 L -87.96049642615249,30.6617044070161 L -87.97089778153101,30.6682635572949 L -87.985559,30.677508999999997 L -87.9861324344368,30.6775719532526 L -87.98655628273201,30.6776184845159 L -87.990578,30.67806 L -87.99762839127489,30.679798405299596 L -88.00581217204201,30.6818162688907 L -88.00689799999999,30.682084 L -88.0089012750009,30.683434013857497 L -88.0089856789154,30.6834908939434 L -88.01141199999999,30.685126 L -88.020105,30.675666 L -88.021801,30.668625 L -88.02398099999999,30.660006 L -88.02603599999999,30.658559999999998 L -88.02919,30.659039999999997 L -88.034588,30.653715 L -88.03840699999999,30.647897999999998 L -88.044716,30.649917 L -88.05048716001139,30.6470892897996 L -88.051647,30.646521 L -88.058066,30.645538 L -88.061877,30.643586 L -88.059681,30.640197999999998 L -88.056013,30.637546999999998 L -88.054693,30.63376 L -88.05850699999999,30.629973 L -88.060293,30.626562 L -88.059598,30.619090999999997 L -88.05399799999999,30.612491 L -88.05890789391339,30.6084115629206 L -88.05905299999999,30.608290999999998 L -88.05910399999999,30.603960999999998 L -88.0605006951967,30.598990604259498 L -88.0612,30.596501999999997 L -88.064898,30.588292 L -88.07489799999999,30.578892 L -88.0769835026952,30.5773548056401 L -88.0805127035853,30.5747534818846 L -88.083106,30.572841999999998 L -88.085625,30.569914999999998 L -88.0860337003509,30.5688034558436 L -88.0862825757692,30.5681265882651 L -88.08726707218369,30.5654490490018 L -88.0872853457587,30.5653993502789 L -88.0874119213592,30.565055102057002 L -88.087655,30.564394 L -88.08712768170679,30.5641169261882 L -88.085493,30.563257999999998 L -88.0852889930346,30.562366337976897 L -88.08492848462149,30.560790648342 L -88.081617,30.546317 L -88.082792,30.528713 L -88.0897608275368,30.524200197176796 L -88.090734,30.52357 L -88.09149161135689,30.5225374369869 L -88.10087399999999,30.50975 L -88.103768,30.500902999999997 L -88.1036982616205,30.500199 L -88.102988,30.493029 L -88.1003016477382,30.4833842887921 L -88.09686699999999,30.471052999999998 L -88.100646,30.461219999999997 L -88.106437,30.452738 L -88.10637687120109,30.4520917995834 L -88.10407,30.427300000000002 L -88.10727399999999,30.377246 L -88.115432,30.356569999999998 L -88.124611,30.341623 L -88.128052,30.338509 L -88.13138699999999,30.334311999999997 L -88.134468,30.327865 L -88.13726899999999,30.320048 L -88.13851380878359,30.3123715204317 L -88.138576,30.311988 L -88.13905363855238,30.3123728402051 L -88.13997599999999,30.313115999999997 L -88.146112,30.323033 L -88.15577499999999,30.327184 L -88.175456,30.324157999999997 L -88.191542,30.317002 L -88.195664,30.321241999999998 L -88.195561,30.323819 L -88.193224,30.326037999999997 L -88.194042,30.330475 L -88.195776,30.33271 L -88.196613,30.337432999999997 L -88.19836099999999,30.338818999999997 L -88.196353,30.343586 L -88.188532,30.345053 L -88.188527,30.348124 L -88.18718,30.352615999999998 L -88.188023,30.356192999999998 L -88.18785799999999,30.358829 L -88.18710399999999,30.362699 L -88.18979625007731,30.3629526683256 L -88.193663,30.363317 L -88.196264,30.36348 L -88.200065,30.362378 L -88.204495,30.362102 L -88.209231,30.360017 L -88.214072,30.365558 L -88.216461,30.367599 L -88.224536,30.371306999999998 L -88.230886,30.371624999999998 L -88.234466,30.371715 L -88.238748,30.373504999999998 L -88.23995699999999,30.374899 L -88.241041757723,30.3752903664424 L -88.260695,30.382381 L -88.265637,30.381093 L -88.26753099999999,30.381085 L -88.27080000000001,30.381446999999998 L -88.27178581693059,30.381566031043004 L -88.2754141187784,30.3820041251149 L -88.282635,30.382876 L -88.287392,30.384252 L -88.288105,30.387328 L -88.292265,30.387328 L -88.2926965894487,30.3872290834439 L -88.29987,30.385585 L -88.30355399999999,30.379229 L -88.30331699999999,30.373179999999998 L -88.304743,30.371333999999997 L -88.311517,30.370206 L -88.314607,30.371437 L -88.31223,30.376562999999997 L -88.314844,30.384456999999998 L -88.31508199999999,30.391633 L -88.32114299999999,30.396348 L -88.326134,30.397782999999997 L -88.331957,30.401166 L -88.33801799999999,30.404753 L -88.343603,30.400447999999997 L -88.350021,30.405061 L -88.35727,30.405676 L -88.359528,30.400858 L -88.36402199999999,30.388005999999997 L -88.37467099999999,30.385607999999998 L -88.395023,30.369425 L -88.39958105438019,30.458217280556003 L -88.4003178648366,30.472570571522397 L -88.4004023553571,30.4742164724636 L -88.4004035205078,30.4742391699529 L -88.40196548524719,30.5046667163986 L -88.402283,30.510852 L -88.40354699999999,30.5331 L -88.403931,30.543359 L -88.4040045380663,30.5448844664734 L -88.40401299999999,30.54506 L -88.40418841075069,30.5489854409314 L -88.404676680269,30.559912212208598 L -88.4060104917735,30.589761 L -88.407484,30.622736 L -88.407462,30.631653 L -88.40806433481309,30.6369204575682 L -88.40807,30.636969999999998 L -88.409571,30.668730999999998 L -88.411339,30.706334 L -88.41154999999999,30.712956 L -88.41220899999999,30.730394999999998 L -88.41226999999999,30.731771 L -88.41245060127909,30.7355976173844 L -88.4148111125415,30.785612619929296 L -88.4181272847116,30.8558763641312 L -88.41825377027149,30.858556366425802 L -88.4184764744795,30.863275069407297 L -88.41863,30.866528 L -88.419562,30.875186 L -88.4220230007208,30.925067256218597 L -88.4256361537673,30.9983011286609 L -88.42572899999999,31.000183 L -88.42580699999999,31.001123 L -88.4258073823295,31.001129979055097 L -88.4304196826215,31.0853230573691 L -88.432007,31.114297999999998 L -88.43350769620758,31.1427912908627 L -88.438104,31.230059999999998 L -88.438211,31.231251999999998 L -88.43898,31.246896 L -88.43878,31.252654 L -88.4391512235642,31.258638167924197 L -88.43970863275949,31.267623670323697 L -88.4403875099455,31.2785672511538 L -88.44380823874289,31.333709805452198 L -88.44415645047549,31.3393230199194 L -88.445182,31.355855 L -88.44520899999999,31.355968999999998 L -88.448686,31.420887999999998 L -88.44865999999999,31.421277 L -88.449569225455,31.435828800772597 L -88.4495695963996,31.4358347375977 L -88.451045,31.459448 L -88.45157499999999,31.481533 L -88.453013,31.500163999999998 L -88.45329067959149,31.505382056955696 L -88.4535741066828,31.5107081188993 L -88.4536095981131,31.511375061341003 L -88.4563306535853,31.562508176143897 L -88.45777164245409,31.589586730776197 L -88.45947799999999,31.621651999999997 L -88.459722,31.624001999999997 L -88.4606299357415,31.6382646801284 L -88.4638529086848,31.688894069471097 L -88.46442499999999,31.697881 L -88.46442697928089,31.697951902948798 L -88.46510699999999,31.722312 L -88.46819722538001,31.7816613313433 L -88.46866899999999,31.790722 L -88.46905353307841,31.8002251898712 L -88.4698254016609,31.819300827588197 L -88.47110599999999,31.850949 L -88.47121399999999,31.851384999999997 L -88.472642,31.875152999999997 L -88.473227,31.893856 z\" /></g></g></svg>"
      ],
      "text/plain": [
       "<shapely.geometry.multipolygon.MultiPolygon at 0x10bda7668>"
      ]
     },
     "execution_count": 58,
     "metadata": {},
     "output_type": "execute_result"
    }
   ],
   "source": [
    "states.loc[0].geometry"
   ]
  },
  {
   "cell_type": "code",
   "execution_count": 62,
   "metadata": {},
   "outputs": [
    {
     "data": {
      "text/plain": [
       "147"
      ]
     },
     "execution_count": 62,
     "metadata": {},
     "output_type": "execute_result"
    }
   ],
   "source": [
    "state = states.loc[0]\n",
    "wafflehouses.within(state.geometry).sum()"
   ]
  },
  {
   "cell_type": "code",
   "execution_count": null,
   "metadata": {
    "collapsed": true
   },
   "outputs": [],
   "source": []
  },
  {
   "cell_type": "markdown",
   "metadata": {},
   "source": [
    "### Now, let's try it with every state"
   ]
  },
  {
   "cell_type": "code",
   "execution_count": 63,
   "metadata": {},
   "outputs": [
    {
     "data": {
      "text/html": [
       "<div>\n",
       "<style>\n",
       "    .dataframe thead tr:only-child th {\n",
       "        text-align: right;\n",
       "    }\n",
       "\n",
       "    .dataframe thead th {\n",
       "        text-align: left;\n",
       "    }\n",
       "\n",
       "    .dataframe tbody tr th {\n",
       "        vertical-align: top;\n",
       "    }\n",
       "</style>\n",
       "<table border=\"1\" class=\"dataframe\">\n",
       "  <thead>\n",
       "    <tr style=\"text-align: right;\">\n",
       "      <th></th>\n",
       "      <th>AFFGEOID</th>\n",
       "      <th>ALAND</th>\n",
       "      <th>AWATER</th>\n",
       "      <th>GEOID</th>\n",
       "      <th>LSAD</th>\n",
       "      <th>NAME</th>\n",
       "      <th>STATEFP</th>\n",
       "      <th>STATENS</th>\n",
       "      <th>STUSPS</th>\n",
       "      <th>geometry</th>\n",
       "      <th>wafflehouse_count</th>\n",
       "    </tr>\n",
       "  </thead>\n",
       "  <tbody>\n",
       "    <tr>\n",
       "      <th>0</th>\n",
       "      <td>0400000US01</td>\n",
       "      <td>131173688951</td>\n",
       "      <td>4593686489</td>\n",
       "      <td>01</td>\n",
       "      <td>00</td>\n",
       "      <td>Alabama</td>\n",
       "      <td>01</td>\n",
       "      <td>01779775</td>\n",
       "      <td>AL</td>\n",
       "      <td>(POLYGON ((-88.053375 30.506987, -88.051087999...</td>\n",
       "      <td>147</td>\n",
       "    </tr>\n",
       "    <tr>\n",
       "      <th>2</th>\n",
       "      <td>0400000US04</td>\n",
       "      <td>294198560125</td>\n",
       "      <td>1027346486</td>\n",
       "      <td>04</td>\n",
       "      <td>00</td>\n",
       "      <td>Arizona</td>\n",
       "      <td>04</td>\n",
       "      <td>01779777</td>\n",
       "      <td>AZ</td>\n",
       "      <td>POLYGON ((-114.816294 32.508038, -114.814321 3...</td>\n",
       "      <td>17</td>\n",
       "    </tr>\n",
       "    <tr>\n",
       "      <th>3</th>\n",
       "      <td>0400000US05</td>\n",
       "      <td>134771517596</td>\n",
       "      <td>2960191698</td>\n",
       "      <td>05</td>\n",
       "      <td>00</td>\n",
       "      <td>Arkansas</td>\n",
       "      <td>05</td>\n",
       "      <td>00068085</td>\n",
       "      <td>AR</td>\n",
       "      <td>POLYGON ((-94.6178329666013 36.4994141203285, ...</td>\n",
       "      <td>45</td>\n",
       "    </tr>\n",
       "    <tr>\n",
       "      <th>4</th>\n",
       "      <td>0400000US06</td>\n",
       "      <td>403501101370</td>\n",
       "      <td>20466718403</td>\n",
       "      <td>06</td>\n",
       "      <td>00</td>\n",
       "      <td>California</td>\n",
       "      <td>06</td>\n",
       "      <td>01779778</td>\n",
       "      <td>CA</td>\n",
       "      <td>(POLYGON ((-118.604415 33.478552, -118.598783 ...</td>\n",
       "      <td>0</td>\n",
       "    </tr>\n",
       "    <tr>\n",
       "      <th>5</th>\n",
       "      <td>0400000US08</td>\n",
       "      <td>268429343790</td>\n",
       "      <td>1175112870</td>\n",
       "      <td>08</td>\n",
       "      <td>00</td>\n",
       "      <td>Colorado</td>\n",
       "      <td>08</td>\n",
       "      <td>01779779</td>\n",
       "      <td>CO</td>\n",
       "      <td>POLYGON ((-109.060253 38.599328, -109.059541 3...</td>\n",
       "      <td>10</td>\n",
       "    </tr>\n",
       "  </tbody>\n",
       "</table>\n",
       "</div>"
      ],
      "text/plain": [
       "      AFFGEOID         ALAND       AWATER GEOID LSAD        NAME STATEFP  \\\n",
       "0  0400000US01  131173688951   4593686489    01   00     Alabama      01   \n",
       "2  0400000US04  294198560125   1027346486    04   00     Arizona      04   \n",
       "3  0400000US05  134771517596   2960191698    05   00    Arkansas      05   \n",
       "4  0400000US06  403501101370  20466718403    06   00  California      06   \n",
       "5  0400000US08  268429343790   1175112870    08   00    Colorado      08   \n",
       "\n",
       "    STATENS STUSPS                                           geometry  \\\n",
       "0  01779775     AL  (POLYGON ((-88.053375 30.506987, -88.051087999...   \n",
       "2  01779777     AZ  POLYGON ((-114.816294 32.508038, -114.814321 3...   \n",
       "3  00068085     AR  POLYGON ((-94.6178329666013 36.4994141203285, ...   \n",
       "4  01779778     CA  (POLYGON ((-118.604415 33.478552, -118.598783 ...   \n",
       "5  01779779     CO  POLYGON ((-109.060253 38.599328, -109.059541 3...   \n",
       "\n",
       "   wafflehouse_count  \n",
       "0                147  \n",
       "2                 17  \n",
       "3                 45  \n",
       "4                  0  \n",
       "5                 10  "
      ]
     },
     "execution_count": 63,
     "metadata": {},
     "output_type": "execute_result"
    }
   ],
   "source": [
    "# You can use .contains\n",
    "# counts the true ones\n",
    "states['wafflehouse_count'] = states.apply(lambda state: wafflehouses.within(state.geometry).sum(), axis=1)\n",
    "states.head()"
   ]
  },
  {
   "cell_type": "code",
   "execution_count": 65,
   "metadata": {},
   "outputs": [
    {
     "data": {
      "text/plain": [
       "<matplotlib.axes._subplots.AxesSubplot at 0x1269fe6a0>"
      ]
     },
     "execution_count": 65,
     "metadata": {},
     "output_type": "execute_result"
    },
    {
     "data": {
      "image/png": "[encoded data removed]",
      "text/plain": [
       "<matplotlib.figure.Figure at 0x122e032e8>"
      ]
     },
     "metadata": {},
     "output_type": "display_data"
    }
   ],
   "source": [
    "states.plot(column='wafflehouse_count', scheme='quantiles')"
   ]
  },
  {
   "cell_type": "code",
   "execution_count": null,
   "metadata": {
    "collapsed": true
   },
   "outputs": [],
   "source": [
    "states.plot(column='wafflehouse_count', scheme='equal_interval')"
   ]
  },
  {
   "cell_type": "code",
   "execution_count": null,
   "metadata": {
    "collapsed": true
   },
   "outputs": [],
   "source": [
    "states.plot(column='wafflehouse_count', scheme='fisher_jenks')"
   ]
  },
  {
   "cell_type": "markdown",
   "metadata": {},
   "source": [
    "## Spatial joins for SMALLER data sets (YES using dissolve)\n",
    "\n",
    "If our dataset isn't that big, though, we're fine to use `.dissolve`."
   ]
  },
  {
   "cell_type": "code",
   "execution_count": null,
   "metadata": {
    "collapsed": true
   },
   "outputs": [],
   "source": [
    "# Each one is a country\n",
    "world = gpd.read_file(gpd.datasets.get_path('naturalearth_lowres'))\n",
    "world.head(10)"
   ]
  },
  {
   "cell_type": "markdown",
   "metadata": {},
   "source": [
    "See how every country has a continent? We can `.dissolve` to group them together based on continent. It's like groupby, really!"
   ]
  },
  {
   "cell_type": "code",
   "execution_count": null,
   "metadata": {
    "collapsed": true
   },
   "outputs": [],
   "source": [
    "# But we'll dissolve them so it's only continents\n",
    "continents = world.dissolve(by='continent', aggfunc='sum')\n",
    "continents.head()"
   ]
  },
  {
   "cell_type": "markdown",
   "metadata": {
    "collapsed": true
   },
   "source": [
    "# Saving the results\n",
    "\n",
    "You want to look at this stuff in Leaflet, right? For that we'll need to save. Geopandas supports practically _every_ file format you could ever want."
   ]
  },
  {
   "cell_type": "code",
   "execution_count": 66,
   "metadata": {
    "collapsed": true
   },
   "outputs": [],
   "source": [
    "wafflehouses_with_state_data.to_file(\"wafflehouses.json\", driver='GeoJSON')"
   ]
  },
  {
   "cell_type": "code",
   "execution_count": null,
   "metadata": {
    "collapsed": true
   },
   "outputs": [],
   "source": []
  }
 ],
 "metadata": {
  "kernelspec": {
   "display_name": "Python 3",
   "language": "python",
   "name": "python3"
  },
  "language_info": {
   "codemirror_mode": {
    "name": "ipython",
    "version": 3
   },
   "file_extension": ".py",
   "mimetype": "text/x-python",
   "name": "python",
   "nbconvert_exporter": "python",
   "pygments_lexer": "ipython3",
   "version": "3.6.1"
  }
 },
 "nbformat": 4,
 "nbformat_minor": 2
}
