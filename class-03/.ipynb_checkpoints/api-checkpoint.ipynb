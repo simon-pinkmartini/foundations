{
 "cells": [
  {
   "cell_type": "code",
   "execution_count": 4,
   "metadata": {},
   "outputs": [],
   "source": [
    "import requests"
   ]
  },
  {
   "cell_type": "code",
   "execution_count": 5,
   "metadata": {
    "collapsed": true
   },
   "outputs": [],
   "source": [
    "from time import gmtime, strftime"
   ]
  },
  {
   "cell_type": "code",
   "execution_count": 6,
   "metadata": {
    "collapsed": true
   },
   "outputs": [],
   "source": [
    "url = \"https://api.darksky.net/forecast/d2742358d5756e9f3358aa5a4ddad873/37.8267,-122.4233\""
   ]
  },
  {
   "cell_type": "code",
   "execution_count": 7,
   "metadata": {
    "collapsed": true
   },
   "outputs": [],
   "source": [
    "response = requests.get(url)"
   ]
  },
  {
   "cell_type": "code",
   "execution_count": 8,
   "metadata": {
    "collapsed": true
   },
   "outputs": [],
   "source": [
    "data = response.json()"
   ]
  },
  {
   "cell_type": "code",
   "execution_count": 9,
   "metadata": {},
   "outputs": [
    {
     "name": "stdout",
     "output_type": "stream",
     "text": [
      "dict_keys(['latitude', 'longitude', 'timezone', 'offset', 'currently', 'minutely', 'hourly', 'daily', 'flags'])\n"
     ]
    }
   ],
   "source": [
    "print (data.keys())"
   ]
  },
  {
   "cell_type": "code",
   "execution_count": 10,
   "metadata": {},
   "outputs": [
    {
     "name": "stdout",
     "output_type": "stream",
     "text": [
      "{'summary': 'Partly cloudy starting tonight, continuing until tomorrow morning.', 'icon': 'partly-cloudy-night', 'data': [{'time': 1496628000, 'summary': 'Clear', 'icon': 'clear-day', 'precipIntensity': 0, 'precipProbability': 0, 'temperature': 57.96, 'apparentTemperature': 57.96, 'dewPoint': 46.83, 'humidity': 0.66, 'windSpeed': 7.83, 'windBearing': 279, 'visibility': 9.89, 'cloudCover': 0.13, 'pressure': 1013.01, 'ozone': 331.24}, {'time': 1496631600, 'summary': 'Clear', 'icon': 'clear-day', 'precipIntensity': 0, 'precipProbability': 0, 'temperature': 57.95, 'apparentTemperature': 57.95, 'dewPoint': 47.23, 'humidity': 0.67, 'windSpeed': 8.85, 'windBearing': 277, 'visibility': 9.91, 'cloudCover': 0.12, 'pressure': 1013.07, 'ozone': 330.71}, {'time': 1496635200, 'summary': 'Clear', 'icon': 'clear-night', 'precipIntensity': 0, 'precipProbability': 0, 'temperature': 57, 'apparentTemperature': 57, 'dewPoint': 47.48, 'humidity': 0.7, 'windSpeed': 8.87, 'windBearing': 279, 'visibility': 9.73, 'cloudCover': 0.12, 'pressure': 1013.2, 'ozone': 329.93}, {'time': 1496638800, 'summary': 'Clear', 'icon': 'clear-night', 'precipIntensity': 0, 'precipProbability': 0, 'temperature': 56.05, 'apparentTemperature': 56.05, 'dewPoint': 48.14, 'humidity': 0.75, 'windSpeed': 8.96, 'windBearing': 282, 'visibility': 9.7, 'cloudCover': 0.13, 'pressure': 1013.46, 'ozone': 329.07}, {'time': 1496642400, 'summary': 'Clear', 'icon': 'clear-night', 'precipIntensity': 0, 'precipProbability': 0, 'temperature': 55.31, 'apparentTemperature': 55.31, 'dewPoint': 48.53, 'humidity': 0.78, 'windSpeed': 8.94, 'windBearing': 285, 'visibility': 9.69, 'cloudCover': 0.22, 'pressure': 1013.69, 'ozone': 328.31}, {'time': 1496646000, 'summary': 'Partly Cloudy', 'icon': 'partly-cloudy-night', 'precipIntensity': 0, 'precipProbability': 0, 'temperature': 54.41, 'apparentTemperature': 54.41, 'dewPoint': 48.63, 'humidity': 0.81, 'windSpeed': 8.46, 'windBearing': 288, 'visibility': 9.71, 'cloudCover': 0.33, 'pressure': 1013.64, 'ozone': 327.65}, {'time': 1496649600, 'summary': 'Partly Cloudy', 'icon': 'partly-cloudy-night', 'precipIntensity': 0, 'precipProbability': 0, 'temperature': 53.74, 'apparentTemperature': 53.74, 'dewPoint': 48.46, 'humidity': 0.82, 'windSpeed': 7.73, 'windBearing': 299, 'visibility': 9.76, 'cloudCover': 0.52, 'pressure': 1013.45, 'ozone': 327.1}, {'time': 1496653200, 'summary': 'Partly Cloudy', 'icon': 'partly-cloudy-night', 'precipIntensity': 0, 'precipProbability': 0, 'temperature': 53.21, 'apparentTemperature': 53.21, 'dewPoint': 48.21, 'humidity': 0.83, 'windSpeed': 6.56, 'windBearing': 301, 'visibility': 9.77, 'cloudCover': 0.54, 'pressure': 1013.16, 'ozone': 326.79}, {'time': 1496656800, 'summary': 'Partly Cloudy', 'icon': 'partly-cloudy-night', 'precipIntensity': 0, 'precipProbability': 0, 'temperature': 52.94, 'apparentTemperature': 52.94, 'dewPoint': 48.18, 'humidity': 0.84, 'windSpeed': 5.63, 'windBearing': 300, 'visibility': 9.8, 'cloudCover': 0.56, 'pressure': 1012.95, 'ozone': 326.76}, {'time': 1496660400, 'summary': 'Partly Cloudy', 'icon': 'partly-cloudy-night', 'precipIntensity': 0, 'precipProbability': 0, 'temperature': 52.1, 'apparentTemperature': 52.1, 'dewPoint': 47.88, 'humidity': 0.85, 'windSpeed': 4.96, 'windBearing': 298, 'visibility': 9.8, 'cloudCover': 0.58, 'pressure': 1012.81, 'ozone': 326.98}, {'time': 1496664000, 'summary': 'Partly Cloudy', 'icon': 'partly-cloudy-night', 'precipIntensity': 0, 'precipProbability': 0, 'temperature': 52.44, 'apparentTemperature': 52.44, 'dewPoint': 48.1, 'humidity': 0.85, 'windSpeed': 4.57, 'windBearing': 297, 'visibility': 9.79, 'cloudCover': 0.59, 'pressure': 1012.78, 'ozone': 327.49}, {'time': 1496667600, 'summary': 'Mostly Cloudy', 'icon': 'partly-cloudy-day', 'precipIntensity': 0, 'precipProbability': 0, 'temperature': 52.8, 'apparentTemperature': 52.8, 'dewPoint': 48.41, 'humidity': 0.85, 'windSpeed': 4.43, 'windBearing': 298, 'visibility': 9.77, 'cloudCover': 0.67, 'pressure': 1012.95, 'ozone': 328.51}, {'time': 1496671200, 'summary': 'Mostly Cloudy', 'icon': 'partly-cloudy-day', 'precipIntensity': 0, 'precipProbability': 0, 'temperature': 54.01, 'apparentTemperature': 54.01, 'dewPoint': 49.26, 'humidity': 0.84, 'windSpeed': 4.32, 'windBearing': 295, 'visibility': 9.82, 'cloudCover': 0.7, 'pressure': 1013.26, 'ozone': 329.82}, {'time': 1496674800, 'summary': 'Mostly Cloudy', 'icon': 'partly-cloudy-day', 'precipIntensity': 0, 'precipProbability': 0, 'temperature': 56.87, 'apparentTemperature': 56.87, 'dewPoint': 50.33, 'humidity': 0.79, 'windSpeed': 4.44, 'windBearing': 285, 'visibility': 9.95, 'cloudCover': 0.7, 'pressure': 1013.51, 'ozone': 330.82}, {'time': 1496678400, 'summary': 'Mostly Cloudy', 'icon': 'partly-cloudy-day', 'precipIntensity': 0, 'precipProbability': 0, 'temperature': 59.02, 'apparentTemperature': 59.02, 'dewPoint': 50.9, 'humidity': 0.74, 'windSpeed': 5.08, 'windBearing': 282, 'visibility': 9.97, 'cloudCover': 0.67, 'pressure': 1013.67, 'ozone': 331.5}, {'time': 1496682000, 'summary': 'Partly Cloudy', 'icon': 'partly-cloudy-day', 'precipIntensity': 0, 'precipProbability': 0, 'temperature': 61.43, 'apparentTemperature': 61.43, 'dewPoint': 51.37, 'humidity': 0.7, 'windSpeed': 6.03, 'windBearing': 281, 'visibility': 9.98, 'cloudCover': 0.57, 'pressure': 1013.76, 'ozone': 331.88}, {'time': 1496685600, 'summary': 'Partly Cloudy', 'icon': 'partly-cloudy-day', 'precipIntensity': 0, 'precipProbability': 0, 'temperature': 64.02, 'apparentTemperature': 64.02, 'dewPoint': 51.99, 'humidity': 0.65, 'windSpeed': 7.05, 'windBearing': 280, 'visibility': 9.99, 'cloudCover': 0.27, 'pressure': 1013.75, 'ozone': 331.45}, {'time': 1496689200, 'summary': 'Clear', 'icon': 'clear-day', 'precipIntensity': 0, 'precipProbability': 0, 'temperature': 66.81, 'apparentTemperature': 66.81, 'dewPoint': 52.85, 'humidity': 0.61, 'windSpeed': 8.24, 'windBearing': 280, 'visibility': 9.99, 'cloudCover': 0.24, 'pressure': 1013.61, 'ozone': 329.73}, {'time': 1496692800, 'summary': 'Clear', 'icon': 'clear-day', 'precipIntensity': 0, 'precipProbability': 0, 'temperature': 68.85, 'apparentTemperature': 68.85, 'dewPoint': 53.41, 'humidity': 0.58, 'windSpeed': 9.41, 'windBearing': 280, 'visibility': 10, 'cloudCover': 0.22, 'pressure': 1013.35, 'ozone': 327.2}, {'time': 1496696400, 'summary': 'Clear', 'icon': 'clear-day', 'precipIntensity': 0, 'precipProbability': 0, 'temperature': 70.07, 'apparentTemperature': 70.07, 'dewPoint': 53.9, 'humidity': 0.57, 'windSpeed': 10.51, 'windBearing': 281, 'visibility': 10, 'cloudCover': 0.16, 'pressure': 1013.06, 'ozone': 324.78}, {'time': 1496700000, 'summary': 'Clear', 'icon': 'clear-day', 'precipIntensity': 0, 'precipProbability': 0, 'temperature': 69.64, 'apparentTemperature': 69.64, 'dewPoint': 53.47, 'humidity': 0.56, 'windSpeed': 11.03, 'windBearing': 281, 'visibility': 10, 'cloudCover': 0.15, 'pressure': 1012.7, 'ozone': 322.76}, {'time': 1496703600, 'summary': 'Clear', 'icon': 'clear-day', 'precipIntensity': 0, 'precipProbability': 0, 'temperature': 68.65, 'apparentTemperature': 68.65, 'dewPoint': 53.19, 'humidity': 0.58, 'windSpeed': 11.09, 'windBearing': 282, 'visibility': 10, 'cloudCover': 0.16, 'pressure': 1012.33, 'ozone': 320.85}, {'time': 1496707200, 'summary': 'Clear', 'icon': 'clear-day', 'precipIntensity': 0, 'precipProbability': 0, 'temperature': 66.5, 'apparentTemperature': 66.5, 'dewPoint': 51.95, 'humidity': 0.6, 'windSpeed': 10.8, 'windBearing': 282, 'visibility': 10, 'cloudCover': 0.21, 'pressure': 1012.07, 'ozone': 319.13}, {'time': 1496710800, 'summary': 'Clear', 'icon': 'clear-day', 'precipIntensity': 0, 'precipProbability': 0, 'temperature': 64.63, 'apparentTemperature': 64.63, 'dewPoint': 51.61, 'humidity': 0.63, 'windSpeed': 10.33, 'windBearing': 282, 'visibility': 10, 'cloudCover': 0.22, 'pressure': 1011.99, 'ozone': 317.66}, {'time': 1496714400, 'summary': 'Clear', 'icon': 'clear-day', 'precipIntensity': 0, 'precipProbability': 0, 'temperature': 62.38, 'apparentTemperature': 62.38, 'dewPoint': 52.17, 'humidity': 0.69, 'windSpeed': 9.5, 'windBearing': 283, 'visibility': 10, 'cloudCover': 0.19, 'pressure': 1012.03, 'ozone': 316.39}, {'time': 1496718000, 'summary': 'Clear', 'icon': 'clear-day', 'precipIntensity': 0, 'precipProbability': 0, 'temperature': 59.73, 'apparentTemperature': 59.73, 'dewPoint': 51.75, 'humidity': 0.75, 'windSpeed': 8.72, 'windBearing': 282, 'visibility': 10, 'cloudCover': 0.19, 'pressure': 1012.16, 'ozone': 315.19}, {'time': 1496721600, 'summary': 'Clear', 'icon': 'clear-night', 'precipIntensity': 0, 'precipProbability': 0, 'temperature': 57.91, 'apparentTemperature': 57.91, 'dewPoint': 51.77, 'humidity': 0.8, 'windSpeed': 7.9, 'windBearing': 282, 'visibility': 10, 'cloudCover': 0.21, 'pressure': 1012.42, 'ozone': 314.04}, {'time': 1496725200, 'summary': 'Clear', 'icon': 'clear-night', 'precipIntensity': 0, 'precipProbability': 0, 'temperature': 56.85, 'apparentTemperature': 56.85, 'dewPoint': 52.23, 'humidity': 0.85, 'windSpeed': 6.94, 'windBearing': 281, 'visibility': 10, 'cloudCover': 0.24, 'pressure': 1012.75, 'ozone': 312.97}, {'time': 1496728800, 'summary': 'Partly Cloudy', 'icon': 'partly-cloudy-night', 'precipIntensity': 0, 'precipProbability': 0, 'temperature': 56.14, 'apparentTemperature': 56.14, 'dewPoint': 52.62, 'humidity': 0.88, 'windSpeed': 6.15, 'windBearing': 280, 'visibility': 10, 'cloudCover': 0.26, 'pressure': 1012.97, 'ozone': 312.02}, {'time': 1496732400, 'summary': 'Partly Cloudy', 'icon': 'partly-cloudy-night', 'precipIntensity': 0, 'precipProbability': 0, 'temperature': 55.67, 'apparentTemperature': 55.67, 'dewPoint': 52.9, 'humidity': 0.9, 'windSpeed': 5.96, 'windBearing': 277, 'visibility': 10, 'cloudCover': 0.28, 'pressure': 1012.99, 'ozone': 311.23}, {'time': 1496736000, 'summary': 'Partly Cloudy', 'icon': 'partly-cloudy-night', 'precipIntensity': 0, 'precipProbability': 0, 'temperature': 55.44, 'apparentTemperature': 55.44, 'dewPoint': 53.02, 'humidity': 0.92, 'windSpeed': 6.1, 'windBearing': 275, 'visibility': 10, 'cloudCover': 0.3, 'pressure': 1012.91, 'ozone': 310.57}, {'time': 1496739600, 'summary': 'Partly Cloudy', 'icon': 'partly-cloudy-night', 'precipIntensity': 0, 'precipProbability': 0, 'temperature': 55.2, 'apparentTemperature': 55.2, 'dewPoint': 53.05, 'humidity': 0.92, 'windSpeed': 6.12, 'windBearing': 273, 'visibility': 10, 'cloudCover': 0.32, 'pressure': 1012.81, 'ozone': 309.95}, {'time': 1496743200, 'summary': 'Partly Cloudy', 'icon': 'partly-cloudy-night', 'precipIntensity': 0, 'precipProbability': 0, 'temperature': 54.78, 'apparentTemperature': 54.78, 'dewPoint': 52.89, 'humidity': 0.93, 'windSpeed': 5.89, 'windBearing': 274, 'visibility': 10, 'cloudCover': 0.34, 'pressure': 1012.69, 'ozone': 309.34}, {'time': 1496746800, 'summary': 'Partly Cloudy', 'icon': 'partly-cloudy-night', 'precipIntensity': 0, 'precipProbability': 0, 'temperature': 54.35, 'apparentTemperature': 54.35, 'dewPoint': 52.65, 'humidity': 0.94, 'windSpeed': 5.57, 'windBearing': 276, 'visibility': 10, 'cloudCover': 0.36, 'pressure': 1012.56, 'ozone': 308.77}, {'time': 1496750400, 'summary': 'Partly Cloudy', 'icon': 'partly-cloudy-night', 'precipIntensity': 0, 'precipProbability': 0, 'temperature': 54.16, 'apparentTemperature': 54.16, 'dewPoint': 52.46, 'humidity': 0.94, 'windSpeed': 5.14, 'windBearing': 277, 'visibility': 10, 'cloudCover': 0.39, 'pressure': 1012.53, 'ozone': 308.33}, {'time': 1496754000, 'summary': 'Partly Cloudy', 'icon': 'partly-cloudy-day', 'precipIntensity': 0, 'precipProbability': 0, 'temperature': 54.44, 'apparentTemperature': 54.44, 'dewPoint': 52.56, 'humidity': 0.93, 'windSpeed': 4.52, 'windBearing': 270, 'visibility': 9.8, 'cloudCover': 0.42, 'pressure': 1012.7, 'ozone': 308.2}, {'time': 1496757600, 'summary': 'Partly Cloudy', 'icon': 'partly-cloudy-day', 'precipIntensity': 0, 'precipProbability': 0, 'temperature': 54.92, 'apparentTemperature': 54.92, 'dewPoint': 52.65, 'humidity': 0.92, 'windSpeed': 4.06, 'windBearing': 260, 'visibility': 9.52, 'cloudCover': 0.45, 'pressure': 1012.98, 'ozone': 308.2}, {'time': 1496761200, 'summary': 'Partly Cloudy', 'icon': 'partly-cloudy-day', 'precipIntensity': 0, 'precipProbability': 0, 'temperature': 55.77, 'apparentTemperature': 55.77, 'dewPoint': 52.87, 'humidity': 0.9, 'windSpeed': 4.06, 'windBearing': 253, 'visibility': 9.39, 'cloudCover': 0.47, 'pressure': 1013.21, 'ozone': 307.93}, {'time': 1496764800, 'summary': 'Partly Cloudy', 'icon': 'partly-cloudy-day', 'precipIntensity': 0, 'precipProbability': 0, 'temperature': 57.18, 'apparentTemperature': 57.18, 'dewPoint': 53.3, 'humidity': 0.87, 'windSpeed': 4.57, 'windBearing': 252, 'visibility': 9.52, 'cloudCover': 0.46, 'pressure': 1013.36, 'ozone': 307.06}, {'time': 1496768400, 'summary': 'Partly Cloudy', 'icon': 'partly-cloudy-day', 'precipIntensity': 0, 'precipProbability': 0, 'temperature': 59.05, 'apparentTemperature': 59.05, 'dewPoint': 53.9, 'humidity': 0.83, 'windSpeed': 5.44, 'windBearing': 257, 'visibility': 9.8, 'cloudCover': 0.44, 'pressure': 1013.45, 'ozone': 305.92}, {'time': 1496772000, 'summary': 'Partly Cloudy', 'icon': 'partly-cloudy-day', 'precipIntensity': 0, 'precipProbability': 0, 'temperature': 61.02, 'apparentTemperature': 61.02, 'dewPoint': 54.62, 'humidity': 0.79, 'windSpeed': 6.02, 'windBearing': 261, 'visibility': 10, 'cloudCover': 0.4, 'pressure': 1013.46, 'ozone': 305.1}, {'time': 1496775600, 'summary': 'Partly Cloudy', 'icon': 'partly-cloudy-day', 'precipIntensity': 0, 'precipProbability': 0, 'temperature': 63.08, 'apparentTemperature': 63.08, 'dewPoint': 55.49, 'humidity': 0.76, 'windSpeed': 6.8, 'windBearing': 263, 'visibility': 10, 'cloudCover': 0.34, 'pressure': 1013.36, 'ozone': 304.85}, {'time': 1496779200, 'summary': 'Partly Cloudy', 'icon': 'partly-cloudy-day', 'precipIntensity': 0, 'precipProbability': 0, 'temperature': 65, 'apparentTemperature': 65, 'dewPoint': 56.21, 'humidity': 0.73, 'windSpeed': 7.69, 'windBearing': 264, 'visibility': 10, 'cloudCover': 0.27, 'pressure': 1013.22, 'ozone': 304.92}, {'time': 1496782800, 'summary': 'Clear', 'icon': 'clear-day', 'precipIntensity': 0, 'precipProbability': 0, 'temperature': 66.18, 'apparentTemperature': 66.18, 'dewPoint': 56.55, 'humidity': 0.71, 'windSpeed': 8.55, 'windBearing': 266, 'visibility': 10, 'cloudCover': 0.21, 'pressure': 1013.03, 'ozone': 305.16}, {'time': 1496786400, 'summary': 'Clear', 'icon': 'clear-day', 'precipIntensity': 0, 'precipProbability': 0, 'temperature': 66.4, 'apparentTemperature': 66.4, 'dewPoint': 56.42, 'humidity': 0.7, 'windSpeed': 9.51, 'windBearing': 269, 'visibility': 10, 'cloudCover': 0.18, 'pressure': 1012.71, 'ozone': 305.57}, {'time': 1496790000, 'summary': 'Clear', 'icon': 'clear-day', 'precipIntensity': 0, 'precipProbability': 0, 'temperature': 65.77, 'apparentTemperature': 65.77, 'dewPoint': 55.86, 'humidity': 0.7, 'windSpeed': 10.44, 'windBearing': 272, 'visibility': 10, 'cloudCover': 0.18, 'pressure': 1012.32, 'ozone': 306.14}, {'time': 1496793600, 'summary': 'Clear', 'icon': 'clear-day', 'precipIntensity': 0, 'precipProbability': 0, 'temperature': 64.72, 'apparentTemperature': 64.72, 'dewPoint': 55.35, 'humidity': 0.72, 'windSpeed': 10.9, 'windBearing': 273, 'visibility': 10, 'cloudCover': 0.18, 'pressure': 1012.05, 'ozone': 306.7}, {'time': 1496797200, 'summary': 'Clear', 'icon': 'clear-day', 'precipIntensity': 0, 'precipProbability': 0, 'temperature': 63.28, 'apparentTemperature': 63.28, 'dewPoint': 55.11, 'humidity': 0.75, 'windSpeed': 10.5, 'windBearing': 274, 'visibility': 10, 'cloudCover': 0.19, 'pressure': 1012, 'ozone': 307.25}, {'time': 1496800800, 'summary': 'Clear', 'icon': 'clear-day', 'precipIntensity': 0, 'precipProbability': 0, 'temperature': 61.09, 'apparentTemperature': 61.09, 'dewPoint': 54.48, 'humidity': 0.79, 'windSpeed': 9.77, 'windBearing': 274, 'visibility': 10, 'cloudCover': 0.21, 'pressure': 1012.06, 'ozone': 307.8}]}\n"
     ]
    }
   ],
   "source": [
    "print (data['hourly'])"
   ]
  },
  {
   "cell_type": "code",
   "execution_count": 11,
   "metadata": {
    "collapsed": true
   },
   "outputs": [],
   "source": [
    "hourly_data = data['hourly']"
   ]
  },
  {
   "cell_type": "code",
   "execution_count": 12,
   "metadata": {},
   "outputs": [
    {
     "data": {
      "text/plain": [
       "dict_keys(['summary', 'icon', 'data'])"
      ]
     },
     "execution_count": 12,
     "metadata": {},
     "output_type": "execute_result"
    }
   ],
   "source": [
    "hourly_data.keys()"
   ]
  },
  {
   "cell_type": "code",
   "execution_count": 13,
   "metadata": {},
   "outputs": [
    {
     "data": {
      "text/plain": [
       "{'apparentTemperature': 57.96,\n",
       " 'cloudCover': 0.13,\n",
       " 'dewPoint': 46.83,\n",
       " 'humidity': 0.66,\n",
       " 'icon': 'clear-day',\n",
       " 'ozone': 331.24,\n",
       " 'precipIntensity': 0,\n",
       " 'precipProbability': 0,\n",
       " 'pressure': 1013.01,\n",
       " 'summary': 'Clear',\n",
       " 'temperature': 57.96,\n",
       " 'time': 1496628000,\n",
       " 'visibility': 9.89,\n",
       " 'windBearing': 279,\n",
       " 'windSpeed': 7.83}"
      ]
     },
     "execution_count": 13,
     "metadata": {},
     "output_type": "execute_result"
    }
   ],
   "source": [
    "hourly_data['data'][0]"
   ]
  },
  {
   "cell_type": "code",
   "execution_count": 14,
   "metadata": {},
   "outputs": [
    {
     "name": "stdout",
     "output_type": "stream",
     "text": [
      "1496628000 Clear\n",
      "1496631600 Clear\n",
      "1496635200 Clear\n",
      "1496638800 Clear\n",
      "1496642400 Clear\n",
      "1496646000 Partly Cloudy\n",
      "1496649600 Partly Cloudy\n",
      "1496653200 Partly Cloudy\n",
      "1496656800 Partly Cloudy\n",
      "1496660400 Partly Cloudy\n",
      "1496664000 Partly Cloudy\n",
      "1496667600 Mostly Cloudy\n",
      "1496671200 Mostly Cloudy\n",
      "1496674800 Mostly Cloudy\n",
      "1496678400 Mostly Cloudy\n",
      "1496682000 Partly Cloudy\n",
      "1496685600 Partly Cloudy\n",
      "1496689200 Clear\n",
      "1496692800 Clear\n",
      "1496696400 Clear\n",
      "1496700000 Clear\n",
      "1496703600 Clear\n",
      "1496707200 Clear\n",
      "1496710800 Clear\n",
      "1496714400 Clear\n",
      "1496718000 Clear\n",
      "1496721600 Clear\n",
      "1496725200 Clear\n",
      "1496728800 Partly Cloudy\n",
      "1496732400 Partly Cloudy\n",
      "1496736000 Partly Cloudy\n",
      "1496739600 Partly Cloudy\n",
      "1496743200 Partly Cloudy\n",
      "1496746800 Partly Cloudy\n",
      "1496750400 Partly Cloudy\n",
      "1496754000 Partly Cloudy\n",
      "1496757600 Partly Cloudy\n",
      "1496761200 Partly Cloudy\n",
      "1496764800 Partly Cloudy\n",
      "1496768400 Partly Cloudy\n",
      "1496772000 Partly Cloudy\n",
      "1496775600 Partly Cloudy\n",
      "1496779200 Partly Cloudy\n",
      "1496782800 Clear\n",
      "1496786400 Clear\n",
      "1496790000 Clear\n",
      "1496793600 Clear\n",
      "1496797200 Clear\n",
      "1496800800 Clear\n"
     ]
    }
   ],
   "source": [
    "for hour in hourly_data['data']:\n",
    "    print (hour['time'], hour['summary'])"
   ]
  },
  {
   "cell_type": "code",
   "execution_count": null,
   "metadata": {
    "collapsed": true
   },
   "outputs": [],
   "source": []
  },
  {
   "cell_type": "code",
   "execution_count": null,
   "metadata": {
    "collapsed": true
   },
   "outputs": [],
   "source": []
  },
  {
   "cell_type": "code",
   "execution_count": null,
   "metadata": {
    "collapsed": true
   },
   "outputs": [],
   "source": []
  },
  {
   "cell_type": "code",
   "execution_count": null,
   "metadata": {
    "collapsed": true
   },
   "outputs": [],
   "source": []
  },
  {
   "cell_type": "code",
   "execution_count": null,
   "metadata": {
    "collapsed": true
   },
   "outputs": [],
   "source": []
  }
 ],
 "metadata": {
  "kernelspec": {
   "display_name": "Python 3",
   "language": "python",
   "name": "python3"
  },
  "language_info": {
   "codemirror_mode": {
    "name": "ipython",
    "version": 3
   },
   "file_extension": ".py",
   "mimetype": "text/x-python",
   "name": "python",
   "nbconvert_exporter": "python",
   "pygments_lexer": "ipython3",
   "version": "3.6.1"
  }
 },
 "nbformat": 4,
 "nbformat_minor": 2
}
