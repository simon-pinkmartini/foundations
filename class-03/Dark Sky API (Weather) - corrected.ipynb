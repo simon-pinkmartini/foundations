{
 "cells": [
  {
   "cell_type": "code",
   "execution_count": null,
   "metadata": {
    "collapsed": true
   },
   "outputs": [],
   "source": [
    "### Grades / Feedback\n",
    "SCORE: 9/10\n",
    "    \n",
    "* Put your last name in the file name and in the document\n",
    "* When labeling units, degrees of what? Fahrenheit or Celsius?\n",
    "* What year (not the timestamp or UTC format) did you try that returned the 400 error and what does the 400 error mean?"
   ]
  },
  {
   "cell_type": "markdown",
   "metadata": {},
   "source": [
    "# Dark Sky API (Weather)\n",
    "\n",
    "Answer the following questions using the [Dark Sky API](https://darksky.net/dev/). I've added three cells for each question but you're free to use more or less! Hold `Shift` and hit `Enter` to run a cell, and use the `+` on the top left to add a new cell to a notebook.\n",
    "\n",
    "If you spend some time reading the documentation your life will probably be a little bit easier!\n",
    "\n",
    "## 0) Import any libraries you might need\n",
    "\n",
    "- *Tip: We're going to be downloading things from the internet, so we probably need `requests`.*"
   ]
  },
  {
   "cell_type": "code",
   "execution_count": 1,
   "metadata": {
    "collapsed": true
   },
   "outputs": [],
   "source": [
    "import requests"
   ]
  },
  {
   "cell_type": "code",
   "execution_count": 2,
   "metadata": {
    "collapsed": true
   },
   "outputs": [],
   "source": [
    "import datetime"
   ]
  },
  {
   "cell_type": "markdown",
   "metadata": {
    "collapsed": true
   },
   "source": [
    "## 1) Make a request from the Dark Sky API for where you were born (or lived, or want to visit!).\n",
    "\n",
    "- *Tip: The URL we used in class was for a place near San Francisco. What was the format of the endpoint that made this happen?*\n",
    "- *Tip: Save the URL as a separate variable, and be sure to not have `[` and `]` inside.*\n",
    "- *Tip: How is north vs. south and east vs. west latitude/longitude represented? Is it the normal North/South/East/West?*\n",
    "- *Tip: You know it's JSON, but Python doesn't! Make sure you aren't trying to deal with plain text.* \n",
    "- *Tip: Once you've imported the JSON into a variable, check the timezone's name to make sure it seems like it got the right part of the world!*"
   ]
  },
  {
   "cell_type": "markdown",
   "metadata": {},
   "source": [
    "Construct URL with coordinates and make request"
   ]
  },
  {
   "cell_type": "code",
   "execution_count": 3,
   "metadata": {
    "collapsed": true
   },
   "outputs": [],
   "source": [
    "api_url = \"https://api.darksky.net/forecast/\"\n",
    "api_key = \"d2742358d5756e9f3358aa5a4ddad873\"\n",
    "Y_coord = 47.4795\n",
    "X_coord = 8.24235\n",
    "#time = \"1981-08-23T08:15:00+0100\""
   ]
  },
  {
   "cell_type": "code",
   "execution_count": 4,
   "metadata": {
    "collapsed": true
   },
   "outputs": [],
   "source": [
    "url = api_url + api_key + \"/\" + str(Y_coord) + \",\" + str(X_coord)\n",
    "response = requests.get(url)\n",
    "data = response.json()"
   ]
  },
  {
   "cell_type": "markdown",
   "metadata": {},
   "source": [
    "## 2) What's the current wind speed? How much warmer does it feel than it actually is?\n",
    "\n",
    "- *Tip: You can do this by browsing through the dictionaries, but it might be easier to read the documentation*\n",
    "- *Tip: For the second half: it **is** one temperature, and it **feels** a different temperature. Calculate the difference.*"
   ]
  },
  {
   "cell_type": "markdown",
   "metadata": {},
   "source": [
    "Read values for current forecast"
   ]
  },
  {
   "cell_type": "code",
   "execution_count": 5,
   "metadata": {
    "collapsed": false
   },
   "outputs": [
    {
     "name": "stdout",
     "output_type": "stream",
     "text": [
      "The current windspeed is: 3.81\n"
     ]
    }
   ],
   "source": [
    "print (\"The current windspeed is:\", data['currently']['windSpeed'])"
   ]
  },
  {
   "cell_type": "code",
   "execution_count": 6,
   "metadata": {
    "collapsed": false
   },
   "outputs": [
    {
     "name": "stdout",
     "output_type": "stream",
     "text": [
      "The current difference between apparent and actual temperature is: 0.0\n"
     ]
    }
   ],
   "source": [
    "print (\"The current difference between apparent and actual temperature is:\", data['currently']['apparentTemperature'] - data['currently']['temperature'])"
   ]
  },
  {
   "cell_type": "markdown",
   "metadata": {},
   "source": [
    "## 3) Today's forecast is the FIRST daily forecast. For the place you decided on above, how much of the moon is currently visible?\n",
    "\n",
    "- *Tip: This does **not** use the `currently` key.*\n",
    "- *Tip: It might be helpful to save the forecast into its own variable*"
   ]
  },
  {
   "cell_type": "code",
   "execution_count": 7,
   "metadata": {
    "collapsed": true
   },
   "outputs": [],
   "source": [
    "#Just checking out the data\n",
    "#print(data.keys())\n",
    "#print(data['daily'].keys())\n",
    "#print(data['daily']['data'][0].keys())"
   ]
  },
  {
   "cell_type": "code",
   "execution_count": 8,
   "metadata": {
    "collapsed": false
   },
   "outputs": [
    {
     "name": "stdout",
     "output_type": "stream",
     "text": [
      "The moonphase today is: 0.24\n"
     ]
    }
   ],
   "source": [
    "forecast_for_today = data['daily']['data'][0]\n",
    "print (\"The moonphase today is:\", forecast_for_today['moonPhase'])"
   ]
  },
  {
   "cell_type": "markdown",
   "metadata": {},
   "source": [
    "## 4) What's the difference between the high and low temperatures for today?"
   ]
  },
  {
   "cell_type": "markdown",
   "metadata": {},
   "source": [
    "Read values for daily forecast"
   ]
  },
  {
   "cell_type": "code",
   "execution_count": 9,
   "metadata": {
    "collapsed": false
   },
   "outputs": [
    {
     "name": "stdout",
     "output_type": "stream",
     "text": [
      "Max. Temp.: 82.8\n",
      "Min. Temp.: 53.24\n",
      "The difference between max and min temperature is: 29.559999999999995\n"
     ]
    }
   ],
   "source": [
    "print (\"Max. Temp.:\", forecast_for_today['temperatureMax'])\n",
    "print (\"Min. Temp.:\", forecast_for_today['temperatureMin'])\n",
    "print (\"The difference between max and min temperature is:\", forecast_for_today['temperatureMax'] - forecast_for_today['temperatureMin'])"
   ]
  },
  {
   "cell_type": "markdown",
   "metadata": {},
   "source": [
    "## 5) Go through the daily forecasts, printing out the next week's worth of predictions.\n",
    "\n",
    "I'd like to know the **high temperature** for each day, and whether it's **hot, warm, or cold** (based on what temperatures you think are hot, warm or cold).\n",
    "\n",
    "- *Tip: Is it returning F or C? You can change them by adding `?units=us` or `?units=si` onto the end of the URL.*\n",
    "- *Tip: You'll need to use an `if` statement to say whether it is hot, warm or cold.*"
   ]
  },
  {
   "cell_type": "markdown",
   "metadata": {},
   "source": [
    "Create a new variable to handle daily data dictionary easier"
   ]
  },
  {
   "cell_type": "code",
   "execution_count": 10,
   "metadata": {
    "collapsed": true
   },
   "outputs": [],
   "source": [
    "forecasts_for_week = data['daily']['data']"
   ]
  },
  {
   "cell_type": "markdown",
   "metadata": {},
   "source": [
    "Go through the days and check temperature maximum"
   ]
  },
  {
   "cell_type": "code",
   "execution_count": 11,
   "metadata": {
    "collapsed": false
   },
   "outputs": [
    {
     "name": "stdout",
     "output_type": "stream",
     "text": [
      "On day 0 it's 82.8 degrees. It feels warm !\n",
      "On day 1 it's 83.94 degrees. It feels warm !\n",
      "On day 2 it's 83.2 degrees. It feels warm !\n",
      "On day 3 it's 73.63 degrees. It feels warm !\n",
      "On day 4 it's 64.22 degrees. It feels cold !\n",
      "On day 5 it's 62.26 degrees. It feels cold !\n",
      "On day 6 it's 66.32 degrees. It feels cold !\n",
      "On day 7 it's 72.6 degrees. It feels warm !\n"
     ]
    }
   ],
   "source": [
    "for day_no, forecast_for_week in enumerate(forecasts_for_week):\n",
    "    dailyMax = (forecast_for_week['temperatureMax'])\n",
    "    if dailyMax > 68:\n",
    "        feeling = \"warm\"\n",
    "    elif dailyMax > 86:\n",
    "        feeling = \"hot\"\n",
    "    else:\n",
    "        feeling = \"cold\"\n",
    "    print (\"On day\", day_no, \"it's\", dailyMax, \"degrees. It feels\", feeling, \"!\")"
   ]
  },
  {
   "cell_type": "markdown",
   "metadata": {},
   "source": [
    "# 6) What will be the hottest day in the next week? What is the high temperature on that day?\n",
    "\n",
    "It's okay if your result looks like `1453363200`. If you want to be extra-fancy, though, format it as a **real date** - the weird number is called a **UNIX timestamp**, which might help in googling.\n",
    "\n",
    "- *Tip: It's okay to skip this if it seems too difficult!*"
   ]
  },
  {
   "cell_type": "markdown",
   "metadata": {},
   "source": [
    "Use \"list comprehension\" to create a new list of all the max temperatures"
   ]
  },
  {
   "cell_type": "code",
   "execution_count": 12,
   "metadata": {
    "collapsed": true
   },
   "outputs": [],
   "source": [
    "maxima = [forecast_for_week['temperatureMax']  for forecast_for_week in forecasts_for_week]"
   ]
  },
  {
   "cell_type": "markdown",
   "metadata": {},
   "source": [
    "Now, find the max temperature and the day on which it occured"
   ]
  },
  {
   "cell_type": "code",
   "execution_count": 13,
   "metadata": {
    "collapsed": true
   },
   "outputs": [],
   "source": [
    "maxTemp = max(maxima)\n",
    "maxDay = maxima.index(maxTemp)\n",
    "maxDayFormattedUnix = forecasts_for_week[maxDay]['time']"
   ]
  },
  {
   "cell_type": "markdown",
   "metadata": {},
   "source": [
    "Make it readable and print:"
   ]
  },
  {
   "cell_type": "code",
   "execution_count": 14,
   "metadata": {
    "collapsed": false
   },
   "outputs": [
    {
     "name": "stdout",
     "output_type": "stream",
     "text": [
      "The hottest day is 06-01-17 It is 83.94 degrees on that day.\n"
     ]
    }
   ],
   "source": [
    "maxDayFormattedReadable = datetime.datetime.fromtimestamp(float(maxDayFormattedUnix)).strftime(\"%m-%d-%y\")\n",
    "print (\"The hottest day is\", maxDayFormattedReadable, \"It is\", maxTemp, \"degrees on that day.\")"
   ]
  },
  {
   "cell_type": "markdown",
   "metadata": {},
   "source": [
    "## 7) What's the weather looking like for the next 24+ hours in Miami, Florida?\n",
    "\n",
    "I'd like to know the temperature for every hour, and if it's going to have cloud cover of more than 50% say \"{temperature} and cloudy\" instead of just the temperature. \n",
    "\n",
    "\n",
    "- *Tip: Be sure to remember how latitude and longitude are done with positive and negative numbers*\n",
    "- *Tip: How do you represent \"50%\" for cloud cover?*"
   ]
  },
  {
   "cell_type": "markdown",
   "metadata": {},
   "source": [
    "Define coordinates for Miami and make request:"
   ]
  },
  {
   "cell_type": "code",
   "execution_count": 15,
   "metadata": {
    "collapsed": true
   },
   "outputs": [],
   "source": [
    "api_url = \"https://api.darksky.net/forecast/\"\n",
    "api_key = \"d2742358d5756e9f3358aa5a4ddad873\"\n",
    "Y_coord = 25.761681\n",
    "X_coord = -80.191788"
   ]
  },
  {
   "cell_type": "code",
   "execution_count": 16,
   "metadata": {
    "collapsed": true
   },
   "outputs": [],
   "source": [
    "url = api_url + api_key + \"/\" + str(Y_coord) + \",\" + str(X_coord)\n",
    "response = requests.get(url)\n",
    "data = response.json()"
   ]
  },
  {
   "cell_type": "code",
   "execution_count": 17,
   "metadata": {
    "collapsed": true
   },
   "outputs": [],
   "source": [
    "#Just checking out what's in the data\n",
    "#print (data['hourly'].keys())\n",
    "#print (data['hourly']['data'][0].keys())"
   ]
  },
  {
   "cell_type": "markdown",
   "metadata": {},
   "source": [
    "Loop over hourly weather data using complicated string functions and print the temperature:"
   ]
  },
  {
   "cell_type": "code",
   "execution_count": 19,
   "metadata": {
    "collapsed": false
   },
   "outputs": [
    {
     "name": "stdout",
     "output_type": "stream",
     "text": [
      "On Wednesday, 18:00 it is 87.36\n",
      "On Wednesday, 19:00 it is 85.93 and cloudy.\n",
      "On Wednesday, 20:00 it is 84.46 and cloudy.\n",
      "On Wednesday, 21:00 it is 83.56 and cloudy.\n",
      "On Wednesday, 22:00 it is 83.05 and cloudy.\n",
      "On Wednesday, 23:00 it is 82.6 and cloudy.\n",
      "On Thursday, 00:00 it is 81.6 and cloudy.\n",
      "On Thursday, 01:00 it is 81.04 and cloudy.\n",
      "On Thursday, 02:00 it is 80.32 and cloudy.\n",
      "On Thursday, 03:00 it is 79.18 and cloudy.\n",
      "On Thursday, 04:00 it is 78.36 and cloudy.\n",
      "On Thursday, 05:00 it is 77.7 and cloudy.\n",
      "On Thursday, 06:00 it is 78.54 and cloudy.\n",
      "On Thursday, 07:00 it is 79.68 and cloudy.\n",
      "On Thursday, 08:00 it is 82.11 and cloudy.\n",
      "On Thursday, 09:00 it is 84.19 and cloudy.\n",
      "On Thursday, 10:00 it is 85.6\n",
      "On Thursday, 11:00 it is 86.84\n",
      "On Thursday, 12:00 it is 87.65\n",
      "On Thursday, 13:00 it is 88.08\n",
      "On Thursday, 14:00 it is 88.47\n",
      "On Thursday, 15:00 it is 89.16\n",
      "On Thursday, 16:00 it is 88.51\n",
      "On Thursday, 17:00 it is 87.36\n",
      "On Thursday, 18:00 it is 87\n",
      "On Thursday, 19:00 it is 85.26 and cloudy.\n",
      "On Thursday, 20:00 it is 84.01 and cloudy.\n",
      "On Thursday, 21:00 it is 83.45 and cloudy.\n",
      "On Thursday, 22:00 it is 83.17 and cloudy.\n",
      "On Thursday, 23:00 it is 82.66 and cloudy.\n",
      "On Friday, 00:00 it is 81.72 and cloudy.\n",
      "On Friday, 01:00 it is 80.51 and cloudy.\n",
      "On Friday, 02:00 it is 79.36\n",
      "On Friday, 03:00 it is 78.46 and cloudy.\n",
      "On Friday, 04:00 it is 77.95 and cloudy.\n",
      "On Friday, 05:00 it is 78.76 and cloudy.\n",
      "On Friday, 06:00 it is 80.06 and cloudy.\n",
      "On Friday, 07:00 it is 81.48 and cloudy.\n",
      "On Friday, 08:00 it is 82.87 and cloudy.\n",
      "On Friday, 09:00 it is 84.51 and cloudy.\n",
      "On Friday, 10:00 it is 86.33 and cloudy.\n",
      "On Friday, 11:00 it is 87.92 and cloudy.\n",
      "On Friday, 12:00 it is 89.29 and cloudy.\n",
      "On Friday, 13:00 it is 90.47 and cloudy.\n",
      "On Friday, 14:00 it is 91.14 and cloudy.\n",
      "On Friday, 15:00 it is 90.18 and cloudy.\n",
      "On Friday, 16:00 it is 88.71 and cloudy.\n",
      "On Friday, 17:00 it is 87.15 and cloudy.\n",
      "On Friday, 18:00 it is 85.56 and cloudy.\n"
     ]
    }
   ],
   "source": [
    "for hourly_weather in data['hourly']['data']:\n",
    "    time_string = datetime.datetime.fromtimestamp(float(hourly_weather['time'])).strftime(\"%A, %H:%M\")\n",
    "    if hourly_weather['cloudCover'] > 0.5:\n",
    "        temp_string = str(hourly_weather['temperature']) + \" and cloudy.\"\n",
    "    else:\n",
    "        temp_string = str(hourly_weather['temperature'])\n",
    "    print (\"On\", time_string, \"it is\", temp_string)\n",
    "    "
   ]
  },
  {
   "cell_type": "markdown",
   "metadata": {},
   "source": [
    "# 8) For the next 24-ish hours in Miami, what percent of the time is the temperature above 85 degrees?\n",
    "\n",
    "If they give you 48 hours instead of 24, that's okay.\n",
    "\n",
    "- *Tip: You might want to read up on [looping patterns](http://jonathansoma.com/lede/foundations-2017/classes/data%20structures/looping-patterns/)*"
   ]
  },
  {
   "cell_type": "markdown",
   "metadata": {},
   "source": [
    "Create two variables to calculate the percentage, then go through next 24 hrs of hourly data:"
   ]
  },
  {
   "cell_type": "code",
   "execution_count": 20,
   "metadata": {
    "collapsed": false
   },
   "outputs": [
    {
     "name": "stdout",
     "output_type": "stream",
     "text": [
      "Over the next 24 hours, the temperature is above 85 degrees in 42 percent of the time\n"
     ]
    }
   ],
   "source": [
    "is_hot = 0\n",
    "total_hrs = 24\n",
    "for hour_number in range(total_hrs):\n",
    "    if (data['hourly']['data'][hour_number]['temperature']) > 85:\n",
    "        is_hot += 1\n",
    "print (\"Over the next\", total_hrs, \"hours, the temperature is above 85 degrees in\", round(is_hot / total_hrs * 100), \"percent of the time\")"
   ]
  },
  {
   "cell_type": "markdown",
   "metadata": {},
   "source": [
    "## 9) What was the temperature in Central Park on Christmas Day, 2012? How about 2007? 2005? How far back does the API allow you to go?\n",
    "\n",
    "- *Tip: You'll need to use UNIX time, which is the number of seconds since January 1, 1970. Google can help you convert a normal date!*\n",
    "- *Tip: You'll want to use Forecast.io's \"time machine\" API, [documentation here](https://darksky.net/dev/docs/time-machine)*"
   ]
  },
  {
   "cell_type": "markdown",
   "metadata": {},
   "source": [
    "Define new coordinates for Central Park"
   ]
  },
  {
   "cell_type": "code",
   "execution_count": 21,
   "metadata": {
    "collapsed": true
   },
   "outputs": [],
   "source": [
    "api_url = \"https://api.darksky.net/forecast/\"\n",
    "api_key = \"d2742358d5756e9f3358aa5a4ddad873\"\n",
    "Y_coord = 40.785091\n",
    "X_coord = -73.968285"
   ]
  },
  {
   "cell_type": "markdown",
   "metadata": {},
   "source": [
    "Get temperature for xmas day, 2012"
   ]
  },
  {
   "cell_type": "code",
   "execution_count": 22,
   "metadata": {
    "collapsed": true
   },
   "outputs": [],
   "source": [
    "time_request = \"2012-12-25T12:00:00-0500\"\n",
    "url = api_url + api_key + \"/\" + str(Y_coord) + \",\" + str(X_coord) + \",\" + time_request\n",
    "response = requests.get(url)\n",
    "data = response.json()"
   ]
  },
  {
   "cell_type": "code",
   "execution_count": 23,
   "metadata": {
    "collapsed": false
   },
   "outputs": [
    {
     "name": "stdout",
     "output_type": "stream",
     "text": [
      "On x-mas day, 2012, the temperature in central park was:  40.57 degrees.\n"
     ]
    }
   ],
   "source": [
    "temperature = data['currently']['temperature']\n",
    "print (\"On x-mas day, 2012, the temperature in central park was: \", temperature, \"degrees.\")"
   ]
  },
  {
   "cell_type": "markdown",
   "metadata": {},
   "source": [
    "Get temperatures for xmas days, 2005, 2007"
   ]
  },
  {
   "cell_type": "code",
   "execution_count": 24,
   "metadata": {
    "collapsed": false
   },
   "outputs": [
    {
     "name": "stdout",
     "output_type": "stream",
     "text": [
      "On x-mas day 2005 the temperature in central park was:  43.9 degrees.\n",
      "On x-mas day 2007 the temperature in central park was:  42.12 degrees.\n"
     ]
    }
   ],
   "source": [
    "year_list = [2005, 2007]\n",
    "for year in year_list:\n",
    "    time_request = str(year) + \"-12-25T12:00:00-0500\"\n",
    "    url = api_url + api_key + \"/\" + str(Y_coord) + \",\" + str(X_coord) + \",\" + time_request\n",
    "    response = requests.get(url)\n",
    "    data = response.json()\n",
    "    temperature = data['currently']['temperature']\n",
    "    print (\"On x-mas day\", year,\"the temperature in central park was: \", temperature, \"degrees.\")"
   ]
  },
  {
   "cell_type": "markdown",
   "metadata": {},
   "source": [
    "try very old year and see what happens"
   ]
  },
  {
   "cell_type": "code",
   "execution_count": 25,
   "metadata": {
    "collapsed": false
   },
   "outputs": [
    {
     "name": "stdout",
     "output_type": "stream",
     "text": [
      "{'code': 400, 'error': 'An invalid time was specified.'}\n"
     ]
    }
   ],
   "source": [
    "time_request = \"1500-12-25T12:00:00-0500\"\n",
    "url = api_url + api_key + \"/\" + str(Y_coord) + \",\" + str(X_coord) + \",\" + time_request\n",
    "response = requests.get(url)\n",
    "data = response.json()\n",
    "print (data)"
   ]
  },
  {
   "cell_type": "markdown",
   "metadata": {},
   "source": [
    "Loop backwards over years to see when the data ends. Start in 1970."
   ]
  },
  {
   "cell_type": "code",
   "execution_count": 26,
   "metadata": {
    "collapsed": false
   },
   "outputs": [
    {
     "name": "stdout",
     "output_type": "stream",
     "text": [
      "On x-mas day 1970 the temperature in central park was:  30.38 degrees.\n",
      "On x-mas day 1969 the temperature in central park was:  25.55 degrees.\n",
      "On x-mas day 1968 the temperature in central park was:  15.46 degrees.\n",
      "On x-mas day 1967 the temperature in central park was:  32.09 degrees.\n",
      "On x-mas day 1966 the temperature in central park was:  27.71 degrees.\n",
      "On x-mas day 1965 the temperature in central park was:  62.07 degrees.\n",
      "On x-mas day 1964 the temperature in central park was:  59.09 degrees.\n",
      "On x-mas day 1963 the temperature in central park was:  38.14 degrees.\n",
      "On x-mas day 1962 the temperature in central park was:  30.11 degrees.\n",
      "On x-mas day 1961 the temperature in central park was:  30.5 degrees.\n",
      "On x-mas day 1960 the temperature in central park was:  37.91 degrees.\n",
      "On x-mas day 1959 the temperature in central park was:  37.05 degrees.\n",
      "On x-mas day 1958 the temperature in central park was:  17.97 degrees.\n",
      "On x-mas day 1957 the temperature in central park was:  40.5 degrees.\n",
      "On x-mas day 1956 the temperature in central park was:  43.97 degrees.\n",
      "On x-mas day 1955 the temperature in central park was:  48.33 degrees.\n",
      "On x-mas day 1954 the temperature in central park was:  31.65 degrees.\n",
      "On x-mas day 1953 the temperature in central park was:  43.84 degrees.\n",
      "On x-mas day 1952 the temperature in central park was:  45.32 degrees.\n",
      "On x-mas day 1951 the temperature in central park was:  33.37 degrees.\n",
      "On x-mas day 1950 the temperature in central park was:  28.5 degrees.\n",
      "On x-mas day 1949 the temperature in central park was:  37.68 degrees.\n",
      "On x-mas day 1948 the temperature in central park was:  23.1 degrees.\n",
      "On x-mas day 1947 the temperature in central park was:  29.06 degrees.\n",
      "On x-mas day 1946 the temperature in central park was:  35 degrees.\n",
      "On x-mas day 1945 the temperature in central park was:  40 degrees.\n",
      "On x-mas day 1944 the temperature in central park was:  39 degrees.\n",
      "On x-mas day 1943 the temperature in central park was:  28.04 degrees.\n",
      "On x-mas day 1942 the temperature in central park was:  45 degrees.\n",
      "On x-mas day 1941 the temperature in central park was:  49 degrees.\n",
      "On x-mas day 1940 the temperature in central park was:  54 degrees.\n",
      "On x-mas day 1939 the temperature in central park was:  32 degrees.\n",
      "On x-mas day 1938 the temperature in central park was:  40 degrees.\n",
      "On x-mas day 1937 the temperature in central park was:  45 degrees.\n",
      "The data ends here.\n"
     ]
    }
   ],
   "source": [
    "year = 1970\n",
    "while True:\n",
    "    try:\n",
    "        time_request = str(year) + \"-12-25T12:00:00-0500\"\n",
    "        url = api_url + api_key + \"/\" + str(Y_coord) + \",\" + str(X_coord) + \",\" + time_request\n",
    "        response = requests.get(url)\n",
    "        data = response.json()\n",
    "        temperature = data['currently']['temperature']\n",
    "        print (\"On x-mas day\", year,\"the temperature in central park was: \", temperature, \"degrees.\")\n",
    "        year -= 1\n",
    "    except KeyError:\n",
    "        print (\"The data ends here.\")\n",
    "        break"
   ]
  }
 ],
 "metadata": {
  "kernelspec": {
   "display_name": "Python 3",
   "language": "python",
   "name": "python3"
  },
  "language_info": {
   "codemirror_mode": {
    "name": "ipython",
    "version": 3
   },
   "file_extension": ".py",
   "mimetype": "text/x-python",
   "name": "python",
   "nbconvert_exporter": "python",
   "pygments_lexer": "ipython3",
   "version": "3.4.5"
  }
 },
 "nbformat": 4,
 "nbformat_minor": 1
}
