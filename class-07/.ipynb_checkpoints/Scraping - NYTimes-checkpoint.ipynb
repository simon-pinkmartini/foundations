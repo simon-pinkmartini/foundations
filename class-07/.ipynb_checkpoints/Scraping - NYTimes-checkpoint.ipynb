{
 "cells": [
  {
   "cell_type": "markdown",
   "metadata": {},
   "source": [
    "# Scraping: https://www.nytimes.com/\n",
    "\n",
    "Let's try to scrape the frontpage of the NYT. We're looking for\n",
    "\n",
    "* Headlines\n",
    "* Bylines\n",
    "* Article links"
   ]
  },
  {
   "cell_type": "markdown",
   "metadata": {},
   "source": [
    "## Getting started\n",
    "\n",
    "We'll start by **importing the necessary libraries**."
   ]
  },
  {
   "cell_type": "code",
   "execution_count": 1,
   "metadata": {
    "collapsed": true
   },
   "outputs": [],
   "source": [
    "from bs4 import BeautifulSoup\n",
    "import requests"
   ]
  },
  {
   "cell_type": "markdown",
   "metadata": {},
   "source": [
    "And then move into **downloading the page** and **importing it into BeautifulSoup**."
   ]
  },
  {
   "cell_type": "code",
   "execution_count": 3,
   "metadata": {},
   "outputs": [],
   "source": [
    "resonse = requests.get(\"https://www.nytimes.com/\")"
   ]
  },
  {
   "cell_type": "code",
   "execution_count": null,
   "metadata": {
    "collapsed": true
   },
   "outputs": [],
   "source": [
    "doc = "
   ]
  },
  {
   "cell_type": "markdown",
   "metadata": {},
   "source": [
    "A lot of people call the analyzed page variable `soup` but for once in my life I actually go against the popular thing - I like to call it `doc`, since it helps me remember that it's the *entire document*."
   ]
  },
  {
   "cell_type": "code",
   "execution_count": null,
   "metadata": {
    "collapsed": true
   },
   "outputs": [],
   "source": []
  },
  {
   "cell_type": "markdown",
   "metadata": {},
   "source": [
    "## ATTEMPT ONE: Grabbing the tags directly\n",
    "\n",
    "Let's jump right into trying to grab the link.\n",
    "\n",
    "Oh, look it's an.... `a` tag. No special class or anything. What if we try to get all of the `a` tags on the page?"
   ]
  },
  {
   "cell_type": "code",
   "execution_count": null,
   "metadata": {
    "collapsed": true
   },
   "outputs": [],
   "source": []
  },
  {
   "cell_type": "markdown",
   "metadata": {},
   "source": [
    "Okay, that's terrible. Do you know how many `a` tags are going to be on that page? Many many many. Many very useless ones.\n",
    "\n",
    "## Talking to parents\n",
    "\n",
    "When you can't uniquely identify something, sometimes you need to go up the tree to find its **parent**, the elements that are above it. We'll be looking for an element that covers the **entire story**, then we'll pick the link out of it."
   ]
  },
  {
   "cell_type": "code",
   "execution_count": null,
   "metadata": {
    "collapsed": true
   },
   "outputs": [],
   "source": []
  },
  {
   "cell_type": "markdown",
   "metadata": {},
   "source": [
    "Great, it looks like this:\n",
    "    \n",
    "    <article class=\"story theme-summary lede\" id=\"topnews-100000004994965\" data-story-id=\"100000004994965\" data-rank=\"0\" data-collection-renderstyle=\"LedeSum\">\n",
    "\n",
    "I'm going to go out on a limb and say we should look for an `article` tag, but what about the class? `story theme-summary lede` gives us three options:\n",
    "\n",
    "* `story`\n",
    "* `theme-summary`\n",
    "* `lede`\n",
    "\n",
    "`story` sounds promising, yeah?"
   ]
  },
  {
   "cell_type": "code",
   "execution_count": null,
   "metadata": {
    "collapsed": true
   },
   "outputs": [],
   "source": []
  },
  {
   "cell_type": "markdown",
   "metadata": {},
   "source": [
    "Seems to work well enough! Now that we have a parent, **we can use that parent to grab the elements inside of the story.** We'll use `.find` and `.find_all` to get everything we need.\n",
    "\n",
    "* STEP ONE: Get the story\n",
    "* STEP TWO: Get the headline\n",
    "* STEP THREE: Get the byline\n",
    "* STEP FOUR: Get the link"
   ]
  },
  {
   "cell_type": "code",
   "execution_count": null,
   "metadata": {
    "collapsed": true
   },
   "outputs": [],
   "source": []
  },
  {
   "cell_type": "markdown",
   "metadata": {},
   "source": [
    "If we examine the page, it looks like headlines might be `h2` tags that have a `story-heaing` class."
   ]
  },
  {
   "cell_type": "code",
   "execution_count": null,
   "metadata": {
    "collapsed": true
   },
   "outputs": [],
   "source": []
  },
  {
   "cell_type": "markdown",
   "metadata": {
    "collapsed": true
   },
   "source": [
    "### An error strikes!\n",
    "\n",
    "But we get an error!\n",
    "\n",
    "    ---------------------------------------------------------------------------\n",
    "    AttributeError                            Traceback (most recent call last)\n",
    "    <ipython-input-57-9218ec61124f> in <module>()\n",
    "          4     print(\"This is a story\")\n",
    "          5     headline = story.find('h2', { 'class': 'story-heading' })\n",
    "    ----> 6     print(headline.text)\n",
    "\n",
    "    AttributeError: 'NoneType' object has no attribute 'text'\n",
    "\n",
    "Hm, a story missing a headline? Let's look at it a little closer. We could do this in a classy way, but let's just brute force it by print out every article just before the error line."
   ]
  },
  {
   "cell_type": "code",
   "execution_count": null,
   "metadata": {
    "collapsed": true
   },
   "outputs": [],
   "source": []
  },
  {
   "cell_type": "markdown",
   "metadata": {},
   "source": [
    "The error seems to happen with this one piece here:\n",
    "    \n",
    "    <h1 class=\"story-heading\"><a href=\"https://www.nytimes.com/2017/03/17/nyregion/norman-podhoretz-still-picks-fights-and-drops-names.html\">Legendary New York Intellectuals Are His Ex-Friends</a></h1>\n",
    "    <p class=\"summary\">Norman Podhoretz, the former editor at Commentary magazine, looks back at the fierce, argumentative parties of New York’s intelligentsia.</p>\n",
    "    <p class=\"byline\">By JOHN LELAND </p>\n",
    "    <p class=\"theme-comments\">\n",
    "    <a class=\"comments-link\" href=\"https://www.nytimes.com/2017/03/17/nyregion/norman-podhoretz-still-picks-fights-and-drops-names.html?hp&amp;target=comments#commentsContainer\"><i class=\"icon sprite-icon comments-icon\"></i><span class=\"comment-count\"> Comments</span></a>\n",
    "    </p>\n",
    "    </article>\n",
    "\n",
    "Oh look, it uses an `h1` instead of an `h2`, but it's still a `story-heading`. Let's change our code to **look for a `story-heading` class regardless of tag name**."
   ]
  },
  {
   "cell_type": "code",
   "execution_count": null,
   "metadata": {
    "collapsed": true
   },
   "outputs": [],
   "source": []
  },
  {
   "cell_type": "markdown",
   "metadata": {},
   "source": [
    "Another error! Let's print out again."
   ]
  },
  {
   "cell_type": "code",
   "execution_count": null,
   "metadata": {
    "collapsed": true
   },
   "outputs": [],
   "source": []
  },
  {
   "cell_type": "markdown",
   "metadata": {},
   "source": [
    "It looks like it failed on this one. \n",
    "\n",
    "    <article class=\"story\">\n",
    "    <h3 class=\"kicker\">\n",
    "    <a href=\"http://wordplay.blogs.nytimes.com\">Wordplay »</a>\n",
    "    </h3>\n",
    "    </article>\n",
    "\n",
    "Now we have a choice to make: do we care about this? I... don't. If we want to skip through to the next element in a loop, we can use `continue`.\n",
    "\n",
    "Let's say **hey, if you don't have a headline, we're going to skip you.**"
   ]
  },
  {
   "cell_type": "code",
   "execution_count": null,
   "metadata": {
    "collapsed": true
   },
   "outputs": [],
   "source": []
  },
  {
   "cell_type": "markdown",
   "metadata": {},
   "source": [
    "Maybe we can also say hey, let's get rid of the whitespace on the headlines by using `.strip()`"
   ]
  },
  {
   "cell_type": "code",
   "execution_count": null,
   "metadata": {
    "collapsed": true
   },
   "outputs": [],
   "source": []
  },
  {
   "cell_type": "markdown",
   "metadata": {},
   "source": [
    "### Next step: Adding more pieces\n",
    "\n",
    "Now we need to add in the links and the bylines. We'll start with the links by pulling in any `a` tags."
   ]
  },
  {
   "cell_type": "code",
   "execution_count": null,
   "metadata": {
    "collapsed": true,
    "scrolled": false
   },
   "outputs": [],
   "source": []
  },
  {
   "cell_type": "markdown",
   "metadata": {},
   "source": [
    "## Adding in bylines\n",
    "\n",
    "Bylines look like this:\n",
    "\n",
    "    <p class=\"byline\">By PETER BAKER and STEVEN ERLANGER <time class=\"timestamp\" datetime=\"2017-03-17\" data-eastern-timestamp=\"12:36 PM\" data-utc-timestamp=\"1489768575\">12:36 PM ET</time></p>\n",
    "    \n",
    "So... let's just grab the element inside of story that has the class of `byline`!"
   ]
  },
  {
   "cell_type": "code",
   "execution_count": null,
   "metadata": {
    "collapsed": true
   },
   "outputs": [],
   "source": []
  },
  {
   "cell_type": "markdown",
   "metadata": {},
   "source": [
    "So we get another one of those \"missing byline\" errors, yeah? Well, maybe not everything has a byline. It doesn't mean we should skip the whole thing, let's just skip the byline for that one."
   ]
  },
  {
   "cell_type": "code",
   "execution_count": null,
   "metadata": {
    "collapsed": true
   },
   "outputs": [],
   "source": []
  },
  {
   "cell_type": "markdown",
   "metadata": {},
   "source": [
    "**Looking a lot better!** Now the only problem is \"By LOUIS LUCERO II 1:00 PM ET\" instead of having \"LOUIS LUCERO II\" or even better \"LOUIS LUCERO II\".\n",
    "\n",
    "## So I guess you better learn regular expressions, 'eh?"
   ]
  }
 ],
 "metadata": {
  "kernelspec": {
   "display_name": "Python 3",
   "language": "python",
   "name": "python3"
  },
  "language_info": {
   "codemirror_mode": {
    "name": "ipython",
    "version": 3
   },
   "file_extension": ".py",
   "mimetype": "text/x-python",
   "name": "python",
   "nbconvert_exporter": "python",
   "pygments_lexer": "ipython3",
   "version": "3.6.1"
  }
 },
 "nbformat": 4,
 "nbformat_minor": 2
}
