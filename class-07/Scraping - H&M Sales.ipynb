{
 "cells": [
  {
   "cell_type": "markdown",
   "metadata": {},
   "source": [
    "# Scraping: H&M Sales\n",
    "\n",
    "**It's officially hot outside**, which means we need some summertime clothes. We live in New York City, though, so all our money goes to rent: we need to shop *as cheaply as possible*. So let's shop [sales at H&M](http://www.hm.com/us/products/sale)!\n",
    "\n",
    "**Answer the questions below using either Men's or Women's sale items at H&M.**\n",
    "\n",
    "## Preparation: knowing your tags\n",
    "\n",
    "### What is the tag name and class name for a product?"
   ]
  },
  {
   "cell_type": "markdown",
   "metadata": {},
   "source": [
    "**Inspecting the code in the browser:**\n",
    "\n",
    "The cloth items are stored inside a `<div>`-element that looks like this:\n",
    "`<div id=\"65743-D\" class=\"m-product js-product has-new-price    has-only-one-image\" data-promotion-creative=\"65743-D\">`\n",
    "\n",
    "We would be looking for `<div>`-tags with the attribute `class=\"m-product\"` or `class=\"js-product\"`.\n",
    "\n",
    "The product info is inside another `<div>` with class=\"product-info\""
   ]
  },
  {
   "cell_type": "markdown",
   "metadata": {},
   "source": [
    "### What is the tag name and class name for the old price? The new price?"
   ]
  },
  {
   "cell_type": "markdown",
   "metadata": {
    "collapsed": true
   },
   "source": [
    "Both prices are inside a `<div class=\"product-price\">`\n",
    "\n",
    "Old price inside a `<span class=\"old-price\">`\n",
    "\n",
    "New price inside a `<span class=\"price\">`"
   ]
  },
  {
   "cell_type": "markdown",
   "metadata": {},
   "source": [
    "### What is the tag name and class name for the link to the product page?"
   ]
  },
  {
   "cell_type": "markdown",
   "metadata": {
    "collapsed": true
   },
   "source": [
    "We see something like this:\n",
    "`<a href=\"http://www.hm.com/us/product/65743?article=65743-D\" class=\"product-url js-product-tracking\" data-ticket-id=\"Oy9...ODs\"></a>`\n",
    "\n",
    "Thus, the tag name would be `<a>`and the `class=\"product-url\"`"
   ]
  },
  {
   "cell_type": "markdown",
   "metadata": {},
   "source": [
    "## Setup: Import what you'll need to scrape the page\n",
    "\n",
    "Use `requests`, not `urllib`."
   ]
  },
  {
   "cell_type": "code",
   "execution_count": 1,
   "metadata": {
    "collapsed": true
   },
   "outputs": [],
   "source": [
    "import requests\n",
    "from bs4 import BeautifulSoup\n",
    "import pandas as pd"
   ]
  },
  {
   "cell_type": "markdown",
   "metadata": {},
   "source": [
    "## Try to scrape the page: how many product names can you find?\n",
    "\n",
    "\"Try\" to do it, because it *will not work.* Once you've learned that it won't work, spend a few minutes **looking at the page code** to see if you can figure out why.\n",
    "\n",
    "Eventually, ask for help by writing on the board."
   ]
  },
  {
   "cell_type": "code",
   "execution_count": 2,
   "metadata": {
    "collapsed": true
   },
   "outputs": [],
   "source": [
    "url = \"http://www.hm.com/us/products/sale/men\""
   ]
  },
  {
   "cell_type": "code",
   "execution_count": 4,
   "metadata": {
    "collapsed": true
   },
   "outputs": [],
   "source": [
    "response = requests.get(url)"
   ]
  },
  {
   "cell_type": "code",
   "execution_count": 7,
   "metadata": {
    "collapsed": true
   },
   "outputs": [],
   "source": [
    "doc = BeautifulSoup(response.text, \"html.parser\")"
   ]
  },
  {
   "cell_type": "code",
   "execution_count": 10,
   "metadata": {},
   "outputs": [
    {
     "data": {
      "text/plain": [
       "[]"
      ]
     },
     "execution_count": 10,
     "metadata": {},
     "output_type": "execute_result"
    }
   ],
   "source": [
    "doc.find_all(\"div\", class_=\"m-product\") #is empty"
   ]
  },
  {
   "cell_type": "code",
   "execution_count": 11,
   "metadata": {},
   "outputs": [
    {
     "data": {
      "text/plain": [
       "[]"
      ]
     },
     "execution_count": 11,
     "metadata": {},
     "output_type": "execute_result"
    }
   ],
   "source": [
    "doc.find_all(\"div\", class_=\"product-price\") #also empty"
   ]
  },
  {
   "cell_type": "code",
   "execution_count": 12,
   "metadata": {
    "collapsed": true
   },
   "outputs": [],
   "source": [
    "#Everything is done using JavaScript, html dynamically generated, not scrapeable using normal method"
   ]
  },
  {
   "cell_type": "markdown",
   "metadata": {},
   "source": [
    "## URLs"
   ]
  },
  {
   "cell_type": "code",
   "execution_count": 13,
   "metadata": {
    "collapsed": true
   },
   "outputs": [],
   "source": [
    "# Note from blackboard: Work with APIs and json feed!\n",
    "# check in webpage inspector (Network) for XHR-elements that call an API"
   ]
  },
  {
   "cell_type": "markdown",
   "metadata": {},
   "source": [
    "### What is the URL for data about on-sale men's clothing?"
   ]
  },
  {
   "cell_type": "markdown",
   "metadata": {
    "collapsed": true
   },
   "source": [
    "In the browser's address bar, we see the following:\n",
    "\n",
    "`http://www.hm.com/us/products/sale/men`\n",
    "\n",
    "Checking the Network tab in the inspector, we see a call to the following API\n",
    "\n",
    "`http://api.hm.com/v2/us/en/products/display?categories=sale%2Fmen&concealCategories=true&pageSize=60&page=1&deviceType=DESKTOP`\n",
    "\n",
    "In an actual API call, this might be reduced to: (need testing)\n",
    "\n",
    "`http://api.hm.com/v2/us/en/products/display?categories=sale%2Fmen`"
   ]
  },
  {
   "cell_type": "markdown",
   "metadata": {},
   "source": [
    "### What is the URL for data about on-sale women's clothing?"
   ]
  },
  {
   "cell_type": "markdown",
   "metadata": {
    "collapsed": true
   },
   "source": [
    "Similar to the above. Browser address:\n",
    "\n",
    "`http://www.hm.com/us/products/sale/ladies`\n",
    "\n",
    "API:\n",
    "    \n",
    "`http://api.hm.com/v2/us/en/products/display?categories=sale%2Fladies`"
   ]
  },
  {
   "cell_type": "markdown",
   "metadata": {},
   "source": [
    "### What is the URL for data about on-sale women's tops?"
   ]
  },
  {
   "cell_type": "markdown",
   "metadata": {
    "collapsed": true
   },
   "source": [
    "Browser address:\n",
    "\n",
    "`http://www.hm.com/us/products/sale/ladies/tops`\n",
    "\n",
    "API:\n",
    "\n",
    "`http://api.hm.com/v2/us/en/products/display?categories=sale%2Fladies%2Ftops`"
   ]
  },
  {
   "cell_type": "markdown",
   "metadata": {},
   "source": [
    "### What changes about the url based on what you're looking for?"
   ]
  },
  {
   "cell_type": "markdown",
   "metadata": {
    "collapsed": true
   },
   "source": [
    "In the browser address bar, the web page uses \"dictionary-style\" notation to pass the parameters. In the API, we have the base URL: `http://api.hm.com/v2/us/en/products/display?categories=` followed by a list of parameters like `ladies` and `tops` separated by spaces `(%2F)` "
   ]
  },
  {
   "cell_type": "markdown",
   "metadata": {},
   "source": [
    "## Request on-sale women's tops.\n",
    "\n",
    "### How many results do you get?"
   ]
  },
  {
   "cell_type": "code",
   "execution_count": 14,
   "metadata": {
    "collapsed": true
   },
   "outputs": [],
   "source": [
    "url = \"http://api.hm.com/v2/us/en/products/display?categories=sale%2Fladies%2Ftops\""
   ]
  },
  {
   "cell_type": "code",
   "execution_count": 15,
   "metadata": {
    "collapsed": true
   },
   "outputs": [],
   "source": [
    "response = requests.get(url)"
   ]
  },
  {
   "cell_type": "code",
   "execution_count": 17,
   "metadata": {},
   "outputs": [],
   "source": [
    "data = response.json()"
   ]
  },
  {
   "cell_type": "code",
   "execution_count": 19,
   "metadata": {},
   "outputs": [
    {
     "data": {
      "text/plain": [
       "dict_keys(['searchInfo', 'pagination', 'recommendations', 'displayArticles', 'filter', 'categories', 'trackingInfo', 'content'])"
      ]
     },
     "execution_count": 19,
     "metadata": {},
     "output_type": "execute_result"
    }
   ],
   "source": [
    "data.keys() #here are the keys of the main dictionary in the returned json structure"
   ]
  },
  {
   "cell_type": "code",
   "execution_count": 24,
   "metadata": {},
   "outputs": [
    {
     "data": {
      "text/plain": [
       "10"
      ]
     },
     "execution_count": 24,
     "metadata": {},
     "output_type": "execute_result"
    }
   ],
   "source": [
    "articles = data[\"displayArticles\"] #this looks like the list where the different articles are stored\n",
    "len(articles) #we get 10 articles in this list"
   ]
  },
  {
   "cell_type": "code",
   "execution_count": 51,
   "metadata": {},
   "outputs": [
    {
     "data": {
      "text/plain": [
       "'Short-sleeved Top'"
      ]
     },
     "execution_count": 51,
     "metadata": {},
     "output_type": "execute_result"
    }
   ],
   "source": [
    "articles[0][\"name\"] #Here, we have the name of the item"
   ]
  },
  {
   "cell_type": "markdown",
   "metadata": {},
   "source": [
    "### How many total results are there? How do you change the URL to get more?\n",
    "\n",
    "There are a few ways to change the URL to: there is one very easy way and one a-little-difficult way."
   ]
  },
  {
   "cell_type": "code",
   "execution_count": 64,
   "metadata": {
    "collapsed": true
   },
   "outputs": [],
   "source": [
    "#Method1: get the 2nd page (items 10 to 20) - takes long though\n",
    "url2 = \"http://api.hm.com/v2/us/en/products/display?categories=sale%2Fladies%2Ftops&concealCategories=true&page=2\""
   ]
  },
  {
   "cell_type": "code",
   "execution_count": 65,
   "metadata": {
    "collapsed": true
   },
   "outputs": [],
   "source": [
    "response2 = requests.get(url2)"
   ]
  },
  {
   "cell_type": "code",
   "execution_count": 66,
   "metadata": {
    "collapsed": true
   },
   "outputs": [],
   "source": [
    "data2 = response2.json()"
   ]
  },
  {
   "cell_type": "code",
   "execution_count": 67,
   "metadata": {},
   "outputs": [
    {
     "data": {
      "text/plain": [
       "dict_keys(['searchInfo', 'pagination', 'recommendations', 'displayArticles', 'filter', 'trackingInfo', 'content'])"
      ]
     },
     "execution_count": 67,
     "metadata": {},
     "output_type": "execute_result"
    }
   ],
   "source": [
    "data2.keys() #if we use the parameter \"concealCategories=true\" we can omit the categories"
   ]
  },
  {
   "cell_type": "code",
   "execution_count": 68,
   "metadata": {},
   "outputs": [
    {
     "data": {
      "text/plain": [
       "10"
      ]
     },
     "execution_count": 68,
     "metadata": {},
     "output_type": "execute_result"
    }
   ],
   "source": [
    "articles2 = data2[\"displayArticles\"]\n",
    "len(articles2)"
   ]
  },
  {
   "cell_type": "code",
   "execution_count": 69,
   "metadata": {},
   "outputs": [
    {
     "data": {
      "text/plain": [
       "'T-shirt with Printed Design'"
      ]
     },
     "execution_count": 69,
     "metadata": {},
     "output_type": "execute_result"
    }
   ],
   "source": [
    "articles2[0][\"name\"]"
   ]
  },
  {
   "cell_type": "code",
   "execution_count": 75,
   "metadata": {
    "collapsed": true
   },
   "outputs": [],
   "source": [
    "#Method 2: increase the page size (until the len(articles) stops increasing, trying 100, 500)\n",
    "url3 = \"http://api.hm.com/v2/us/en/products/display?categories=sale%2Fladies%2Ftops&concealCategories=true&pageSize=500\""
   ]
  },
  {
   "cell_type": "code",
   "execution_count": 76,
   "metadata": {
    "collapsed": true
   },
   "outputs": [],
   "source": [
    "response3 = requests.get(url3)"
   ]
  },
  {
   "cell_type": "code",
   "execution_count": 77,
   "metadata": {
    "collapsed": true
   },
   "outputs": [],
   "source": [
    "data3 = response3.json()"
   ]
  },
  {
   "cell_type": "code",
   "execution_count": 78,
   "metadata": {},
   "outputs": [
    {
     "data": {
      "text/plain": [
       "360"
      ]
     },
     "execution_count": 78,
     "metadata": {},
     "output_type": "execute_result"
    }
   ],
   "source": [
    "articles3 = data3[\"displayArticles\"]\n",
    "len(articles3) #there are 360 items in there in total"
   ]
  },
  {
   "cell_type": "code",
   "execution_count": 74,
   "metadata": {},
   "outputs": [
    {
     "data": {
      "text/plain": [
       "'Short-sleeved Top'"
      ]
     },
     "execution_count": 74,
     "metadata": {},
     "output_type": "execute_result"
    }
   ],
   "source": [
    "articles3[0][\"name\"]"
   ]
  },
  {
   "cell_type": "markdown",
   "metadata": {},
   "source": [
    "### Download all on-sale women's tops and save them to a CSV.\n",
    "\n",
    "I want this CSV to include\n",
    "\n",
    "- Name\n",
    "- Product code/number\n",
    "- Old price\n",
    "- On-sale price\n",
    "- Item's URL"
   ]
  },
  {
   "cell_type": "code",
   "execution_count": 79,
   "metadata": {},
   "outputs": [
    {
     "data": {
      "text/plain": [
       "{'activityArticleNumber': '724476',\n",
       " 'additionalImages': [],\n",
       " 'articleCode': '65274-B',\n",
       " 'assortmentState': 'CURRENT',\n",
       " 'availableSizeInfo': [{'sizeName': 'XS', 'stockSize': '003'},\n",
       "  {'sizeName': 'S', 'stockSize': '004'},\n",
       "  {'sizeName': 'M', 'stockSize': '005'},\n",
       "  {'sizeName': 'L', 'stockSize': '006'},\n",
       "  {'sizeName': 'XL', 'stockSize': '007'}],\n",
       " 'availableSwatches': [{'articleCode': '65274-B',\n",
       "   'castorArticleId': '0478110001',\n",
       "   'colour': 'ffffff',\n",
       "   'fabricImageResource': '/fabric/2017/AA6FB049-4F2D-4827-805F-4D7271619395.jpg',\n",
       "   'fabricUrl': '//lp.hm.com/hmprod?set=source[/fabric/2017/AA6FB049-4F2D-4827-805F-4D7271619395.jpg]&call=url[file:/mobile/v1/fabric/sprite]'}],\n",
       " 'castorArticleNumber': '001',\n",
       " 'castorProductNumber': '0478110',\n",
       " 'colourDescription': 'White',\n",
       " 'departments': [{'code': 'LADIES',\n",
       "   'name': 'NAVIGATION.LABEL.DEPARTMENT.LADIES',\n",
       "   'paths': ['LADIES/LADIES_TOPS/LADIES_TOPS_SHORT_SLEEVED',\n",
       "    'LADIES/LADIES_BASICS/LADIES_BASICS_TOPS/LADIES_BASICS_TOPS_SHORTSLEEVE']}],\n",
       " 'name': 'Short-sleeved Top',\n",
       " 'priceInfo': {'currencyIso': 'USD',\n",
       "  'currencySymbol': '$',\n",
       "  'formattedOldPrice': '$9.99',\n",
       "  'formattedPrice': '$6.99',\n",
       "  'onSale': True,\n",
       "  'prefixCurrencySymbol': '$',\n",
       "  'price': 6.99,\n",
       "  'suffixCurrencySymbol': ''},\n",
       " 'primaryImage': {'type': 'STILL_LIFE_FRONT',\n",
       "  'url': '//lp.hm.com/hmprod?set=key[source],value[/model/2017/E00 0478110 001 77 1688.jpg]&set=key[rotate],value[]&set=key[width],value[]&set=key[height],value[]&set=key[x],value[]&set=key[y],value[]&set=key[type],value[STILL_LIFE_FRONT]&set=key[hmver],value[2]&set=key[quality],value[50]&set=key[size],value[748x872]&call=url[file:/mobile/v2/product]'},\n",
       " 'productMarker': {'markerDescription': '',\n",
       "  'markerText': 'CONSCIOUS',\n",
       "  'markerType': 'CONSCIOUS'},\n",
       " 'productNumber': '65274',\n",
       " 'stockState': 'IN_STOCK',\n",
       " 'textualMarkers': [],\n",
       " 'trackingInfo': {'ticketId': 'Oy9wcm9kdWN0LWxpc3RpbmdzLXVzaW5nLWRwbi9wcm9kdWN0LWxpc3Qtd2l0aC1jb3VudC9wcm9kdWN0LWxpc3Qtd2l0aC1jb3VudC9wcm9kdWN0LWxpc3Q7Iztwcm9kdWN0X2tleTs2NTI3NC01X2VuX1VTOzY1Mjc0LUJfZW5fVVM7O05PTkU6Tk9ORTs2Ow'},\n",
       " 'webUrl': 'http://api.hm.com/us/product/65274?article=65274-B'}"
      ]
     },
     "execution_count": 79,
     "metadata": {},
     "output_type": "execute_result"
    }
   ],
   "source": [
    "articles3[0] #need t look what's inside"
   ]
  },
  {
   "cell_type": "code",
   "execution_count": 82,
   "metadata": {},
   "outputs": [],
   "source": [
    "scraped_articles = []\n",
    "for article in articles3:\n",
    "    current = {}\n",
    "    current[\"name\"] = article[\"name\"]\n",
    "    current[\"code\"] = article[\"articleCode\"]\n",
    "    current[\"oldprice\"] = article[\"priceInfo\"][\"formattedOldPrice\"]\n",
    "    current[\"price\"] = article[\"priceInfo\"][\"formattedPrice\"]\n",
    "    current[\"url\"] = article[\"webUrl\"]\n",
    "    scraped_articles.append(current) "
   ]
  },
  {
   "cell_type": "code",
   "execution_count": 83,
   "metadata": {
    "collapsed": true
   },
   "outputs": [],
   "source": [
    "df = pd.DataFrame(scraped_articles)"
   ]
  },
  {
   "cell_type": "code",
   "execution_count": 84,
   "metadata": {
    "collapsed": true
   },
   "outputs": [],
   "source": [
    "df.to_csv(\"scraped_articles.csv\", index=False)"
   ]
  },
  {
   "cell_type": "markdown",
   "metadata": {},
   "source": [
    "## Analyzing on-sale items\n",
    "\n",
    "### Read in the on-sale CSV and make sure the data looks right"
   ]
  },
  {
   "cell_type": "code",
   "execution_count": null,
   "metadata": {
    "collapsed": true
   },
   "outputs": [],
   "source": [
    "#df_in = pd.read_csv(\"scraped_articles.csv\")\n",
    "#This gives me some unicode-related error... opening file in editor to see where problem is"
   ]
  },
  {
   "cell_type": "code",
   "execution_count": 87,
   "metadata": {},
   "outputs": [
    {
     "data": {
      "text/plain": [
       "{'code': '65300-C',\n",
       " 'name': 'Crêped Camisole Top',\n",
       " 'oldprice': '$17.99',\n",
       " 'price': '$7',\n",
       " 'url': 'http://api.hm.com/us/product/65300?article=65300-C'}"
      ]
     },
     "execution_count": 87,
     "metadata": {},
     "output_type": "execute_result"
    }
   ],
   "source": [
    "scraped_articles[9] #probably the special characters"
   ]
  },
  {
   "cell_type": "code",
   "execution_count": 90,
   "metadata": {},
   "outputs": [
    {
     "data": {
      "text/plain": [
       "'Crêped Camisole Top'"
      ]
     },
     "execution_count": 90,
     "metadata": {},
     "output_type": "execute_result"
    }
   ],
   "source": [
    "df[\"name\"][9] #still looks ok at this point"
   ]
  },
  {
   "cell_type": "code",
   "execution_count": 91,
   "metadata": {
    "collapsed": true
   },
   "outputs": [],
   "source": [
    "df.to_csv(\"scraped_articles.csv\", index=False, encoding=\"utf-8\") #looks better now"
   ]
  },
  {
   "cell_type": "code",
   "execution_count": 110,
   "metadata": {},
   "outputs": [],
   "source": [
    "df_in = pd.read_csv(\"scraped_articles.csv\") #now it works"
   ]
  },
  {
   "cell_type": "code",
   "execution_count": 111,
   "metadata": {},
   "outputs": [
    {
     "data": {
      "text/html": [
       "<div>\n",
       "<style>\n",
       "    .dataframe thead tr:only-child th {\n",
       "        text-align: right;\n",
       "    }\n",
       "\n",
       "    .dataframe thead th {\n",
       "        text-align: left;\n",
       "    }\n",
       "\n",
       "    .dataframe tbody tr th {\n",
       "        vertical-align: top;\n",
       "    }\n",
       "</style>\n",
       "<table border=\"1\" class=\"dataframe\">\n",
       "  <thead>\n",
       "    <tr style=\"text-align: right;\">\n",
       "      <th></th>\n",
       "      <th>code</th>\n",
       "      <th>name</th>\n",
       "      <th>oldprice</th>\n",
       "      <th>price</th>\n",
       "      <th>url</th>\n",
       "    </tr>\n",
       "  </thead>\n",
       "  <tbody>\n",
       "    <tr>\n",
       "      <th>0</th>\n",
       "      <td>65274-B</td>\n",
       "      <td>Short-sleeved Top</td>\n",
       "      <td>$9.99</td>\n",
       "      <td>$6.99</td>\n",
       "      <td>http://api.hm.com/us/product/65274?article=652...</td>\n",
       "    </tr>\n",
       "    <tr>\n",
       "      <th>1</th>\n",
       "      <td>65274-A</td>\n",
       "      <td>Short-sleeved Top</td>\n",
       "      <td>$9.99</td>\n",
       "      <td>$6.99</td>\n",
       "      <td>http://api.hm.com/us/product/65274?article=652...</td>\n",
       "    </tr>\n",
       "    <tr>\n",
       "      <th>2</th>\n",
       "      <td>65274-F</td>\n",
       "      <td>Short-sleeved Top</td>\n",
       "      <td>$9.99</td>\n",
       "      <td>$6.99</td>\n",
       "      <td>http://api.hm.com/us/product/65274?article=652...</td>\n",
       "    </tr>\n",
       "    <tr>\n",
       "      <th>3</th>\n",
       "      <td>65274-E</td>\n",
       "      <td>Short-sleeved Top</td>\n",
       "      <td>$9.99</td>\n",
       "      <td>$6.99</td>\n",
       "      <td>http://api.hm.com/us/product/65274?article=652...</td>\n",
       "    </tr>\n",
       "    <tr>\n",
       "      <th>4</th>\n",
       "      <td>60133-B</td>\n",
       "      <td>Jersey Top</td>\n",
       "      <td>$12.99</td>\n",
       "      <td>$5</td>\n",
       "      <td>http://api.hm.com/us/product/60133?article=601...</td>\n",
       "    </tr>\n",
       "  </tbody>\n",
       "</table>\n",
       "</div>"
      ],
      "text/plain": [
       "      code               name oldprice  price  \\\n",
       "0  65274-B  Short-sleeved Top    $9.99  $6.99   \n",
       "1  65274-A  Short-sleeved Top    $9.99  $6.99   \n",
       "2  65274-F  Short-sleeved Top    $9.99  $6.99   \n",
       "3  65274-E  Short-sleeved Top    $9.99  $6.99   \n",
       "4  60133-B         Jersey Top   $12.99     $5   \n",
       "\n",
       "                                                 url  \n",
       "0  http://api.hm.com/us/product/65274?article=652...  \n",
       "1  http://api.hm.com/us/product/65274?article=652...  \n",
       "2  http://api.hm.com/us/product/65274?article=652...  \n",
       "3  http://api.hm.com/us/product/65274?article=652...  \n",
       "4  http://api.hm.com/us/product/60133?article=601...  "
      ]
     },
     "execution_count": 111,
     "metadata": {},
     "output_type": "execute_result"
    }
   ],
   "source": [
    "df_in.head()"
   ]
  },
  {
   "cell_type": "markdown",
   "metadata": {},
   "source": [
    "### Convert the prices to numbers, if you haven't already"
   ]
  },
  {
   "cell_type": "code",
   "execution_count": 116,
   "metadata": {},
   "outputs": [],
   "source": [
    "df_in[\"oldprice\"] = df_in[\"oldprice\"].str[1:].astype(float)"
   ]
  },
  {
   "cell_type": "code",
   "execution_count": 114,
   "metadata": {
    "collapsed": true
   },
   "outputs": [],
   "source": [
    "df_in[\"price\"] = df_in[\"price\"].str[1:].astype(float)"
   ]
  },
  {
   "cell_type": "code",
   "execution_count": 117,
   "metadata": {},
   "outputs": [
    {
     "data": {
      "text/html": [
       "<div>\n",
       "<style>\n",
       "    .dataframe thead tr:only-child th {\n",
       "        text-align: right;\n",
       "    }\n",
       "\n",
       "    .dataframe thead th {\n",
       "        text-align: left;\n",
       "    }\n",
       "\n",
       "    .dataframe tbody tr th {\n",
       "        vertical-align: top;\n",
       "    }\n",
       "</style>\n",
       "<table border=\"1\" class=\"dataframe\">\n",
       "  <thead>\n",
       "    <tr style=\"text-align: right;\">\n",
       "      <th></th>\n",
       "      <th>code</th>\n",
       "      <th>name</th>\n",
       "      <th>oldprice</th>\n",
       "      <th>price</th>\n",
       "      <th>url</th>\n",
       "    </tr>\n",
       "  </thead>\n",
       "  <tbody>\n",
       "    <tr>\n",
       "      <th>0</th>\n",
       "      <td>65274-B</td>\n",
       "      <td>Short-sleeved Top</td>\n",
       "      <td>9.99</td>\n",
       "      <td>6.99</td>\n",
       "      <td>http://api.hm.com/us/product/65274?article=652...</td>\n",
       "    </tr>\n",
       "    <tr>\n",
       "      <th>1</th>\n",
       "      <td>65274-A</td>\n",
       "      <td>Short-sleeved Top</td>\n",
       "      <td>9.99</td>\n",
       "      <td>6.99</td>\n",
       "      <td>http://api.hm.com/us/product/65274?article=652...</td>\n",
       "    </tr>\n",
       "    <tr>\n",
       "      <th>2</th>\n",
       "      <td>65274-F</td>\n",
       "      <td>Short-sleeved Top</td>\n",
       "      <td>9.99</td>\n",
       "      <td>6.99</td>\n",
       "      <td>http://api.hm.com/us/product/65274?article=652...</td>\n",
       "    </tr>\n",
       "    <tr>\n",
       "      <th>3</th>\n",
       "      <td>65274-E</td>\n",
       "      <td>Short-sleeved Top</td>\n",
       "      <td>9.99</td>\n",
       "      <td>6.99</td>\n",
       "      <td>http://api.hm.com/us/product/65274?article=652...</td>\n",
       "    </tr>\n",
       "    <tr>\n",
       "      <th>4</th>\n",
       "      <td>60133-B</td>\n",
       "      <td>Jersey Top</td>\n",
       "      <td>12.99</td>\n",
       "      <td>5.00</td>\n",
       "      <td>http://api.hm.com/us/product/60133?article=601...</td>\n",
       "    </tr>\n",
       "  </tbody>\n",
       "</table>\n",
       "</div>"
      ],
      "text/plain": [
       "      code               name  oldprice  price  \\\n",
       "0  65274-B  Short-sleeved Top      9.99   6.99   \n",
       "1  65274-A  Short-sleeved Top      9.99   6.99   \n",
       "2  65274-F  Short-sleeved Top      9.99   6.99   \n",
       "3  65274-E  Short-sleeved Top      9.99   6.99   \n",
       "4  60133-B         Jersey Top     12.99   5.00   \n",
       "\n",
       "                                                 url  \n",
       "0  http://api.hm.com/us/product/65274?article=652...  \n",
       "1  http://api.hm.com/us/product/65274?article=652...  \n",
       "2  http://api.hm.com/us/product/65274?article=652...  \n",
       "3  http://api.hm.com/us/product/65274?article=652...  \n",
       "4  http://api.hm.com/us/product/60133?article=601...  "
      ]
     },
     "execution_count": 117,
     "metadata": {},
     "output_type": "execute_result"
    }
   ],
   "source": [
    "df_in.head()"
   ]
  },
  {
   "cell_type": "markdown",
   "metadata": {},
   "source": [
    "### What is the average on-sale price of a women's top? Make a histogram, too, please."
   ]
  },
  {
   "cell_type": "code",
   "execution_count": 123,
   "metadata": {},
   "outputs": [
    {
     "data": {
      "text/plain": [
       "11.452256944444445"
      ]
     },
     "execution_count": 123,
     "metadata": {},
     "output_type": "execute_result"
    }
   ],
   "source": [
    "df_in[df_in[\"name\"].str.contains(\"Top\")][\"price\"].mean()"
   ]
  },
  {
   "cell_type": "code",
   "execution_count": 128,
   "metadata": {
    "collapsed": true
   },
   "outputs": [],
   "source": [
    "%matplotlib inline"
   ]
  },
  {
   "cell_type": "code",
   "execution_count": 130,
   "metadata": {},
   "outputs": [
    {
     "data": {
      "text/plain": [
       "<matplotlib.axes._subplots.AxesSubplot at 0x7628a10>"
      ]
     },
     "execution_count": 130,
     "metadata": {},
     "output_type": "execute_result"
    },
    {
     "data": {
      "image/png": "[encoded data removed]",
      "text/plain": [
       "<matplotlib.figure.Figure at 0x7689ed0>"
      ]
     },
     "metadata": {},
     "output_type": "display_data"
    }
   ],
   "source": [
    "df_in[df_in[\"name\"].str.contains(\"Top\")][\"price\"].hist(bins=30)"
   ]
  },
  {
   "cell_type": "markdown",
   "metadata": {},
   "source": [
    "### What is the average discount between full price and on sale? Histogram too, please."
   ]
  },
  {
   "cell_type": "code",
   "execution_count": 131,
   "metadata": {
    "collapsed": true
   },
   "outputs": [],
   "source": [
    "df_in[\"discount\"] = df_in[\"oldprice\"] - df_in[\"price\"]"
   ]
  },
  {
   "cell_type": "code",
   "execution_count": 133,
   "metadata": {},
   "outputs": [
    {
     "data": {
      "text/plain": [
       "8.5825277777777771"
      ]
     },
     "execution_count": 133,
     "metadata": {},
     "output_type": "execute_result"
    }
   ],
   "source": [
    "df_in[\"discount\"].mean() #average discount (in $) is $8.58"
   ]
  },
  {
   "cell_type": "code",
   "execution_count": 134,
   "metadata": {},
   "outputs": [
    {
     "data": {
      "text/plain": [
       "<matplotlib.axes._subplots.AxesSubplot at 0x874aa50>"
      ]
     },
     "execution_count": 134,
     "metadata": {},
     "output_type": "execute_result"
    },
    {
     "data": {
      "image/png": "[encoded data removed]",
      "text/plain": [
       "<matplotlib.figure.Figure at 0x8729130>"
      ]
     },
     "metadata": {},
     "output_type": "display_data"
    }
   ],
   "source": [
    "df_in[\"discount\"].hist(bins=30)"
   ]
  },
  {
   "cell_type": "markdown",
   "metadata": {},
   "source": [
    "### What is the average discount as a percentage of the full price? Histogram too, please."
   ]
  },
  {
   "cell_type": "code",
   "execution_count": 138,
   "metadata": {
    "collapsed": true
   },
   "outputs": [],
   "source": [
    "df_in[\"discount_percent\"] = df_in[\"discount\"] / df_in[\"oldprice\"]"
   ]
  },
  {
   "cell_type": "code",
   "execution_count": 139,
   "metadata": {},
   "outputs": [
    {
     "data": {
      "text/plain": [
       "0.42630687420681995"
      ]
     },
     "execution_count": 139,
     "metadata": {},
     "output_type": "execute_result"
    }
   ],
   "source": [
    "df_in[\"discount_percent\"].mean() #average discount (in %) is 42.6%"
   ]
  },
  {
   "cell_type": "code",
   "execution_count": 140,
   "metadata": {},
   "outputs": [
    {
     "data": {
      "text/plain": [
       "<matplotlib.axes._subplots.AxesSubplot at 0x87ff3f0>"
      ]
     },
     "execution_count": 140,
     "metadata": {},
     "output_type": "execute_result"
    },
    {
     "data": {
      "image/png": "[encoded data removed]",
      "text/plain": [
       "<matplotlib.figure.Figure at 0x880adf0>"
      ]
     },
     "metadata": {},
     "output_type": "display_data"
    }
   ],
   "source": [
    "df_in[\"discount_percent\"].hist(bins=30)"
   ]
  },
  {
   "cell_type": "markdown",
   "metadata": {},
   "source": [
    "## Shopping the sales\n",
    "\n",
    "### How many items are over 50% off?\n"
   ]
  },
  {
   "cell_type": "code",
   "execution_count": 141,
   "metadata": {},
   "outputs": [
    {
     "data": {
      "text/plain": [
       "(92, 7)"
      ]
     },
     "execution_count": 141,
     "metadata": {},
     "output_type": "execute_result"
    }
   ],
   "source": [
    "df_in[df_in[\"discount_percent\"] > 0.5].shape #number of items with 50% off and more: 92"
   ]
  },
  {
   "cell_type": "markdown",
   "metadata": {},
   "source": [
    "### Display all items above 50% off.\n",
    "\n",
    "Pandas doesn't want to show you every row. Change its settings so it will display up to **200 rows of content.**"
   ]
  },
  {
   "cell_type": "code",
   "execution_count": 143,
   "metadata": {
    "collapsed": true
   },
   "outputs": [],
   "source": [
    "pd.set_option('display.max_rows', 200)"
   ]
  },
  {
   "cell_type": "code",
   "execution_count": 144,
   "metadata": {},
   "outputs": [
    {
     "data": {
      "text/html": [
       "<div>\n",
       "<style>\n",
       "    .dataframe thead tr:only-child th {\n",
       "        text-align: right;\n",
       "    }\n",
       "\n",
       "    .dataframe thead th {\n",
       "        text-align: left;\n",
       "    }\n",
       "\n",
       "    .dataframe tbody tr th {\n",
       "        vertical-align: top;\n",
       "    }\n",
       "</style>\n",
       "<table border=\"1\" class=\"dataframe\">\n",
       "  <thead>\n",
       "    <tr style=\"text-align: right;\">\n",
       "      <th></th>\n",
       "      <th>code</th>\n",
       "      <th>name</th>\n",
       "      <th>oldprice</th>\n",
       "      <th>price</th>\n",
       "      <th>url</th>\n",
       "      <th>discount</th>\n",
       "      <th>discount_percent</th>\n",
       "    </tr>\n",
       "  </thead>\n",
       "  <tbody>\n",
       "    <tr>\n",
       "      <th>4</th>\n",
       "      <td>60133-B</td>\n",
       "      <td>Jersey Top</td>\n",
       "      <td>12.99</td>\n",
       "      <td>5.00</td>\n",
       "      <td>http://api.hm.com/us/product/60133?article=601...</td>\n",
       "      <td>7.99</td>\n",
       "      <td>0.615089</td>\n",
       "    </tr>\n",
       "    <tr>\n",
       "      <th>5</th>\n",
       "      <td>60133-F</td>\n",
       "      <td>Jersey Top</td>\n",
       "      <td>12.99</td>\n",
       "      <td>5.00</td>\n",
       "      <td>http://api.hm.com/us/product/60133?article=601...</td>\n",
       "      <td>7.99</td>\n",
       "      <td>0.615089</td>\n",
       "    </tr>\n",
       "    <tr>\n",
       "      <th>6</th>\n",
       "      <td>60133-E</td>\n",
       "      <td>Jersey Top</td>\n",
       "      <td>12.99</td>\n",
       "      <td>5.00</td>\n",
       "      <td>http://api.hm.com/us/product/60133?article=601...</td>\n",
       "      <td>7.99</td>\n",
       "      <td>0.615089</td>\n",
       "    </tr>\n",
       "    <tr>\n",
       "      <th>7</th>\n",
       "      <td>68934-C</td>\n",
       "      <td>Jersey Top</td>\n",
       "      <td>12.99</td>\n",
       "      <td>5.99</td>\n",
       "      <td>http://api.hm.com/us/product/68934?article=689...</td>\n",
       "      <td>7.00</td>\n",
       "      <td>0.538876</td>\n",
       "    </tr>\n",
       "    <tr>\n",
       "      <th>8</th>\n",
       "      <td>68934-A</td>\n",
       "      <td>Jersey Top</td>\n",
       "      <td>12.99</td>\n",
       "      <td>5.99</td>\n",
       "      <td>http://api.hm.com/us/product/68934?article=689...</td>\n",
       "      <td>7.00</td>\n",
       "      <td>0.538876</td>\n",
       "    </tr>\n",
       "    <tr>\n",
       "      <th>9</th>\n",
       "      <td>65300-C</td>\n",
       "      <td>Crêped Camisole Top</td>\n",
       "      <td>17.99</td>\n",
       "      <td>7.00</td>\n",
       "      <td>http://api.hm.com/us/product/65300?article=653...</td>\n",
       "      <td>10.99</td>\n",
       "      <td>0.610895</td>\n",
       "    </tr>\n",
       "    <tr>\n",
       "      <th>10</th>\n",
       "      <td>63019-K</td>\n",
       "      <td>T-shirt with Printed Design</td>\n",
       "      <td>12.99</td>\n",
       "      <td>5.99</td>\n",
       "      <td>http://api.hm.com/us/product/63019?article=630...</td>\n",
       "      <td>7.00</td>\n",
       "      <td>0.538876</td>\n",
       "    </tr>\n",
       "    <tr>\n",
       "      <th>11</th>\n",
       "      <td>65300-A</td>\n",
       "      <td>Crêped Camisole Top</td>\n",
       "      <td>17.99</td>\n",
       "      <td>7.00</td>\n",
       "      <td>http://api.hm.com/us/product/65300?article=653...</td>\n",
       "      <td>10.99</td>\n",
       "      <td>0.610895</td>\n",
       "    </tr>\n",
       "    <tr>\n",
       "      <th>12</th>\n",
       "      <td>63019-A</td>\n",
       "      <td>T-shirt with Printed Design</td>\n",
       "      <td>12.99</td>\n",
       "      <td>5.99</td>\n",
       "      <td>http://api.hm.com/us/product/63019?article=630...</td>\n",
       "      <td>7.00</td>\n",
       "      <td>0.538876</td>\n",
       "    </tr>\n",
       "    <tr>\n",
       "      <th>14</th>\n",
       "      <td>63019-Q</td>\n",
       "      <td>T-shirt with Printed Design</td>\n",
       "      <td>12.99</td>\n",
       "      <td>5.99</td>\n",
       "      <td>http://api.hm.com/us/product/63019?article=630...</td>\n",
       "      <td>7.00</td>\n",
       "      <td>0.538876</td>\n",
       "    </tr>\n",
       "    <tr>\n",
       "      <th>15</th>\n",
       "      <td>65300-B</td>\n",
       "      <td>Crêped Camisole Top</td>\n",
       "      <td>17.99</td>\n",
       "      <td>7.00</td>\n",
       "      <td>http://api.hm.com/us/product/65300?article=653...</td>\n",
       "      <td>10.99</td>\n",
       "      <td>0.610895</td>\n",
       "    </tr>\n",
       "    <tr>\n",
       "      <th>16</th>\n",
       "      <td>65300-D</td>\n",
       "      <td>Crêped Camisole Top</td>\n",
       "      <td>17.99</td>\n",
       "      <td>7.00</td>\n",
       "      <td>http://api.hm.com/us/product/65300?article=653...</td>\n",
       "      <td>10.99</td>\n",
       "      <td>0.610895</td>\n",
       "    </tr>\n",
       "    <tr>\n",
       "      <th>22</th>\n",
       "      <td>62235-F</td>\n",
       "      <td>Long-sleeved Top</td>\n",
       "      <td>12.99</td>\n",
       "      <td>5.99</td>\n",
       "      <td>http://api.hm.com/us/product/62235?article=622...</td>\n",
       "      <td>7.00</td>\n",
       "      <td>0.538876</td>\n",
       "    </tr>\n",
       "    <tr>\n",
       "      <th>23</th>\n",
       "      <td>67739-A</td>\n",
       "      <td>Top with Lace Details</td>\n",
       "      <td>14.99</td>\n",
       "      <td>7.00</td>\n",
       "      <td>http://api.hm.com/us/product/67739?article=677...</td>\n",
       "      <td>7.99</td>\n",
       "      <td>0.533022</td>\n",
       "    </tr>\n",
       "    <tr>\n",
       "      <th>24</th>\n",
       "      <td>67739-D</td>\n",
       "      <td>Top with Lace Details</td>\n",
       "      <td>14.99</td>\n",
       "      <td>7.00</td>\n",
       "      <td>http://api.hm.com/us/product/67739?article=677...</td>\n",
       "      <td>7.99</td>\n",
       "      <td>0.533022</td>\n",
       "    </tr>\n",
       "    <tr>\n",
       "      <th>25</th>\n",
       "      <td>62235-B</td>\n",
       "      <td>Long-sleeved Top</td>\n",
       "      <td>12.99</td>\n",
       "      <td>5.99</td>\n",
       "      <td>http://api.hm.com/us/product/62235?article=622...</td>\n",
       "      <td>7.00</td>\n",
       "      <td>0.538876</td>\n",
       "    </tr>\n",
       "    <tr>\n",
       "      <th>26</th>\n",
       "      <td>62235-A</td>\n",
       "      <td>Long-sleeved Top</td>\n",
       "      <td>12.99</td>\n",
       "      <td>5.99</td>\n",
       "      <td>http://api.hm.com/us/product/62235?article=622...</td>\n",
       "      <td>7.00</td>\n",
       "      <td>0.538876</td>\n",
       "    </tr>\n",
       "    <tr>\n",
       "      <th>27</th>\n",
       "      <td>62235-G</td>\n",
       "      <td>Long-sleeved Top</td>\n",
       "      <td>12.99</td>\n",
       "      <td>5.99</td>\n",
       "      <td>http://api.hm.com/us/product/62235?article=622...</td>\n",
       "      <td>7.00</td>\n",
       "      <td>0.538876</td>\n",
       "    </tr>\n",
       "    <tr>\n",
       "      <th>30</th>\n",
       "      <td>54630-F</td>\n",
       "      <td>Slub Jersey Top</td>\n",
       "      <td>12.99</td>\n",
       "      <td>5.99</td>\n",
       "      <td>http://api.hm.com/us/product/54630?article=546...</td>\n",
       "      <td>7.00</td>\n",
       "      <td>0.538876</td>\n",
       "    </tr>\n",
       "    <tr>\n",
       "      <th>32</th>\n",
       "      <td>43522-E</td>\n",
       "      <td>Slub Jersey Top</td>\n",
       "      <td>17.99</td>\n",
       "      <td>7.99</td>\n",
       "      <td>http://api.hm.com/us/product/43522?article=435...</td>\n",
       "      <td>10.00</td>\n",
       "      <td>0.555864</td>\n",
       "    </tr>\n",
       "    <tr>\n",
       "      <th>33</th>\n",
       "      <td>43522-G</td>\n",
       "      <td>Slub Jersey Top</td>\n",
       "      <td>17.99</td>\n",
       "      <td>7.99</td>\n",
       "      <td>http://api.hm.com/us/product/43522?article=435...</td>\n",
       "      <td>10.00</td>\n",
       "      <td>0.555864</td>\n",
       "    </tr>\n",
       "    <tr>\n",
       "      <th>34</th>\n",
       "      <td>65943-C</td>\n",
       "      <td>Ribbed Top</td>\n",
       "      <td>17.99</td>\n",
       "      <td>7.99</td>\n",
       "      <td>http://api.hm.com/us/product/65943?article=659...</td>\n",
       "      <td>10.00</td>\n",
       "      <td>0.555864</td>\n",
       "    </tr>\n",
       "    <tr>\n",
       "      <th>37</th>\n",
       "      <td>69910-A</td>\n",
       "      <td>Wide-cut Top</td>\n",
       "      <td>17.99</td>\n",
       "      <td>7.99</td>\n",
       "      <td>http://api.hm.com/us/product/69910?article=699...</td>\n",
       "      <td>10.00</td>\n",
       "      <td>0.555864</td>\n",
       "    </tr>\n",
       "    <tr>\n",
       "      <th>38</th>\n",
       "      <td>44402-C</td>\n",
       "      <td>Jersey Top</td>\n",
       "      <td>14.99</td>\n",
       "      <td>5.99</td>\n",
       "      <td>http://api.hm.com/us/product/44402?article=444...</td>\n",
       "      <td>9.00</td>\n",
       "      <td>0.600400</td>\n",
       "    </tr>\n",
       "    <tr>\n",
       "      <th>42</th>\n",
       "      <td>67863-B</td>\n",
       "      <td>Crinkled Off-the-shoulder Top</td>\n",
       "      <td>19.99</td>\n",
       "      <td>9.99</td>\n",
       "      <td>http://api.hm.com/us/product/67863?article=678...</td>\n",
       "      <td>10.00</td>\n",
       "      <td>0.500250</td>\n",
       "    </tr>\n",
       "    <tr>\n",
       "      <th>46</th>\n",
       "      <td>65001-A</td>\n",
       "      <td>Long-sleeved Jersey Top</td>\n",
       "      <td>12.99</td>\n",
       "      <td>5.99</td>\n",
       "      <td>http://api.hm.com/us/product/65001?article=650...</td>\n",
       "      <td>7.00</td>\n",
       "      <td>0.538876</td>\n",
       "    </tr>\n",
       "    <tr>\n",
       "      <th>51</th>\n",
       "      <td>61473-A</td>\n",
       "      <td>Long-sleeved Top</td>\n",
       "      <td>14.99</td>\n",
       "      <td>6.99</td>\n",
       "      <td>http://api.hm.com/us/product/61473?article=614...</td>\n",
       "      <td>8.00</td>\n",
       "      <td>0.533689</td>\n",
       "    </tr>\n",
       "    <tr>\n",
       "      <th>52</th>\n",
       "      <td>68183-C</td>\n",
       "      <td>Blouce with Lace Yoke</td>\n",
       "      <td>29.99</td>\n",
       "      <td>14.99</td>\n",
       "      <td>http://api.hm.com/us/product/68183?article=681...</td>\n",
       "      <td>15.00</td>\n",
       "      <td>0.500167</td>\n",
       "    </tr>\n",
       "    <tr>\n",
       "      <th>54</th>\n",
       "      <td>47468-E</td>\n",
       "      <td>Beaded Camisole Top</td>\n",
       "      <td>17.99</td>\n",
       "      <td>7.99</td>\n",
       "      <td>http://api.hm.com/us/product/47468?article=474...</td>\n",
       "      <td>10.00</td>\n",
       "      <td>0.555864</td>\n",
       "    </tr>\n",
       "    <tr>\n",
       "      <th>56</th>\n",
       "      <td>38141-X</td>\n",
       "      <td>Long-sleeved Jersey Top</td>\n",
       "      <td>12.99</td>\n",
       "      <td>5.99</td>\n",
       "      <td>http://api.hm.com/us/product/38141?article=381...</td>\n",
       "      <td>7.00</td>\n",
       "      <td>0.538876</td>\n",
       "    </tr>\n",
       "    <tr>\n",
       "      <th>59</th>\n",
       "      <td>49881-A</td>\n",
       "      <td>One-shoulder Top</td>\n",
       "      <td>12.99</td>\n",
       "      <td>5.99</td>\n",
       "      <td>http://api.hm.com/us/product/49881?article=498...</td>\n",
       "      <td>7.00</td>\n",
       "      <td>0.538876</td>\n",
       "    </tr>\n",
       "    <tr>\n",
       "      <th>61</th>\n",
       "      <td>69910-B</td>\n",
       "      <td>Wide-cut Top</td>\n",
       "      <td>17.99</td>\n",
       "      <td>7.99</td>\n",
       "      <td>http://api.hm.com/us/product/69910?article=699...</td>\n",
       "      <td>10.00</td>\n",
       "      <td>0.555864</td>\n",
       "    </tr>\n",
       "    <tr>\n",
       "      <th>65</th>\n",
       "      <td>70360-A</td>\n",
       "      <td>Top with Printed Design</td>\n",
       "      <td>12.99</td>\n",
       "      <td>5.99</td>\n",
       "      <td>http://api.hm.com/us/product/70360?article=703...</td>\n",
       "      <td>7.00</td>\n",
       "      <td>0.538876</td>\n",
       "    </tr>\n",
       "    <tr>\n",
       "      <th>66</th>\n",
       "      <td>67360-C</td>\n",
       "      <td>Nepped T-shirt</td>\n",
       "      <td>17.99</td>\n",
       "      <td>7.99</td>\n",
       "      <td>http://api.hm.com/us/product/67360?article=673...</td>\n",
       "      <td>10.00</td>\n",
       "      <td>0.555864</td>\n",
       "    </tr>\n",
       "    <tr>\n",
       "      <th>67</th>\n",
       "      <td>43558-G</td>\n",
       "      <td>Polo Shirt</td>\n",
       "      <td>12.99</td>\n",
       "      <td>5.99</td>\n",
       "      <td>http://api.hm.com/us/product/43558?article=435...</td>\n",
       "      <td>7.00</td>\n",
       "      <td>0.538876</td>\n",
       "    </tr>\n",
       "    <tr>\n",
       "      <th>68</th>\n",
       "      <td>69910-C</td>\n",
       "      <td>Wide-cut Top</td>\n",
       "      <td>17.99</td>\n",
       "      <td>7.99</td>\n",
       "      <td>http://api.hm.com/us/product/69910?article=699...</td>\n",
       "      <td>10.00</td>\n",
       "      <td>0.555864</td>\n",
       "    </tr>\n",
       "    <tr>\n",
       "      <th>70</th>\n",
       "      <td>68161-A</td>\n",
       "      <td>Jersey Top</td>\n",
       "      <td>12.99</td>\n",
       "      <td>5.99</td>\n",
       "      <td>http://api.hm.com/us/product/68161?article=681...</td>\n",
       "      <td>7.00</td>\n",
       "      <td>0.538876</td>\n",
       "    </tr>\n",
       "    <tr>\n",
       "      <th>73</th>\n",
       "      <td>59740-C</td>\n",
       "      <td>Ribbed Polo Shirt</td>\n",
       "      <td>17.99</td>\n",
       "      <td>7.99</td>\n",
       "      <td>http://api.hm.com/us/product/59740?article=597...</td>\n",
       "      <td>10.00</td>\n",
       "      <td>0.555864</td>\n",
       "    </tr>\n",
       "    <tr>\n",
       "      <th>76</th>\n",
       "      <td>67360-B</td>\n",
       "      <td>Nepped T-shirt</td>\n",
       "      <td>17.99</td>\n",
       "      <td>7.99</td>\n",
       "      <td>http://api.hm.com/us/product/67360?article=673...</td>\n",
       "      <td>10.00</td>\n",
       "      <td>0.555864</td>\n",
       "    </tr>\n",
       "    <tr>\n",
       "      <th>87</th>\n",
       "      <td>89119-P</td>\n",
       "      <td>V-neck Jersey Top</td>\n",
       "      <td>14.99</td>\n",
       "      <td>5.99</td>\n",
       "      <td>http://api.hm.com/us/product/89119?article=891...</td>\n",
       "      <td>9.00</td>\n",
       "      <td>0.600400</td>\n",
       "    </tr>\n",
       "    <tr>\n",
       "      <th>88</th>\n",
       "      <td>54630-E</td>\n",
       "      <td>Slub Jersey Top</td>\n",
       "      <td>12.99</td>\n",
       "      <td>5.99</td>\n",
       "      <td>http://api.hm.com/us/product/54630?article=546...</td>\n",
       "      <td>7.00</td>\n",
       "      <td>0.538876</td>\n",
       "    </tr>\n",
       "    <tr>\n",
       "      <th>99</th>\n",
       "      <td>70480-A</td>\n",
       "      <td>Ribbed Jersey Top</td>\n",
       "      <td>12.99</td>\n",
       "      <td>5.99</td>\n",
       "      <td>http://api.hm.com/us/product/70480?article=704...</td>\n",
       "      <td>7.00</td>\n",
       "      <td>0.538876</td>\n",
       "    </tr>\n",
       "    <tr>\n",
       "      <th>101</th>\n",
       "      <td>70480-C</td>\n",
       "      <td>Ribbed Jersey Top</td>\n",
       "      <td>12.99</td>\n",
       "      <td>5.99</td>\n",
       "      <td>http://api.hm.com/us/product/70480?article=704...</td>\n",
       "      <td>7.00</td>\n",
       "      <td>0.538876</td>\n",
       "    </tr>\n",
       "    <tr>\n",
       "      <th>105</th>\n",
       "      <td>70480-B</td>\n",
       "      <td>Ribbed Jersey Top</td>\n",
       "      <td>12.99</td>\n",
       "      <td>5.99</td>\n",
       "      <td>http://api.hm.com/us/product/70480?article=704...</td>\n",
       "      <td>7.00</td>\n",
       "      <td>0.538876</td>\n",
       "    </tr>\n",
       "    <tr>\n",
       "      <th>108</th>\n",
       "      <td>69690-A</td>\n",
       "      <td>V-neck Top</td>\n",
       "      <td>17.99</td>\n",
       "      <td>7.99</td>\n",
       "      <td>http://api.hm.com/us/product/69690?article=696...</td>\n",
       "      <td>10.00</td>\n",
       "      <td>0.555864</td>\n",
       "    </tr>\n",
       "    <tr>\n",
       "      <th>109</th>\n",
       "      <td>62231-A</td>\n",
       "      <td>Jersey T-shirt</td>\n",
       "      <td>12.99</td>\n",
       "      <td>5.99</td>\n",
       "      <td>http://api.hm.com/us/product/62231?article=622...</td>\n",
       "      <td>7.00</td>\n",
       "      <td>0.538876</td>\n",
       "    </tr>\n",
       "    <tr>\n",
       "      <th>110</th>\n",
       "      <td>69690-B</td>\n",
       "      <td>V-neck Top</td>\n",
       "      <td>17.99</td>\n",
       "      <td>7.99</td>\n",
       "      <td>http://api.hm.com/us/product/69690?article=696...</td>\n",
       "      <td>10.00</td>\n",
       "      <td>0.555864</td>\n",
       "    </tr>\n",
       "    <tr>\n",
       "      <th>112</th>\n",
       "      <td>61473-B</td>\n",
       "      <td>Long-sleeved Top</td>\n",
       "      <td>14.99</td>\n",
       "      <td>6.99</td>\n",
       "      <td>http://api.hm.com/us/product/61473?article=614...</td>\n",
       "      <td>8.00</td>\n",
       "      <td>0.533689</td>\n",
       "    </tr>\n",
       "    <tr>\n",
       "      <th>115</th>\n",
       "      <td>54630-H</td>\n",
       "      <td>Slub Jersey Top</td>\n",
       "      <td>12.99</td>\n",
       "      <td>5.99</td>\n",
       "      <td>http://api.hm.com/us/product/54630?article=546...</td>\n",
       "      <td>7.00</td>\n",
       "      <td>0.538876</td>\n",
       "    </tr>\n",
       "    <tr>\n",
       "      <th>117</th>\n",
       "      <td>62216-D</td>\n",
       "      <td>Short-sleeved Top</td>\n",
       "      <td>12.99</td>\n",
       "      <td>5.99</td>\n",
       "      <td>http://api.hm.com/us/product/62216?article=622...</td>\n",
       "      <td>7.00</td>\n",
       "      <td>0.538876</td>\n",
       "    </tr>\n",
       "    <tr>\n",
       "      <th>121</th>\n",
       "      <td>70360-B</td>\n",
       "      <td>Top with Printed Design</td>\n",
       "      <td>12.99</td>\n",
       "      <td>5.99</td>\n",
       "      <td>http://api.hm.com/us/product/70360?article=703...</td>\n",
       "      <td>7.00</td>\n",
       "      <td>0.538876</td>\n",
       "    </tr>\n",
       "    <tr>\n",
       "      <th>145</th>\n",
       "      <td>63533-E</td>\n",
       "      <td>Fitted Sweater</td>\n",
       "      <td>29.99</td>\n",
       "      <td>9.99</td>\n",
       "      <td>http://api.hm.com/us/product/63533?article=635...</td>\n",
       "      <td>20.00</td>\n",
       "      <td>0.666889</td>\n",
       "    </tr>\n",
       "    <tr>\n",
       "      <th>168</th>\n",
       "      <td>60791-A</td>\n",
       "      <td>Bustier</td>\n",
       "      <td>29.99</td>\n",
       "      <td>14.99</td>\n",
       "      <td>http://api.hm.com/us/product/60791?article=607...</td>\n",
       "      <td>15.00</td>\n",
       "      <td>0.500167</td>\n",
       "    </tr>\n",
       "    <tr>\n",
       "      <th>170</th>\n",
       "      <td>68149-B</td>\n",
       "      <td>Jersey Top with Lace</td>\n",
       "      <td>19.99</td>\n",
       "      <td>9.99</td>\n",
       "      <td>http://api.hm.com/us/product/68149?article=681...</td>\n",
       "      <td>10.00</td>\n",
       "      <td>0.500250</td>\n",
       "    </tr>\n",
       "    <tr>\n",
       "      <th>171</th>\n",
       "      <td>67189-A</td>\n",
       "      <td>Fine-knit Turtleneck Top</td>\n",
       "      <td>17.99</td>\n",
       "      <td>7.99</td>\n",
       "      <td>http://api.hm.com/us/product/67189?article=671...</td>\n",
       "      <td>10.00</td>\n",
       "      <td>0.555864</td>\n",
       "    </tr>\n",
       "    <tr>\n",
       "      <th>175</th>\n",
       "      <td>56300-A</td>\n",
       "      <td>Ribbed Jersey Top</td>\n",
       "      <td>17.99</td>\n",
       "      <td>7.99</td>\n",
       "      <td>http://api.hm.com/us/product/56300?article=563...</td>\n",
       "      <td>10.00</td>\n",
       "      <td>0.555864</td>\n",
       "    </tr>\n",
       "    <tr>\n",
       "      <th>176</th>\n",
       "      <td>26972-M</td>\n",
       "      <td>Tube Top</td>\n",
       "      <td>9.95</td>\n",
       "      <td>4.00</td>\n",
       "      <td>http://api.hm.com/us/product/26972?article=269...</td>\n",
       "      <td>5.95</td>\n",
       "      <td>0.597990</td>\n",
       "    </tr>\n",
       "    <tr>\n",
       "      <th>179</th>\n",
       "      <td>63545-B</td>\n",
       "      <td>Short Lace Top</td>\n",
       "      <td>29.99</td>\n",
       "      <td>14.99</td>\n",
       "      <td>http://api.hm.com/us/product/63545?article=635...</td>\n",
       "      <td>15.00</td>\n",
       "      <td>0.500167</td>\n",
       "    </tr>\n",
       "    <tr>\n",
       "      <th>191</th>\n",
       "      <td>56148-B</td>\n",
       "      <td>Ribbed Top</td>\n",
       "      <td>19.99</td>\n",
       "      <td>9.99</td>\n",
       "      <td>http://api.hm.com/us/product/56148?article=561...</td>\n",
       "      <td>10.00</td>\n",
       "      <td>0.500250</td>\n",
       "    </tr>\n",
       "    <tr>\n",
       "      <th>196</th>\n",
       "      <td>60791-B</td>\n",
       "      <td>Bustier</td>\n",
       "      <td>29.99</td>\n",
       "      <td>14.99</td>\n",
       "      <td>http://api.hm.com/us/product/60791?article=607...</td>\n",
       "      <td>15.00</td>\n",
       "      <td>0.500167</td>\n",
       "    </tr>\n",
       "    <tr>\n",
       "      <th>197</th>\n",
       "      <td>61712-B</td>\n",
       "      <td>Draped Top</td>\n",
       "      <td>19.99</td>\n",
       "      <td>9.99</td>\n",
       "      <td>http://api.hm.com/us/product/61712?article=617...</td>\n",
       "      <td>10.00</td>\n",
       "      <td>0.500250</td>\n",
       "    </tr>\n",
       "    <tr>\n",
       "      <th>200</th>\n",
       "      <td>61034-C</td>\n",
       "      <td>Glittery Top</td>\n",
       "      <td>39.99</td>\n",
       "      <td>19.99</td>\n",
       "      <td>http://api.hm.com/us/product/61034?article=610...</td>\n",
       "      <td>20.00</td>\n",
       "      <td>0.500125</td>\n",
       "    </tr>\n",
       "    <tr>\n",
       "      <th>206</th>\n",
       "      <td>63533-D</td>\n",
       "      <td>Fitted Sweater</td>\n",
       "      <td>29.99</td>\n",
       "      <td>9.99</td>\n",
       "      <td>http://api.hm.com/us/product/63533?article=635...</td>\n",
       "      <td>20.00</td>\n",
       "      <td>0.666889</td>\n",
       "    </tr>\n",
       "    <tr>\n",
       "      <th>209</th>\n",
       "      <td>67941-C</td>\n",
       "      <td>Ribbed Top</td>\n",
       "      <td>29.99</td>\n",
       "      <td>14.99</td>\n",
       "      <td>http://api.hm.com/us/product/67941?article=679...</td>\n",
       "      <td>15.00</td>\n",
       "      <td>0.500167</td>\n",
       "    </tr>\n",
       "    <tr>\n",
       "      <th>221</th>\n",
       "      <td>56148-A</td>\n",
       "      <td>Ribbed Top</td>\n",
       "      <td>19.99</td>\n",
       "      <td>9.99</td>\n",
       "      <td>http://api.hm.com/us/product/56148?article=561...</td>\n",
       "      <td>10.00</td>\n",
       "      <td>0.500250</td>\n",
       "    </tr>\n",
       "    <tr>\n",
       "      <th>223</th>\n",
       "      <td>65484-D</td>\n",
       "      <td>Fine-knit Top</td>\n",
       "      <td>17.99</td>\n",
       "      <td>7.99</td>\n",
       "      <td>http://api.hm.com/us/product/65484?article=654...</td>\n",
       "      <td>10.00</td>\n",
       "      <td>0.555864</td>\n",
       "    </tr>\n",
       "    <tr>\n",
       "      <th>224</th>\n",
       "      <td>64045-A</td>\n",
       "      <td>V-neck Short-sleeved Sweater</td>\n",
       "      <td>17.99</td>\n",
       "      <td>7.99</td>\n",
       "      <td>http://api.hm.com/us/product/64045?article=640...</td>\n",
       "      <td>10.00</td>\n",
       "      <td>0.555864</td>\n",
       "    </tr>\n",
       "    <tr>\n",
       "      <th>225</th>\n",
       "      <td>58201-A</td>\n",
       "      <td>Ribbed Top</td>\n",
       "      <td>34.99</td>\n",
       "      <td>12.99</td>\n",
       "      <td>http://api.hm.com/us/product/58201?article=582...</td>\n",
       "      <td>22.00</td>\n",
       "      <td>0.628751</td>\n",
       "    </tr>\n",
       "    <tr>\n",
       "      <th>241</th>\n",
       "      <td>62216-B</td>\n",
       "      <td>Short-sleeved Top</td>\n",
       "      <td>12.99</td>\n",
       "      <td>5.99</td>\n",
       "      <td>http://api.hm.com/us/product/62216?article=622...</td>\n",
       "      <td>7.00</td>\n",
       "      <td>0.538876</td>\n",
       "    </tr>\n",
       "    <tr>\n",
       "      <th>248</th>\n",
       "      <td>57946-C</td>\n",
       "      <td>Ribbed Top</td>\n",
       "      <td>34.99</td>\n",
       "      <td>14.99</td>\n",
       "      <td>http://api.hm.com/us/product/57946?article=579...</td>\n",
       "      <td>20.00</td>\n",
       "      <td>0.571592</td>\n",
       "    </tr>\n",
       "    <tr>\n",
       "      <th>252</th>\n",
       "      <td>67259-D</td>\n",
       "      <td>Fine-knit Camisole Top</td>\n",
       "      <td>29.99</td>\n",
       "      <td>12.99</td>\n",
       "      <td>http://api.hm.com/us/product/67259?article=672...</td>\n",
       "      <td>17.00</td>\n",
       "      <td>0.566856</td>\n",
       "    </tr>\n",
       "    <tr>\n",
       "      <th>260</th>\n",
       "      <td>67941-A</td>\n",
       "      <td>Ribbed Top</td>\n",
       "      <td>29.99</td>\n",
       "      <td>14.99</td>\n",
       "      <td>http://api.hm.com/us/product/67941?article=679...</td>\n",
       "      <td>15.00</td>\n",
       "      <td>0.500167</td>\n",
       "    </tr>\n",
       "    <tr>\n",
       "      <th>266</th>\n",
       "      <td>66728-B</td>\n",
       "      <td>Ribbed Camisole Top</td>\n",
       "      <td>12.99</td>\n",
       "      <td>5.99</td>\n",
       "      <td>http://api.hm.com/us/product/66728?article=667...</td>\n",
       "      <td>7.00</td>\n",
       "      <td>0.538876</td>\n",
       "    </tr>\n",
       "    <tr>\n",
       "      <th>267</th>\n",
       "      <td>58123-A</td>\n",
       "      <td>Sequined Bustier</td>\n",
       "      <td>39.99</td>\n",
       "      <td>17.99</td>\n",
       "      <td>http://api.hm.com/us/product/58123?article=581...</td>\n",
       "      <td>22.00</td>\n",
       "      <td>0.550138</td>\n",
       "    </tr>\n",
       "    <tr>\n",
       "      <th>280</th>\n",
       "      <td>64688-B</td>\n",
       "      <td>Jersey Top</td>\n",
       "      <td>12.99</td>\n",
       "      <td>5.99</td>\n",
       "      <td>http://api.hm.com/us/product/64688?article=646...</td>\n",
       "      <td>7.00</td>\n",
       "      <td>0.538876</td>\n",
       "    </tr>\n",
       "    <tr>\n",
       "      <th>282</th>\n",
       "      <td>82397-A</td>\n",
       "      <td>Chiffon Top</td>\n",
       "      <td>39.99</td>\n",
       "      <td>14.99</td>\n",
       "      <td>http://api.hm.com/us/product/82397?article=823...</td>\n",
       "      <td>25.00</td>\n",
       "      <td>0.625156</td>\n",
       "    </tr>\n",
       "    <tr>\n",
       "      <th>287</th>\n",
       "      <td>55497-C</td>\n",
       "      <td>V-neck Camisole Top</td>\n",
       "      <td>39.99</td>\n",
       "      <td>19.99</td>\n",
       "      <td>http://api.hm.com/us/product/55497?article=554...</td>\n",
       "      <td>20.00</td>\n",
       "      <td>0.500125</td>\n",
       "    </tr>\n",
       "    <tr>\n",
       "      <th>290</th>\n",
       "      <td>59142-A</td>\n",
       "      <td>Long-sleeved Jersey Top</td>\n",
       "      <td>29.99</td>\n",
       "      <td>14.99</td>\n",
       "      <td>http://api.hm.com/us/product/59142?article=591...</td>\n",
       "      <td>15.00</td>\n",
       "      <td>0.500167</td>\n",
       "    </tr>\n",
       "    <tr>\n",
       "      <th>293</th>\n",
       "      <td>61712-D</td>\n",
       "      <td>Draped Top</td>\n",
       "      <td>19.99</td>\n",
       "      <td>9.99</td>\n",
       "      <td>http://api.hm.com/us/product/61712?article=617...</td>\n",
       "      <td>10.00</td>\n",
       "      <td>0.500250</td>\n",
       "    </tr>\n",
       "    <tr>\n",
       "      <th>304</th>\n",
       "      <td>56300-F</td>\n",
       "      <td>Ribbed Jersey Top</td>\n",
       "      <td>17.99</td>\n",
       "      <td>7.99</td>\n",
       "      <td>http://api.hm.com/us/product/56300?article=563...</td>\n",
       "      <td>10.00</td>\n",
       "      <td>0.555864</td>\n",
       "    </tr>\n",
       "    <tr>\n",
       "      <th>308</th>\n",
       "      <td>68689-A</td>\n",
       "      <td>Crêped Jersey Top</td>\n",
       "      <td>29.99</td>\n",
       "      <td>14.99</td>\n",
       "      <td>http://api.hm.com/us/product/68689?article=686...</td>\n",
       "      <td>15.00</td>\n",
       "      <td>0.500167</td>\n",
       "    </tr>\n",
       "    <tr>\n",
       "      <th>309</th>\n",
       "      <td>67259-C</td>\n",
       "      <td>Fine-knit Camisole Top</td>\n",
       "      <td>29.99</td>\n",
       "      <td>12.99</td>\n",
       "      <td>http://api.hm.com/us/product/67259?article=672...</td>\n",
       "      <td>17.00</td>\n",
       "      <td>0.566856</td>\n",
       "    </tr>\n",
       "    <tr>\n",
       "      <th>310</th>\n",
       "      <td>55497-E</td>\n",
       "      <td>V-neck Camisole Top</td>\n",
       "      <td>39.99</td>\n",
       "      <td>19.99</td>\n",
       "      <td>http://api.hm.com/us/product/55497?article=554...</td>\n",
       "      <td>20.00</td>\n",
       "      <td>0.500125</td>\n",
       "    </tr>\n",
       "    <tr>\n",
       "      <th>311</th>\n",
       "      <td>46814-G</td>\n",
       "      <td>V-neck Top</td>\n",
       "      <td>29.99</td>\n",
       "      <td>12.99</td>\n",
       "      <td>http://api.hm.com/us/product/46814?article=468...</td>\n",
       "      <td>17.00</td>\n",
       "      <td>0.566856</td>\n",
       "    </tr>\n",
       "    <tr>\n",
       "      <th>320</th>\n",
       "      <td>68538-A</td>\n",
       "      <td>Tulle Top</td>\n",
       "      <td>39.99</td>\n",
       "      <td>19.99</td>\n",
       "      <td>http://api.hm.com/us/product/68538?article=685...</td>\n",
       "      <td>20.00</td>\n",
       "      <td>0.500125</td>\n",
       "    </tr>\n",
       "    <tr>\n",
       "      <th>321</th>\n",
       "      <td>67836-B</td>\n",
       "      <td>One-shoulder Top</td>\n",
       "      <td>17.99</td>\n",
       "      <td>7.99</td>\n",
       "      <td>http://api.hm.com/us/product/67836?article=678...</td>\n",
       "      <td>10.00</td>\n",
       "      <td>0.555864</td>\n",
       "    </tr>\n",
       "    <tr>\n",
       "      <th>325</th>\n",
       "      <td>53308-A</td>\n",
       "      <td>Short Glittery Top</td>\n",
       "      <td>29.99</td>\n",
       "      <td>14.99</td>\n",
       "      <td>http://api.hm.com/us/product/53308?article=533...</td>\n",
       "      <td>15.00</td>\n",
       "      <td>0.500167</td>\n",
       "    </tr>\n",
       "    <tr>\n",
       "      <th>334</th>\n",
       "      <td>51196-D</td>\n",
       "      <td>Sleeveless Top</td>\n",
       "      <td>29.99</td>\n",
       "      <td>14.99</td>\n",
       "      <td>http://api.hm.com/us/product/51196?article=511...</td>\n",
       "      <td>15.00</td>\n",
       "      <td>0.500167</td>\n",
       "    </tr>\n",
       "    <tr>\n",
       "      <th>341</th>\n",
       "      <td>67836-A</td>\n",
       "      <td>One-shoulder Top</td>\n",
       "      <td>17.99</td>\n",
       "      <td>7.99</td>\n",
       "      <td>http://api.hm.com/us/product/67836?article=678...</td>\n",
       "      <td>10.00</td>\n",
       "      <td>0.555864</td>\n",
       "    </tr>\n",
       "    <tr>\n",
       "      <th>347</th>\n",
       "      <td>42177-A</td>\n",
       "      <td>Wrap-front Top</td>\n",
       "      <td>29.99</td>\n",
       "      <td>14.99</td>\n",
       "      <td>http://api.hm.com/us/product/42177?article=421...</td>\n",
       "      <td>15.00</td>\n",
       "      <td>0.500167</td>\n",
       "    </tr>\n",
       "    <tr>\n",
       "      <th>352</th>\n",
       "      <td>60809-A</td>\n",
       "      <td>Flounced Chiffon Camisole Top</td>\n",
       "      <td>29.99</td>\n",
       "      <td>14.99</td>\n",
       "      <td>http://api.hm.com/us/product/60809?article=608...</td>\n",
       "      <td>15.00</td>\n",
       "      <td>0.500167</td>\n",
       "    </tr>\n",
       "    <tr>\n",
       "      <th>355</th>\n",
       "      <td>45952-B</td>\n",
       "      <td>Cropped Camisole Top</td>\n",
       "      <td>29.99</td>\n",
       "      <td>14.99</td>\n",
       "      <td>http://api.hm.com/us/product/45952?article=459...</td>\n",
       "      <td>15.00</td>\n",
       "      <td>0.500167</td>\n",
       "    </tr>\n",
       "  </tbody>\n",
       "</table>\n",
       "</div>"
      ],
      "text/plain": [
       "        code                           name  oldprice  price  \\\n",
       "4    60133-B                     Jersey Top     12.99   5.00   \n",
       "5    60133-F                     Jersey Top     12.99   5.00   \n",
       "6    60133-E                     Jersey Top     12.99   5.00   \n",
       "7    68934-C                     Jersey Top     12.99   5.99   \n",
       "8    68934-A                     Jersey Top     12.99   5.99   \n",
       "9    65300-C            Crêped Camisole Top     17.99   7.00   \n",
       "10   63019-K    T-shirt with Printed Design     12.99   5.99   \n",
       "11   65300-A            Crêped Camisole Top     17.99   7.00   \n",
       "12   63019-A    T-shirt with Printed Design     12.99   5.99   \n",
       "14   63019-Q    T-shirt with Printed Design     12.99   5.99   \n",
       "15   65300-B            Crêped Camisole Top     17.99   7.00   \n",
       "16   65300-D            Crêped Camisole Top     17.99   7.00   \n",
       "22   62235-F               Long-sleeved Top     12.99   5.99   \n",
       "23   67739-A          Top with Lace Details     14.99   7.00   \n",
       "24   67739-D          Top with Lace Details     14.99   7.00   \n",
       "25   62235-B               Long-sleeved Top     12.99   5.99   \n",
       "26   62235-A               Long-sleeved Top     12.99   5.99   \n",
       "27   62235-G               Long-sleeved Top     12.99   5.99   \n",
       "30   54630-F                Slub Jersey Top     12.99   5.99   \n",
       "32   43522-E                Slub Jersey Top     17.99   7.99   \n",
       "33   43522-G                Slub Jersey Top     17.99   7.99   \n",
       "34   65943-C                     Ribbed Top     17.99   7.99   \n",
       "37   69910-A                   Wide-cut Top     17.99   7.99   \n",
       "38   44402-C                     Jersey Top     14.99   5.99   \n",
       "42   67863-B  Crinkled Off-the-shoulder Top     19.99   9.99   \n",
       "46   65001-A        Long-sleeved Jersey Top     12.99   5.99   \n",
       "51   61473-A               Long-sleeved Top     14.99   6.99   \n",
       "52   68183-C          Blouce with Lace Yoke     29.99  14.99   \n",
       "54   47468-E            Beaded Camisole Top     17.99   7.99   \n",
       "56   38141-X        Long-sleeved Jersey Top     12.99   5.99   \n",
       "59   49881-A               One-shoulder Top     12.99   5.99   \n",
       "61   69910-B                   Wide-cut Top     17.99   7.99   \n",
       "65   70360-A        Top with Printed Design     12.99   5.99   \n",
       "66   67360-C                 Nepped T-shirt     17.99   7.99   \n",
       "67   43558-G                     Polo Shirt     12.99   5.99   \n",
       "68   69910-C                   Wide-cut Top     17.99   7.99   \n",
       "70   68161-A                     Jersey Top     12.99   5.99   \n",
       "73   59740-C              Ribbed Polo Shirt     17.99   7.99   \n",
       "76   67360-B                 Nepped T-shirt     17.99   7.99   \n",
       "87   89119-P              V-neck Jersey Top     14.99   5.99   \n",
       "88   54630-E                Slub Jersey Top     12.99   5.99   \n",
       "99   70480-A              Ribbed Jersey Top     12.99   5.99   \n",
       "101  70480-C              Ribbed Jersey Top     12.99   5.99   \n",
       "105  70480-B              Ribbed Jersey Top     12.99   5.99   \n",
       "108  69690-A                     V-neck Top     17.99   7.99   \n",
       "109  62231-A                 Jersey T-shirt     12.99   5.99   \n",
       "110  69690-B                     V-neck Top     17.99   7.99   \n",
       "112  61473-B               Long-sleeved Top     14.99   6.99   \n",
       "115  54630-H                Slub Jersey Top     12.99   5.99   \n",
       "117  62216-D              Short-sleeved Top     12.99   5.99   \n",
       "121  70360-B        Top with Printed Design     12.99   5.99   \n",
       "145  63533-E                 Fitted Sweater     29.99   9.99   \n",
       "168  60791-A                        Bustier     29.99  14.99   \n",
       "170  68149-B           Jersey Top with Lace     19.99   9.99   \n",
       "171  67189-A       Fine-knit Turtleneck Top     17.99   7.99   \n",
       "175  56300-A              Ribbed Jersey Top     17.99   7.99   \n",
       "176  26972-M                       Tube Top      9.95   4.00   \n",
       "179  63545-B                 Short Lace Top     29.99  14.99   \n",
       "191  56148-B                     Ribbed Top     19.99   9.99   \n",
       "196  60791-B                        Bustier     29.99  14.99   \n",
       "197  61712-B                     Draped Top     19.99   9.99   \n",
       "200  61034-C                   Glittery Top     39.99  19.99   \n",
       "206  63533-D                 Fitted Sweater     29.99   9.99   \n",
       "209  67941-C                     Ribbed Top     29.99  14.99   \n",
       "221  56148-A                     Ribbed Top     19.99   9.99   \n",
       "223  65484-D                  Fine-knit Top     17.99   7.99   \n",
       "224  64045-A   V-neck Short-sleeved Sweater     17.99   7.99   \n",
       "225  58201-A                     Ribbed Top     34.99  12.99   \n",
       "241  62216-B              Short-sleeved Top     12.99   5.99   \n",
       "248  57946-C                     Ribbed Top     34.99  14.99   \n",
       "252  67259-D         Fine-knit Camisole Top     29.99  12.99   \n",
       "260  67941-A                     Ribbed Top     29.99  14.99   \n",
       "266  66728-B            Ribbed Camisole Top     12.99   5.99   \n",
       "267  58123-A               Sequined Bustier     39.99  17.99   \n",
       "280  64688-B                     Jersey Top     12.99   5.99   \n",
       "282  82397-A                    Chiffon Top     39.99  14.99   \n",
       "287  55497-C            V-neck Camisole Top     39.99  19.99   \n",
       "290  59142-A        Long-sleeved Jersey Top     29.99  14.99   \n",
       "293  61712-D                     Draped Top     19.99   9.99   \n",
       "304  56300-F              Ribbed Jersey Top     17.99   7.99   \n",
       "308  68689-A              Crêped Jersey Top     29.99  14.99   \n",
       "309  67259-C         Fine-knit Camisole Top     29.99  12.99   \n",
       "310  55497-E            V-neck Camisole Top     39.99  19.99   \n",
       "311  46814-G                     V-neck Top     29.99  12.99   \n",
       "320  68538-A                      Tulle Top     39.99  19.99   \n",
       "321  67836-B               One-shoulder Top     17.99   7.99   \n",
       "325  53308-A             Short Glittery Top     29.99  14.99   \n",
       "334  51196-D                 Sleeveless Top     29.99  14.99   \n",
       "341  67836-A               One-shoulder Top     17.99   7.99   \n",
       "347  42177-A                 Wrap-front Top     29.99  14.99   \n",
       "352  60809-A  Flounced Chiffon Camisole Top     29.99  14.99   \n",
       "355  45952-B           Cropped Camisole Top     29.99  14.99   \n",
       "\n",
       "                                                   url  discount  \\\n",
       "4    http://api.hm.com/us/product/60133?article=601...      7.99   \n",
       "5    http://api.hm.com/us/product/60133?article=601...      7.99   \n",
       "6    http://api.hm.com/us/product/60133?article=601...      7.99   \n",
       "7    http://api.hm.com/us/product/68934?article=689...      7.00   \n",
       "8    http://api.hm.com/us/product/68934?article=689...      7.00   \n",
       "9    http://api.hm.com/us/product/65300?article=653...     10.99   \n",
       "10   http://api.hm.com/us/product/63019?article=630...      7.00   \n",
       "11   http://api.hm.com/us/product/65300?article=653...     10.99   \n",
       "12   http://api.hm.com/us/product/63019?article=630...      7.00   \n",
       "14   http://api.hm.com/us/product/63019?article=630...      7.00   \n",
       "15   http://api.hm.com/us/product/65300?article=653...     10.99   \n",
       "16   http://api.hm.com/us/product/65300?article=653...     10.99   \n",
       "22   http://api.hm.com/us/product/62235?article=622...      7.00   \n",
       "23   http://api.hm.com/us/product/67739?article=677...      7.99   \n",
       "24   http://api.hm.com/us/product/67739?article=677...      7.99   \n",
       "25   http://api.hm.com/us/product/62235?article=622...      7.00   \n",
       "26   http://api.hm.com/us/product/62235?article=622...      7.00   \n",
       "27   http://api.hm.com/us/product/62235?article=622...      7.00   \n",
       "30   http://api.hm.com/us/product/54630?article=546...      7.00   \n",
       "32   http://api.hm.com/us/product/43522?article=435...     10.00   \n",
       "33   http://api.hm.com/us/product/43522?article=435...     10.00   \n",
       "34   http://api.hm.com/us/product/65943?article=659...     10.00   \n",
       "37   http://api.hm.com/us/product/69910?article=699...     10.00   \n",
       "38   http://api.hm.com/us/product/44402?article=444...      9.00   \n",
       "42   http://api.hm.com/us/product/67863?article=678...     10.00   \n",
       "46   http://api.hm.com/us/product/65001?article=650...      7.00   \n",
       "51   http://api.hm.com/us/product/61473?article=614...      8.00   \n",
       "52   http://api.hm.com/us/product/68183?article=681...     15.00   \n",
       "54   http://api.hm.com/us/product/47468?article=474...     10.00   \n",
       "56   http://api.hm.com/us/product/38141?article=381...      7.00   \n",
       "59   http://api.hm.com/us/product/49881?article=498...      7.00   \n",
       "61   http://api.hm.com/us/product/69910?article=699...     10.00   \n",
       "65   http://api.hm.com/us/product/70360?article=703...      7.00   \n",
       "66   http://api.hm.com/us/product/67360?article=673...     10.00   \n",
       "67   http://api.hm.com/us/product/43558?article=435...      7.00   \n",
       "68   http://api.hm.com/us/product/69910?article=699...     10.00   \n",
       "70   http://api.hm.com/us/product/68161?article=681...      7.00   \n",
       "73   http://api.hm.com/us/product/59740?article=597...     10.00   \n",
       "76   http://api.hm.com/us/product/67360?article=673...     10.00   \n",
       "87   http://api.hm.com/us/product/89119?article=891...      9.00   \n",
       "88   http://api.hm.com/us/product/54630?article=546...      7.00   \n",
       "99   http://api.hm.com/us/product/70480?article=704...      7.00   \n",
       "101  http://api.hm.com/us/product/70480?article=704...      7.00   \n",
       "105  http://api.hm.com/us/product/70480?article=704...      7.00   \n",
       "108  http://api.hm.com/us/product/69690?article=696...     10.00   \n",
       "109  http://api.hm.com/us/product/62231?article=622...      7.00   \n",
       "110  http://api.hm.com/us/product/69690?article=696...     10.00   \n",
       "112  http://api.hm.com/us/product/61473?article=614...      8.00   \n",
       "115  http://api.hm.com/us/product/54630?article=546...      7.00   \n",
       "117  http://api.hm.com/us/product/62216?article=622...      7.00   \n",
       "121  http://api.hm.com/us/product/70360?article=703...      7.00   \n",
       "145  http://api.hm.com/us/product/63533?article=635...     20.00   \n",
       "168  http://api.hm.com/us/product/60791?article=607...     15.00   \n",
       "170  http://api.hm.com/us/product/68149?article=681...     10.00   \n",
       "171  http://api.hm.com/us/product/67189?article=671...     10.00   \n",
       "175  http://api.hm.com/us/product/56300?article=563...     10.00   \n",
       "176  http://api.hm.com/us/product/26972?article=269...      5.95   \n",
       "179  http://api.hm.com/us/product/63545?article=635...     15.00   \n",
       "191  http://api.hm.com/us/product/56148?article=561...     10.00   \n",
       "196  http://api.hm.com/us/product/60791?article=607...     15.00   \n",
       "197  http://api.hm.com/us/product/61712?article=617...     10.00   \n",
       "200  http://api.hm.com/us/product/61034?article=610...     20.00   \n",
       "206  http://api.hm.com/us/product/63533?article=635...     20.00   \n",
       "209  http://api.hm.com/us/product/67941?article=679...     15.00   \n",
       "221  http://api.hm.com/us/product/56148?article=561...     10.00   \n",
       "223  http://api.hm.com/us/product/65484?article=654...     10.00   \n",
       "224  http://api.hm.com/us/product/64045?article=640...     10.00   \n",
       "225  http://api.hm.com/us/product/58201?article=582...     22.00   \n",
       "241  http://api.hm.com/us/product/62216?article=622...      7.00   \n",
       "248  http://api.hm.com/us/product/57946?article=579...     20.00   \n",
       "252  http://api.hm.com/us/product/67259?article=672...     17.00   \n",
       "260  http://api.hm.com/us/product/67941?article=679...     15.00   \n",
       "266  http://api.hm.com/us/product/66728?article=667...      7.00   \n",
       "267  http://api.hm.com/us/product/58123?article=581...     22.00   \n",
       "280  http://api.hm.com/us/product/64688?article=646...      7.00   \n",
       "282  http://api.hm.com/us/product/82397?article=823...     25.00   \n",
       "287  http://api.hm.com/us/product/55497?article=554...     20.00   \n",
       "290  http://api.hm.com/us/product/59142?article=591...     15.00   \n",
       "293  http://api.hm.com/us/product/61712?article=617...     10.00   \n",
       "304  http://api.hm.com/us/product/56300?article=563...     10.00   \n",
       "308  http://api.hm.com/us/product/68689?article=686...     15.00   \n",
       "309  http://api.hm.com/us/product/67259?article=672...     17.00   \n",
       "310  http://api.hm.com/us/product/55497?article=554...     20.00   \n",
       "311  http://api.hm.com/us/product/46814?article=468...     17.00   \n",
       "320  http://api.hm.com/us/product/68538?article=685...     20.00   \n",
       "321  http://api.hm.com/us/product/67836?article=678...     10.00   \n",
       "325  http://api.hm.com/us/product/53308?article=533...     15.00   \n",
       "334  http://api.hm.com/us/product/51196?article=511...     15.00   \n",
       "341  http://api.hm.com/us/product/67836?article=678...     10.00   \n",
       "347  http://api.hm.com/us/product/42177?article=421...     15.00   \n",
       "352  http://api.hm.com/us/product/60809?article=608...     15.00   \n",
       "355  http://api.hm.com/us/product/45952?article=459...     15.00   \n",
       "\n",
       "     discount_percent  \n",
       "4            0.615089  \n",
       "5            0.615089  \n",
       "6            0.615089  \n",
       "7            0.538876  \n",
       "8            0.538876  \n",
       "9            0.610895  \n",
       "10           0.538876  \n",
       "11           0.610895  \n",
       "12           0.538876  \n",
       "14           0.538876  \n",
       "15           0.610895  \n",
       "16           0.610895  \n",
       "22           0.538876  \n",
       "23           0.533022  \n",
       "24           0.533022  \n",
       "25           0.538876  \n",
       "26           0.538876  \n",
       "27           0.538876  \n",
       "30           0.538876  \n",
       "32           0.555864  \n",
       "33           0.555864  \n",
       "34           0.555864  \n",
       "37           0.555864  \n",
       "38           0.600400  \n",
       "42           0.500250  \n",
       "46           0.538876  \n",
       "51           0.533689  \n",
       "52           0.500167  \n",
       "54           0.555864  \n",
       "56           0.538876  \n",
       "59           0.538876  \n",
       "61           0.555864  \n",
       "65           0.538876  \n",
       "66           0.555864  \n",
       "67           0.538876  \n",
       "68           0.555864  \n",
       "70           0.538876  \n",
       "73           0.555864  \n",
       "76           0.555864  \n",
       "87           0.600400  \n",
       "88           0.538876  \n",
       "99           0.538876  \n",
       "101          0.538876  \n",
       "105          0.538876  \n",
       "108          0.555864  \n",
       "109          0.538876  \n",
       "110          0.555864  \n",
       "112          0.533689  \n",
       "115          0.538876  \n",
       "117          0.538876  \n",
       "121          0.538876  \n",
       "145          0.666889  \n",
       "168          0.500167  \n",
       "170          0.500250  \n",
       "171          0.555864  \n",
       "175          0.555864  \n",
       "176          0.597990  \n",
       "179          0.500167  \n",
       "191          0.500250  \n",
       "196          0.500167  \n",
       "197          0.500250  \n",
       "200          0.500125  \n",
       "206          0.666889  \n",
       "209          0.500167  \n",
       "221          0.500250  \n",
       "223          0.555864  \n",
       "224          0.555864  \n",
       "225          0.628751  \n",
       "241          0.538876  \n",
       "248          0.571592  \n",
       "252          0.566856  \n",
       "260          0.500167  \n",
       "266          0.538876  \n",
       "267          0.550138  \n",
       "280          0.538876  \n",
       "282          0.625156  \n",
       "287          0.500125  \n",
       "290          0.500167  \n",
       "293          0.500250  \n",
       "304          0.555864  \n",
       "308          0.500167  \n",
       "309          0.566856  \n",
       "310          0.500125  \n",
       "311          0.566856  \n",
       "320          0.500125  \n",
       "321          0.555864  \n",
       "325          0.500167  \n",
       "334          0.500167  \n",
       "341          0.555864  \n",
       "347          0.500167  \n",
       "352          0.500167  \n",
       "355          0.500167  "
      ]
     },
     "execution_count": 144,
     "metadata": {},
     "output_type": "execute_result"
    }
   ],
   "source": [
    "df_in[df_in[\"discount_percent\"] > 0.5]"
   ]
  }
 ],
 "metadata": {
  "kernelspec": {
   "display_name": "Python 3",
   "language": "python",
   "name": "python3"
  },
  "language_info": {
   "codemirror_mode": {
    "name": "ipython",
    "version": 3
   },
   "file_extension": ".py",
   "mimetype": "text/x-python",
   "name": "python",
   "nbconvert_exporter": "python",
   "pygments_lexer": "ipython3",
   "version": "3.6.1"
  }
 },
 "nbformat": 4,
 "nbformat_minor": 2
}
