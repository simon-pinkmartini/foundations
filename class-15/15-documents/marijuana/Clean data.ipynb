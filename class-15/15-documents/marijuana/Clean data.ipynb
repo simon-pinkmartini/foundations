{
 "cells": [
  {
   "cell_type": "code",
   "execution_count": 1,
   "metadata": {
    "collapsed": true
   },
   "outputs": [],
   "source": [
    "import pandas as pd"
   ]
  },
  {
   "cell_type": "code",
   "execution_count": 3,
   "metadata": {},
   "outputs": [],
   "source": [
    "df = pd.read_csv('tabula-Muckrock_-_NYS_Marijuana_Possession_Arrests_by_County_2015-2017_YTD.csv', skiprows=1)"
   ]
  },
  {
   "cell_type": "code",
   "execution_count": 5,
   "metadata": {},
   "outputs": [
    {
     "data": {
      "text/html": [
       "<div>\n",
       "<style>\n",
       "    .dataframe thead tr:only-child th {\n",
       "        text-align: right;\n",
       "    }\n",
       "\n",
       "    .dataframe thead th {\n",
       "        text-align: left;\n",
       "    }\n",
       "\n",
       "    .dataframe tbody tr th {\n",
       "        vertical-align: top;\n",
       "    }\n",
       "</style>\n",
       "<table border=\"1\" class=\"dataframe\">\n",
       "  <thead>\n",
       "    <tr style=\"text-align: right;\">\n",
       "      <th></th>\n",
       "      <th>County</th>\n",
       "      <th>Top Arrest Charge</th>\n",
       "      <th>2015</th>\n",
       "      <th>2016</th>\n",
       "      <th>2017*</th>\n",
       "    </tr>\n",
       "  </thead>\n",
       "  <tbody>\n",
       "    <tr>\n",
       "      <th>0</th>\n",
       "      <td>Albany</td>\n",
       "      <td>221.10 PL 221.10 CRIM POSS MARIJUANA-5TH</td>\n",
       "      <td>96</td>\n",
       "      <td>89</td>\n",
       "      <td>70</td>\n",
       "    </tr>\n",
       "    <tr>\n",
       "      <th>1</th>\n",
       "      <td>NaN</td>\n",
       "      <td>221.15 PL 221.15 CRIM POSS MARIJUANA-4TH</td>\n",
       "      <td>51</td>\n",
       "      <td>53</td>\n",
       "      <td>46</td>\n",
       "    </tr>\n",
       "    <tr>\n",
       "      <th>2</th>\n",
       "      <td>NaN</td>\n",
       "      <td>221.20 PL 221.20 CRIM POSS MARIJUANA-3RD</td>\n",
       "      <td>22</td>\n",
       "      <td>20</td>\n",
       "      <td>14</td>\n",
       "    </tr>\n",
       "    <tr>\n",
       "      <th>3</th>\n",
       "      <td>NaN</td>\n",
       "      <td>221.25 PL 221.25 CRIM POSS MARIJUANA-2ND</td>\n",
       "      <td>21</td>\n",
       "      <td>39</td>\n",
       "      <td>12</td>\n",
       "    </tr>\n",
       "    <tr>\n",
       "      <th>4</th>\n",
       "      <td>NaN</td>\n",
       "      <td>221.30 PL 221.30 CRIM POSS MARIJUANA-1ST</td>\n",
       "      <td>8</td>\n",
       "      <td>4</td>\n",
       "      <td>1</td>\n",
       "    </tr>\n",
       "  </tbody>\n",
       "</table>\n",
       "</div>"
      ],
      "text/plain": [
       "   County                         Top Arrest Charge 2015 2016 2017*\n",
       "0  Albany  221.10 PL 221.10 CRIM POSS MARIJUANA-5TH   96   89    70\n",
       "1     NaN  221.15 PL 221.15 CRIM POSS MARIJUANA-4TH   51   53    46\n",
       "2     NaN  221.20 PL 221.20 CRIM POSS MARIJUANA-3RD   22   20    14\n",
       "3     NaN  221.25 PL 221.25 CRIM POSS MARIJUANA-2ND   21   39    12\n",
       "4     NaN  221.30 PL 221.30 CRIM POSS MARIJUANA-1ST    8    4     1"
      ]
     },
     "execution_count": 5,
     "metadata": {},
     "output_type": "execute_result"
    }
   ],
   "source": [
    "df.head()"
   ]
  },
  {
   "cell_type": "code",
   "execution_count": null,
   "metadata": {
    "collapsed": true
   },
   "outputs": [],
   "source": [
    "df.loc(df.County.str.contains(\"^\\d\", na=False), '2017*') = df['2016']\n",
    "df.loc(df.County.str.contains(\"^\\d\", na=False), '2016') = df['2015']\n",
    "df.loc(df.County.str.contains(\"^\\d\", na=False), '2015') = df['Top Arrest Charge']\n",
    "df.loc(df.County.str.contains(\"^\\d\", na=False), 'Top Arrest Charge') = df['County']\n",
    "df.loc(df.County.str.contains(\"^\\d\", na=False), 'County') = df['']"
   ]
  }
 ],
 "metadata": {
  "kernelspec": {
   "display_name": "Python 3",
   "language": "python",
   "name": "python3"
  },
  "language_info": {
   "codemirror_mode": {
    "name": "ipython",
    "version": 3
   },
   "file_extension": ".py",
   "mimetype": "text/x-python",
   "name": "python",
   "nbconvert_exporter": "python",
   "pygments_lexer": "ipython3",
   "version": "3.6.1"
  }
 },
 "nbformat": 4,
 "nbformat_minor": 2
}
