{
 "cells": [
  {
   "cell_type": "markdown",
   "metadata": {},
   "source": [
    "# Scraping many pages + Using requests\n",
    "\n",
    "## The pages we'll be looking at\n",
    "\n",
    "If I wanted to read specific information about a specfic mine, it takes a few steps. **Do these steps with your browser before you try any programming.**\n",
    "\n",
    "1. Visit the [Mine Data Retrieval System](https://arlweb.msha.gov/drs/drshome.htm)\n",
    "2. Scroll down to **Mine Identification Number (ID) Search**\n",
    "3. Type in a mine ID number, such as `3503598`, click **Search**\n",
    "4. I'm on a page! It lists the MINE NAME and MINE OWNER.\n",
    "\n",
    "After searching for and finding a mine, I can use this page to **find reports about this mine**. Some of the reports are on accidents, violations, inspections, health samples and more. To get those reports:\n",
    "\n",
    "1. Search for a mine (if you haven't already)\n",
    "2. Scroll down and change **Beginning Date** to `1/1/1995` (violation reports begin in 1995, accidents begin in 1983)\n",
    "3. Select the report type of `Violations`\n",
    "4. Click **Get Report**\n",
    "5. I'm on a page! It lists ALL OF THE MINE'S VIOLATIONS.\n",
    "\n",
    "By changing the report type you're searching for you can find all sorts of different data."
   ]
  },
  {
   "cell_type": "markdown",
   "metadata": {},
   "source": [
    "# Researching mine information"
   ]
  },
  {
   "cell_type": "markdown",
   "metadata": {},
   "source": [
    "## Preparation \n",
    "\n",
    "### When you search for information on a specific mine, what URL are you going to be scraping?\n",
    "\n",
    "- *TIP: the answer is NOT `https://arlweb.msha.gov/drs/drshome.htm`*"
   ]
  },
  {
   "cell_type": "markdown",
   "metadata": {
    "collapsed": true
   },
   "source": [
    "We need info from this page here: `https://arlweb.msha.gov/drs/ASP/BasicMineInfonew.asp`"
   ]
  },
  {
   "cell_type": "markdown",
   "metadata": {},
   "source": [
    "### When you search for information on a specific mine, do you need form data? If so, what is your form data going to be?"
   ]
  },
  {
   "cell_type": "markdown",
   "metadata": {
    "collapsed": true
   },
   "source": [
    "Inspecting the Form Data in the Headers Section for the request at `https://arlweb.msha.gov/drs/ASP/BasicMineInfonew.asp` yield the following information:\n",
    "\n",
    "- MineId: 3503598 \n",
    "- x: 30 (not sure if we need this)\n",
    "- y: 7 (not sure if we need this)"
   ]
  },
  {
   "cell_type": "markdown",
   "metadata": {},
   "source": [
    "### Use `requests` to search using the mine ID `3901432`. Get me the operator's name by scraping."
   ]
  },
  {
   "cell_type": "code",
   "execution_count": 1,
   "metadata": {
    "collapsed": true
   },
   "outputs": [],
   "source": [
    "import requests"
   ]
  },
  {
   "cell_type": "code",
   "execution_count": 8,
   "metadata": {
    "collapsed": true
   },
   "outputs": [],
   "source": [
    "from bs4 import BeautifulSoup"
   ]
  },
  {
   "cell_type": "code",
   "execution_count": 13,
   "metadata": {
    "collapsed": true
   },
   "outputs": [],
   "source": [
    "import pandas as pd"
   ]
  },
  {
   "cell_type": "code",
   "execution_count": 47,
   "metadata": {
    "collapsed": true
   },
   "outputs": [],
   "source": [
    "formdata = {\n",
    "    \"MineId\": \"3901432\"\n",
    "}"
   ]
  },
  {
   "cell_type": "code",
   "execution_count": 48,
   "metadata": {
    "collapsed": true
   },
   "outputs": [],
   "source": [
    "response = requests.post(\"https://arlweb.msha.gov/drs/ASP/BasicMineInfonew.asp\", data=formdata)"
   ]
  },
  {
   "cell_type": "code",
   "execution_count": 49,
   "metadata": {
    "collapsed": true
   },
   "outputs": [],
   "source": [
    "doc = BeautifulSoup(response.text, \"html.parser\")"
   ]
  },
  {
   "cell_type": "code",
   "execution_count": 50,
   "metadata": {},
   "outputs": [
    {
     "data": {
      "text/plain": [
       "'Krueger Brothers Gravel & Dirt '"
      ]
     },
     "execution_count": 50,
     "metadata": {},
     "output_type": "execute_result"
    }
   ],
   "source": [
    "doc.find(\"table\", bgcolor=\"#FFFFBF\").find_all(\"tr\")[2].find_all(\"td\")[1].text"
   ]
  },
  {
   "cell_type": "markdown",
   "metadata": {},
   "source": [
    "# Using .apply to find data about SEVERAL mines\n",
    "\n",
    "The file `mines-subset.csv` has a list of mine IDs. We're going to scrape the operator's name for each of those mines.\n",
    "\n",
    "### Open up `mines-subset.csv` and save it into a dataframe"
   ]
  },
  {
   "cell_type": "code",
   "execution_count": 14,
   "metadata": {},
   "outputs": [
    {
     "data": {
      "text/html": [
       "<div>\n",
       "<style>\n",
       "    .dataframe thead tr:only-child th {\n",
       "        text-align: right;\n",
       "    }\n",
       "\n",
       "    .dataframe thead th {\n",
       "        text-align: left;\n",
       "    }\n",
       "\n",
       "    .dataframe tbody tr th {\n",
       "        vertical-align: top;\n",
       "    }\n",
       "</style>\n",
       "<table border=\"1\" class=\"dataframe\">\n",
       "  <thead>\n",
       "    <tr style=\"text-align: right;\">\n",
       "      <th></th>\n",
       "      <th>id</th>\n",
       "    </tr>\n",
       "  </thead>\n",
       "  <tbody>\n",
       "    <tr>\n",
       "      <th>0</th>\n",
       "      <td>4104757</td>\n",
       "    </tr>\n",
       "    <tr>\n",
       "      <th>1</th>\n",
       "      <td>801306</td>\n",
       "    </tr>\n",
       "    <tr>\n",
       "      <th>2</th>\n",
       "      <td>3609931</td>\n",
       "    </tr>\n",
       "  </tbody>\n",
       "</table>\n",
       "</div>"
      ],
      "text/plain": [
       "        id\n",
       "0  4104757\n",
       "1   801306\n",
       "2  3609931"
      ]
     },
     "execution_count": 14,
     "metadata": {},
     "output_type": "execute_result"
    }
   ],
   "source": [
    "df = pd.read_csv(\"mines-subset.csv\")\n",
    "df"
   ]
  },
  {
   "cell_type": "markdown",
   "metadata": {},
   "source": [
    "### Open up `mines-subset.csv` in a text editor, then look at your dataframe. Is something different about them? If so, make them match.\n",
    "\n",
    "- *TIP: I can help with this.*"
   ]
  },
  {
   "cell_type": "code",
   "execution_count": 15,
   "metadata": {},
   "outputs": [
    {
     "data": {
      "text/html": [
       "<div>\n",
       "<style>\n",
       "    .dataframe thead tr:only-child th {\n",
       "        text-align: right;\n",
       "    }\n",
       "\n",
       "    .dataframe thead th {\n",
       "        text-align: left;\n",
       "    }\n",
       "\n",
       "    .dataframe tbody tr th {\n",
       "        vertical-align: top;\n",
       "    }\n",
       "</style>\n",
       "<table border=\"1\" class=\"dataframe\">\n",
       "  <thead>\n",
       "    <tr style=\"text-align: right;\">\n",
       "      <th></th>\n",
       "      <th>id</th>\n",
       "    </tr>\n",
       "  </thead>\n",
       "  <tbody>\n",
       "    <tr>\n",
       "      <th>0</th>\n",
       "      <td>4104757</td>\n",
       "    </tr>\n",
       "    <tr>\n",
       "      <th>1</th>\n",
       "      <td>0801306</td>\n",
       "    </tr>\n",
       "    <tr>\n",
       "      <th>2</th>\n",
       "      <td>3609931</td>\n",
       "    </tr>\n",
       "  </tbody>\n",
       "</table>\n",
       "</div>"
      ],
      "text/plain": [
       "        id\n",
       "0  4104757\n",
       "1  0801306\n",
       "2  3609931"
      ]
     },
     "execution_count": 15,
     "metadata": {},
     "output_type": "execute_result"
    }
   ],
   "source": [
    "df = pd.read_csv(\"mines-subset.csv\", dtype=str)\n",
    "df"
   ]
  },
  {
   "cell_type": "markdown",
   "metadata": {},
   "source": [
    "### Scrape the operator's name for each of those mines and print it\n",
    "\n",
    "- *TIP: use .apply and a function*\n",
    "- *TIP: If you need help with .apply, look at the \"Using apply in pandas\" notebook *"
   ]
  },
  {
   "cell_type": "code",
   "execution_count": 16,
   "metadata": {
    "collapsed": true
   },
   "outputs": [],
   "source": [
    "def scrape_operator_name(row):\n",
    "    formdata = {\n",
    "        \"MineId\": row['id']\n",
    "    }\n",
    "    response = requests.post(\"https://arlweb.msha.gov/drs/ASP/BasicMineInfonew.asp\", data=formdata)\n",
    "    doc = BeautifulSoup(response.text, \"html.parser\")\n",
    "    operator_name = doc.find(\"table\", bgcolor=\"#FFFFBF\").find_all(\"tr\")[2].find_all(\"td\")[1].text\n",
    "    print (operator_name)"
   ]
  },
  {
   "cell_type": "code",
   "execution_count": 17,
   "metadata": {},
   "outputs": [
    {
     "name": "stdout",
     "output_type": "stream",
     "text": [
      "Dirt Works \n",
      "Holley Dirt Company, Inc \n",
      "M.R. Dirt Inc. \n"
     ]
    },
    {
     "data": {
      "text/plain": [
       "0    None\n",
       "1    None\n",
       "2    None\n",
       "dtype: object"
      ]
     },
     "execution_count": 17,
     "metadata": {},
     "output_type": "execute_result"
    }
   ],
   "source": [
    "df.apply(scrape_operator_name, axis=1)"
   ]
  },
  {
   "cell_type": "markdown",
   "metadata": {},
   "source": [
    "### Scrape the operator's name and save it into a new column\n",
    "\n",
    "- *TIP: Use .apply and a function*\n",
    "- *TIP: Remember to use `return`*"
   ]
  },
  {
   "cell_type": "code",
   "execution_count": 18,
   "metadata": {
    "collapsed": true
   },
   "outputs": [],
   "source": [
    "def scrape_operator_name_2(row):\n",
    "    formdata = {\n",
    "        \"MineId\": row['id']\n",
    "    }\n",
    "    response = requests.post(\"https://arlweb.msha.gov/drs/ASP/BasicMineInfonew.asp\", data=formdata)\n",
    "    doc = BeautifulSoup(response.text, \"html.parser\")\n",
    "    operator_name = doc.find(\"table\", bgcolor=\"#FFFFBF\").find_all(\"tr\")[2].find_all(\"td\")[1].text\n",
    "    operator_name = doc.find(\"table\", bgcolor=\"#FFFFBF\").find_all(\"tr\")[2].find_all(\"td\")[1].text\n",
    "    return operator_name"
   ]
  },
  {
   "cell_type": "code",
   "execution_count": 19,
   "metadata": {},
   "outputs": [
    {
     "data": {
      "text/html": [
       "<div>\n",
       "<style>\n",
       "    .dataframe thead tr:only-child th {\n",
       "        text-align: right;\n",
       "    }\n",
       "\n",
       "    .dataframe thead th {\n",
       "        text-align: left;\n",
       "    }\n",
       "\n",
       "    .dataframe tbody tr th {\n",
       "        vertical-align: top;\n",
       "    }\n",
       "</style>\n",
       "<table border=\"1\" class=\"dataframe\">\n",
       "  <thead>\n",
       "    <tr style=\"text-align: right;\">\n",
       "      <th></th>\n",
       "      <th>id</th>\n",
       "      <th>name</th>\n",
       "    </tr>\n",
       "  </thead>\n",
       "  <tbody>\n",
       "    <tr>\n",
       "      <th>0</th>\n",
       "      <td>4104757</td>\n",
       "      <td>Dirt Works</td>\n",
       "    </tr>\n",
       "    <tr>\n",
       "      <th>1</th>\n",
       "      <td>0801306</td>\n",
       "      <td>Holley Dirt Company, Inc</td>\n",
       "    </tr>\n",
       "    <tr>\n",
       "      <th>2</th>\n",
       "      <td>3609931</td>\n",
       "      <td>M.R. Dirt Inc.</td>\n",
       "    </tr>\n",
       "  </tbody>\n",
       "</table>\n",
       "</div>"
      ],
      "text/plain": [
       "        id                       name\n",
       "0  4104757                Dirt Works \n",
       "1  0801306  Holley Dirt Company, Inc \n",
       "2  3609931            M.R. Dirt Inc. "
      ]
     },
     "execution_count": 19,
     "metadata": {},
     "output_type": "execute_result"
    }
   ],
   "source": [
    "df['name'] = df.apply(scrape_operator_name_2, axis=1)\n",
    "df"
   ]
  },
  {
   "cell_type": "markdown",
   "metadata": {},
   "source": [
    "# Researching mine violations\n",
    "\n",
    "Read the very top again to remember how to find mine violations"
   ]
  },
  {
   "cell_type": "markdown",
   "metadata": {},
   "source": [
    "### When you search for a mine's violations, what URL are you going to be scraping?"
   ]
  },
  {
   "cell_type": "markdown",
   "metadata": {
    "collapsed": true
   },
   "source": [
    "The url of the page listing all violations is `https://arlweb.msha.gov/drs/ASP/MineAction.asp`"
   ]
  },
  {
   "cell_type": "markdown",
   "metadata": {},
   "source": [
    "### When you search for a mine's violations, do you need form data? If so, what is your form data going to be?"
   ]
  },
  {
   "cell_type": "markdown",
   "metadata": {
    "collapsed": true
   },
   "source": [
    "Inspecting the Form Data for the request at `https://arlweb.msha.gov/drs/ASP/MineAction.asp` yield the following information:\n",
    "\n",
    "- MineId: 3503598\n",
    "- BDate: 1/1/1995\n",
    "- EDate: \n",
    "- Submit: Violations*\n",
    "- Sort: 1 (not sure if we need this)\n",
    "- submit.x: 58 (not sure if we need this)\n",
    "- submit.y: 12 (not sure if we need this)"
   ]
  },
  {
   "cell_type": "markdown",
   "metadata": {},
   "source": [
    "### Using the mine ID `3901432`, scrape all of their violations since 1/1/1995\n",
    "\n",
    "**Save this into a CSV called `3901432-violations.csv`.** This CSV must include the following fields:\n",
    "\n",
    "- Citation number\n",
    "- Case number\n",
    "- Standard violated\n",
    "- Link to standard\n",
    "- Proposed penalty\n",
    "- Amount paid to date\n",
    "\n",
    "**Tips:**\n",
    "\n",
    "- *TIP: It's probably worth it to print them all first, then save them to a CSV once you know it's all working.*\n",
    "- *TIP: You'll use the parent pattern - get the ROWS first (tr), then loop through and get the TABLE CELLS (td)*"
   ]
  },
  {
   "cell_type": "code",
   "execution_count": 84,
   "metadata": {
    "collapsed": true
   },
   "outputs": [],
   "source": [
    "formdata = {\n",
    "    \"MineId\": \"3901432\",\n",
    "    \"BDate\": \"1/1/1995\",\n",
    "    \"Edate\": \"\",\n",
    "    \"Submit\": \"Violations*\",\n",
    "    \"Sort\": \"1\",\n",
    "    \"submit.x\": \"58\",\n",
    "    \"submit.y\": \"12\"\n",
    "}"
   ]
  },
  {
   "cell_type": "code",
   "execution_count": 72,
   "metadata": {
    "collapsed": true
   },
   "outputs": [],
   "source": [
    "headerdata = {\n",
    "    \"Host\": \"arlweb.msha.gov\",\n",
    "    \"Connection\": \"keep-alive\",\n",
    "    \"Content-Length\": \"90\",\n",
    "    \"Cache-Control\": \"max-age=0\",\n",
    "    \"Origin\": \"https://arlweb.msha.gov\",\n",
    "    \"Upgrade-Insecure-Requests\": \"1\",\n",
    "    \"User-Agent\": \"Mozilla/5.0 (Windows NT 6.3; Win64; x64) AppleWebKit/537.36 (KHTML, like Gecko) Chrome/58.0.3029.110 Safari/537.36\",\n",
    "    \"Content-Type\": \"application/x-www-form-urlencoded\",\n",
    "    \"Accept\": \"text/html,application/xhtml+xml,application/xml;q=0.9,image/webp,*/*;q=0.8\",\n",
    "    \"Referer\": \"https://arlweb.msha.gov/drs/ASP/BasicMineInfonew.asp\",\n",
    "    \"Accept-Encoding\": \"gzip, deflate, br\",\n",
    "    \"Accept-Language\": \"de-DE,de;q=0.8,en-US;q=0.6,en;q=0.4\",\n",
    "    \"Cookie\": \"__utmt_GSA_CP=1; ASPSESSIONIDQGTDRRTS=GEODEIECCLNBELFBBPOFPBKC; __utma=258023386.1291007958.1497667810.1497716828.1497719646.4; __utmb=258023386.3.10.1497719646; __utmc=258023386; __utmz=258023386.1497667810.1.1.utmcsr=(direct)|utmccn=(direct)|utmcmd=(none); _ga=GA1.3.1291007958.1497667810; _gid=GA1.3.687359427.1497667950; _ga=GA1.2.1291007958.1497667810; _gid=GA1.2.687359427.1497667950\"\n",
    "}"
   ]
  },
  {
   "cell_type": "code",
   "execution_count": 101,
   "metadata": {
    "collapsed": true
   },
   "outputs": [],
   "source": [
    "response = requests.post(\"https://arlweb.msha.gov/drs/ASP/MineAction.asp\", data=formdata)"
   ]
  },
  {
   "cell_type": "code",
   "execution_count": 102,
   "metadata": {
    "collapsed": true
   },
   "outputs": [],
   "source": [
    "doc = BeautifulSoup(response.text, \"html5lib\")"
   ]
  },
  {
   "cell_type": "code",
   "execution_count": 103,
   "metadata": {},
   "outputs": [],
   "source": [
    "trs = doc.find_all(\"table\")[7].find_all(\"tr\")[1:]"
   ]
  },
  {
   "cell_type": "code",
   "execution_count": 104,
   "metadata": {},
   "outputs": [],
   "source": [
    "violations = []\n",
    "for tr in trs:\n",
    "    violation = {}\n",
    "    tds = tr.find_all(\"td\")\n",
    "    violation['violator_id'] = \"3901432\"\n",
    "    violation['violator_name'] = tds[0].text.strip()\n",
    "    violation['citation_no'] = tds[2].text.strip()\n",
    "    violation['case_no'] = tds[3].text.strip()\n",
    "    violation['standard_no'] = tds[10].find_all(\"font\")[2].text.strip()\n",
    "    violation['standard_link'] = \"\" #tds[10].a[\"href\"]\n",
    "    violation['proposed_penalty'] = tds[11].text.strip()\n",
    "    violation['amount_paid'] = tds[14].text.strip()\n",
    "    violations.append(violation)\n"
   ]
  },
  {
   "cell_type": "code",
   "execution_count": 79,
   "metadata": {
    "collapsed": true
   },
   "outputs": [],
   "source": [
    "#stopping at this point because the html is faulty"
   ]
  },
  {
   "cell_type": "code",
   "execution_count": 105,
   "metadata": {},
   "outputs": [
    {
     "data": {
      "text/html": [
       "<div>\n",
       "<style>\n",
       "    .dataframe thead tr:only-child th {\n",
       "        text-align: right;\n",
       "    }\n",
       "\n",
       "    .dataframe thead th {\n",
       "        text-align: left;\n",
       "    }\n",
       "\n",
       "    .dataframe tbody tr th {\n",
       "        vertical-align: top;\n",
       "    }\n",
       "</style>\n",
       "<table border=\"1\" class=\"dataframe\">\n",
       "  <thead>\n",
       "    <tr style=\"text-align: right;\">\n",
       "      <th></th>\n",
       "      <th>violator_id</th>\n",
       "      <th>violator_name</th>\n",
       "      <th>citation_no</th>\n",
       "      <th>case_no</th>\n",
       "      <th>standard_no</th>\n",
       "      <th>standard_link</th>\n",
       "      <th>proposed_penalty</th>\n",
       "      <th>amount_paid</th>\n",
       "    </tr>\n",
       "  </thead>\n",
       "  <tbody>\n",
       "    <tr>\n",
       "      <th>0</th>\n",
       "      <td>3901432</td>\n",
       "      <td>Krueger Brothers Gravel &amp; Dirt</td>\n",
       "      <td>8750964</td>\n",
       "      <td>000361866</td>\n",
       "      <td>56.18010</td>\n",
       "      <td></td>\n",
       "      <td>100.00</td>\n",
       "      <td>100.00</td>\n",
       "    </tr>\n",
       "    <tr>\n",
       "      <th>1</th>\n",
       "      <td>3901432</td>\n",
       "      <td>Krueger Brothers Gravel &amp; Dirt</td>\n",
       "      <td>6426438</td>\n",
       "      <td>000260865</td>\n",
       "      <td>56.4101</td>\n",
       "      <td></td>\n",
       "      <td>100.00</td>\n",
       "      <td>100.00</td>\n",
       "    </tr>\n",
       "    <tr>\n",
       "      <th>2</th>\n",
       "      <td>3901432</td>\n",
       "      <td>Krueger Brothers Gravel &amp; Dirt</td>\n",
       "      <td>6426439</td>\n",
       "      <td>000260865</td>\n",
       "      <td>56.4201(a)(2)</td>\n",
       "      <td></td>\n",
       "      <td>100.00</td>\n",
       "      <td>100.00</td>\n",
       "    </tr>\n",
       "    <tr>\n",
       "      <th>3</th>\n",
       "      <td>3901432</td>\n",
       "      <td>Krueger Brothers Gravel &amp; Dirt</td>\n",
       "      <td>6588189</td>\n",
       "      <td>000260865</td>\n",
       "      <td>56.14200</td>\n",
       "      <td></td>\n",
       "      <td>100.00</td>\n",
       "      <td>100.00</td>\n",
       "    </tr>\n",
       "    <tr>\n",
       "      <th>4</th>\n",
       "      <td>3901432</td>\n",
       "      <td>Krueger Brothers Gravel &amp; Dirt</td>\n",
       "      <td>6588210</td>\n",
       "      <td>000238554</td>\n",
       "      <td>50.30(a)</td>\n",
       "      <td></td>\n",
       "      <td>100.00</td>\n",
       "      <td>100.00</td>\n",
       "    </tr>\n",
       "  </tbody>\n",
       "</table>\n",
       "</div>"
      ],
      "text/plain": [
       "  violator_id                   violator_name citation_no    case_no  \\\n",
       "0     3901432  Krueger Brothers Gravel & Dirt     8750964  000361866   \n",
       "1     3901432  Krueger Brothers Gravel & Dirt     6426438  000260865   \n",
       "2     3901432  Krueger Brothers Gravel & Dirt     6426439  000260865   \n",
       "3     3901432  Krueger Brothers Gravel & Dirt     6588189  000260865   \n",
       "4     3901432  Krueger Brothers Gravel & Dirt     6588210  000238554   \n",
       "\n",
       "     standard_no standard_link proposed_penalty amount_paid  \n",
       "0       56.18010                         100.00      100.00  \n",
       "1        56.4101                         100.00      100.00  \n",
       "2  56.4201(a)(2)                         100.00      100.00  \n",
       "3       56.14200                         100.00      100.00  \n",
       "4       50.30(a)                         100.00      100.00  "
      ]
     },
     "execution_count": 105,
     "metadata": {},
     "output_type": "execute_result"
    }
   ],
   "source": [
    "df = pd.DataFrame(violations, columns=[\"violator_id\", \"violator_name\", \"citation_no\", \"case_no\", \"standard_no\", \"standard_link\", \"proposed_penalty\", \"amount_paid\"])\n",
    "df.head()"
   ]
  },
  {
   "cell_type": "markdown",
   "metadata": {},
   "source": [
    "### After you save the CSV, open it and check it doesn't have a weird extra column."
   ]
  },
  {
   "cell_type": "code",
   "execution_count": null,
   "metadata": {
    "collapsed": true
   },
   "outputs": [],
   "source": []
  },
  {
   "cell_type": "markdown",
   "metadata": {},
   "source": [
    "# Using .apply to save mine data for SEVERAL mines\n",
    "\n",
    "The file `mines-subset.csv` has a list of mine IDs. We're going to scrape the operator's name for each of those mines.\n",
    "\n",
    "### Open up `mines-subset.csv` and save it into a dataframe"
   ]
  },
  {
   "cell_type": "code",
   "execution_count": null,
   "metadata": {
    "collapsed": true
   },
   "outputs": [],
   "source": []
  },
  {
   "cell_type": "markdown",
   "metadata": {},
   "source": [
    "### Scrape the violations for each mine\n",
    "\n",
    "**Save each mine's violations into separate CSV files.** Each CSV file must include the following fields:\n",
    "\n",
    "- Citation number\n",
    "- Case number\n",
    "- Standard violated\n",
    "- Link to standard\n",
    "- Proposed penalty\n",
    "- Amount paid to date\n",
    "\n",
    "Make sure you are saving them into **separate files.** It might be nice to name them after the mine id.\n",
    "\n",
    "- *TIP: Use .apply for this*\n",
    "- *TIP: Print out the ID before you start scraping. That way you can take that ID and search manually to see if there is anything weird about the results.*\n",
    "- *TIP: If you need help with .apply, look at the \"Using apply in pandas\" notebook \n",
    "- *TIP: It's probably worth it to print the fields first, then save them to a CSV once you know it's all working.*"
   ]
  },
  {
   "cell_type": "code",
   "execution_count": null,
   "metadata": {
    "collapsed": true
   },
   "outputs": [],
   "source": []
  }
 ],
 "metadata": {
  "kernelspec": {
   "display_name": "Python 3",
   "language": "python",
   "name": "python3"
  },
  "language_info": {
   "codemirror_mode": {
    "name": "ipython",
    "version": 3
   },
   "file_extension": ".py",
   "mimetype": "text/x-python",
   "name": "python",
   "nbconvert_exporter": "python",
   "pygments_lexer": "ipython3",
   "version": "3.6.1"
  }
 },
 "nbformat": 4,
 "nbformat_minor": 2
}
