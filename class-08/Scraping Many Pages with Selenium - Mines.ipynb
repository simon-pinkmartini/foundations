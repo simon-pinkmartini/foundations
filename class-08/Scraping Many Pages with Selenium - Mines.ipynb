{
 "cells": [
  {
   "cell_type": "markdown",
   "metadata": {},
   "source": [
    "# Scraping many pages + Using Selenium\n",
    "\n",
    "## The pages we'll be looking at\n",
    "\n",
    "If I wanted to read specific information about a specfic mine, it takes a few steps. **Do these steps with your browser before you try any programming.**\n",
    "\n",
    "1. Visit the [Mine Data Retrieval System](https://arlweb.msha.gov/drs/drshome.htm)\n",
    "2. Scroll down to **Mine Identification Number (ID) Search**\n",
    "3. Type in a mine ID number, such as `3503598`, click **Search**\n",
    "4. I'm on a page! It lists the MINE NAME and MINE OWNER.\n",
    "\n",
    "After searching for and finding a mine, I can use this page to **find reports about this mine**. Some of the reports are on accidents, violations, inspections, health samples and more. To get those reports:\n",
    "\n",
    "1. Search for a mine (if you haven't already)\n",
    "2. Scroll down and change **Beginning Date** to `1/1/1995` (violation reports begin in 1995, accidents begin in 1983)\n",
    "3. Select the report type of `Violations`\n",
    "4. Click **Get Report**\n",
    "5. I'm on a page! It lists ALL OF THE MINE'S VIOLATIONS.\n",
    "\n",
    "By changing the report type you're searching for you can find all sorts of different data."
   ]
  },
  {
   "cell_type": "markdown",
   "metadata": {},
   "source": [
    "# Researching mine information"
   ]
  },
  {
   "cell_type": "markdown",
   "metadata": {},
   "source": [
    "## Preparation \n",
    "\n",
    "### When you search for information on a specific mine, what URL should Selenium visit first?\n",
    "\n",
    "- *TIP: the answer is NOT `https://arlweb.msha.gov/drs/ASP/BasicMineInfonew.asp`*"
   ]
  },
  {
   "cell_type": "markdown",
   "metadata": {
    "collapsed": true
   },
   "source": [
    "We should start with this url here: `https://arlweb.msha.gov/drs/drshome.htm`"
   ]
  },
  {
   "cell_type": "markdown",
   "metadata": {},
   "source": [
    "### How can you identify the text field we're going to type the Mine ID into?\n",
    "\n",
    "Selenium can find elements by:\n",
    "\n",
    "- name\n",
    "- Class\n",
    "- ID\n",
    "- CSS selector (**ASK ME WHAT THIS IS** if you don't know)\n",
    "- XPath (**ASK ME WHAT THIS IS** because you definitely don't know)\n",
    "- Link text\n",
    "- Partial link text\n",
    "\n",
    "So in other words, what's unique about this element?"
   ]
  },
  {
   "cell_type": "markdown",
   "metadata": {
    "collapsed": true
   },
   "source": [
    "It's an `<input>` with the name `name=MineId`."
   ]
  },
  {
   "cell_type": "markdown",
   "metadata": {},
   "source": [
    "### How can you identify the search button we're going to click, or the form we're going to submit?\n",
    "\n",
    "Selenium can submit forms by either\n",
    "\n",
    "- Selecting the form and using `.submit()`, or\n",
    "- Selecting the button and using `.click()`\n",
    "\n",
    "You only need to be able to get **one, not both.**"
   ]
  },
  {
   "cell_type": "markdown",
   "metadata": {
    "collapsed": true
   },
   "source": [
    "- The page has several `<form>`s that all go by the `name=\"search\"`. This might cause problems. We can identify it by its `xpath`: `//*[@id=\"content\"]/table[3]/form`\n",
    "- The search-button is an `<input>` with no particular attributes that are searchable. We can identify it its `xpath`: `//*[@id=\"content\"]/table[3]/tbody/tr[3]/td[2]/input`"
   ]
  },
  {
   "cell_type": "markdown",
   "metadata": {},
   "source": [
    "### Use Selenium to search using the mine ID `3901432`. Get me the operator's name by scraping.\n",
    "\n",
    "- *TIP: You can find elements/text using Selenium, or use BeautifulSoup with `doc = BeautifulSoup(driver.page_source)`*"
   ]
  },
  {
   "cell_type": "code",
   "execution_count": 2,
   "metadata": {
    "collapsed": true
   },
   "outputs": [],
   "source": [
    "from selenium import webdriver\n",
    "from selenium.webdriver.common.keys import Keys\n",
    "from selenium.webdriver.support.ui import Select"
   ]
  },
  {
   "cell_type": "code",
   "execution_count": 3,
   "metadata": {
    "collapsed": true
   },
   "outputs": [],
   "source": [
    "from bs4 import BeautifulSoup"
   ]
  },
  {
   "cell_type": "code",
   "execution_count": 4,
   "metadata": {
    "collapsed": true
   },
   "outputs": [],
   "source": [
    "driver = webdriver.Chrome()"
   ]
  },
  {
   "cell_type": "code",
   "execution_count": 4,
   "metadata": {
    "collapsed": true
   },
   "outputs": [],
   "source": [
    "driver.get(\"https://arlweb.msha.gov/drs/drshome.htm\")"
   ]
  },
  {
   "cell_type": "code",
   "execution_count": 5,
   "metadata": {
    "collapsed": true
   },
   "outputs": [],
   "source": [
    "driver.find_element_by_name(\"MineId\").send_keys(\"3901432\")"
   ]
  },
  {
   "cell_type": "code",
   "execution_count": 6,
   "metadata": {
    "collapsed": true
   },
   "outputs": [],
   "source": [
    "driver.find_element_by_xpath('//*[@id=\"content\"]/table[3]/tbody/tr[3]/td[2]/input').click()"
   ]
  },
  {
   "cell_type": "code",
   "execution_count": 7,
   "metadata": {
    "collapsed": true
   },
   "outputs": [],
   "source": [
    "doc = BeautifulSoup(driver.page_source, \"html.parser\")"
   ]
  },
  {
   "cell_type": "code",
   "execution_count": 8,
   "metadata": {},
   "outputs": [
    {
     "data": {
      "text/plain": [
       "'Krueger Brothers Gravel & Dirt '"
      ]
     },
     "execution_count": 8,
     "metadata": {},
     "output_type": "execute_result"
    }
   ],
   "source": [
    "doc.find(\"table\", bgcolor=\"#FFFFBF\").find_all(\"tr\")[2].find_all(\"td\")[1].text"
   ]
  },
  {
   "cell_type": "markdown",
   "metadata": {},
   "source": [
    "# Using .apply to find data about SEVERAL mines\n",
    "\n",
    "The file `mines-subset.csv` has a list of mine IDs. We're going to scrape the operator's name for each of those mines.\n",
    "\n",
    "### Open up `mines-subset.csv` and save it into a dataframe"
   ]
  },
  {
   "cell_type": "code",
   "execution_count": 9,
   "metadata": {
    "collapsed": true
   },
   "outputs": [],
   "source": [
    "import pandas as pd"
   ]
  },
  {
   "cell_type": "code",
   "execution_count": 10,
   "metadata": {},
   "outputs": [
    {
     "data": {
      "text/html": [
       "<div>\n",
       "<style>\n",
       "    .dataframe thead tr:only-child th {\n",
       "        text-align: right;\n",
       "    }\n",
       "\n",
       "    .dataframe thead th {\n",
       "        text-align: left;\n",
       "    }\n",
       "\n",
       "    .dataframe tbody tr th {\n",
       "        vertical-align: top;\n",
       "    }\n",
       "</style>\n",
       "<table border=\"1\" class=\"dataframe\">\n",
       "  <thead>\n",
       "    <tr style=\"text-align: right;\">\n",
       "      <th></th>\n",
       "      <th>id</th>\n",
       "    </tr>\n",
       "  </thead>\n",
       "  <tbody>\n",
       "    <tr>\n",
       "      <th>0</th>\n",
       "      <td>4104757</td>\n",
       "    </tr>\n",
       "    <tr>\n",
       "      <th>1</th>\n",
       "      <td>801306</td>\n",
       "    </tr>\n",
       "    <tr>\n",
       "      <th>2</th>\n",
       "      <td>3609931</td>\n",
       "    </tr>\n",
       "  </tbody>\n",
       "</table>\n",
       "</div>"
      ],
      "text/plain": [
       "        id\n",
       "0  4104757\n",
       "1   801306\n",
       "2  3609931"
      ]
     },
     "execution_count": 10,
     "metadata": {},
     "output_type": "execute_result"
    }
   ],
   "source": [
    "df = pd.read_csv(\"mines-subset.csv\")\n",
    "df"
   ]
  },
  {
   "cell_type": "markdown",
   "metadata": {},
   "source": [
    "### Open up `mines-subset.csv` in a text editor, then look at your dataframe. Is something different about them?"
   ]
  },
  {
   "cell_type": "markdown",
   "metadata": {
    "collapsed": true
   },
   "source": [
    "License N.1 was imported without the leading zero. This will not work."
   ]
  },
  {
   "cell_type": "code",
   "execution_count": 11,
   "metadata": {},
   "outputs": [
    {
     "data": {
      "text/html": [
       "<div>\n",
       "<style>\n",
       "    .dataframe thead tr:only-child th {\n",
       "        text-align: right;\n",
       "    }\n",
       "\n",
       "    .dataframe thead th {\n",
       "        text-align: left;\n",
       "    }\n",
       "\n",
       "    .dataframe tbody tr th {\n",
       "        vertical-align: top;\n",
       "    }\n",
       "</style>\n",
       "<table border=\"1\" class=\"dataframe\">\n",
       "  <thead>\n",
       "    <tr style=\"text-align: right;\">\n",
       "      <th></th>\n",
       "      <th>id</th>\n",
       "    </tr>\n",
       "  </thead>\n",
       "  <tbody>\n",
       "    <tr>\n",
       "      <th>0</th>\n",
       "      <td>4104757</td>\n",
       "    </tr>\n",
       "    <tr>\n",
       "      <th>1</th>\n",
       "      <td>0801306</td>\n",
       "    </tr>\n",
       "    <tr>\n",
       "      <th>2</th>\n",
       "      <td>3609931</td>\n",
       "    </tr>\n",
       "  </tbody>\n",
       "</table>\n",
       "</div>"
      ],
      "text/plain": [
       "        id\n",
       "0  4104757\n",
       "1  0801306\n",
       "2  3609931"
      ]
     },
     "execution_count": 11,
     "metadata": {},
     "output_type": "execute_result"
    }
   ],
   "source": [
    "df = pd.read_csv(\"mines-subset.csv\", dtype=str)\n",
    "df"
   ]
  },
  {
   "cell_type": "markdown",
   "metadata": {},
   "source": [
    "### Scrape the operator's name for each of those mines and print it\n",
    "\n",
    "- *TIP: use .apply and a function*\n",
    "- *TIP: If you need help with .apply, look at the \"Using apply in pandas\" notebook *"
   ]
  },
  {
   "cell_type": "code",
   "execution_count": 12,
   "metadata": {
    "collapsed": true
   },
   "outputs": [],
   "source": [
    "def scrape_operator_name(row):\n",
    "    driver.get(\"https://arlweb.msha.gov/drs/drshome.htm\")\n",
    "    driver.find_element_by_name(\"MineId\").send_keys(row['id'])\n",
    "    driver.find_element_by_xpath('//*[@id=\"content\"]/table[3]/tbody/tr[3]/td[2]/input').click()\n",
    "    doc = BeautifulSoup(driver.page_source, \"html.parser\")\n",
    "    operator_name = doc.find(\"table\", bgcolor=\"#FFFFBF\").find_all(\"tr\")[2].find_all(\"td\")[1].text\n",
    "    print (operator_name)"
   ]
  },
  {
   "cell_type": "code",
   "execution_count": 13,
   "metadata": {},
   "outputs": [
    {
     "name": "stdout",
     "output_type": "stream",
     "text": [
      "Dirt Works \n",
      "Holley Dirt Company, Inc \n",
      "M.R. Dirt Inc. \n"
     ]
    },
    {
     "data": {
      "text/plain": [
       "0    None\n",
       "1    None\n",
       "2    None\n",
       "dtype: object"
      ]
     },
     "execution_count": 13,
     "metadata": {},
     "output_type": "execute_result"
    }
   ],
   "source": [
    "df.apply(scrape_operator_name, axis=1)"
   ]
  },
  {
   "cell_type": "markdown",
   "metadata": {},
   "source": [
    "### Scrape the operator's name and save it into a new column\n",
    "\n",
    "- *TIP: Use .apply and a function*\n",
    "- *TIP: Remember to use `return`*"
   ]
  },
  {
   "cell_type": "code",
   "execution_count": 14,
   "metadata": {
    "collapsed": true
   },
   "outputs": [],
   "source": [
    "def scrape_operator_name_2(row):\n",
    "    driver.get(\"https://arlweb.msha.gov/drs/drshome.htm\")\n",
    "    driver.find_element_by_name(\"MineId\").send_keys(row['id'])\n",
    "    driver.find_element_by_xpath('//*[@id=\"content\"]/table[3]/tbody/tr[3]/td[2]/input').click()\n",
    "    doc = BeautifulSoup(driver.page_source, \"html.parser\")\n",
    "    operator_name = doc.find(\"table\", bgcolor=\"#FFFFBF\").find_all(\"tr\")[2].find_all(\"td\")[1].text\n",
    "    return operator_name"
   ]
  },
  {
   "cell_type": "code",
   "execution_count": 15,
   "metadata": {
    "collapsed": true
   },
   "outputs": [],
   "source": [
    "df['name'] = df.apply(scrape_operator_name_2, axis=1)"
   ]
  },
  {
   "cell_type": "code",
   "execution_count": 16,
   "metadata": {},
   "outputs": [
    {
     "data": {
      "text/html": [
       "<div>\n",
       "<style>\n",
       "    .dataframe thead tr:only-child th {\n",
       "        text-align: right;\n",
       "    }\n",
       "\n",
       "    .dataframe thead th {\n",
       "        text-align: left;\n",
       "    }\n",
       "\n",
       "    .dataframe tbody tr th {\n",
       "        vertical-align: top;\n",
       "    }\n",
       "</style>\n",
       "<table border=\"1\" class=\"dataframe\">\n",
       "  <thead>\n",
       "    <tr style=\"text-align: right;\">\n",
       "      <th></th>\n",
       "      <th>id</th>\n",
       "      <th>name</th>\n",
       "    </tr>\n",
       "  </thead>\n",
       "  <tbody>\n",
       "    <tr>\n",
       "      <th>0</th>\n",
       "      <td>4104757</td>\n",
       "      <td>Dirt Works</td>\n",
       "    </tr>\n",
       "    <tr>\n",
       "      <th>1</th>\n",
       "      <td>0801306</td>\n",
       "      <td>Holley Dirt Company, Inc</td>\n",
       "    </tr>\n",
       "    <tr>\n",
       "      <th>2</th>\n",
       "      <td>3609931</td>\n",
       "      <td>M.R. Dirt Inc.</td>\n",
       "    </tr>\n",
       "  </tbody>\n",
       "</table>\n",
       "</div>"
      ],
      "text/plain": [
       "        id                       name\n",
       "0  4104757                Dirt Works \n",
       "1  0801306  Holley Dirt Company, Inc \n",
       "2  3609931            M.R. Dirt Inc. "
      ]
     },
     "execution_count": 16,
     "metadata": {},
     "output_type": "execute_result"
    }
   ],
   "source": [
    "df"
   ]
  },
  {
   "cell_type": "markdown",
   "metadata": {},
   "source": [
    "# Researching mine violations\n",
    "\n",
    "Read the very top again to remember how to find mine violations"
   ]
  },
  {
   "cell_type": "markdown",
   "metadata": {},
   "source": [
    "### When you search for a mine's violations, what URL is Selenium going to start on?\n",
    "\n",
    "- *TIP: `requests` can send form data to load in the middle of a bunch of steps, but Selenium has to start at the beginning"
   ]
  },
  {
   "cell_type": "markdown",
   "metadata": {
    "collapsed": true
   },
   "source": [
    "We need to start back at the beginning: `https://arlweb.msha.gov/drs/drshome.htm`"
   ]
  },
  {
   "cell_type": "markdown",
   "metadata": {},
   "source": [
    "### When you're searching for violations from the Mine Information page, how are you going to identify the \"Beginning Date\" field?"
   ]
  },
  {
   "cell_type": "markdown",
   "metadata": {
    "collapsed": true
   },
   "source": [
    "We can identify it by the `<input>` tag with `name=\"BDate\"`"
   ]
  },
  {
   "cell_type": "markdown",
   "metadata": {},
   "source": [
    "### When you're searching for violations from the Mine Information page, how are you going to identify the \"Violations\" button?"
   ]
  },
  {
   "cell_type": "markdown",
   "metadata": {
    "collapsed": true
   },
   "source": [
    "We need to go by the xpath: `//*[@id=\"content\"]/form[1]/table[3]/tbody/tr[2]/td[2]/table/tbody/tr[1]/td/input`"
   ]
  },
  {
   "cell_type": "markdown",
   "metadata": {
    "collapsed": true
   },
   "source": [
    "### When you're searching for violations from the Mine Information page, how are you going to identify the form or the button to click to get a list of the violations?"
   ]
  },
  {
   "cell_type": "markdown",
   "metadata": {
    "collapsed": true
   },
   "source": [
    "We also need to go by the xpath: `//*[@id=\"content\"]/form[1]/table[3]/tbody/tr[3]/td[2]/input`"
   ]
  },
  {
   "cell_type": "markdown",
   "metadata": {},
   "source": [
    "### Using the mine ID `3901432`, scrape all of their violations since 1/1/1995\n",
    "\n",
    "**Save this into a CSV called `3901432-violations.csv`.** This CSV must include the following fields:\n",
    "\n",
    "- Citation number\n",
    "- Case number\n",
    "- Standard violated\n",
    "- Link to standard\n",
    "- Proposed penalty\n",
    "- Amount paid to date\n",
    "\n",
    "**Tips:**\n",
    "\n",
    "- *TIP: It's probably worth it to print them all first, then save them to a CSV once you know it's all working.*\n",
    "- *TIP: You'll use the parent pattern - get the ROWS first (tr), then loop through and get the TABLE CELLS (td)*"
   ]
  },
  {
   "cell_type": "code",
   "execution_count": 5,
   "metadata": {
    "collapsed": true
   },
   "outputs": [],
   "source": [
    "driver.get(\"https://arlweb.msha.gov/drs/drshome.htm\")\n",
    "driver.find_element_by_name(\"MineId\").send_keys(\"3901432\")\n",
    "driver.find_element_by_xpath('//*[@id=\"content\"]/table[3]/tbody/tr[3]/td[2]/input').click()"
   ]
  },
  {
   "cell_type": "code",
   "execution_count": 6,
   "metadata": {
    "collapsed": true
   },
   "outputs": [],
   "source": [
    "driver.find_element_by_name(\"BDate\").send_keys(\"1/1/1995\")"
   ]
  },
  {
   "cell_type": "code",
   "execution_count": 7,
   "metadata": {
    "collapsed": true
   },
   "outputs": [],
   "source": [
    "driver.find_element_by_xpath('//*[@id=\"content\"]/form[1]/table[3]/tbody/tr[2]/td[2]/table/tbody/tr[1]/td/input').click()"
   ]
  },
  {
   "cell_type": "code",
   "execution_count": 8,
   "metadata": {
    "collapsed": true
   },
   "outputs": [],
   "source": [
    "driver.find_element_by_xpath('//*[@id=\"content\"]/form[1]/table[3]/tbody/tr[3]/td[2]/input').click()"
   ]
  },
  {
   "cell_type": "code",
   "execution_count": 9,
   "metadata": {
    "collapsed": true
   },
   "outputs": [],
   "source": [
    "doc = BeautifulSoup(driver.page_source, \"html.parser\")"
   ]
  },
  {
   "cell_type": "code",
   "execution_count": 10,
   "metadata": {
    "collapsed": true
   },
   "outputs": [],
   "source": [
    "trs = doc.find_all(\"table\")[7].find_all(\"tr\")[1:]"
   ]
  },
  {
   "cell_type": "code",
   "execution_count": 11,
   "metadata": {
    "collapsed": true
   },
   "outputs": [],
   "source": [
    "violations = []\n",
    "for tr in trs:\n",
    "    violation = {}\n",
    "    tds = tr.find_all(\"td\")\n",
    "    violation['violator_id'] = \"3901432\"\n",
    "    violation['violator_name'] = tds[0].text.strip()\n",
    "    violation['citation_no'] = tds[2].text.strip()\n",
    "    violation['case_no'] = tds[3].text.strip()\n",
    "    violation['standard_no'] = tds[10].find_all(\"font\")[2].text.strip()\n",
    "    violation['standard_link'] = tds[10].a[\"href\"]\n",
    "    violation['proposed_penalty'] = tds[11].text.strip()\n",
    "    violation['amount_paid'] = tds[14].text.strip()\n",
    "    violations.append(violation)"
   ]
  },
  {
   "cell_type": "code",
   "execution_count": 31,
   "metadata": {},
   "outputs": [
    {
     "data": {
      "text/html": [
       "<div>\n",
       "<style>\n",
       "    .dataframe thead tr:only-child th {\n",
       "        text-align: right;\n",
       "    }\n",
       "\n",
       "    .dataframe thead th {\n",
       "        text-align: left;\n",
       "    }\n",
       "\n",
       "    .dataframe tbody tr th {\n",
       "        vertical-align: top;\n",
       "    }\n",
       "</style>\n",
       "<table border=\"1\" class=\"dataframe\">\n",
       "  <thead>\n",
       "    <tr style=\"text-align: right;\">\n",
       "      <th></th>\n",
       "      <th>violator_id</th>\n",
       "      <th>violator_name</th>\n",
       "      <th>citation_no</th>\n",
       "      <th>case_no</th>\n",
       "      <th>standard_no</th>\n",
       "      <th>standard_link</th>\n",
       "      <th>proposed_penalty</th>\n",
       "      <th>amount_paid</th>\n",
       "    </tr>\n",
       "  </thead>\n",
       "  <tbody>\n",
       "    <tr>\n",
       "      <th>0</th>\n",
       "      <td>3901432</td>\n",
       "      <td>Krueger Brothers Gravel &amp; Dirt</td>\n",
       "      <td>8750964</td>\n",
       "      <td>000361866</td>\n",
       "      <td>56.18010</td>\n",
       "      <td>http://www.gpo.gov/fdsys/pkg/CFR-2014-title30-...</td>\n",
       "      <td>100.00</td>\n",
       "      <td>100.00</td>\n",
       "    </tr>\n",
       "    <tr>\n",
       "      <th>1</th>\n",
       "      <td>3901432</td>\n",
       "      <td>Krueger Brothers Gravel &amp; Dirt</td>\n",
       "      <td>6426439</td>\n",
       "      <td>000260865</td>\n",
       "      <td>56.4201(a)(2)</td>\n",
       "      <td>http://www.gpo.gov/fdsys/pkg/CFR-2011-title30-...</td>\n",
       "      <td>100.00</td>\n",
       "      <td>100.00</td>\n",
       "    </tr>\n",
       "    <tr>\n",
       "      <th>2</th>\n",
       "      <td>3901432</td>\n",
       "      <td>Krueger Brothers Gravel &amp; Dirt</td>\n",
       "      <td>6426438</td>\n",
       "      <td>000260865</td>\n",
       "      <td>56.4101</td>\n",
       "      <td>http://www.gpo.gov/fdsys/pkg/CFR-2011-title30-...</td>\n",
       "      <td>100.00</td>\n",
       "      <td>100.00</td>\n",
       "    </tr>\n",
       "    <tr>\n",
       "      <th>3</th>\n",
       "      <td>3901432</td>\n",
       "      <td>Krueger Brothers Gravel &amp; Dirt</td>\n",
       "      <td>6588189</td>\n",
       "      <td>000260865</td>\n",
       "      <td>56.14200</td>\n",
       "      <td>http://www.gpo.gov/fdsys/pkg/CFR-2011-title30-...</td>\n",
       "      <td>100.00</td>\n",
       "      <td>100.00</td>\n",
       "    </tr>\n",
       "    <tr>\n",
       "      <th>4</th>\n",
       "      <td>3901432</td>\n",
       "      <td>Krueger Brothers Gravel &amp; Dirt</td>\n",
       "      <td>6588210</td>\n",
       "      <td>000238554</td>\n",
       "      <td>50.30(a)</td>\n",
       "      <td>http://www.gpo.gov/fdsys/pkg/CFR-2010-title30-...</td>\n",
       "      <td>100.00</td>\n",
       "      <td>100.00</td>\n",
       "    </tr>\n",
       "  </tbody>\n",
       "</table>\n",
       "</div>"
      ],
      "text/plain": [
       "  violator_id                   violator_name citation_no    case_no  \\\n",
       "0     3901432  Krueger Brothers Gravel & Dirt     8750964  000361866   \n",
       "1     3901432  Krueger Brothers Gravel & Dirt     6426439  000260865   \n",
       "2     3901432  Krueger Brothers Gravel & Dirt     6426438  000260865   \n",
       "3     3901432  Krueger Brothers Gravel & Dirt     6588189  000260865   \n",
       "4     3901432  Krueger Brothers Gravel & Dirt     6588210  000238554   \n",
       "\n",
       "     standard_no                                      standard_link  \\\n",
       "0       56.18010  http://www.gpo.gov/fdsys/pkg/CFR-2014-title30-...   \n",
       "1  56.4201(a)(2)  http://www.gpo.gov/fdsys/pkg/CFR-2011-title30-...   \n",
       "2        56.4101  http://www.gpo.gov/fdsys/pkg/CFR-2011-title30-...   \n",
       "3       56.14200  http://www.gpo.gov/fdsys/pkg/CFR-2011-title30-...   \n",
       "4       50.30(a)  http://www.gpo.gov/fdsys/pkg/CFR-2010-title30-...   \n",
       "\n",
       "  proposed_penalty amount_paid  \n",
       "0           100.00      100.00  \n",
       "1           100.00      100.00  \n",
       "2           100.00      100.00  \n",
       "3           100.00      100.00  \n",
       "4           100.00      100.00  "
      ]
     },
     "execution_count": 31,
     "metadata": {},
     "output_type": "execute_result"
    }
   ],
   "source": [
    "df = pd.DataFrame(violations, columns=[\"violator_id\", \"violator_name\", \"citation_no\", \"case_no\", \"standard_no\", \"standard_link\", \"proposed_penalty\", \"amount_paid\"])\n",
    "df.head()"
   ]
  },
  {
   "cell_type": "code",
   "execution_count": 32,
   "metadata": {
    "collapsed": true
   },
   "outputs": [],
   "source": [
    "df.to_csv(\"3901432-violations.csv\", index=False)"
   ]
  },
  {
   "cell_type": "code",
   "execution_count": 33,
   "metadata": {},
   "outputs": [
    {
     "data": {
      "text/html": [
       "<div>\n",
       "<style>\n",
       "    .dataframe thead tr:only-child th {\n",
       "        text-align: right;\n",
       "    }\n",
       "\n",
       "    .dataframe thead th {\n",
       "        text-align: left;\n",
       "    }\n",
       "\n",
       "    .dataframe tbody tr th {\n",
       "        vertical-align: top;\n",
       "    }\n",
       "</style>\n",
       "<table border=\"1\" class=\"dataframe\">\n",
       "  <thead>\n",
       "    <tr style=\"text-align: right;\">\n",
       "      <th></th>\n",
       "      <th>violator_id</th>\n",
       "      <th>violator_name</th>\n",
       "      <th>citation_no</th>\n",
       "      <th>case_no</th>\n",
       "      <th>standard_no</th>\n",
       "      <th>standard_link</th>\n",
       "      <th>proposed_penalty</th>\n",
       "      <th>amount_paid</th>\n",
       "    </tr>\n",
       "  </thead>\n",
       "  <tbody>\n",
       "    <tr>\n",
       "      <th>0</th>\n",
       "      <td>3901432</td>\n",
       "      <td>Krueger Brothers Gravel &amp; Dirt</td>\n",
       "      <td>8750964</td>\n",
       "      <td>000361866</td>\n",
       "      <td>56.18010</td>\n",
       "      <td>http://www.gpo.gov/fdsys/pkg/CFR-2014-title30-...</td>\n",
       "      <td>100.00</td>\n",
       "      <td>100.00</td>\n",
       "    </tr>\n",
       "    <tr>\n",
       "      <th>1</th>\n",
       "      <td>3901432</td>\n",
       "      <td>Krueger Brothers Gravel &amp; Dirt</td>\n",
       "      <td>6426439</td>\n",
       "      <td>000260865</td>\n",
       "      <td>56.4201(a)(2)</td>\n",
       "      <td>http://www.gpo.gov/fdsys/pkg/CFR-2011-title30-...</td>\n",
       "      <td>100.00</td>\n",
       "      <td>100.00</td>\n",
       "    </tr>\n",
       "    <tr>\n",
       "      <th>2</th>\n",
       "      <td>3901432</td>\n",
       "      <td>Krueger Brothers Gravel &amp; Dirt</td>\n",
       "      <td>6426438</td>\n",
       "      <td>000260865</td>\n",
       "      <td>56.4101</td>\n",
       "      <td>http://www.gpo.gov/fdsys/pkg/CFR-2011-title30-...</td>\n",
       "      <td>100.00</td>\n",
       "      <td>100.00</td>\n",
       "    </tr>\n",
       "    <tr>\n",
       "      <th>3</th>\n",
       "      <td>3901432</td>\n",
       "      <td>Krueger Brothers Gravel &amp; Dirt</td>\n",
       "      <td>6588189</td>\n",
       "      <td>000260865</td>\n",
       "      <td>56.14200</td>\n",
       "      <td>http://www.gpo.gov/fdsys/pkg/CFR-2011-title30-...</td>\n",
       "      <td>100.00</td>\n",
       "      <td>100.00</td>\n",
       "    </tr>\n",
       "    <tr>\n",
       "      <th>4</th>\n",
       "      <td>3901432</td>\n",
       "      <td>Krueger Brothers Gravel &amp; Dirt</td>\n",
       "      <td>6588210</td>\n",
       "      <td>000238554</td>\n",
       "      <td>50.30(a)</td>\n",
       "      <td>http://www.gpo.gov/fdsys/pkg/CFR-2010-title30-...</td>\n",
       "      <td>100.00</td>\n",
       "      <td>100.00</td>\n",
       "    </tr>\n",
       "  </tbody>\n",
       "</table>\n",
       "</div>"
      ],
      "text/plain": [
       "  violator_id                   violator_name citation_no    case_no  \\\n",
       "0     3901432  Krueger Brothers Gravel & Dirt     8750964  000361866   \n",
       "1     3901432  Krueger Brothers Gravel & Dirt     6426439  000260865   \n",
       "2     3901432  Krueger Brothers Gravel & Dirt     6426438  000260865   \n",
       "3     3901432  Krueger Brothers Gravel & Dirt     6588189  000260865   \n",
       "4     3901432  Krueger Brothers Gravel & Dirt     6588210  000238554   \n",
       "\n",
       "     standard_no                                      standard_link  \\\n",
       "0       56.18010  http://www.gpo.gov/fdsys/pkg/CFR-2014-title30-...   \n",
       "1  56.4201(a)(2)  http://www.gpo.gov/fdsys/pkg/CFR-2011-title30-...   \n",
       "2        56.4101  http://www.gpo.gov/fdsys/pkg/CFR-2011-title30-...   \n",
       "3       56.14200  http://www.gpo.gov/fdsys/pkg/CFR-2011-title30-...   \n",
       "4       50.30(a)  http://www.gpo.gov/fdsys/pkg/CFR-2010-title30-...   \n",
       "\n",
       "  proposed_penalty amount_paid  \n",
       "0           100.00      100.00  \n",
       "1           100.00      100.00  \n",
       "2           100.00      100.00  \n",
       "3           100.00      100.00  \n",
       "4           100.00      100.00  "
      ]
     },
     "execution_count": 33,
     "metadata": {},
     "output_type": "execute_result"
    }
   ],
   "source": [
    "df_test = pd.read_csv(\"3901432-violations.csv\", dtype=str)\n",
    "df_test.head()"
   ]
  },
  {
   "cell_type": "markdown",
   "metadata": {},
   "source": [
    "# Using .apply to save mine data for SEVERAL mines\n",
    "\n",
    "The file `mines-subset.csv` has a list of mine IDs. We're going to scrape the operator's name for each of those mines.\n",
    "\n",
    "### Open up `mines-subset.csv` and save it into a dataframe"
   ]
  },
  {
   "cell_type": "code",
   "execution_count": 34,
   "metadata": {},
   "outputs": [
    {
     "data": {
      "text/html": [
       "<div>\n",
       "<style>\n",
       "    .dataframe thead tr:only-child th {\n",
       "        text-align: right;\n",
       "    }\n",
       "\n",
       "    .dataframe thead th {\n",
       "        text-align: left;\n",
       "    }\n",
       "\n",
       "    .dataframe tbody tr th {\n",
       "        vertical-align: top;\n",
       "    }\n",
       "</style>\n",
       "<table border=\"1\" class=\"dataframe\">\n",
       "  <thead>\n",
       "    <tr style=\"text-align: right;\">\n",
       "      <th></th>\n",
       "      <th>id</th>\n",
       "    </tr>\n",
       "  </thead>\n",
       "  <tbody>\n",
       "    <tr>\n",
       "      <th>0</th>\n",
       "      <td>4104757</td>\n",
       "    </tr>\n",
       "    <tr>\n",
       "      <th>1</th>\n",
       "      <td>0801306</td>\n",
       "    </tr>\n",
       "    <tr>\n",
       "      <th>2</th>\n",
       "      <td>3609931</td>\n",
       "    </tr>\n",
       "  </tbody>\n",
       "</table>\n",
       "</div>"
      ],
      "text/plain": [
       "        id\n",
       "0  4104757\n",
       "1  0801306\n",
       "2  3609931"
      ]
     },
     "execution_count": 34,
     "metadata": {},
     "output_type": "execute_result"
    }
   ],
   "source": [
    "df_mines = pd.read_csv(\"mines-subset.csv\", dtype=str)\n",
    "df_mines"
   ]
  },
  {
   "cell_type": "markdown",
   "metadata": {},
   "source": [
    "### Scrape the violations for each mine\n",
    "\n",
    "**Save each mine's violations into separate CSV files.** Each CSV file must include the following fields:\n",
    "\n",
    "- Citation number\n",
    "- Case number\n",
    "- Standard violated\n",
    "- Link to standard\n",
    "- Proposed penalty\n",
    "- Amount paid to date\n",
    "\n",
    "Make sure you are saving them into **separate files.** It might be nice to name them after the mine id.\n",
    "\n",
    "- *TIP: Use .apply for this*\n",
    "- *TIP: Print out the ID before you start scraping. That way you can take that ID and search manually to see if there is anything weird about the results.*\n",
    "- *TIP: If you need help with .apply, look at the \"Using apply in pandas\" notebook \n",
    "- *TIP: It's probably worth it to print the fields first, then save them to a CSV once you know it's all working.*"
   ]
  },
  {
   "cell_type": "code",
   "execution_count": 35,
   "metadata": {
    "collapsed": true
   },
   "outputs": [],
   "source": [
    "def scrape_all_violations(row):\n",
    "    \n",
    "    #direct browser from the entry page to the id-overview page\n",
    "    driver.get(\"https://arlweb.msha.gov/drs/drshome.htm\")\n",
    "    driver.find_element_by_name(\"MineId\").send_keys(row['id'])\n",
    "    driver.find_element_by_xpath('//*[@id=\"content\"]/table[3]/tbody/tr[3]/td[2]/input').click()\n",
    "       \n",
    "    #direct browser to the report-violations page\n",
    "    driver.find_element_by_name(\"BDate\").send_keys(\"1/1/1995\")\n",
    "    driver.find_element_by_xpath('//*[@id=\"content\"]/form[1]/table[3]/tbody/tr[2]/td[2]/table/tbody/tr[1]/td/input').click()\n",
    "    driver.find_element_by_xpath('//*[@id=\"content\"]/form[1]/table[3]/tbody/tr[3]/td[2]/input').click()\n",
    "    \n",
    "    #scrape the content of the report-violations page, using extra checks\n",
    "    doc = BeautifulSoup(driver.page_source, \"html.parser\")\n",
    "    trs = doc.find_all(\"table\")[7].find_all(\"tr\")[1:]\n",
    "    violations = []\n",
    "    for tr in trs:\n",
    "        violation = {}\n",
    "        tds = tr.find_all(\"td\")\n",
    "        violation['violator_id'] = row['id']\n",
    "        violation['violator_name'] = tds[0].text.strip()\n",
    "        violation['citation_no'] = tds[2].text.strip()\n",
    "        violation['case_no'] = tds[3].text.strip()\n",
    "        if tds[10].text.strip() == \"\":\n",
    "            violation['standard_no'] = \"\"\n",
    "            violation['standard_link'] = \"\"\n",
    "        else:\n",
    "            violation['standard_no'] = tds[10].find_all(\"font\")[2].text.strip()\n",
    "            violation['standard_link'] = tds[10].a[\"href\"]\n",
    "        if (tds[11].text == \"Not  Assessed Yet\") | (tds[11].text == \"Non-Assessable\"):\n",
    "            violation['proposed_penalty'] = \"\"\n",
    "            violation['amount_paid'] = \"\"\n",
    "        else:\n",
    "            violation['proposed_penalty'] = tds[11].text.strip()\n",
    "            violation['amount_paid'] = tds[14].text.strip()\n",
    "        violations.append(violation)\n",
    "    df = pd.DataFrame(violations, columns=[\"violator_id\", \"violator_name\", \"citation_no\", \"case_no\", \"standard_no\", \"standard_link\", \"proposed_penalty\", \"amount_paid\"])\n",
    "    df.to_csv(row['id']+\"-violations.csv\", index=False)"
   ]
  },
  {
   "cell_type": "code",
   "execution_count": 36,
   "metadata": {},
   "outputs": [
    {
     "data": {
      "text/plain": [
       "0    None\n",
       "1    None\n",
       "2    None\n",
       "dtype: object"
      ]
     },
     "execution_count": 36,
     "metadata": {},
     "output_type": "execute_result"
    }
   ],
   "source": [
    "df_mines.apply(scrape_all_violations, axis=1)"
   ]
  },
  {
   "cell_type": "code",
   "execution_count": null,
   "metadata": {
    "collapsed": true
   },
   "outputs": [],
   "source": []
  }
 ],
 "metadata": {
  "kernelspec": {
   "display_name": "Python 3",
   "language": "python",
   "name": "python3"
  },
  "language_info": {
   "codemirror_mode": {
    "name": "ipython",
    "version": 3
   },
   "file_extension": ".py",
   "mimetype": "text/x-python",
   "name": "python",
   "nbconvert_exporter": "python",
   "pygments_lexer": "ipython3",
   "version": "3.6.1"
  }
 },
 "nbformat": 4,
 "nbformat_minor": 2
}
