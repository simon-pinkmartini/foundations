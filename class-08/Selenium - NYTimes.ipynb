{
 "cells": [
  {
   "cell_type": "code",
   "execution_count": 22,
   "metadata": {
    "collapsed": true
   },
   "outputs": [],
   "source": [
    "from selenium import webdriver"
   ]
  },
  {
   "cell_type": "code",
   "execution_count": 23,
   "metadata": {},
   "outputs": [],
   "source": [
    "driver = webdriver.Chrome()"
   ]
  },
  {
   "cell_type": "code",
   "execution_count": 38,
   "metadata": {},
   "outputs": [],
   "source": [
    "driver.get(\"https://www.nytimes.com\")"
   ]
  },
  {
   "cell_type": "code",
   "execution_count": 39,
   "metadata": {},
   "outputs": [
    {
     "data": {
      "text/plain": [
       "<selenium.webdriver.remote.webelement.WebElement (session=\"84862421fb3a38fcdb30ad9e15dfe36f\", element=\"0.8987147284640169-1\")>"
      ]
     },
     "execution_count": 39,
     "metadata": {},
     "output_type": "execute_result"
    }
   ],
   "source": [
    "driver.find_element_by_class_name(\"story-heading\")"
   ]
  },
  {
   "cell_type": "code",
   "execution_count": 40,
   "metadata": {},
   "outputs": [
    {
     "data": {
      "text/plain": [
       "'Congressman Is Hit in Multiple Shooting'"
      ]
     },
     "execution_count": 40,
     "metadata": {},
     "output_type": "execute_result"
    }
   ],
   "source": [
    "headline = driver.find_element_by_class_name(\"story-heading\")\n",
    "headline.text"
   ]
  },
  {
   "cell_type": "code",
   "execution_count": 41,
   "metadata": {},
   "outputs": [
    {
     "data": {
      "text/plain": [
       "153"
      ]
     },
     "execution_count": 41,
     "metadata": {},
     "output_type": "execute_result"
    }
   ],
   "source": [
    "headlines = driver.find_elements_by_class_name(\"story-heading\")\n",
    "len(headlines)"
   ]
  },
  {
   "cell_type": "code",
   "execution_count": 42,
   "metadata": {},
   "outputs": [
    {
     "name": "stdout",
     "output_type": "stream",
     "text": [
      "Congressman Is Hit in Multiple Shooting\n",
      "Steve Scalise, House Majority Whip, Is Shot at Ball Field\n",
      "Trump Speaks on Shooting\n",
      "What We Know About the Virginia Shooting\n",
      "At Least 6 Dead in London Apartment Tower Fire\n",
      "The London Fire: What We Know 37 minutes ago\n",
      "Flames Engulf an Apartment Tower\n",
      "Sessions Denies Collusion, Deploring ‘Detestable Lie’\n",
      "Trump Stews. Staff Steps In. Mueller Is Safe for Now.\n",
      "Democrats to Sue Trump Over Foreign Business Deals\n",
      "Trump, in Zigzag, Calls House Republicans’ Health Bill ‘Mean’\n",
      "Trump Opens Door to More U.S. Troops in Afghanistan War\n",
      "ISIS Captures Tora Bora, Once Bin Laden’s Afghan Fortress 10:09 AM ET\n",
      "In Spain With the Frugal Traveler\n",
      "The Southern Charms of Spain and Portugal\n",
      "Why Efforts to Rescue Migrants Can Have Deadly Consequences\n",
      "Your Wednesday Briefing\n",
      "\n",
      "Listen to ‘The Daily’\n",
      "When ‘What Do You Do?’ Is Taboo\n",
      "Social Interaction Is Critical for Health\n",
      "Official in Flint Water Crisis Gets Manslaughter Charge\n",
      "One Way to Fix Uber: Think Twice Before Using It\n",
      "Uber Board Member Resigns After Sexist Remark\n",
      "Uber Chief Taking Leave of Absence After Investigation 9:05 AM ET\n",
      "North Korea Frees American Student Said to Be in Coma\n",
      "Interview a Conspiracy Theorist? Megyn Kelly’s Defense\n",
      "Katy Perry Woke Up. She Wants to Tell You All About It.\n",
      "New York Officers Told to Relax Stance on Petty Offenses\n",
      "U.S. Troops in Besieged City, Philippine Military Says 9:13 AM ET\n",
      "What to Expect From the Fed Today 9:52 AM ET\n",
      "Chinese Chairman Who Sought Ties to Kushner Is Detained\n",
      "Australia to Pay $53 Million Settlement to Detainees\n",
      "Roaming Charges End in Europe, but Response Muted\n",
      "\n",
      "\n",
      "\n",
      "Morning Briefing\n",
      "The Rich Food Tradition of Juneteenth\n",
      "Best of Late Night: Political Calculations\n",
      "The Hidden Treasures in Italian Libraries\n",
      "\n",
      "\n",
      "\n",
      "The Trumpiest Roman of Them All\n",
      "In Defense of Cultural Appropriation\n",
      "Bruni: The Mortification of Jeff Sessions\n",
      "Friedman: Solving the Korea Crisis by Teaching a Horse to Sing\n",
      "Why Companies Like Uber Get Away With Bad Behavior\n",
      "Our Fall From ‘Bachelor in Paradise’\n",
      "Editorial: Jeff Sessions Clams Up in Congress\n",
      "Bernie Sanders: How Democrats Can Stop Losing\n",
      "\n",
      "\n",
      "‘What’s the Difference Between a Reporter and a Correspondent?’\n",
      "Play Today’s Puzzle\n",
      "\n",
      "How to Live With Critics (No Matter Who You Are)\n",
      "The Myth of Disability ‘Sob Stories’\n",
      "A High-Stakes New York City Thriller\n",
      "What Spanx Founder Can’t Travel Without\n",
      "I Thought I Understood America. Then Came Trump.\n",
      "Defining the Reporter and the Correspondent\n",
      "\n",
      "\n",
      "\n",
      "\n",
      "\n",
      "\n",
      "London Fire: At Least 6 Dead After Blaze Engulfs Apartment Tower\n",
      "Efforts to Rescue Migrants Caused Deadly, Unexpected Consequences\n",
      "Otto Warmbier, Detained American, Is Evacuated From North Korea in a Coma\n",
      "State of the Art: One Way to Fix Uber: Think Twice Before Using It\n",
      "David Bonderman Resigns From Uber Board After Sexist Remark\n",
      "Uber Embraces Major Reforms as Travis Kalanick, the C.E.O., Steps Away\n",
      "Op-Ed Contributors: You’re Probably Going to Need Medicaid\n",
      "Editorial: The Senate Hides Its Trumpcare Bill Behind Closed Doors\n",
      "David Brooks: Is Radicalism Possible Today?\n",
      "Steve Scalise Among 5 Shot at Baseball Field\n",
      "Torture Victim, Expecting a U.S. Handshake, Was Given Handcuffs Instead\n",
      "Ed Gillespie and Ralph Northam Beat Upstarts in Virginia Governor Primaries\n",
      "State of the Art: One Way to Fix Uber: Think Twice Before Using It\n",
      "Uber Embraces Major Reforms as Travis Kalanick, the C.E.O., Steps Away\n",
      "David Bonderman Resigns From Uber Board After Sexist Remark\n",
      "Cosby Trial Live Briefing: Bill Cosby Trial Day 8: What to Expect\n",
      "Katy Perry Woke Up. She Wants to Tell You All About It.\n",
      "Met Museum Changes Leadership Structure\n",
      "Who is Steve Scalise?\n",
      "Charter School Founded by DeVos Family Reflects National Tensions\n",
      "Who Is Ralph Northam, Virginia’s Democratic Nominee for Governor?\n",
      "Meet the Goopies\n",
      "Condé Nast Closes Style.com Months After Its Debut\n",
      "Critic's Notebook: Christian Louboutin Opens the Florence Shows With Bike Polo\n",
      "The 25 Best Films of the 21st Century So Far.\n",
      "Trailer: ‘Moka’\n",
      "Review: ‘The Mummy,’ With Tom Cruise, Deserves a Quick Burial\n",
      "For Children With Autism, No More Being Hushed\n",
      "About New York: A $25 Million Mistake That the City Won’t Admit\n",
      "Officer’s Journey to Gay Pride Honoree Marks a Town’s Progress\n",
      "This Soccer Club Has Everything You’d Want Except ...\n",
      "Dustin Johnson’s Brother: Buddy, Goad and Caddie\n",
      "Report Finds 17 Deaths and Labor Abuses at Russia’s World Cup Stadiums\n",
      "A Word With: Oskar Eustis on Trump, ‘Julius Caesar’ and the Politics of Theater\n",
      "How Outrage Built Over a Shakespearean Depiction of Trump\n",
      "Why ‘Julius Caesar’ Speaks to Politics Today. With or Without Trump.\n",
      "On Nuclear Waste, Finland Shows U.S. How It Can Be Done\n",
      "A Chicken Sandwich Hitches a Balloon Ride to the Stratosphere\n",
      "Basics: The Liver: A ‘Blob’ That Runs the Body\n",
      "Rosalie Sorrels, a Folk Singer Who Transported Her Audience, Is Dead at 83\n",
      "Charles P. Thacker Dies at 74; Helped Design Early Personal Computer\n",
      "Ed Victor, a Stylish and Frenetic Book Agent, Dies at 77\n",
      "Watching: Margaret Atwood Annotates Season 1 of ‘The Handmaid’s Tale’\n",
      "Cosby Trial Live Briefing: Bill Cosby Trial Day 8: What to Expect\n",
      "Best of Late Night: Trevor Noah Thinks President Trump Could Fire Robert Mueller\n",
      "Phys Ed: Hot Weather Workout? Try a Hot Bath Beforehand\n",
      "Basics: The Liver: A ‘Blob’ That Runs the Body\n",
      "Would Carrots by Any Other Name Taste as Sweet? Study Suggests Not\n",
      "Frugal Traveler: The Southern Charms of Spain and Portugal\n",
      "Surfacing: Five Places to Go in Paris\n",
      "Cultured Traveler: The Hidden Treasures in Italian Libraries\n",
      "Tracy K. Smith Is the New Poet Laureate\n"
     ]
    },
    {
     "ename": "WebDriverException",
     "evalue": "Message: disconnected: received Inspector.detached event\n  (Session info: chrome=58.0.3029.110)\n  (Driver info: chromedriver=2.30.477690 (c53f4ad87510ee97b5c3425a14c0e79780cdf262),platform=Mac OS X 10.12.5 x86_64)\n",
     "output_type": "error",
     "traceback": [
      "\u001b[0;31m---------------------------------------------------------------------------\u001b[0m",
      "\u001b[0;31mWebDriverException\u001b[0m                        Traceback (most recent call last)",
      "\u001b[0;32m<ipython-input-42-34304a69572a>\u001b[0m in \u001b[0;36m<module>\u001b[0;34m()\u001b[0m\n\u001b[1;32m      1\u001b[0m \u001b[0;32mfor\u001b[0m \u001b[0mheadline\u001b[0m \u001b[0;32min\u001b[0m \u001b[0mheadlines\u001b[0m\u001b[0;34m:\u001b[0m\u001b[0;34m\u001b[0m\u001b[0m\n\u001b[0;32m----> 2\u001b[0;31m     \u001b[0mprint\u001b[0m\u001b[0;34m(\u001b[0m\u001b[0mheadline\u001b[0m\u001b[0;34m.\u001b[0m\u001b[0mtext\u001b[0m\u001b[0;34m.\u001b[0m\u001b[0mstrip\u001b[0m\u001b[0;34m(\u001b[0m\u001b[0;34m)\u001b[0m\u001b[0;34m)\u001b[0m\u001b[0;34m\u001b[0m\u001b[0m\n\u001b[0m",
      "\u001b[0;32m/usr/local/lib/python3.6/site-packages/selenium/webdriver/remote/webelement.py\u001b[0m in \u001b[0;36mtext\u001b[0;34m(self)\u001b[0m\n\u001b[1;32m     71\u001b[0m     \u001b[0;32mdef\u001b[0m \u001b[0mtext\u001b[0m\u001b[0;34m(\u001b[0m\u001b[0mself\u001b[0m\u001b[0;34m)\u001b[0m\u001b[0;34m:\u001b[0m\u001b[0;34m\u001b[0m\u001b[0m\n\u001b[1;32m     72\u001b[0m         \u001b[0;34m\"\"\"The text of the element.\"\"\"\u001b[0m\u001b[0;34m\u001b[0m\u001b[0m\n\u001b[0;32m---> 73\u001b[0;31m         \u001b[0;32mreturn\u001b[0m \u001b[0mself\u001b[0m\u001b[0;34m.\u001b[0m\u001b[0m_execute\u001b[0m\u001b[0;34m(\u001b[0m\u001b[0mCommand\u001b[0m\u001b[0;34m.\u001b[0m\u001b[0mGET_ELEMENT_TEXT\u001b[0m\u001b[0;34m)\u001b[0m\u001b[0;34m[\u001b[0m\u001b[0;34m'value'\u001b[0m\u001b[0;34m]\u001b[0m\u001b[0;34m\u001b[0m\u001b[0m\n\u001b[0m\u001b[1;32m     74\u001b[0m \u001b[0;34m\u001b[0m\u001b[0m\n\u001b[1;32m     75\u001b[0m     \u001b[0;32mdef\u001b[0m \u001b[0mclick\u001b[0m\u001b[0;34m(\u001b[0m\u001b[0mself\u001b[0m\u001b[0;34m)\u001b[0m\u001b[0;34m:\u001b[0m\u001b[0;34m\u001b[0m\u001b[0m\n",
      "\u001b[0;32m/usr/local/lib/python3.6/site-packages/selenium/webdriver/remote/webelement.py\u001b[0m in \u001b[0;36m_execute\u001b[0;34m(self, command, params)\u001b[0m\n\u001b[1;32m    491\u001b[0m             \u001b[0mparams\u001b[0m \u001b[0;34m=\u001b[0m \u001b[0;34m{\u001b[0m\u001b[0;34m}\u001b[0m\u001b[0;34m\u001b[0m\u001b[0m\n\u001b[1;32m    492\u001b[0m         \u001b[0mparams\u001b[0m\u001b[0;34m[\u001b[0m\u001b[0;34m'id'\u001b[0m\u001b[0;34m]\u001b[0m \u001b[0;34m=\u001b[0m \u001b[0mself\u001b[0m\u001b[0;34m.\u001b[0m\u001b[0m_id\u001b[0m\u001b[0;34m\u001b[0m\u001b[0m\n\u001b[0;32m--> 493\u001b[0;31m         \u001b[0;32mreturn\u001b[0m \u001b[0mself\u001b[0m\u001b[0;34m.\u001b[0m\u001b[0m_parent\u001b[0m\u001b[0;34m.\u001b[0m\u001b[0mexecute\u001b[0m\u001b[0;34m(\u001b[0m\u001b[0mcommand\u001b[0m\u001b[0;34m,\u001b[0m \u001b[0mparams\u001b[0m\u001b[0;34m)\u001b[0m\u001b[0;34m\u001b[0m\u001b[0m\n\u001b[0m\u001b[1;32m    494\u001b[0m \u001b[0;34m\u001b[0m\u001b[0m\n\u001b[1;32m    495\u001b[0m     \u001b[0;32mdef\u001b[0m \u001b[0mfind_element\u001b[0m\u001b[0;34m(\u001b[0m\u001b[0mself\u001b[0m\u001b[0;34m,\u001b[0m \u001b[0mby\u001b[0m\u001b[0;34m=\u001b[0m\u001b[0mBy\u001b[0m\u001b[0;34m.\u001b[0m\u001b[0mID\u001b[0m\u001b[0;34m,\u001b[0m \u001b[0mvalue\u001b[0m\u001b[0;34m=\u001b[0m\u001b[0;32mNone\u001b[0m\u001b[0;34m)\u001b[0m\u001b[0;34m:\u001b[0m\u001b[0;34m\u001b[0m\u001b[0m\n",
      "\u001b[0;32m/usr/local/lib/python3.6/site-packages/selenium/webdriver/remote/webdriver.py\u001b[0m in \u001b[0;36mexecute\u001b[0;34m(self, driver_command, params)\u001b[0m\n\u001b[1;32m    254\u001b[0m         \u001b[0mresponse\u001b[0m \u001b[0;34m=\u001b[0m \u001b[0mself\u001b[0m\u001b[0;34m.\u001b[0m\u001b[0mcommand_executor\u001b[0m\u001b[0;34m.\u001b[0m\u001b[0mexecute\u001b[0m\u001b[0;34m(\u001b[0m\u001b[0mdriver_command\u001b[0m\u001b[0;34m,\u001b[0m \u001b[0mparams\u001b[0m\u001b[0;34m)\u001b[0m\u001b[0;34m\u001b[0m\u001b[0m\n\u001b[1;32m    255\u001b[0m         \u001b[0;32mif\u001b[0m \u001b[0mresponse\u001b[0m\u001b[0;34m:\u001b[0m\u001b[0;34m\u001b[0m\u001b[0m\n\u001b[0;32m--> 256\u001b[0;31m             \u001b[0mself\u001b[0m\u001b[0;34m.\u001b[0m\u001b[0merror_handler\u001b[0m\u001b[0;34m.\u001b[0m\u001b[0mcheck_response\u001b[0m\u001b[0;34m(\u001b[0m\u001b[0mresponse\u001b[0m\u001b[0;34m)\u001b[0m\u001b[0;34m\u001b[0m\u001b[0m\n\u001b[0m\u001b[1;32m    257\u001b[0m             response['value'] = self._unwrap_value(\n\u001b[1;32m    258\u001b[0m                 response.get('value', None))\n",
      "\u001b[0;32m/usr/local/lib/python3.6/site-packages/selenium/webdriver/remote/errorhandler.py\u001b[0m in \u001b[0;36mcheck_response\u001b[0;34m(self, response)\u001b[0m\n\u001b[1;32m    192\u001b[0m         \u001b[0;32melif\u001b[0m \u001b[0mexception_class\u001b[0m \u001b[0;34m==\u001b[0m \u001b[0mUnexpectedAlertPresentException\u001b[0m \u001b[0;32mand\u001b[0m \u001b[0;34m'alert'\u001b[0m \u001b[0;32min\u001b[0m \u001b[0mvalue\u001b[0m\u001b[0;34m:\u001b[0m\u001b[0;34m\u001b[0m\u001b[0m\n\u001b[1;32m    193\u001b[0m             \u001b[0;32mraise\u001b[0m \u001b[0mexception_class\u001b[0m\u001b[0;34m(\u001b[0m\u001b[0mmessage\u001b[0m\u001b[0;34m,\u001b[0m \u001b[0mscreen\u001b[0m\u001b[0;34m,\u001b[0m \u001b[0mstacktrace\u001b[0m\u001b[0;34m,\u001b[0m \u001b[0mvalue\u001b[0m\u001b[0;34m[\u001b[0m\u001b[0;34m'alert'\u001b[0m\u001b[0;34m]\u001b[0m\u001b[0;34m.\u001b[0m\u001b[0mget\u001b[0m\u001b[0;34m(\u001b[0m\u001b[0;34m'text'\u001b[0m\u001b[0;34m)\u001b[0m\u001b[0;34m)\u001b[0m\u001b[0;34m\u001b[0m\u001b[0m\n\u001b[0;32m--> 194\u001b[0;31m         \u001b[0;32mraise\u001b[0m \u001b[0mexception_class\u001b[0m\u001b[0;34m(\u001b[0m\u001b[0mmessage\u001b[0m\u001b[0;34m,\u001b[0m \u001b[0mscreen\u001b[0m\u001b[0;34m,\u001b[0m \u001b[0mstacktrace\u001b[0m\u001b[0;34m)\u001b[0m\u001b[0;34m\u001b[0m\u001b[0m\n\u001b[0m\u001b[1;32m    195\u001b[0m \u001b[0;34m\u001b[0m\u001b[0m\n\u001b[1;32m    196\u001b[0m     \u001b[0;32mdef\u001b[0m \u001b[0m_value_or_default\u001b[0m\u001b[0;34m(\u001b[0m\u001b[0mself\u001b[0m\u001b[0;34m,\u001b[0m \u001b[0mobj\u001b[0m\u001b[0;34m,\u001b[0m \u001b[0mkey\u001b[0m\u001b[0;34m,\u001b[0m \u001b[0mdefault\u001b[0m\u001b[0;34m)\u001b[0m\u001b[0;34m:\u001b[0m\u001b[0;34m\u001b[0m\u001b[0m\n",
      "\u001b[0;31mWebDriverException\u001b[0m: Message: disconnected: received Inspector.detached event\n  (Session info: chrome=58.0.3029.110)\n  (Driver info: chromedriver=2.30.477690 (c53f4ad87510ee97b5c3425a14c0e79780cdf262),platform=Mac OS X 10.12.5 x86_64)\n"
     ]
    }
   ],
   "source": [
    "for headline in headlines:\n",
    "    print(headline.text.strip())"
   ]
  },
  {
   "cell_type": "code",
   "execution_count": 43,
   "metadata": {},
   "outputs": [
    {
     "data": {
      "text/plain": [
       "<selenium.webdriver.remote.webelement.WebElement (session=\"84862421fb3a38fcdb30ad9e15dfe36f\", element=\"0.8987147284640169-154\")>"
      ]
     },
     "execution_count": 43,
     "metadata": {},
     "output_type": "execute_result"
    }
   ],
   "source": [
    "search_button = driver.find_element_by_class_name(\"search-button\")\n",
    "search_button"
   ]
  },
  {
   "cell_type": "code",
   "execution_count": 44,
   "metadata": {},
   "outputs": [],
   "source": [
    "search_button.click()"
   ]
  },
  {
   "cell_type": "code",
   "execution_count": 45,
   "metadata": {
    "collapsed": true
   },
   "outputs": [],
   "source": [
    "search_input = driver.find_element_by_xpath('//*[@id=\"search-input\"]')"
   ]
  },
  {
   "cell_type": "code",
   "execution_count": 46,
   "metadata": {},
   "outputs": [],
   "source": [
    "search_input.send_keys(\"Syria\")"
   ]
  },
  {
   "cell_type": "code",
   "execution_count": 48,
   "metadata": {},
   "outputs": [],
   "source": [
    "go_button = driver.find_element_by_xpath('//*[@id=\"masthead\"]/div[5]/nav/form/div/div[2]/button[2]')\n",
    "go_button.click()"
   ]
  },
  {
   "cell_type": "code",
   "execution_count": null,
   "metadata": {
    "collapsed": true
   },
   "outputs": [],
   "source": []
  }
 ],
 "metadata": {
  "kernelspec": {
   "display_name": "Python 3",
   "language": "python",
   "name": "python3"
  },
  "language_info": {
   "codemirror_mode": {
    "name": "ipython",
    "version": 3
   },
   "file_extension": ".py",
   "mimetype": "text/x-python",
   "name": "python",
   "nbconvert_exporter": "python",
   "pygments_lexer": "ipython3",
   "version": "3.6.1"
  }
 },
 "nbformat": 4,
 "nbformat_minor": 2
}
