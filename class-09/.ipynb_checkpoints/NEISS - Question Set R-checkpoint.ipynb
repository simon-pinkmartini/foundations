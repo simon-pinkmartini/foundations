{
 "cells": [
  {
   "cell_type": "markdown",
   "metadata": {},
   "source": [
    "# Exercise: NEISS, Question Set R\n",
    "\n",
    "#### Summary\n",
    "\n",
    "The [National Electronic Injury Surveillance System](https://www.cpsc.gov/Safety-Education/Safety-Guides/General-Information/National-Electronic-Injury-Surveillance-System-NEISS) is a data product produced by the US Consumer Product Safety Commission. It tracks emergency room injuries related to consumer products (e.g., \"a door fell on me!\").\n",
    "\n",
    "#### Files\n",
    "\n",
    "- **nss15.tsv**: injury data (one injury per row)\n",
    "- **2017NEISSCodingManualCPSConlyNontrauma.pdf**: column definitions and explanations\n",
    "- **2015 Neiss data highlights.pdf**: a partial summary of the data\n",
    "- **2017ComparabilityTable.pdf**: product code definitions\n",
    "- **categories-cleaned.txt**: product code definitions in CSV format (great for joining!)\n",
    "\n",
    "#### Source\n",
    "\n",
    "https://www.cpsc.gov/Safety-Education/Safety-Guides/General-Information/National-Electronic-Injury-Surveillance-System-NEISS\n",
    "\n",
    "#### Skills\n",
    "\n",
    "- Using codebooks\n",
    "- Reading tab-separated files\n",
    "- Ignoring bad lines\n",
    "- Replacing LOTS of values\n",
    "- Merging dataframes\n",
    "- Using numpy/`np.nan`\n",
    "- Padding strings\n",
    "- String search using regular expressions"
   ]
  },
  {
   "cell_type": "markdown",
   "metadata": {},
   "source": [
    "# Read in `nss15.tsv`\n",
    "\n",
    "Some of the lines just **aren't formatted correctly**. Maybe we can avoid those?"
   ]
  },
  {
   "cell_type": "code",
   "execution_count": 1,
   "metadata": {
    "collapsed": true
   },
   "outputs": [],
   "source": [
    "import pandas as pd"
   ]
  },
  {
   "cell_type": "code",
   "execution_count": 2,
   "metadata": {
    "collapsed": true
   },
   "outputs": [],
   "source": [
    "import numpy as np"
   ]
  },
  {
   "cell_type": "code",
   "execution_count": 3,
   "metadata": {
    "collapsed": true
   },
   "outputs": [],
   "source": [
    "import re"
   ]
  },
  {
   "cell_type": "code",
   "execution_count": 4,
   "metadata": {
    "collapsed": true
   },
   "outputs": [],
   "source": [
    "%matplotlib inline"
   ]
  },
  {
   "cell_type": "code",
   "execution_count": 5,
   "metadata": {},
   "outputs": [
    {
     "name": "stderr",
     "output_type": "stream",
     "text": [
      "b'Skipping line 10822: expected 19 fields, saw 20\\n'\n",
      "b'Skipping line 48623: expected 19 fields, saw 20\\nSkipping line 62534: expected 19 fields, saw 20\\n'\n",
      "b'Skipping line 103739: expected 19 fields, saw 20\\n'\n",
      "b'Skipping line 135495: expected 19 fields, saw 20\\nSkipping line 151678: expected 19 fields, saw 20\\n'\n",
      "b'Skipping line 237135: expected 19 fields, saw 20\\nSkipping line 240597: expected 19 fields, saw 20\\n'\n",
      "b'Skipping line 274270: expected 19 fields, saw 20\\nSkipping line 277461: expected 19 fields, saw 20\\n'\n"
     ]
    }
   ],
   "source": [
    "df = pd.read_csv(\"nss15.tsv\", sep=\"\\t\", error_bad_lines=False)"
   ]
  },
  {
   "cell_type": "code",
   "execution_count": 6,
   "metadata": {},
   "outputs": [
    {
     "data": {
      "text/html": [
       "<div>\n",
       "<style>\n",
       "    .dataframe thead tr:only-child th {\n",
       "        text-align: right;\n",
       "    }\n",
       "\n",
       "    .dataframe thead th {\n",
       "        text-align: left;\n",
       "    }\n",
       "\n",
       "    .dataframe tbody tr th {\n",
       "        vertical-align: top;\n",
       "    }\n",
       "</style>\n",
       "<table border=\"1\" class=\"dataframe\">\n",
       "  <thead>\n",
       "    <tr style=\"text-align: right;\">\n",
       "      <th></th>\n",
       "      <th>CPSC Case #</th>\n",
       "      <th>trmt_date</th>\n",
       "      <th>psu</th>\n",
       "      <th>weight</th>\n",
       "      <th>stratum</th>\n",
       "      <th>age</th>\n",
       "      <th>sex</th>\n",
       "      <th>race</th>\n",
       "      <th>race_other</th>\n",
       "      <th>diag</th>\n",
       "      <th>diag_other</th>\n",
       "      <th>body_part</th>\n",
       "      <th>disposition</th>\n",
       "      <th>location</th>\n",
       "      <th>fmv</th>\n",
       "      <th>prod1</th>\n",
       "      <th>prod2</th>\n",
       "      <th>narr1</th>\n",
       "      <th>narr2</th>\n",
       "    </tr>\n",
       "  </thead>\n",
       "  <tbody>\n",
       "    <tr>\n",
       "      <th>0</th>\n",
       "      <td>150733174</td>\n",
       "      <td>07/11/2015</td>\n",
       "      <td>38</td>\n",
       "      <td>15.7762</td>\n",
       "      <td>V</td>\n",
       "      <td>5</td>\n",
       "      <td>1</td>\n",
       "      <td>0</td>\n",
       "      <td>NaN</td>\n",
       "      <td>57</td>\n",
       "      <td>NaN</td>\n",
       "      <td>33</td>\n",
       "      <td>1</td>\n",
       "      <td>9</td>\n",
       "      <td>0</td>\n",
       "      <td>1267</td>\n",
       "      <td>NaN</td>\n",
       "      <td>5 YR OLD MALE PLAYING SOCCER BLOCKING BALL AND...</td>\n",
       "      <td>X IT</td>\n",
       "    </tr>\n",
       "    <tr>\n",
       "      <th>1</th>\n",
       "      <td>150734723</td>\n",
       "      <td>07/06/2015</td>\n",
       "      <td>43</td>\n",
       "      <td>83.2157</td>\n",
       "      <td>S</td>\n",
       "      <td>36</td>\n",
       "      <td>1</td>\n",
       "      <td>1</td>\n",
       "      <td>NaN</td>\n",
       "      <td>57</td>\n",
       "      <td>NaN</td>\n",
       "      <td>34</td>\n",
       "      <td>1</td>\n",
       "      <td>1</td>\n",
       "      <td>0</td>\n",
       "      <td>1439</td>\n",
       "      <td>4057.0</td>\n",
       "      <td>L WRIST FX(?)/36YOWM 2 WKS AGO@G-FRIENDS HM,MO...</td>\n",
       "      <td>AN OBJECT&amp;TWISTED WRIST TRYING TO CONTOL MOWER...</td>\n",
       "    </tr>\n",
       "    <tr>\n",
       "      <th>2</th>\n",
       "      <td>150817487</td>\n",
       "      <td>08/02/2015</td>\n",
       "      <td>51</td>\n",
       "      <td>74.8813</td>\n",
       "      <td>L</td>\n",
       "      <td>20</td>\n",
       "      <td>2</td>\n",
       "      <td>0</td>\n",
       "      <td>NaN</td>\n",
       "      <td>71</td>\n",
       "      <td>OTITIS EXTERNA</td>\n",
       "      <td>94</td>\n",
       "      <td>1</td>\n",
       "      <td>0</td>\n",
       "      <td>0</td>\n",
       "      <td>3274</td>\n",
       "      <td>NaN</td>\n",
       "      <td>20 YO F C/O EAR PAIN 1 DAY SAS WAS SWIMMING YE...</td>\n",
       "      <td>T TRIED TO USE ***S TO REMOVE WAX MADE IT WORS...</td>\n",
       "    </tr>\n",
       "  </tbody>\n",
       "</table>\n",
       "</div>"
      ],
      "text/plain": [
       "   CPSC Case #   trmt_date  psu   weight stratum  age  sex  race race_other  \\\n",
       "0    150733174  07/11/2015   38  15.7762       V    5    1     0        NaN   \n",
       "1    150734723  07/06/2015   43  83.2157       S   36    1     1        NaN   \n",
       "2    150817487  08/02/2015   51  74.8813       L   20    2     0        NaN   \n",
       "\n",
       "   diag      diag_other  body_part  disposition  location  fmv  prod1   prod2  \\\n",
       "0    57             NaN         33            1         9    0   1267     NaN   \n",
       "1    57             NaN         34            1         1    0   1439  4057.0   \n",
       "2    71  OTITIS EXTERNA         94            1         0    0   3274     NaN   \n",
       "\n",
       "                                               narr1  \\\n",
       "0  5 YR OLD MALE PLAYING SOCCER BLOCKING BALL AND...   \n",
       "1  L WRIST FX(?)/36YOWM 2 WKS AGO@G-FRIENDS HM,MO...   \n",
       "2  20 YO F C/O EAR PAIN 1 DAY SAS WAS SWIMMING YE...   \n",
       "\n",
       "                                               narr2  \n",
       "0                                               X IT  \n",
       "1  AN OBJECT&TWISTED WRIST TRYING TO CONTOL MOWER...  \n",
       "2  T TRIED TO USE ***S TO REMOVE WAX MADE IT WORS...  "
      ]
     },
     "execution_count": 6,
     "metadata": {},
     "output_type": "execute_result"
    }
   ],
   "source": [
    "df.head(3)"
   ]
  },
  {
   "cell_type": "markdown",
   "metadata": {},
   "source": [
    "### Check that your dataframe has 357727 rows and 19 columns."
   ]
  },
  {
   "cell_type": "code",
   "execution_count": 7,
   "metadata": {},
   "outputs": [
    {
     "data": {
      "text/plain": [
       "(357727, 19)"
      ]
     },
     "execution_count": 7,
     "metadata": {},
     "output_type": "execute_result"
    }
   ],
   "source": [
    "df.shape"
   ]
  },
  {
   "cell_type": "markdown",
   "metadata": {},
   "source": [
    "### List the columns and their data types"
   ]
  },
  {
   "cell_type": "code",
   "execution_count": 8,
   "metadata": {},
   "outputs": [
    {
     "data": {
      "text/plain": [
       "CPSC Case #      int64\n",
       "trmt_date       object\n",
       "psu              int64\n",
       "weight         float64\n",
       "stratum         object\n",
       "age              int64\n",
       "sex              int64\n",
       "race             int64\n",
       "race_other      object\n",
       "diag             int64\n",
       "diag_other      object\n",
       "body_part        int64\n",
       "disposition      int64\n",
       "location         int64\n",
       "fmv              int64\n",
       "prod1            int64\n",
       "prod2          float64\n",
       "narr1           object\n",
       "narr2           object\n",
       "dtype: object"
      ]
     },
     "execution_count": 8,
     "metadata": {},
     "output_type": "execute_result"
    }
   ],
   "source": [
    "df.dtypes"
   ]
  },
  {
   "cell_type": "markdown",
   "metadata": {},
   "source": [
    "### What does each column mean?"
   ]
  },
  {
   "cell_type": "code",
   "execution_count": 9,
   "metadata": {
    "collapsed": true
   },
   "outputs": [],
   "source": [
    "#CPSC Case #      int64 - Case number\n",
    "#trmt_date       object - Treatment Date\n",
    "#psu              int64 - Primary Sampling Unit (statistical info relating to the SUDAAN model)\n",
    "#weight         float64 - Weight (statistical info relating to the SUDAAN model)\n",
    "#stratum         object - Stratum (statistical info relating to the SUDAAN model)\n",
    "#age              int64 - Age\n",
    "#sex              int64 - 1-digit-code for the Sex\n",
    "#race             int64 - 1-digit-code for the race\n",
    "#race_other      object - more info\n",
    "#diag             int64 - 2-digit-code for the diagnose \n",
    "#diag_other      object - more info\n",
    "#body_part        int64 - 4-digit-code for the affected body part\n",
    "#disposition      int64 - 1-digit-code for the disposition (=result of the process)\n",
    "#location         int64 - 1-digit-code for the location of the accident\n",
    "#fmv              int64 - 1-digit-code wether fire was involved in accident\n",
    "#prod1            int64 - 4-digit-code for objects involved in accident\n",
    "#prod2          float64 - more info\n",
    "#narr1           object - raw text describing the accident\n",
    "#narr2           object - more info"
   ]
  },
  {
   "cell_type": "markdown",
   "metadata": {},
   "source": [
    "# Cleaning up a column\n",
    "\n",
    "Take a look at the **body part** column. How many rows of each body part are there?"
   ]
  },
  {
   "cell_type": "code",
   "execution_count": 10,
   "metadata": {},
   "outputs": [
    {
     "data": {
      "text/plain": [
       "75    58677\n",
       "76    30992\n",
       "79    30579\n",
       "92    30463\n",
       "37    20077\n",
       "31    19518\n",
       "35    18957\n",
       "82    17077\n",
       "83    15890\n",
       "30    14822\n",
       "33    13655\n",
       "36    12771\n",
       "34    11565\n",
       "32     8888\n",
       "85     8615\n",
       "88     7336\n",
       "93     7299\n",
       "89     6145\n",
       "77     4661\n",
       "94     4404\n",
       "81     4174\n",
       "80     4016\n",
       "0      3344\n",
       "87     2079\n",
       "38     1699\n",
       "84       24\n",
       "Name: body_part, dtype: int64"
      ]
     },
     "execution_count": 10,
     "metadata": {},
     "output_type": "execute_result"
    }
   ],
   "source": [
    "df.body_part.value_counts()"
   ]
  },
  {
   "cell_type": "markdown",
   "metadata": {},
   "source": [
    "## Replace the numbers with the appropriate words they stand for.\n",
    "\n",
    "Those numbers are terrible - codes are fine for storage but not really for reading. **Replace the numbers with the  words they stand for.**\n",
    "\n",
    "Refer to pages 11-12 of the column definitions file, or... hey, I typed it in below!\n",
    "\n",
    "- Tip: If I've already talked about how to replace values, maybe there's a really easy way to replace a lot at once? Maybe I'll tell you if you ask me?"
   ]
  },
  {
   "cell_type": "code",
   "execution_count": 11,
   "metadata": {
    "collapsed": true
   },
   "outputs": [],
   "source": [
    "replacements = {\n",
    "     0:  'internal',\n",
    "     30: 'shoulder',\n",
    "     31: 'upper trunk',\n",
    "     32: 'elbow',\n",
    "     33: 'lower arm',\n",
    "     34: 'wrist',\n",
    "     35: 'knee',\n",
    "     36: 'lower leg',\n",
    "     37: 'ankle',\n",
    "     38: 'pubic region',\n",
    "     75: 'head',\n",
    "     76: 'face',\n",
    "     77: 'eyeball',\n",
    "     79: 'lower trunk',\n",
    "     80: 'upper arm',\n",
    "     81: 'upper leg',\n",
    "     82: 'hand',\n",
    "     83: 'foot',\n",
    "     84: '25-50% of body',\n",
    "     85: 'all parts of body',\n",
    "     87: 'not recorded',\n",
    "     88: 'mouth',\n",
    "     89: 'neck',\n",
    "     92: 'finger',\n",
    "     93: 'toe',\n",
    "     94: 'ear'\n",
    "}"
   ]
  },
  {
   "cell_type": "code",
   "execution_count": 12,
   "metadata": {
    "collapsed": true
   },
   "outputs": [],
   "source": [
    "df.body_part.replace(replacements, inplace=True)"
   ]
  },
  {
   "cell_type": "markdown",
   "metadata": {},
   "source": [
    "## Confirm you have 58677 head, 30992 face, and 30579 lower trunk.\n",
    "\n",
    "Isn't this much nicer?"
   ]
  },
  {
   "cell_type": "code",
   "execution_count": 13,
   "metadata": {},
   "outputs": [
    {
     "data": {
      "text/plain": [
       "head                 58677\n",
       "face                 30992\n",
       "lower trunk          30579\n",
       "finger               30463\n",
       "ankle                20077\n",
       "upper trunk          19518\n",
       "knee                 18957\n",
       "hand                 17077\n",
       "foot                 15890\n",
       "shoulder             14822\n",
       "lower arm            13655\n",
       "lower leg            12771\n",
       "wrist                11565\n",
       "elbow                 8888\n",
       "all parts of body     8615\n",
       "mouth                 7336\n",
       "toe                   7299\n",
       "neck                  6145\n",
       "eyeball               4661\n",
       "ear                   4404\n",
       "upper leg             4174\n",
       "upper arm             4016\n",
       "internal              3344\n",
       "not recorded          2079\n",
       "pubic region          1699\n",
       "25-50% of body          24\n",
       "Name: body_part, dtype: int64"
      ]
     },
     "execution_count": 13,
     "metadata": {},
     "output_type": "execute_result"
    }
   ],
   "source": [
    "df.body_part.value_counts()"
   ]
  },
  {
   "cell_type": "markdown",
   "metadata": {},
   "source": [
    "## Graph the number of each body part, but don’t included the “Not Recorded” records"
   ]
  },
  {
   "cell_type": "code",
   "execution_count": 14,
   "metadata": {},
   "outputs": [
    {
     "data": {
      "text/plain": [
       "<matplotlib.axes._subplots.AxesSubplot at 0x136ac330>"
      ]
     },
     "execution_count": 14,
     "metadata": {},
     "output_type": "execute_result"
    },
    {
     "data": {
      "image/png": "[encoded data removed]",
      "text/plain": [
       "<matplotlib.figure.Figure at 0x136ac390>"
      ]
     },
     "metadata": {},
     "output_type": "display_data"
    }
   ],
   "source": [
    "df[df.body_part != \"not recorded\"].body_part.value_counts(ascending=True).plot(kind=\"barh\", figsize=(5, 10))"
   ]
  },
  {
   "cell_type": "markdown",
   "metadata": {},
   "source": [
    "## \"Not Recorded\" seems silly - change it to be `NaN` instead\n",
    "\n",
    "Don't use `na_values` for this."
   ]
  },
  {
   "cell_type": "code",
   "execution_count": 15,
   "metadata": {
    "collapsed": true
   },
   "outputs": [],
   "source": [
    "df.body_part.replace(\"not recorded\", np.nan, inplace=True)"
   ]
  },
  {
   "cell_type": "markdown",
   "metadata": {},
   "source": [
    "## Graph the count of each body part, but don’t included the “Not Recorded” records\n",
    "\n",
    "Yes, again! The code you use should be different this time."
   ]
  },
  {
   "cell_type": "code",
   "execution_count": 16,
   "metadata": {},
   "outputs": [
    {
     "data": {
      "text/plain": [
       "<matplotlib.axes._subplots.AxesSubplot at 0x71cb870>"
      ]
     },
     "execution_count": 16,
     "metadata": {},
     "output_type": "execute_result"
    },
    {
     "data": {
      "image/png": "[encoded data removed]",
      "text/plain": [
       "<matplotlib.figure.Figure at 0x71a2b90>"
      ]
     },
     "metadata": {},
     "output_type": "display_data"
    }
   ],
   "source": [
    "df.body_part.value_counts(ascending=True).plot(kind=\"barh\", figsize=(5,10))"
   ]
  },
  {
   "cell_type": "markdown",
   "metadata": {},
   "source": [
    "## For each body part, get the average age of the person who injured that part\n",
    "\n",
    "Sort from youngest to oldest"
   ]
  },
  {
   "cell_type": "code",
   "execution_count": 17,
   "metadata": {},
   "outputs": [
    {
     "data": {
      "text/plain": [
       "body_part\n",
       "pubic region         19.985874\n",
       "ear                  24.248183\n",
       "ankle                28.477512\n",
       "wrist                30.697968\n",
       "lower arm            32.357598\n",
       "foot                 32.578666\n",
       "knee                 34.106451\n",
       "toe                  34.988766\n",
       "hand                 35.811208\n",
       "finger               35.978170\n",
       "elbow                36.592934\n",
       "eyeball              36.669599\n",
       "neck                 38.354109\n",
       "shoulder             39.266901\n",
       "lower leg            44.255814\n",
       "25-50% of body       44.333333\n",
       "upper leg            45.934835\n",
       "upper trunk          46.587663\n",
       "upper arm            46.655129\n",
       "face                 47.749193\n",
       "lower trunk          49.667844\n",
       "mouth                51.241957\n",
       "head                 59.512637\n",
       "internal             62.912978\n",
       "all parts of body    63.406268\n",
       "Name: age, dtype: float64"
      ]
     },
     "execution_count": 17,
     "metadata": {},
     "output_type": "execute_result"
    }
   ],
   "source": [
    "df.groupby('body_part')['age'].mean().sort_values(ascending=True)"
   ]
  },
  {
   "cell_type": "markdown",
   "metadata": {},
   "source": [
    "## Wait, \"all parts of body\" seems really really really really old!\n",
    "\n",
    "How can the average age be like 80???? Read page 6 of the documentation. Fix the issue however you think is best, but explain what you're doing. **It would be nice to talk about this in class if you'd write it on the board!**\n",
    "\n",
    "### Tech tip you might find useful\n",
    "\n",
    "If you want to replace a column based on a condition, pandas will probably yell at you. You get to learn this new thing called `loc` now! \n",
    "\n",
    "```\n",
    "df.loc[df.country == 'Angola', \"continent\"] = \"Africa\"\n",
    "```\n",
    "\n",
    "This updates the `continent` column to be `Africa` for every row where `country == 'Angola'`. You CANNOT do the following, which is probably what you've wanted to do:\n",
    "\n",
    "```\n",
    "df[df.country == 'Angola']['continent'] = 'Africa'\n",
    "```\n",
    "\n",
    "And now you know."
   ]
  },
  {
   "cell_type": "code",
   "execution_count": 18,
   "metadata": {},
   "outputs": [],
   "source": [
    "#this transforms all numbers with 2xx (where xx=months) into xx / 12 (i.e. the actual age expressed in years)\n",
    "df.loc[df.age > 200, 'age'] = (df['age'] - 200) / 12"
   ]
  },
  {
   "cell_type": "code",
   "execution_count": 19,
   "metadata": {},
   "outputs": [
    {
     "data": {
      "text/plain": [
       "0.000000         37\n",
       "0.083333        569\n",
       "0.166667        433\n",
       "0.250000        414\n",
       "0.333333        427\n",
       "0.416667        552\n",
       "0.500000        669\n",
       "0.583333        759\n",
       "0.666667        849\n",
       "0.750000        856\n",
       "0.833333        876\n",
       "0.916667        885\n",
       "1.000000       1188\n",
       "1.083333        989\n",
       "1.166667       1074\n",
       "1.250000       1093\n",
       "1.333333       1094\n",
       "1.416667       1133\n",
       "1.500000       1191\n",
       "1.583333       1097\n",
       "1.666667       1135\n",
       "1.750000       1132\n",
       "1.833333       1099\n",
       "1.916667       1041\n",
       "2.000000      11735\n",
       "3.000000      10117\n",
       "4.000000       8262\n",
       "5.000000       7633\n",
       "6.000000       7282\n",
       "7.000000       7081\n",
       "              ...  \n",
       "78.000000      1752\n",
       "79.000000      1679\n",
       "80.000000      1689\n",
       "81.000000      1717\n",
       "82.000000      1678\n",
       "83.000000      1711\n",
       "84.000000      1715\n",
       "85.000000      1658\n",
       "86.000000      1645\n",
       "87.000000      1654\n",
       "88.000000      1639\n",
       "89.000000      1425\n",
       "90.000000      1439\n",
       "91.000000      1232\n",
       "92.000000      1019\n",
       "93.000000       780\n",
       "94.000000       745\n",
       "95.000000       535\n",
       "96.000000       424\n",
       "97.000000       289\n",
       "98.000000       214\n",
       "99.000000       136\n",
       "100.000000      115\n",
       "101.000000       46\n",
       "102.000000       33\n",
       "103.000000       15\n",
       "104.000000        9\n",
       "105.000000        1\n",
       "106.000000        1\n",
       "107.000000        3\n",
       "Name: age, Length: 130, dtype: int64"
      ]
     },
     "execution_count": 19,
     "metadata": {},
     "output_type": "execute_result"
    }
   ],
   "source": [
    "df.age.value_counts().sort_index()"
   ]
  },
  {
   "cell_type": "markdown",
   "metadata": {
    "collapsed": true
   },
   "source": [
    "# Finding injuries"
   ]
  },
  {
   "cell_type": "markdown",
   "metadata": {},
   "source": [
    "## How many people were injured by \"Musical instruments, electric or battery operated?\"\n",
    "\n",
    "Try to do what you think would work, then see... it doesn't work. There are all kinds of reasons why it wouldn't work. Keep reading once it doesn't work for you.\n",
    "\n",
    "- Tip: `prod1` and `prod2` are the product fields\n",
    "- Tip: You can use the codebook or `cleaned-categories.txt`"
   ]
  },
  {
   "cell_type": "code",
   "execution_count": 20,
   "metadata": {},
   "outputs": [
    {
     "data": {
      "text/plain": [
       "(14, 19)"
      ]
     },
     "execution_count": 20,
     "metadata": {},
     "output_type": "execute_result"
    }
   ],
   "source": [
    "#0565 is the code for \"Musical instruments, electric or battery operated\"\n",
    "df[df.prod1 == 565].shape # with \"0565\" we get an error"
   ]
  },
  {
   "cell_type": "markdown",
   "metadata": {},
   "source": [
    "### Did something go wrong when you read in your data?\n",
    "\n",
    "Maybe it's one of those problems like we had with `008382` in the homework, where when we read in the file it got rid of the leading zeroes? Try to read the file in again and fix that.\n",
    "\n",
    "Try to get all of the \"Musical instruments, electric or battery operated\" injurie again. It still won't work. Keep reading."
   ]
  },
  {
   "cell_type": "code",
   "execution_count": 21,
   "metadata": {},
   "outputs": [],
   "source": [
    "datatypes = {\n",
    "    'prod1': str\n",
    "}"
   ]
  },
  {
   "cell_type": "code",
   "execution_count": 22,
   "metadata": {},
   "outputs": [
    {
     "name": "stderr",
     "output_type": "stream",
     "text": [
      "b'Skipping line 10822: expected 19 fields, saw 20\\n'\n",
      "b'Skipping line 48623: expected 19 fields, saw 20\\nSkipping line 62534: expected 19 fields, saw 20\\n'\n",
      "b'Skipping line 103739: expected 19 fields, saw 20\\n'\n",
      "b'Skipping line 135495: expected 19 fields, saw 20\\nSkipping line 151678: expected 19 fields, saw 20\\n'\n",
      "b'Skipping line 237135: expected 19 fields, saw 20\\nSkipping line 240597: expected 19 fields, saw 20\\n'\n",
      "b'Skipping line 274270: expected 19 fields, saw 20\\nSkipping line 277461: expected 19 fields, saw 20\\n'\n"
     ]
    }
   ],
   "source": [
    "df = pd.read_csv(\"nss15.tsv\", sep=\"\\t\", error_bad_lines=False, dtype=datatypes)"
   ]
  },
  {
   "cell_type": "code",
   "execution_count": 23,
   "metadata": {},
   "outputs": [
    {
     "data": {
      "text/plain": [
       "CPSC Case #      int64\n",
       "trmt_date       object\n",
       "psu              int64\n",
       "weight         float64\n",
       "stratum         object\n",
       "age              int64\n",
       "sex              int64\n",
       "race             int64\n",
       "race_other      object\n",
       "diag             int64\n",
       "diag_other      object\n",
       "body_part        int64\n",
       "disposition      int64\n",
       "location         int64\n",
       "fmv              int64\n",
       "prod1           object\n",
       "prod2          float64\n",
       "narr1           object\n",
       "narr2           object\n",
       "dtype: object"
      ]
     },
     "execution_count": 23,
     "metadata": {},
     "output_type": "execute_result"
    }
   ],
   "source": [
    "df.dtypes"
   ]
  },
  {
   "cell_type": "code",
   "execution_count": 24,
   "metadata": {},
   "outputs": [
    {
     "data": {
      "text/plain": [
       "1842    28609\n",
       "1807    28255\n",
       "4076    16707\n",
       "1205    14095\n",
       "5040    12737\n",
       "1211    11614\n",
       "4074     8239\n",
       "1884     7755\n",
       "1893     7689\n",
       "4057     7327\n",
       "464      7281\n",
       "611      7184\n",
       "1267     7140\n",
       "3299     7057\n",
       "679      5081\n",
       "1615     3673\n",
       "4078     3665\n",
       "1233     3197\n",
       "4056     3116\n",
       "5041     3063\n",
       "1616     2949\n",
       "1817     2933\n",
       "1333     2858\n",
       "1141     2831\n",
       "1244     2692\n",
       "604      2635\n",
       "1871     2608\n",
       "3265     2549\n",
       "1894     2519\n",
       "649      2475\n",
       "        ...  \n",
       "3282        2\n",
       "1319        2\n",
       "915         2\n",
       "119         1\n",
       "139         1\n",
       "223         1\n",
       "240         1\n",
       "1350        1\n",
       "958         1\n",
       "401         1\n",
       "116         1\n",
       "5013        1\n",
       "1517        1\n",
       "556         1\n",
       "221         1\n",
       "533         1\n",
       "1739        1\n",
       "1441        1\n",
       "807         1\n",
       "462         1\n",
       "213         1\n",
       "1531        1\n",
       "558         1\n",
       "125         1\n",
       "1515        1\n",
       "212         1\n",
       "1539        1\n",
       "932         1\n",
       "236         1\n",
       "270         1\n",
       "Name: prod1, Length: 757, dtype: int64"
      ]
     },
     "execution_count": 24,
     "metadata": {},
     "output_type": "execute_result"
    }
   ],
   "source": [
    "df.prod1.value_counts() #still only 3 digits"
   ]
  },
  {
   "cell_type": "markdown",
   "metadata": {},
   "source": [
    "### Looks the data export is bad!\n",
    "\n",
    "They turned `0565` into `565` when they exported it or something (so irresponsible!), and it's up to us to fix it. Pad the `prod1` and `prod2` columns to be the proper length. If you didn't actually do the task above it's going to be more difficult."
   ]
  },
  {
   "cell_type": "code",
   "execution_count": 25,
   "metadata": {},
   "outputs": [],
   "source": [
    "df.prod1 = df.prod1.str.pad(4, fillchar=\"0\")"
   ]
  },
  {
   "cell_type": "code",
   "execution_count": 26,
   "metadata": {},
   "outputs": [
    {
     "data": {
      "text/plain": [
       "1842    28609\n",
       "1807    28255\n",
       "4076    16707\n",
       "1205    14095\n",
       "5040    12737\n",
       "1211    11614\n",
       "4074     8239\n",
       "1884     7755\n",
       "1893     7689\n",
       "4057     7327\n",
       "0464     7281\n",
       "0611     7184\n",
       "1267     7140\n",
       "3299     7057\n",
       "0679     5081\n",
       "1615     3673\n",
       "4078     3665\n",
       "1233     3197\n",
       "4056     3116\n",
       "5041     3063\n",
       "1616     2949\n",
       "1817     2933\n",
       "1333     2858\n",
       "1141     2831\n",
       "1244     2692\n",
       "0604     2635\n",
       "1871     2608\n",
       "3265     2549\n",
       "1894     2519\n",
       "0649     2475\n",
       "        ...  \n",
       "0808        2\n",
       "0481        2\n",
       "0307        2\n",
       "0807        1\n",
       "0932        1\n",
       "0533        1\n",
       "0462        1\n",
       "0213        1\n",
       "0119        1\n",
       "0221        1\n",
       "0125        1\n",
       "1739        1\n",
       "0958        1\n",
       "0558        1\n",
       "0401        1\n",
       "0212        1\n",
       "0236        1\n",
       "1517        1\n",
       "1531        1\n",
       "1515        1\n",
       "0240        1\n",
       "1539        1\n",
       "0556        1\n",
       "0270        1\n",
       "0116        1\n",
       "0223        1\n",
       "5013        1\n",
       "1441        1\n",
       "1350        1\n",
       "0139        1\n",
       "Name: prod1, Length: 757, dtype: int64"
      ]
     },
     "execution_count": 26,
     "metadata": {},
     "output_type": "execute_result"
    }
   ],
   "source": [
    "df.prod1.value_counts() #better now"
   ]
  },
  {
   "cell_type": "markdown",
   "metadata": {},
   "source": [
    "## How many people were injured by musical instruments, total?\n",
    "\n",
    "Include normal musical instruments, electric musical instruments and toy musical instruments.\n",
    "\n",
    "- Tip: You can use the codebook or `cleaned-categories.txt`\n",
    "- Tip: Answer this in one line **without** using `and` or `&`."
   ]
  },
  {
   "cell_type": "code",
   "execution_count": 27,
   "metadata": {
    "collapsed": true
   },
   "outputs": [],
   "source": [
    "#We need the codes 0565, 0566, 1344\n",
    "codelist = [\"0565\", \"0566\", \"1344\"]"
   ]
  },
  {
   "cell_type": "code",
   "execution_count": 28,
   "metadata": {},
   "outputs": [
    {
     "data": {
      "text/plain": [
       "(226, 19)"
      ]
     },
     "execution_count": 28,
     "metadata": {},
     "output_type": "execute_result"
    }
   ],
   "source": [
    "df[df.prod1.isin(codelist)].shape #result is 226 rows"
   ]
  },
  {
   "cell_type": "markdown",
   "metadata": {},
   "source": [
    "## Out of those three, which is the most popular reason for admission?"
   ]
  },
  {
   "cell_type": "code",
   "execution_count": 29,
   "metadata": {},
   "outputs": [
    {
     "data": {
      "text/plain": [
       "0566    188\n",
       "1344     24\n",
       "0565     14\n",
       "Name: prod1, dtype: int64"
      ]
     },
     "execution_count": 29,
     "metadata": {},
     "output_type": "execute_result"
    }
   ],
   "source": [
    "df[df.prod1.isin(codelist)].prod1.value_counts() #0556 is the most frequent"
   ]
  },
  {
   "cell_type": "markdown",
   "metadata": {},
   "source": [
    "## What parts of the body are injured by musical instruments most often?"
   ]
  },
  {
   "cell_type": "code",
   "execution_count": 30,
   "metadata": {
    "collapsed": true
   },
   "outputs": [],
   "source": [
    "df.body_part.replace(replacements, inplace=True)"
   ]
  },
  {
   "cell_type": "code",
   "execution_count": 31,
   "metadata": {},
   "outputs": [
    {
     "data": {
      "text/plain": [
       "face                 32\n",
       "head                 30\n",
       "finger               23\n",
       "upper trunk          19\n",
       "mouth                18\n",
       "lower trunk          15\n",
       "shoulder             13\n",
       "wrist                12\n",
       "toe                  10\n",
       "foot                  8\n",
       "all parts of body     6\n",
       "lower arm             6\n",
       "knee                  6\n",
       "neck                  5\n",
       "eyeball               5\n",
       "elbow                 4\n",
       "hand                  4\n",
       "ear                   3\n",
       "lower leg             3\n",
       "ankle                 2\n",
       "upper arm             1\n",
       "internal              1\n",
       "Name: body_part, dtype: int64"
      ]
     },
     "execution_count": 31,
     "metadata": {},
     "output_type": "execute_result"
    }
   ],
   "source": [
    "df[df.prod1.isin(codelist)].body_part.value_counts() #face is hurt most often"
   ]
  },
  {
   "cell_type": "markdown",
   "metadata": {},
   "source": [
    "# Adding categories"
   ]
  },
  {
   "cell_type": "markdown",
   "metadata": {},
   "source": [
    "## Read in `categories-cleaned.txt`"
   ]
  },
  {
   "cell_type": "code",
   "execution_count": 32,
   "metadata": {
    "collapsed": true
   },
   "outputs": [],
   "source": [
    "df_cat = pd.read_csv(\"categories-cleaned.txt\", header=None, names=[\"prod_id\", \"prod_desc\"], dtype=str)"
   ]
  },
  {
   "cell_type": "code",
   "execution_count": 33,
   "metadata": {},
   "outputs": [
    {
     "data": {
      "text/plain": [
       "(803, 2)"
      ]
     },
     "execution_count": 33,
     "metadata": {},
     "output_type": "execute_result"
    }
   ],
   "source": [
    "df_cat.shape"
   ]
  },
  {
   "cell_type": "code",
   "execution_count": 34,
   "metadata": {},
   "outputs": [
    {
     "data": {
      "text/plain": [
       "prod_id      object\n",
       "prod_desc    object\n",
       "dtype: object"
      ]
     },
     "execution_count": 34,
     "metadata": {},
     "output_type": "execute_result"
    }
   ],
   "source": [
    "df_cat.dtypes"
   ]
  },
  {
   "cell_type": "markdown",
   "metadata": {},
   "source": [
    "## How many different categories are electric/electrical/electronic?"
   ]
  },
  {
   "cell_type": "code",
   "execution_count": 35,
   "metadata": {},
   "outputs": [
    {
     "data": {
      "text/plain": [
       "(51, 2)"
      ]
     },
     "execution_count": 35,
     "metadata": {},
     "output_type": "execute_result"
    }
   ],
   "source": [
    "#we also need to exclude the string \"not electrical\"\n",
    "df_cat[df_cat.prod_desc.str.match(r\".*(?<!not )\\belectr.*\", case=False)].shape #51 different categories"
   ]
  },
  {
   "cell_type": "code",
   "execution_count": 36,
   "metadata": {},
   "outputs": [
    {
     "data": {
      "text/html": [
       "<div>\n",
       "<style>\n",
       "    .dataframe thead tr:only-child th {\n",
       "        text-align: right;\n",
       "    }\n",
       "\n",
       "    .dataframe thead th {\n",
       "        text-align: left;\n",
       "    }\n",
       "\n",
       "    .dataframe tbody tr th {\n",
       "        vertical-align: top;\n",
       "    }\n",
       "</style>\n",
       "<table border=\"1\" class=\"dataframe\">\n",
       "  <thead>\n",
       "    <tr style=\"text-align: right;\">\n",
       "      <th></th>\n",
       "      <th>prod_id</th>\n",
       "      <th>prod_desc</th>\n",
       "    </tr>\n",
       "  </thead>\n",
       "  <tbody>\n",
       "    <tr>\n",
       "      <th>1</th>\n",
       "      <td>0106</td>\n",
       "      <td>Electric clothes dryers without washers</td>\n",
       "    </tr>\n",
       "    <tr>\n",
       "      <th>3</th>\n",
       "      <td>0110</td>\n",
       "      <td>Electric heating pads</td>\n",
       "    </tr>\n",
       "    <tr>\n",
       "      <th>8</th>\n",
       "      <td>0116</td>\n",
       "      <td>Electric brooms</td>\n",
       "    </tr>\n",
       "    <tr>\n",
       "      <th>10</th>\n",
       "      <td>0119</td>\n",
       "      <td>Electric water heaters (excluding immersion he...</td>\n",
       "    </tr>\n",
       "    <tr>\n",
       "      <th>14</th>\n",
       "      <td>0132</td>\n",
       "      <td>Electric blankets or sheets</td>\n",
       "    </tr>\n",
       "    <tr>\n",
       "      <th>22</th>\n",
       "      <td>0212</td>\n",
       "      <td>Electric corn poppers</td>\n",
       "    </tr>\n",
       "    <tr>\n",
       "      <th>23</th>\n",
       "      <td>0213</td>\n",
       "      <td>Electric can openers</td>\n",
       "    </tr>\n",
       "    <tr>\n",
       "      <th>25</th>\n",
       "      <td>0215</td>\n",
       "      <td>Electric blenders</td>\n",
       "    </tr>\n",
       "    <tr>\n",
       "      <th>26</th>\n",
       "      <td>0216</td>\n",
       "      <td>Electric counter-top ovens, broilers or toaste...</td>\n",
       "    </tr>\n",
       "    <tr>\n",
       "      <th>27</th>\n",
       "      <td>0217</td>\n",
       "      <td>Electric coffee makers or teapots</td>\n",
       "    </tr>\n",
       "    <tr>\n",
       "      <th>28</th>\n",
       "      <td>0218</td>\n",
       "      <td>Electric or battery-powered knives</td>\n",
       "    </tr>\n",
       "    <tr>\n",
       "      <th>29</th>\n",
       "      <td>0219</td>\n",
       "      <td>Electric deep fryers</td>\n",
       "    </tr>\n",
       "    <tr>\n",
       "      <th>31</th>\n",
       "      <td>0222</td>\n",
       "      <td>Electric frying pans and skillets</td>\n",
       "    </tr>\n",
       "    <tr>\n",
       "      <th>32</th>\n",
       "      <td>0223</td>\n",
       "      <td>Electric griddles</td>\n",
       "    </tr>\n",
       "    <tr>\n",
       "      <th>35</th>\n",
       "      <td>0231</td>\n",
       "      <td>Electric mixers</td>\n",
       "    </tr>\n",
       "    <tr>\n",
       "      <th>36</th>\n",
       "      <td>0232</td>\n",
       "      <td>Electric scissors</td>\n",
       "    </tr>\n",
       "    <tr>\n",
       "      <th>38</th>\n",
       "      <td>0235</td>\n",
       "      <td>Electric waffle irons</td>\n",
       "    </tr>\n",
       "    <tr>\n",
       "      <th>41</th>\n",
       "      <td>0240</td>\n",
       "      <td>Electric knife sharpeners</td>\n",
       "    </tr>\n",
       "    <tr>\n",
       "      <th>43</th>\n",
       "      <td>0242</td>\n",
       "      <td>Electric immersion water heaters</td>\n",
       "    </tr>\n",
       "    <tr>\n",
       "      <th>49</th>\n",
       "      <td>0269</td>\n",
       "      <td>Electric kettles or hot pots</td>\n",
       "    </tr>\n",
       "    <tr>\n",
       "      <th>56</th>\n",
       "      <td>0278</td>\n",
       "      <td>Electric ranges or ovens (excl. counter-top ov...</td>\n",
       "    </tr>\n",
       "    <tr>\n",
       "      <th>68</th>\n",
       "      <td>0312</td>\n",
       "      <td>Electric baseboard heaters</td>\n",
       "    </tr>\n",
       "    <tr>\n",
       "      <th>70</th>\n",
       "      <td>0318</td>\n",
       "      <td>Electric furnaces (excluding floor furnaces)</td>\n",
       "    </tr>\n",
       "    <tr>\n",
       "      <th>76</th>\n",
       "      <td>0346</td>\n",
       "      <td>Electric fireplaces, factory built</td>\n",
       "    </tr>\n",
       "    <tr>\n",
       "      <th>77</th>\n",
       "      <td>0348</td>\n",
       "      <td>Portable electric heaters</td>\n",
       "    </tr>\n",
       "    <tr>\n",
       "      <th>89</th>\n",
       "      <td>0388</td>\n",
       "      <td>Electric heaters, not elsewhere classified</td>\n",
       "    </tr>\n",
       "    <tr>\n",
       "      <th>90</th>\n",
       "      <td>0390</td>\n",
       "      <td>Heat tapes, electric</td>\n",
       "    </tr>\n",
       "    <tr>\n",
       "      <th>151</th>\n",
       "      <td>0557</td>\n",
       "      <td>Computers (equipment and electronic games)</td>\n",
       "    </tr>\n",
       "    <tr>\n",
       "      <th>157</th>\n",
       "      <td>0565</td>\n",
       "      <td>Musical instruments, electric or battery operated</td>\n",
       "    </tr>\n",
       "    <tr>\n",
       "      <th>179</th>\n",
       "      <td>0628</td>\n",
       "      <td>Electric chandeliers, hanging lamps or other a...</td>\n",
       "    </tr>\n",
       "    <tr>\n",
       "      <th>215</th>\n",
       "      <td>0710</td>\n",
       "      <td>Electric timers</td>\n",
       "    </tr>\n",
       "    <tr>\n",
       "      <th>226</th>\n",
       "      <td>0815</td>\n",
       "      <td>Electrical testing equipment</td>\n",
       "    </tr>\n",
       "    <tr>\n",
       "      <th>227</th>\n",
       "      <td>0819</td>\n",
       "      <td>Electric motors (separate)</td>\n",
       "    </tr>\n",
       "    <tr>\n",
       "      <th>255</th>\n",
       "      <td>0866</td>\n",
       "      <td>Electric soldering equipment</td>\n",
       "    </tr>\n",
       "    <tr>\n",
       "      <th>483</th>\n",
       "      <td>1452</td>\n",
       "      <td>Outdoor electric lighting equipment</td>\n",
       "    </tr>\n",
       "    <tr>\n",
       "      <th>541</th>\n",
       "      <td>1613</td>\n",
       "      <td>Electric shoe polishers</td>\n",
       "    </tr>\n",
       "    <tr>\n",
       "      <th>551</th>\n",
       "      <td>1637</td>\n",
       "      <td>Electric combs</td>\n",
       "    </tr>\n",
       "    <tr>\n",
       "      <th>567</th>\n",
       "      <td>1664</td>\n",
       "      <td>Electric razors or shavers</td>\n",
       "    </tr>\n",
       "    <tr>\n",
       "      <th>582</th>\n",
       "      <td>1689</td>\n",
       "      <td>Electric multi-purpose lighters</td>\n",
       "    </tr>\n",
       "    <tr>\n",
       "      <th>600</th>\n",
       "      <td>1736</td>\n",
       "      <td>Electric Christmas decorations (excluding Chri...</td>\n",
       "    </tr>\n",
       "    <tr>\n",
       "      <th>602</th>\n",
       "      <td>1739</td>\n",
       "      <td>Ashtrays, electric or battery operated</td>\n",
       "    </tr>\n",
       "    <tr>\n",
       "      <th>678</th>\n",
       "      <td>3229</td>\n",
       "      <td>Electric grills</td>\n",
       "    </tr>\n",
       "    <tr>\n",
       "      <th>737</th>\n",
       "      <td>4039</td>\n",
       "      <td>Other electric lighting equipment</td>\n",
       "    </tr>\n",
       "    <tr>\n",
       "      <th>738</th>\n",
       "      <td>4041</td>\n",
       "      <td>Electric lighting equipment, not specified</td>\n",
       "    </tr>\n",
       "    <tr>\n",
       "      <th>750</th>\n",
       "      <td>4061</td>\n",
       "      <td>Electrical outlets or receptacles</td>\n",
       "    </tr>\n",
       "    <tr>\n",
       "      <th>751</th>\n",
       "      <td>4062</td>\n",
       "      <td>Electrical wire or wiring systems (excluding p...</td>\n",
       "    </tr>\n",
       "    <tr>\n",
       "      <th>754</th>\n",
       "      <td>4065</td>\n",
       "      <td>Clocks, electric or battery operated</td>\n",
       "    </tr>\n",
       "    <tr>\n",
       "      <th>755</th>\n",
       "      <td>4066</td>\n",
       "      <td>Scales, electric or battery operated (excludin...</td>\n",
       "    </tr>\n",
       "    <tr>\n",
       "      <th>760</th>\n",
       "      <td>4071</td>\n",
       "      <td>Floor lamps or table lamps, electric (excludin...</td>\n",
       "    </tr>\n",
       "    <tr>\n",
       "      <th>768</th>\n",
       "      <td>4081</td>\n",
       "      <td>Cords, electrical, other or not specified</td>\n",
       "    </tr>\n",
       "    <tr>\n",
       "      <th>785</th>\n",
       "      <td>5020</td>\n",
       "      <td>Pretend electronics, tools, housewares, and ap...</td>\n",
       "    </tr>\n",
       "  </tbody>\n",
       "</table>\n",
       "</div>"
      ],
      "text/plain": [
       "    prod_id                                          prod_desc\n",
       "1      0106            Electric clothes dryers without washers\n",
       "3      0110                              Electric heating pads\n",
       "8      0116                                    Electric brooms\n",
       "10     0119  Electric water heaters (excluding immersion he...\n",
       "14     0132                        Electric blankets or sheets\n",
       "22     0212                              Electric corn poppers\n",
       "23     0213                               Electric can openers\n",
       "25     0215                                  Electric blenders\n",
       "26     0216  Electric counter-top ovens, broilers or toaste...\n",
       "27     0217                  Electric coffee makers or teapots\n",
       "28     0218                 Electric or battery-powered knives\n",
       "29     0219                               Electric deep fryers\n",
       "31     0222                  Electric frying pans and skillets\n",
       "32     0223                                  Electric griddles\n",
       "35     0231                                    Electric mixers\n",
       "36     0232                                  Electric scissors\n",
       "38     0235                              Electric waffle irons\n",
       "41     0240                          Electric knife sharpeners\n",
       "43     0242                   Electric immersion water heaters\n",
       "49     0269                       Electric kettles or hot pots\n",
       "56     0278  Electric ranges or ovens (excl. counter-top ov...\n",
       "68     0312                         Electric baseboard heaters\n",
       "70     0318       Electric furnaces (excluding floor furnaces)\n",
       "76     0346                 Electric fireplaces, factory built\n",
       "77     0348                          Portable electric heaters\n",
       "89     0388         Electric heaters, not elsewhere classified\n",
       "90     0390                               Heat tapes, electric\n",
       "151    0557         Computers (equipment and electronic games)\n",
       "157    0565  Musical instruments, electric or battery operated\n",
       "179    0628  Electric chandeliers, hanging lamps or other a...\n",
       "215    0710                                    Electric timers\n",
       "226    0815                       Electrical testing equipment\n",
       "227    0819                         Electric motors (separate)\n",
       "255    0866                       Electric soldering equipment\n",
       "483    1452                Outdoor electric lighting equipment\n",
       "541    1613                            Electric shoe polishers\n",
       "551    1637                                     Electric combs\n",
       "567    1664                         Electric razors or shavers\n",
       "582    1689                    Electric multi-purpose lighters\n",
       "600    1736  Electric Christmas decorations (excluding Chri...\n",
       "602    1739             Ashtrays, electric or battery operated\n",
       "678    3229                                    Electric grills\n",
       "737    4039                  Other electric lighting equipment\n",
       "738    4041         Electric lighting equipment, not specified\n",
       "750    4061                  Electrical outlets or receptacles\n",
       "751    4062  Electrical wire or wiring systems (excluding p...\n",
       "754    4065               Clocks, electric or battery operated\n",
       "755    4066  Scales, electric or battery operated (excludin...\n",
       "760    4071  Floor lamps or table lamps, electric (excludin...\n",
       "768    4081          Cords, electrical, other or not specified\n",
       "785    5020  Pretend electronics, tools, housewares, and ap..."
      ]
     },
     "execution_count": 36,
     "metadata": {},
     "output_type": "execute_result"
    }
   ],
   "source": [
    "df_cat[df_cat.prod_desc.str.match(r\".*(?<!not )\\belectr.*\", case=False)]"
   ]
  },
  {
   "cell_type": "markdown",
   "metadata": {},
   "source": [
    "## Join this with your injuries dataframes to give every row a text product code"
   ]
  },
  {
   "cell_type": "code",
   "execution_count": 37,
   "metadata": {},
   "outputs": [],
   "source": [
    "df = df.merge(df_cat, left_on=\"prod1\", right_on=\"prod_id\")"
   ]
  },
  {
   "cell_type": "markdown",
   "metadata": {},
   "source": [
    "## How many different injuries involved an electric/electrical/electronic product?"
   ]
  },
  {
   "cell_type": "code",
   "execution_count": 38,
   "metadata": {},
   "outputs": [
    {
     "data": {
      "text/plain": [
       "(2035, 21)"
      ]
     },
     "execution_count": 38,
     "metadata": {},
     "output_type": "execute_result"
    }
   ],
   "source": [
    "df_elec = df[df.prod_desc.str.match(r\".*(?<!not )\\belectr.*\", case=False)]\n",
    "df_elec.shape #2035 cases of electric injury in total"
   ]
  },
  {
   "cell_type": "code",
   "execution_count": 39,
   "metadata": {},
   "outputs": [
    {
     "data": {
      "text/plain": [
       "(43,)"
      ]
     },
     "execution_count": 39,
     "metadata": {},
     "output_type": "execute_result"
    }
   ],
   "source": [
    "df_elec['prod_desc'].value_counts().shape #43 different types of electric accidents actually happened"
   ]
  },
  {
   "cell_type": "markdown",
   "metadata": {},
   "source": [
    "## Graph the most common injuries involving an electrical product"
   ]
  },
  {
   "cell_type": "code",
   "execution_count": 40,
   "metadata": {},
   "outputs": [
    {
     "data": {
      "text/plain": [
       "<matplotlib.axes._subplots.AxesSubplot at 0x168698b0>"
      ]
     },
     "execution_count": 40,
     "metadata": {},
     "output_type": "execute_result"
    },
    {
     "data": {
      "image/png": "[encoded data removed]",
      "text/plain": [
       "<matplotlib.figure.Figure at 0x7294750>"
      ]
     },
     "metadata": {},
     "output_type": "display_data"
    }
   ],
   "source": [
    "df_elec['prod_desc'].value_counts(ascending=True).plot(kind=\"barh\", figsize=(5, 10))"
   ]
  },
  {
   "cell_type": "markdown",
   "metadata": {},
   "source": [
    "## When people get injuries using an electrical product, what part of their body is injured?"
   ]
  },
  {
   "cell_type": "code",
   "execution_count": 41,
   "metadata": {},
   "outputs": [
    {
     "data": {
      "text/plain": [
       "finger               323\n",
       "head                 276\n",
       "hand                 195\n",
       "face                 179\n",
       "lower trunk          138\n",
       "foot                 129\n",
       "all parts of body    120\n",
       "upper trunk           99\n",
       "lower arm             69\n",
       "toe                   56\n",
       "eyeball               56\n",
       "lower leg             51\n",
       "shoulder              51\n",
       "neck                  48\n",
       "wrist                 47\n",
       "mouth                 44\n",
       "knee                  35\n",
       "ankle                 27\n",
       "elbow                 22\n",
       "upper leg             20\n",
       "internal              17\n",
       "upper arm             16\n",
       "ear                    6\n",
       "pubic region           6\n",
       "not recorded           5\n",
       "Name: body_part, dtype: int64"
      ]
     },
     "execution_count": 41,
     "metadata": {},
     "output_type": "execute_result"
    }
   ],
   "source": [
    "df_elec.body_part.value_counts() #mostly fingers, head and hand"
   ]
  },
  {
   "cell_type": "markdown",
   "metadata": {},
   "source": [
    "## What product is most likely to injure your mouth?"
   ]
  },
  {
   "cell_type": "code",
   "execution_count": 42,
   "metadata": {},
   "outputs": [
    {
     "data": {
      "text/plain": [
       "Computers (equipment and electronic games)                                                19\n",
       "Pretend electronics, tools, housewares, and appliances                                    11\n",
       "Floor lamps or table lamps, electric (excluding halogen lamps)                             4\n",
       "Cords, electrical, other or not specified                                                  3\n",
       "Electric lighting equipment, not specified                                                 1\n",
       "Electrical wire or wiring systems (excluding panelboards, receptacles or interrupters)     1\n",
       "Electric baseboard heaters                                                                 1\n",
       "Portable electric heaters                                                                  1\n",
       "Other electric lighting equipment                                                          1\n",
       "Clocks, electric or battery operated                                                       1\n",
       "Electric heaters, not elsewhere classified                                                 1\n",
       "Name: prod_desc, dtype: int64"
      ]
     },
     "execution_count": 42,
     "metadata": {},
     "output_type": "execute_result"
    }
   ],
   "source": [
    "df_elec[df_elec.body_part == \"mouth\"].prod_desc.value_counts() #Computers"
   ]
  },
  {
   "cell_type": "markdown",
   "metadata": {},
   "source": [
    "## What product is most likely to injure your ears?"
   ]
  },
  {
   "cell_type": "code",
   "execution_count": 43,
   "metadata": {},
   "outputs": [
    {
     "data": {
      "text/plain": [
       "Electric razors or shavers                                                                1\n",
       "Electric baseboard heaters                                                                1\n",
       "Pretend electronics, tools, housewares, and appliances                                    1\n",
       "Electrical wire or wiring systems (excluding panelboards, receptacles or interrupters)    1\n",
       "Computers (equipment and electronic games)                                                1\n",
       "Other electric lighting equipment                                                         1\n",
       "Name: prod_desc, dtype: int64"
      ]
     },
     "execution_count": 43,
     "metadata": {},
     "output_type": "execute_result"
    }
   ],
   "source": [
    "df_elec[df_elec.body_part == \"ear\"].prod_desc.value_counts() #6 proucts all equally likely"
   ]
  },
  {
   "cell_type": "code",
   "execution_count": null,
   "metadata": {
    "collapsed": true
   },
   "outputs": [],
   "source": []
  }
 ],
 "metadata": {
  "kernelspec": {
   "display_name": "Python 3",
   "language": "python",
   "name": "python3"
  },
  "language_info": {
   "codemirror_mode": {
    "name": "ipython",
    "version": 3
   },
   "file_extension": ".py",
   "mimetype": "text/x-python",
   "name": "python",
   "nbconvert_exporter": "python",
   "pygments_lexer": "ipython3",
   "version": "3.6.1"
  }
 },
 "nbformat": 4,
 "nbformat_minor": 2
}
